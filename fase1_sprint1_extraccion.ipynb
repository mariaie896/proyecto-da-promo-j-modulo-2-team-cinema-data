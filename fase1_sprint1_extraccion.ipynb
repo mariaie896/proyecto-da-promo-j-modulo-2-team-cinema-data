{
 "cells": [
  {
   "cell_type": "markdown",
   "metadata": {},
   "source": [
    "En esta fase, usaremos la API de MoviesDataset, que contiene una gran cantidad de información sobre películas, incluyendo detalles como títulos, géneros, años de lanzamiento y más.\n",
    "\n",
    "OBJETIVO: hacer solicitudes a esta API y extraer información relevante sobre las películas.\n",
    "\n",
    "Debemos extraer:\n",
    "\n",
    "- Existen películas desde 1900 hasta 2024.\n",
    "\n",
    "- Elige un rango de años, que incluya 15 años y extrae información de las películas de esos años.\n",
    "\n",
    "- Existen películas que pertenezcan a los siguientes géneros: \"Drama\", \"Comedy\", \"Action\", \"Fantasy\", \"Horror\", \"Mystery\", \"Romance\" y \"Thriller\".\n",
    "Elige un género por cada integrante del equipo y extrae información de las películas de esos géneros.\n",
    "\n",
    "De cada una de las películas tendréis que sacar la siguiente información:\n",
    "\n",
    "- Tipo (si es corto o película).\n",
    "\n",
    "- Nombre de la película o el corto.\n",
    "\n",
    "- Año de estreno de la película o corto.\n",
    "\n",
    "- Id de la película.\n",
    "\n",
    "NOTA: La información de la API deberá ser almacenada en una lista de tuplas. Cada tupla corresponderá a una película. Siguiendo el siguiente ejemplo: [(\"Pelicula\", \"Titanic\", 1997, 12, \"abc123\"), (\"Pelicula\",\"Los Gonnies\", 1985, 6, \"abc456\"), ...]"
   ]
  },
  {
   "cell_type": "code",
   "execution_count": 3,
   "metadata": {},
   "outputs": [
    {
     "name": "stdout",
     "output_type": "stream",
     "text": [
      "Requirement already satisfied: tqdm in /home/elena_craven/anaconda3/lib/python3.12/site-packages (4.66.4)\n"
     ]
    }
   ],
   "source": [
    "!pip install tqdm"
   ]
  },
  {
   "cell_type": "code",
   "execution_count": 4,
   "metadata": {},
   "outputs": [],
   "source": [
    "import requests\n",
    "\n",
    "import pandas as pd\n",
    "\n",
    "from tqdm import tqdm"
   ]
  },
  {
   "cell_type": "code",
   "execution_count": 6,
   "metadata": {},
   "outputs": [
    {
     "name": "stdout",
     "output_type": "stream",
     "text": [
      "La respuesta de tu llamada es: 200\n"
     ]
    }
   ],
   "source": [
    "# extraemos un genero y un anio y una pelicula\n",
    "url_drama = \"https://dev.adalab.es/api/cinema/movies?year=2010&genre=Drama\"\n",
    "\n",
    "llamada_drama = requests.get(url_drama)\n",
    "\n",
    "if llamada_drama.status_code == 200:\n",
    "    print(f\"La respuesta de tu llamada es: {llamada_drama.status_code}\")\n",
    "\n",
    "else:\n",
    "    print(\"Error\")"
   ]
  },
  {
   "cell_type": "code",
   "execution_count": 7,
   "metadata": {},
   "outputs": [
    {
     "data": {
      "text/plain": [
       "{'info': {'count': 10},\n",
       " 'results': [{'id': 59724,\n",
       "   'title': 'Pál Adrienn',\n",
       "   'type': 'Movie',\n",
       "   'year': '2010',\n",
       "   'genre': 'Drama',\n",
       "   'idOwner': 'tt0146592',\n",
       "   'image': 'https://m.media-amazon.com/images/M/MV5BODNjZmM3MWYtYmUwZC00M2RjLTkyZmEtYzRhMDU1NmM3ZmIzXkEyXkFqcGdeQXVyOTAzODAwOQ@@._V1_.jpg'},\n",
       "  {'id': 59725,\n",
       "   'title': 'Oda az igazság',\n",
       "   'type': 'Movie',\n",
       "   'year': '2010',\n",
       "   'genre': 'Drama',\n",
       "   'idOwner': 'tt0154039',\n",
       "   'image': 'https://m.media-amazon.com/images/M/MV5BM2U4NWIxMjQtZTE4ZC00MThmLTlmMTktMWM3OTQ3ODc1ZmI4L2ltYWdlL2ltYWdlXkEyXkFqcGdeQXVyMjIzMDAwOTc@._V1_.jpg'},\n",
       "  {'id': 59726,\n",
       "   'title': 'A zöld sárkány gyermekei',\n",
       "   'type': 'Movie',\n",
       "   'year': '2010',\n",
       "   'genre': 'Drama',\n",
       "   'idOwner': 'tt0162942',\n",
       "   'image': 'https://m.media-amazon.com/images/M/MV5BNDhkMTJkNTYtMTYwZS00NTYwLTgzZGYtMTlmYWE3MWM1NGVhXkEyXkFqcGdeQXVyNzM0MDQ1Mw@@._V1_.jpg'},\n",
       "  {'id': 59727,\n",
       "   'title': 'Flexing with Monty',\n",
       "   'type': 'Video',\n",
       "   'year': '2010',\n",
       "   'genre': 'Drama',\n",
       "   'idOwner': 'tt0200641',\n",
       "   'image': 'https://m.media-amazon.com/images/M/MV5BMTY4MTE2MTQyNF5BMl5BanBnXkFtZTcwMTA4MDk5Mg@@._V1_.jpg'},\n",
       "  {'id': 59728,\n",
       "   'title': 'The Final Journey',\n",
       "   'type': 'Movie',\n",
       "   'year': '2010',\n",
       "   'genre': 'Drama',\n",
       "   'idOwner': 'tt0230212',\n",
       "   'image': 'https://m.media-amazon.com/images/M/MV5BNDY0NDMwNjg5Ml5BMl5BanBnXkFtZTcwOTU0NTc4Mw@@._V1_.jpg'},\n",
       "  {'id': 59729,\n",
       "   'title': 'In My Sleep',\n",
       "   'type': 'Movie',\n",
       "   'year': '2010',\n",
       "   'genre': 'Drama',\n",
       "   'idOwner': 'tt0326965',\n",
       "   'image': 'https://m.media-amazon.com/images/M/MV5BNzg1MDM1NzIwMV5BMl5BanBnXkFtZTcwNzMxMTU1MQ@@._V1_.jpg'},\n",
       "  {'id': 59730,\n",
       "   'title': 'This Wretched Life',\n",
       "   'type': 'Movie',\n",
       "   'year': '2010',\n",
       "   'genre': 'Drama',\n",
       "   'idOwner': 'tt0331312',\n",
       "   'image': 'https://m.media-amazon.com/images/M/MV5BMTU3ODgxNjE4M15BMl5BanBnXkFtZTgwMTEyNjY0MTE@._V1_.jpg'},\n",
       "  {'id': 59731,\n",
       "   'title': 'Blind Sided',\n",
       "   'type': 'Movie',\n",
       "   'year': '2010',\n",
       "   'genre': 'Drama',\n",
       "   'idOwner': 'tt0337882',\n",
       "   'image': 'https://m.media-amazon.com/images/M/MV5BMTY3NjQxMzAyOF5BMl5BanBnXkFtZTcwMjcyNTMyMw@@._V1_.jpg'},\n",
       "  {'id': 59732,\n",
       "   'title': 'Death of a Nation',\n",
       "   'type': 'Short',\n",
       "   'year': '2010',\n",
       "   'genre': 'Drama',\n",
       "   'idOwner': 'tt0370451',\n",
       "   'image': 'https://m.media-amazon.com/images/M/MV5BMTgzMTAwNDkzOF5BMl5BanBnXkFtZTcwODc3ODUzMQ@@._V1_.jpg'},\n",
       "  {'id': 59733,\n",
       "   'title': 'The Pacific',\n",
       "   'type': 'TV Mini Series',\n",
       "   'year': '2010',\n",
       "   'genre': 'Drama',\n",
       "   'idOwner': 'tt0374463',\n",
       "   'image': 'https://m.media-amazon.com/images/M/MV5BNmEwNmI1MjItNjNjYy00NDE5LWJiNTYtM2QxMTI5ZjllZTBhL2ltYWdlXkEyXkFqcGdeQXVyNTAyODkwOQ@@._V1_.jpg'}]}"
      ]
     },
     "execution_count": 7,
     "metadata": {},
     "output_type": "execute_result"
    }
   ],
   "source": [
    "# lo convertimos a json\n",
    "datos_drama = llamada_drama.json()\n",
    "datos_drama"
   ]
  },
  {
   "cell_type": "code",
   "execution_count": 22,
   "metadata": {},
   "outputs": [
    {
     "data": {
      "text/plain": [
       "'Pál Adrienn'"
      ]
     },
     "execution_count": 22,
     "metadata": {},
     "output_type": "execute_result"
    }
   ],
   "source": [
    "datos_drama['results'][0]['title']"
   ]
  },
  {
   "cell_type": "code",
   "execution_count": 23,
   "metadata": {},
   "outputs": [
    {
     "data": {
      "text/plain": [
       "59724"
      ]
     },
     "execution_count": 23,
     "metadata": {},
     "output_type": "execute_result"
    }
   ],
   "source": [
    "datos_drama['results'][0]['id']"
   ]
  },
  {
   "cell_type": "code",
   "execution_count": 24,
   "metadata": {},
   "outputs": [
    {
     "data": {
      "text/plain": [
       "'Movie'"
      ]
     },
     "execution_count": 24,
     "metadata": {},
     "output_type": "execute_result"
    }
   ],
   "source": [
    "datos_drama['results'][0]['type']"
   ]
  },
  {
   "cell_type": "code",
   "execution_count": 25,
   "metadata": {},
   "outputs": [
    {
     "data": {
      "text/plain": [
       "'2010'"
      ]
     },
     "execution_count": 25,
     "metadata": {},
     "output_type": "execute_result"
    }
   ],
   "source": [
    "datos_drama['results'][0]['year']"
   ]
  },
  {
   "cell_type": "code",
   "execution_count": null,
   "metadata": {},
   "outputs": [],
   "source": [
    "datos_drama['results'][0]['genre']"
   ]
  },
  {
   "cell_type": "code",
   "execution_count": 29,
   "metadata": {},
   "outputs": [
    {
     "ename": "IndentationError",
     "evalue": "unexpected indent (2785942814.py, line 5)",
     "output_type": "error",
     "traceback": [
      "\u001b[0;36m  Cell \u001b[0;32mIn[29], line 5\u001b[0;36m\u001b[0m\n\u001b[0;31m    diccionario_drama[\"nombre\"].append(datos_drama[\"title\"])\u001b[0m\n\u001b[0m    ^\u001b[0m\n\u001b[0;31mIndentationError\u001b[0m\u001b[0;31m:\u001b[0m unexpected indent\n"
     ]
    }
   ],
   "source": [
    "# definimos la funcion\n",
    "# def pelis_drama_2010(datos_drama, diccionario_drama):\n",
    "\n",
    "    # agregamos los datos que nos interesan: nombre, tipo, id, year a nuestro diccionario que almacenara los datos que nos interesan\n",
    "    # diccionario_drama[\"nombre\"].append(datos_drama[\"title\"])\n",
    "    # diccionario_drama[\"identificacion\"].append(datos_drama[\"id\"])\n",
    "    # diccionario_drama[\"tipo\"].append(datos_drama[\"type\"])\n",
    "    # diccionario_drama[\"anio\"].append(datos_drama[\"year\"])\n",
    "    # diccionario_drama[\"genero\"].append(datos_drama[\"genre\"])\n",
    "\n",
    "lista_diccionarios = []\n",
    "\n",
    "for elemento in datos_drama[\"results\"]:\n",
    "    lista_diccionarios.append(elemento[\"title\"])\n",
    "print(lista_diccionarios)"
   ]
  },
  {
   "cell_type": "markdown",
   "metadata": {},
   "source": [
    "dos bucles for\n",
    "14 lineas de codigo\n",
    "printo indice "
   ]
  },
  {
   "cell_type": "code",
   "execution_count": null,
   "metadata": {},
   "outputs": [],
   "source": [
    "Procesando películas: 100%|██████████| 10/10 [00:00<?, ?it/s]\n",
    "Resultados obtenidos:\n",
    ",Título: El Tango del Viudo y Su Espejo Deformante Tipo: Movie, Año: 2020, Género: Drama, ID: tt0062336\n",
    "Título: Love & Orgasms, Tipo: Movie, Año: 2020, Género: Drama, ID: tt0383477\n",
    "Título: I Know This Much Is True, Tipo: TV Series, Año: 2020, Género: Drama, ID: tt0425118\n",
    "Título: Surviving in L.A., Tipo: Movie, Año: 2020, Género: Drama, ID: tt0446792\n",
    "Título: Duel of Legends, Tipo: Movie, Año: 2020, Género: Drama, ID: tt0849437\n",
    "Título: Lost Girls and Love Hotels, Tipo: Movie, Año: 2020, Género: Drama, ID: tt0920462\n",
    "Título: \"Gallavich!\", Tipo: TV Episode, Año: 2020, Género: Drama, ID: tt10001184\n",
    "Título: Chapter One: The Singing Bones, Tipo: TV Episode, Año: 2020, Género: Drama, ID: tt10004744\n",
    "Título: Avocado Toast the series, Tipo: TV Series, Año: 2020, Género: Drama, ID: tt10006418\n",
    "Título: Hiving the Bees, Tipo: TV Episode, Año: 2020, Género: Drama, ID: tt10004704\n",
    "Datos guardados en movies_Drama_2020.csv"
   ]
  },
  {
   "cell_type": "code",
   "execution_count": null,
   "metadata": {},
   "outputs": [],
   "source": [
    "#periodo_years = []\n",
    "#genero_pelicula = []\n",
    "#posicion = 0\n",
    "#for year in range(1900, 2025):\n",
    "    periodo_years.append(year)\n",
    "    url_movies_dataset = f\"https://dev.adalab.es/api/cinema/movies?year={periodo_years[posicion]}&genre={genero_pelicula}\"\n",
    "    posicion += 1\n",
    "    llamada_datos_peliculas = requests.get(url_movies_dataset)\n",
    "# llamada_datos_peliculas"
   ]
  },
  {
   "cell_type": "code",
   "execution_count": null,
   "metadata": {},
   "outputs": [],
   "source": []
  }
 ],
 "metadata": {
  "kernelspec": {
   "display_name": "base",
   "language": "python",
   "name": "python3"
  },
  "language_info": {
   "codemirror_mode": {
    "name": "ipython",
    "version": 3
   },
   "file_extension": ".py",
   "mimetype": "text/x-python",
   "name": "python",
   "nbconvert_exporter": "python",
   "pygments_lexer": "ipython3",
   "version": "3.12.4"
  }
 },
 "nbformat": 4,
 "nbformat_minor": 2
}
