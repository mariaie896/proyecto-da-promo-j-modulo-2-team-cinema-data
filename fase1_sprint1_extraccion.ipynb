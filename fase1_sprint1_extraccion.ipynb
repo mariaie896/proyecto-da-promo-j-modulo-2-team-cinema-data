{
 "cells": [
  {
   "cell_type": "markdown",
   "metadata": {},
   "source": [
    "En esta fase, usaremos la API de MoviesDataset, que contiene una gran cantidad de información sobre películas, incluyendo detalles como títulos, géneros, años de lanzamiento y más.\n",
    "\n",
    "OBJETIVO: hacer solicitudes a esta API y extraer información relevante sobre las películas.\n",
    "\n",
    "Debemos extraer:\n",
    "\n",
    "- Existen películas desde 1900 hasta 2024.\n",
    "\n",
    "- Elige un rango de años, que incluya 15 años y extrae información de las películas de esos años.\n",
    "\n",
    "- Existen películas que pertenezcan a los siguientes géneros: \"Drama\", \"Comedy\", \"Action\", \"Fantasy\", \"Horror\", \"Mystery\", \"Romance\" y \"Thriller\".\n",
    "Elige un género por cada integrante del equipo y extrae información de las películas de esos géneros.\n",
    "\n",
    "De cada una de las películas tendréis que sacar la siguiente información:\n",
    "\n",
    "- Tipo (si es corto o película).\n",
    "\n",
    "- Nombre de la película o el corto.\n",
    "\n",
    "- Año de estreno de la película o corto.\n",
    "\n",
    "- Id de la película.\n",
    "\n",
    "NOTA: La información de la API deberá ser almacenada en una lista de tuplas. Cada tupla corresponderá a una película. Siguiendo el siguiente ejemplo: [(\"Pelicula\", \"Titanic\", 1997, 12, \"abc123\"), (\"Pelicula\",\"Los Gonnies\", 1985, 6, \"abc456\"), ...]"
   ]
  },
  {
   "cell_type": "code",
   "execution_count": 2,
   "metadata": {},
   "outputs": [
    {
     "name": "stdout",
     "output_type": "stream",
     "text": [
      "Requirement already satisfied: tqdm in /Users/andreagonzalez/anaconda3/lib/python3.12/site-packages (4.66.4)\n"
     ]
    }
   ],
   "source": [
    "!pip install tqdm"
   ]
  },
  {
   "cell_type": "code",
   "execution_count": 1,
   "metadata": {},
   "outputs": [],
   "source": [
    "import requests\n",
    "\n",
    "import pandas as pd\n",
    "\n",
    "from tqdm import tqdm"
   ]
  },
  {
   "cell_type": "code",
   "execution_count": 22,
   "metadata": {},
   "outputs": [
    {
     "data": {
      "text/plain": [
       "'Pál Adrienn'"
      ]
     },
     "execution_count": 22,
     "metadata": {},
     "output_type": "execute_result"
    }
   ],
   "source": [
    "datos_drama['results'][0]['title']"
   ]
  },
  {
   "cell_type": "code",
   "execution_count": 23,
   "metadata": {},
   "outputs": [
    {
     "data": {
      "text/plain": [
       "59724"
      ]
     },
     "execution_count": 23,
     "metadata": {},
     "output_type": "execute_result"
    }
   ],
   "source": [
    "datos_drama['results'][0]['id']"
   ]
  },
  {
   "cell_type": "code",
   "execution_count": 24,
   "metadata": {},
   "outputs": [
    {
     "data": {
      "text/plain": [
       "'Movie'"
      ]
     },
     "execution_count": 24,
     "metadata": {},
     "output_type": "execute_result"
    }
   ],
   "source": [
    "datos_drama['results'][0]['type']"
   ]
  },
  {
   "cell_type": "code",
   "execution_count": 25,
   "metadata": {},
   "outputs": [
    {
     "data": {
      "text/plain": [
       "'2010'"
      ]
     },
     "execution_count": 25,
     "metadata": {},
     "output_type": "execute_result"
    }
   ],
   "source": [
    "datos_drama['results'][0]['year']"
   ]
  },
  {
   "cell_type": "code",
   "execution_count": null,
   "metadata": {},
   "outputs": [],
   "source": [
    "datos_drama['results'][0]['genre']"
   ]
  },
  {
   "cell_type": "code",
   "execution_count": 2,
   "metadata": {},
   "outputs": [
    {
     "name": "stdout",
     "output_type": "stream",
     "text": [
      "La respuesta de tu llamada es: 200\n"
     ]
    }
   ],
   "source": [
    "# Extraemos un género, un año y una película\n",
    "url_drama = \"https://dev.adalab.es/api/cinema/movies?year=2010&genre=Drama\"\n",
    "\n",
    "llamada = requests.get(url_drama)\n",
    "\n",
    "if llamada.status_code == 200:\n",
    "    print(f\"La respuesta de tu llamada es: {llamada.status_code}\")\n",
    "\n",
    "else:\n",
    "    print(\"Error\")"
   ]
  },
  {
   "cell_type": "code",
   "execution_count": 6,
   "metadata": {},
   "outputs": [
    {
     "data": {
      "text/plain": [
       "{'info': {'count': 10},\n",
       " 'results': [{'id': 59724,\n",
       "   'title': 'Pál Adrienn',\n",
       "   'type': 'Movie',\n",
       "   'year': '2010',\n",
       "   'genre': 'Drama',\n",
       "   'idOwner': 'tt0146592',\n",
       "   'image': 'https://m.media-amazon.com/images/M/MV5BODNjZmM3MWYtYmUwZC00M2RjLTkyZmEtYzRhMDU1NmM3ZmIzXkEyXkFqcGdeQXVyOTAzODAwOQ@@._V1_.jpg'},\n",
       "  {'id': 59725,\n",
       "   'title': 'Oda az igazság',\n",
       "   'type': 'Movie',\n",
       "   'year': '2010',\n",
       "   'genre': 'Drama',\n",
       "   'idOwner': 'tt0154039',\n",
       "   'image': 'https://m.media-amazon.com/images/M/MV5BM2U4NWIxMjQtZTE4ZC00MThmLTlmMTktMWM3OTQ3ODc1ZmI4L2ltYWdlL2ltYWdlXkEyXkFqcGdeQXVyMjIzMDAwOTc@._V1_.jpg'},\n",
       "  {'id': 59726,\n",
       "   'title': 'A zöld sárkány gyermekei',\n",
       "   'type': 'Movie',\n",
       "   'year': '2010',\n",
       "   'genre': 'Drama',\n",
       "   'idOwner': 'tt0162942',\n",
       "   'image': 'https://m.media-amazon.com/images/M/MV5BNDhkMTJkNTYtMTYwZS00NTYwLTgzZGYtMTlmYWE3MWM1NGVhXkEyXkFqcGdeQXVyNzM0MDQ1Mw@@._V1_.jpg'},\n",
       "  {'id': 59727,\n",
       "   'title': 'Flexing with Monty',\n",
       "   'type': 'Video',\n",
       "   'year': '2010',\n",
       "   'genre': 'Drama',\n",
       "   'idOwner': 'tt0200641',\n",
       "   'image': 'https://m.media-amazon.com/images/M/MV5BMTY4MTE2MTQyNF5BMl5BanBnXkFtZTcwMTA4MDk5Mg@@._V1_.jpg'},\n",
       "  {'id': 59728,\n",
       "   'title': 'The Final Journey',\n",
       "   'type': 'Movie',\n",
       "   'year': '2010',\n",
       "   'genre': 'Drama',\n",
       "   'idOwner': 'tt0230212',\n",
       "   'image': 'https://m.media-amazon.com/images/M/MV5BNDY0NDMwNjg5Ml5BMl5BanBnXkFtZTcwOTU0NTc4Mw@@._V1_.jpg'},\n",
       "  {'id': 59729,\n",
       "   'title': 'In My Sleep',\n",
       "   'type': 'Movie',\n",
       "   'year': '2010',\n",
       "   'genre': 'Drama',\n",
       "   'idOwner': 'tt0326965',\n",
       "   'image': 'https://m.media-amazon.com/images/M/MV5BNzg1MDM1NzIwMV5BMl5BanBnXkFtZTcwNzMxMTU1MQ@@._V1_.jpg'},\n",
       "  {'id': 59730,\n",
       "   'title': 'This Wretched Life',\n",
       "   'type': 'Movie',\n",
       "   'year': '2010',\n",
       "   'genre': 'Drama',\n",
       "   'idOwner': 'tt0331312',\n",
       "   'image': 'https://m.media-amazon.com/images/M/MV5BMTU3ODgxNjE4M15BMl5BanBnXkFtZTgwMTEyNjY0MTE@._V1_.jpg'},\n",
       "  {'id': 59731,\n",
       "   'title': 'Blind Sided',\n",
       "   'type': 'Movie',\n",
       "   'year': '2010',\n",
       "   'genre': 'Drama',\n",
       "   'idOwner': 'tt0337882',\n",
       "   'image': 'https://m.media-amazon.com/images/M/MV5BMTY3NjQxMzAyOF5BMl5BanBnXkFtZTcwMjcyNTMyMw@@._V1_.jpg'},\n",
       "  {'id': 59732,\n",
       "   'title': 'Death of a Nation',\n",
       "   'type': 'Short',\n",
       "   'year': '2010',\n",
       "   'genre': 'Drama',\n",
       "   'idOwner': 'tt0370451',\n",
       "   'image': 'https://m.media-amazon.com/images/M/MV5BMTgzMTAwNDkzOF5BMl5BanBnXkFtZTcwODc3ODUzMQ@@._V1_.jpg'},\n",
       "  {'id': 59733,\n",
       "   'title': 'The Pacific',\n",
       "   'type': 'TV Mini Series',\n",
       "   'year': '2010',\n",
       "   'genre': 'Drama',\n",
       "   'idOwner': 'tt0374463',\n",
       "   'image': 'https://m.media-amazon.com/images/M/MV5BNmEwNmI1MjItNjNjYy00NDE5LWJiNTYtM2QxMTI5ZjllZTBhL2ltYWdlXkEyXkFqcGdeQXVyNTAyODkwOQ@@._V1_.jpg'}]}"
      ]
     },
     "execution_count": 6,
     "metadata": {},
     "output_type": "execute_result"
    }
   ],
   "source": [
    "# lo convertimos a json\n",
    "datos_drama = llamada.json()\n",
    "datos_drama"
   ]
  },
  {
   "cell_type": "code",
   "execution_count": 3,
   "metadata": {},
   "outputs": [],
   "source": [
    "import time\n",
    "\n",
    "def peliculas_por_genero(lista_genero,rango_anios): \n",
    "\n",
    "      lista_pelicula=[] \n",
    "      for genero in lista_genero:\n",
    "            for year in rango_anios:\n",
    "                  url_genero = (f\"https://dev.adalab.es/api/cinema/movies?year={year}&genre={genero}\")\n",
    "                  llamada = requests.get(url_genero)\n",
    "                  #print(f\"La respuesta de tu llamada es: {llamada.status_code}\")\n",
    "                  time.sleep(3)\n",
    "            \n",
    "                  # lo convertimos a json\n",
    "                  datos_peliculas = llamada.json()\n",
    "                  \n",
    "                  for pelicula in datos_peliculas['results']:\n",
    "                        titulo = pelicula[\"title\"]\n",
    "                        identificacion = pelicula['id'] \n",
    "                        tipo = pelicula['type']\n",
    "                        anio = pelicula['year']\n",
    "                        genero = pelicula['genre']\n",
    "\n",
    "                  lista_pelicula.extend([titulo, identificacion, tipo, anio, genero])\n",
    "                  continue\n",
    "      return lista_pelicula\n",
    "\n",
    "\n",
    "rango_anios = range(1900,1916)\n",
    "lista_generos = [\"Comedy\"]\n",
    "\n",
    "#, \"Comedy\", \"Action\", \"Fantasy\", \"Horror\", \"Mystery\", \"Romance\", \"Thriller\"]"
   ]
  },
  {
   "cell_type": "code",
   "execution_count": 4,
   "metadata": {},
   "outputs": [
    {
     "name": "stdout",
     "output_type": "stream",
     "text": [
      "['Chimmie Hicks and the Rum Omelet', 19842, 'Short', '1900', 'Comedy', 'En casa del fotógrafo', 21753, 'Short', '1901', 'Comedy', 'La cour des miracles', 23709, 'Short', '1902', 'Comedy', 'Le revenant', 25473, 'Short', '1903', 'Comedy', 'Les mésaventures de Monsieur Boit-sans-soif', 28119, 'Short', '1904', 'Comedy', 'Les mésaventures de Monsieur Boit-sans-soif', 28119, 'Short', '1904', 'Comedy', 'Les mésaventures de Monsieur Boit-sans-soif', 28119, 'Short', '1904', 'Comedy', 'Les mésaventures de Monsieur Boit-sans-soif', 28119, 'Short', '1904', 'Comedy', 'Les mésaventures de Monsieur Boit-sans-soif', 28119, 'Short', '1904', 'Comedy', 'Les mésaventures de Monsieur Boit-sans-soif', 28119, 'Short', '1904', 'Comedy', 'Cretinetti e le donne', 28527, 'Short', '1910', 'Comedy', 'Cretinetti e le donne', 28527, 'Short', '1910', 'Comedy', 'A Family Mixup', 28637, 'Short', '1912', 'Comedy', 'Heroic Harold', 28957, 'Short', '1913', 'Comedy', 'The Bottom of the Sea', 29277, 'Short', '1914', 'Comedy', 'All Aboard', 29597, 'Short', '1915', 'Comedy']\n"
     ]
    }
   ],
   "source": [
    "resultados = peliculas_por_genero(lista_generos,rango_anios)\n",
    "print(resultados)"
   ]
  },
  {
   "cell_type": "code",
   "execution_count": 44,
   "metadata": {},
   "outputs": [],
   "source": [
    "def peliculas_por_genero(lista_genero,rango_anios): \n",
    "\n",
    "      # Listas_vacías\n",
    "      lista_drama = []\n",
    "      lista_comedy = []\n",
    "      lista_action = []\n",
    "      lista_fantasy = []\n",
    "      lista_horror = []\n",
    "      lista_mystery = []\n",
    "      lista_romance = []\n",
    "      lista_thriller = []\n",
    "\n",
    "      for genero in lista_genero:\n",
    "            for year in rango_anios:\n",
    "                  url_genero = (f\"https://dev.adalab.es/api/cinema/movies?year={year}&genre={genero}\")\n",
    "                  llamada = requests.get(url_genero)\n",
    "                  #print(f\"La respuesta de tu llamada es: {llamada.status_code}\")\n",
    "            \n",
    "                  # Lo convertimos a json = diccionario\n",
    "                  datos_peliculas = llamada.json()\n",
    "                  \n",
    "                  \n",
    "                  for pelicula in datos_peliculas['results']:\n",
    "                        titulo = pelicula[\"title\"]\n",
    "                        identificacion = pelicula['id'] \n",
    "                        tipo = pelicula['type']\n",
    "                        anio = pelicula['year']\n",
    "                        genero = pelicula['genre']\n",
    "                  \n",
    "                        if genero == \"Drama\":\n",
    "                              lista_drama.extend([titulo, identificacion, tipo, anio, genero])\n",
    "                        elif genero == \"Comedy\":\n",
    "                              lista_comedy.extend([titulo, identificacion, tipo, anio, genero])\n",
    "                        elif genero == \"Action\":\n",
    "                              lista_action.extend([titulo, identificacion, tipo, anio, genero])\n",
    "                        elif genero == \"Fantasy\":\n",
    "                              lista_fantasy.extend([titulo, identificacion, tipo, anio, genero])\n",
    "                        elif genero == \"Horror\":\n",
    "                              lista_horror.extend([titulo, identificacion, tipo, anio, genero])\n",
    "                        elif genero == \"Mystery\":\n",
    "                              lista_mystery.extend([titulo, identificacion, tipo, anio, genero])\n",
    "                        elif genero == \"Romance\":\n",
    "                              lista_romance.extend([titulo, identificacion, tipo, anio, genero])\n",
    "                        elif genero == \"Thriller\":\n",
    "                              lista_thriller.extend([titulo, identificacion, tipo, anio, genero])\n",
    "                  continue\n",
    "\n",
    "      return lista_drama,lista_comedy,lista_action,lista_fantasy,lista_horror,lista_mystery,lista_romance,lista_thriller\n",
    "\n",
    "\n",
    "rango_anios = range(1900, 1916)\n",
    "lista_generos = [\"Drama\", \"Comedy\", \"Action\", \"Fantasy\", \"Horror\", \"Mystery\", \"Romance\", \"Thriller\"]\n"
   ]
  },
  {
   "cell_type": "code",
   "execution_count": 45,
   "metadata": {},
   "outputs": [
    {
     "ename": "KeyError",
     "evalue": "'results'",
     "output_type": "error",
     "traceback": [
      "\u001b[0;31m---------------------------------------------------------------------------\u001b[0m",
      "\u001b[0;31mKeyError\u001b[0m                                  Traceback (most recent call last)",
      "Cell \u001b[0;32mIn[45], line 1\u001b[0m\n\u001b[0;32m----> 1\u001b[0m resultados \u001b[38;5;241m=\u001b[39m peliculas_por_genero(lista_generos,rango_anios)\n\u001b[1;32m      2\u001b[0m \u001b[38;5;28mprint\u001b[39m(resultados)\n",
      "Cell \u001b[0;32mIn[44], line 24\u001b[0m, in \u001b[0;36mpeliculas_por_genero\u001b[0;34m(lista_genero, rango_anios)\u001b[0m\n\u001b[1;32m     18\u001b[0m \u001b[38;5;66;03m#print(f\"La respuesta de tu llamada es: {llamada.status_code}\")\u001b[39;00m\n\u001b[1;32m     19\u001b[0m \n\u001b[1;32m     20\u001b[0m \u001b[38;5;66;03m# lo convertimos a json\u001b[39;00m\n\u001b[1;32m     21\u001b[0m datos_peliculas \u001b[38;5;241m=\u001b[39m llamada\u001b[38;5;241m.\u001b[39mjson()\n\u001b[0;32m---> 24\u001b[0m \u001b[38;5;28;01mfor\u001b[39;00m pelicula \u001b[38;5;129;01min\u001b[39;00m datos_peliculas[\u001b[38;5;124m'\u001b[39m\u001b[38;5;124mresults\u001b[39m\u001b[38;5;124m'\u001b[39m]:\n\u001b[1;32m     25\u001b[0m       titulo \u001b[38;5;241m=\u001b[39m pelicula[\u001b[38;5;124m\"\u001b[39m\u001b[38;5;124mtitle\u001b[39m\u001b[38;5;124m\"\u001b[39m]\n\u001b[1;32m     26\u001b[0m       identificacion \u001b[38;5;241m=\u001b[39m pelicula[\u001b[38;5;124m'\u001b[39m\u001b[38;5;124mid\u001b[39m\u001b[38;5;124m'\u001b[39m] \n",
      "\u001b[0;31mKeyError\u001b[0m: 'results'"
     ]
    }
   ],
   "source": [
    "resultados = peliculas_por_genero(lista_generos,rango_anios)\n",
    "print(resultados)"
   ]
  },
  {
   "cell_type": "code",
   "execution_count": null,
   "metadata": {},
   "outputs": [],
   "source": [
    "# Chuleta Carla output\n",
    "Procesando películas: 100%|██████████| 10/10 [00:00<?, ?it/s]\n",
    "Resultados obtenidos:\n",
    ",Título: El Tango del Viudo y Su Espejo Deformante Tipo: Movie, Año: 2020, Género: Drama, ID: tt0062336\n",
    "Título: Love & Orgasms, Tipo: Movie, Año: 2020, Género: Drama, ID: tt0383477\n",
    "Título: I Know This Much Is True, Tipo: TV Series, Año: 2020, Género: Drama, ID: tt0425118\n",
    "Título: Surviving in L.A., Tipo: Movie, Año: 2020, Género: Drama, ID: tt0446792\n",
    "Título: Duel of Legends, Tipo: Movie, Año: 2020, Género: Drama, ID: tt0849437\n",
    "Título: Lost Girls and Love Hotels, Tipo: Movie, Año: 2020, Género: Drama, ID: tt0920462\n",
    "Título: \"Gallavich!\", Tipo: TV Episode, Año: 2020, Género: Drama, ID: tt10001184\n",
    "Título: Chapter One: The Singing Bones, Tipo: TV Episode, Año: 2020, Género: Drama, ID: tt10004744\n",
    "Título: Avocado Toast the series, Tipo: TV Series, Año: 2020, Género: Drama, ID: tt10006418\n",
    "Título: Hiving the Bees, Tipo: TV Episode, Año: 2020, Género: Drama, ID: tt10004704\n",
    "rango_anios = range(1900, 1916)\n",
    "lista_generos = [\"Drama\", \"Comedy\", \"Action\", \"Fantasy\", \"Horror\", \"Mystery\", \"Romance\", \"Thriller\"]Datos guardados en movies_Drama_2020.csv"
   ]
  },
  {
   "cell_type": "code",
   "execution_count": 54,
   "metadata": {},
   "outputs": [
    {
     "name": "stdout",
     "output_type": "stream",
     "text": [
      "{'status': 'error', 'code': 502, 'message': 'Application failed to respond', 'request_id': 'PjPTM1drRkOFmYsBfSQBqw_499424464'}\n"
     ]
    }
   ],
   "source": [
    "rango_anios = range(1900, 1916)\n",
    "lista_generos = [\"Drama\", \"Comedy\", \"Action\", \"Fantasy\", \"Horror\", \"Mystery\", \"Romance\", \"Thriller\"]\n",
    "\n",
    "for genero in lista_generos:\n",
    "            for year in rango_anios:\n",
    "                  url_genero = (f\"https://dev.adalab.es/api/cinema/movies?year={year}&genre={genero}\")\n",
    "                  llamada = requests.get(url_genero)\n",
    "                  #print(f\"La respuesta de tu llamada es: {llamada.status_code}\")\n",
    "            \n",
    "                  # Lo convertimos a json = diccionario\n",
    "                  datos_peliculas = llamada.json()\n",
    "                  \n",
    "print(datos_peliculas)"
   ]
  }
 ],
 "metadata": {
  "kernelspec": {
   "display_name": "base",
   "language": "python",
   "name": "python3"
  },
  "language_info": {
   "codemirror_mode": {
    "name": "ipython",
    "version": 3
   },
   "file_extension": ".py",
   "mimetype": "text/x-python",
   "name": "python",
   "nbconvert_exporter": "python",
   "pygments_lexer": "ipython3",
   "version": "3.9.12"
  }
 },
 "nbformat": 4,
 "nbformat_minor": 2
}
