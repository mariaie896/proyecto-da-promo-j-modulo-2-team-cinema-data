{
 "cells": [
  {
   "cell_type": "markdown",
   "metadata": {},
   "source": [
    "En esta fase, usaremos la API de MoviesDataset, que contiene una gran cantidad de información sobre películas, incluyendo detalles como títulos, géneros, años de lanzamiento y más.\n",
    "\n",
    "OBJETIVO: hacer solicitudes a esta API y extraer información relevante sobre las películas.\n",
    "\n",
    "Debemos extraer:\n",
    "\n",
    "- Existen películas desde 1900 hasta 2024.\n",
    "\n",
    "- Elige un rango de años, que incluya 15 años y extrae información de las películas de esos años.\n",
    "\n",
    "- Existen películas que pertenezcan a los siguientes géneros: \"Drama\", \"Comedy\", \"Action\", \"Fantasy\", \"Horror\", \"Mystery\", \"Romance\" y \"Thriller\".\n",
    "Elige un género por cada integrante del equipo y extrae información de las películas de esos géneros.\n",
    "\n",
    "De cada una de las películas tendréis que sacar la siguiente información:\n",
    "\n",
    "- Tipo (si es corto o película).\n",
    "\n",
    "- Nombre de la película o el corto.\n",
    "\n",
    "- Año de estreno de la película o corto.\n",
    "\n",
    "- Id de la película.\n",
    "\n",
    "NOTA: La información de la API deberá ser almacenada en una lista de tuplas. Cada tupla corresponderá a una película. Siguiendo el siguiente ejemplo: [(\"Pelicula\", \"Titanic\", 1997, 12, \"abc123\"), (\"Pelicula\",\"Los Gonnies\", 1985, 6, \"abc456\"), ...]"
   ]
  },
  {
   "cell_type": "code",
   "execution_count": 2,
   "metadata": {},
   "outputs": [
    {
     "name": "stdout",
     "output_type": "stream",
     "text": [
      "Requirement already satisfied: tqdm in /Users/andreagonzalez/anaconda3/lib/python3.12/site-packages (4.66.4)\n"
     ]
    }
   ],
   "source": [
    "!pip install tqdm"
   ]
  },
  {
   "cell_type": "code",
   "execution_count": 3,
   "metadata": {},
   "outputs": [],
   "source": [
    "import requests\n",
    "\n",
    "import pandas as pd\n",
    "\n",
    "from tqdm import tqdm"
   ]
  },
  {
   "cell_type": "code",
   "execution_count": 15,
   "metadata": {},
   "outputs": [],
   "source": [
    "import time\n",
    "\n",
    "def peliculas_por_genero(genero,rango_anios): \n",
    "      # Lista vacia peliculas\n",
    "      lista_pelicula=[]\n",
    "      \n",
    "      # Iteramos por un rango de 15 años\n",
    "      for year in rango_anios:\n",
    "            url_genero = (f\"https://dev.adalab.es/api/cinema/movies?year={year}&genre={genero}\")\n",
    "            llamada = requests.get(url_genero)\n",
    "                \n",
    "            time.sleep(3)\n",
    "            \n",
    "          # Verificamos que la llamada ha sido correcta.\n",
    "            llamada\n",
    "            \n",
    "            time.sleep(3) \n",
    "\n",
    "            # Convertimos a json = diccionario\n",
    "            datos_peliculas = llamada.json()\n",
    "\n",
    "            # Iteramos por película para obtener los datos relevantes.    \n",
    "            for pelicula in datos_peliculas['results']:\n",
    "                  titulo = pelicula[\"title\"]\n",
    "                  identificacion = pelicula['id'] \n",
    "                  tipo = pelicula['type']\n",
    "                  anio = pelicula['year']\n",
    "                  genero = pelicula['genre']\n",
    "\n",
    "                  # Agregamos todos los datos a la lista\n",
    "                  pelicula_tupla=(titulo, identificacion, tipo, anio, genero)\n",
    "                  lista_pelicula.append(pelicula_tupla)\n",
    "                  pass\n",
    "\n",
    "      return lista_pelicula\n"
   ]
  },
  {
   "cell_type": "code",
   "execution_count": 16,
   "metadata": {},
   "outputs": [
    {
     "name": "stdout",
     "output_type": "stream",
     "text": [
      "[('How It Feels to Be Run Over', 19833, 'Short', '1900', 'Comedy'), ('The Clown and the Alchemist', 19834, 'Short', '1900', 'Comedy'), (\"Avenue de l'opéra\", 19835, 'Short', '1900', 'Comedy'), ('Above the Limit', 19836, 'Short', '1900', 'Comedy'), ('The Enchanted Drawing', 19837, 'Short', '1900', 'Comedy'), ('The Troublesome Fly', 19838, 'Short', '1900', 'Comedy'), ('As Seen Through a Telescope', 19839, 'Short', '1900', 'Comedy'), ('Let Me Dream Again', 19840, 'Short', '1900', 'Comedy'), ('Chirurgie fin de siècle', 19841, 'Short', '1900', 'Comedy'), ('Chimmie Hicks and the Rum Omelet', 19842, 'Short', '1900', 'Comedy'), ('The Countryman and the Cinematograph', 21744, 'Short', '1901', 'Comedy'), ('Undressing Extraordinary', 21745, 'Short', '1901', 'Comedy'), ('The Haunted Curiosity Shop', 21746, 'Short', '1901', 'Comedy'), ('The Cheese Mites, or Lilliputians in a London Restaurant', 21747, 'Short', '1901', 'Comedy'), (\"L'homme à la tête en caoutchouc\", 21748, 'Short', '1901', 'Comedy'), ('Another Job for the Undertaker', 21749, 'Short', '1901', 'Comedy'), ('Stop Thief!', 21750, 'Short', '1901', 'Comedy'), ('Nouvelles luttes extravagantes', 21751, 'Short', '1901', 'Comedy'), ('Escenas callejeras', 21752, 'Short', '1901', 'Comedy'), ('En casa del fotógrafo', 21753, 'Short', '1901', 'Comedy'), ('Sage-femme de première classe', 23700, 'Short', '1902', 'Comedy'), ('Les trésors de satan', 23701, 'Short', '1902', 'Comedy'), ('La dent récalcitrante', 23702, 'Short', '1902', 'Comedy'), ('Le lion savant', 23703, 'Short', '1902', 'Comedy'), ('Le marchand de ballons', 23704, 'Short', '1902', 'Comedy'), ('En faction', 23705, 'Short', '1902', 'Comedy'), ('Farces de cuisinière', 23706, 'Short', '1902', 'Comedy'), ('Uncle Josh at the Moving Picture Show', 23707, 'Short', '1902', 'Comedy'), ('Trompé mais content', 23708, 'Short', '1902', 'Comedy'), ('La cour des miracles', 23709, 'Short', '1902', 'Comedy'), (\"The Messenger Boy's Mistake\", 25464, 'Short', '1903', 'Comedy'), ('Rip Van Winkle', 25465, 'Short', '1903', 'Comedy'), ('Le mélomane', 25466, 'Short', '1903', 'Comedy'), ('The Sick Kitten', 25467, 'Short', '1903', 'Comedy'), ('A Chess Dispute', 25468, 'Short', '1903', 'Comedy'), ('Comment monsieur prend son bain', 25469, 'Short', '1903', 'Comedy'), ('An Extraordinary Cab Accident', 25470, 'Short', '1903', 'Comedy'), (\"Mary Jane's Mishap\", 25471, 'Short', '1903', 'Comedy'), ('A Romance of the Rail', 25472, 'Short', '1903', 'Comedy'), ('Le revenant', 25473, 'Short', '1903', 'Comedy'), ('Les deux rivaux', 28110, 'Short', '1904', 'Comedy'), ('Personal', 28111, 'Short', '1904', 'Comedy'), ('Comment on disperse les foules', 28112, 'Short', '1904', 'Comedy'), ('Behind the Scenes', 28113, 'Short', '1904', 'Comedy'), ('Los guapos del parque', 28114, 'Short', '1904', 'Comedy'), ('Animated Painting', 28115, 'Short', '1904', 'Comedy'), ('Sorcellerie culinaire', 28116, 'Short', '1904', 'Comedy'), ('Le bourreau turc', 28117, 'Short', '1904', 'Comedy'), ('Les apaches', 28118, 'Short', '1904', 'Comedy'), ('Les mésaventures de Monsieur Boit-sans-soif', 28119, 'Short', '1904', 'Comedy'), (\"Le songe d'une nuit d'été\", 28518, 'Short', '1910', 'Comedy'), ('Bjørnejagten', 28519, 'Short', '1910', 'Comedy'), ('The Bewitched Boxing Gloves', 28520, 'Short', '1910', 'Comedy'), ('Almost', 28521, 'Short', '1910', 'Comedy'), ('Una farsa de colas', 28522, 'Short', '1910', 'Comedy'), ('Taming a Husband', 28523, 'Short', '1910', 'Comedy'), ('A Lucky Toothache', 28524, 'Short', '1910', 'Comedy'), ('White Roses', 28525, 'Short', '1910', 'Comedy'), ('The Electrical Vitalizer', 28526, 'Short', '1910', 'Comedy'), ('Cretinetti e le donne', 28527, 'Short', '1910', 'Comedy'), (\"Billy McGrath's Love Letters\", 28629, 'Short', '1912', 'Comedy'), ('Alkali Ike Bests Broncho Billy', 28630, 'Short', '1912', 'Comedy'), ('The Brave Hunter', 28631, 'Short', '1912', 'Comedy'), (\"The Drummer's Vacation\", 28632, 'Short', '1912', 'Comedy'), (\"At Scrogginses' Corner\", 28634, 'Short', '1912', 'Comedy'), ('The Bachelor and the Baby', 28635, 'Short', '1912', 'Comedy'), ('A Family Mixup', 28637, 'Short', '1912', 'Comedy'), ('Jarní sen starého mládence', 28948, 'Movie', '1913', 'Comedy'), (\"Alkali Ike's Homecoming\", 28949, 'Short', '1913', 'Comedy'), (\"Algy's Awful Auto\", 28950, 'Short', '1913', 'Comedy'), ('An Accidental Servant', 28951, 'Short', '1913', 'Comedy'), ('College Chums', 28953, 'Short', '1913', 'Comedy'), ('The Long and Short of It', 28954, 'Short', '1913', 'Comedy'), ('Alkali Ike in Jayville', 28955, 'Short', '1913', 'Comedy'), ('The Gangsters', 28956, 'Short', '1913', 'Comedy'), ('Heroic Harold', 28957, 'Short', '1913', 'Comedy'), ('Mariage forcé', 29268, 'Short', '1914', 'Comedy'), ('Max, professeur de tango', 29269, 'Short', '1914', 'Comedy'), ('Broken Nose Bailey', 29270, 'Short', '1914', 'Comedy'), (\"Mabel's Stormy Love Affair\", 29271, 'Short', '1914', 'Comedy'), ('Mack at It Again', 29272, 'Short', '1914', 'Comedy'), ('Chicken Chaser', 29273, 'Short', '1914', 'Comedy'), ('Marrying Sue', 29274, 'Short', '1914', 'Comedy'), ('An Affair for the Police', 29275, 'Short', '1914', 'Comedy'), ('Among the Mourners', 29276, 'Short', '1914', 'Comedy'), ('The Bottom of the Sea', 29277, 'Short', '1914', 'Comedy'), ('Det blaa vidunder', 29588, 'Movie', '1915', 'Comedy'), (\"Auntie's Portrait\", 29589, 'Short', '1915', 'Comedy'), (\"Ambrose's Little Hatchet\", 29590, 'Short', '1915', 'Comedy'), ('Hearts and Clubs', 29591, 'Short', '1915', 'Comedy'), ('The Double Deception', 29592, 'Short', '1915', 'Comedy'), ('The Hungry Actors', 29593, 'Short', '1915', 'Comedy'), ('Mazie Puts One Over', 29594, 'Short', '1915', 'Comedy'), ('A kölcsönkért csecsemök', 29595, 'Movie', '1915', 'Comedy'), ('The Little Teacher', 29596, 'Short', '1915', 'Comedy'), ('All Aboard', 29597, 'Short', '1915', 'Comedy')]\n"
     ]
    }
   ],
   "source": [
    "rango_anios = range(1900,1916)\n",
    "genero_com = \"Comedy\"\n",
    "\n",
    "resultados_comedy = peliculas_por_genero(genero_com,rango_anios)\n",
    "print(resultados_comedy)"
   ]
  },
  {
   "cell_type": "code",
   "execution_count": 17,
   "metadata": {},
   "outputs": [
    {
     "name": "stdout",
     "output_type": "stream",
     "text": [
      "[('The Last Days of Pompeii', 19343, 'Short', '1900', 'Drama'), ('Soldiers of the Cross', 19344, 'Short', '1900', 'Drama'), (\"Le duel d'Hamlet\", 19345, 'Short', '1900', 'Drama'), ('Attack on a China Mission', 19346, 'Short', '1900', 'Drama'), (\"Jeanne d'Arc\", 19347, 'Short', '1900', 'Drama'), ('A Railway Collision', 19348, 'Short', '1900', 'Drama'), ('Beheading Chinese Prisoner', 19349, 'Short', '1900', 'Drama'), ('Plucked from the Burning', 19350, 'Short', '1900', 'Drama'), ('The Girl Who Went Astray', 19351, 'Short', '1900', 'Drama'), ('A Career of Crime', 19352, 'Short', '1900', 'Drama'), (\"Histoire d'un crime\", 21254, 'Short', '1901', 'Drama'), ('Fire!', 21255, 'Short', '1901', 'Drama'), (\"Scrooge; or Marley's Ghost\", 21256, 'Short', '1901', 'Drama'), ('Execution of Czolgosz with Panorama of Auburn Prison', 21257, 'Short', '1901', 'Drama'), ('Prison Bars', 21258, 'Short', '1901', 'Drama'), ('Cast Up by the Waves', 21259, 'Short', '1901', 'Drama'), ('An Affair of Honor', 21260, 'Short', '1901', 'Drama'), ('The Life of a Fireman', 21261, 'Short', '1901', 'Drama'), ('Going to the Fire and the Rescue', 21262, 'Short', '1901', 'Drama'), ('Sampson-Schley Controversy', 21263, 'Short', '1901', 'Drama'), ('Les sept châteaux du diable', 23210, 'Short', '1902', 'Drama'), (\"Les victimes de l'alcoolisme\", 23211, 'Short', '1902', 'Drama'), ('The Wild Man of Borneo', 23212, 'Short', '1902', 'Drama'), (\"L'assommoir\", 23213, 'Short', '1902', 'Drama'), (\"Ora Pro Nobis; or, The Poor Orphan's Last Prayer\", 23214, 'Short', '1902', 'Drama'), ('East Lynne', 23215, 'Short', '1902', 'Drama'), ('Capture of the Biddle Brothers', 23216, 'Short', '1902', 'Drama'), ('The Great Sword Combat on the Stairs', 23217, 'Short', '1902', 'Drama'), (\"Grandpa's Reading Glass\", 23218, 'Short', '1902', 'Drama'), ('Caught in the Undertow', 23219, 'Short', '1902', 'Drama'), ('La belle au bois dormant', 24974, 'Short', '1903', 'Drama'), (\"The Adventurous Voyage of 'The Arctic'\", 24975, 'Short', '1903', 'Drama'), (\"Uncle Tom's Cabin\", 24976, 'Short', '1903', 'Drama'), ('Faust et Méphistophélès', 24977, 'Short', '1903', 'Drama'), ('Henrettelsen', 24978, 'Short', '1903', 'Drama'), ('Hiawatha, the Messiah of the Ojibway', 24979, 'Short', '1903', 'Drama'), (\"Uncle Tom's Cabin\", 24980, 'Short', '1903', 'Drama'), ('La vie et la passion de Jésus Christ', 24981, 'Short', '1903', 'Drama'), ('A Daring Daylight Burglary', 24982, 'Short', '1903', 'Drama'), ('The Runaway Match, or Marriage by Motor', 24983, 'Short', '1903', 'Drama'), ('Buy Your Own Cherries', 27620, 'Short', '1904', 'Drama'), (\"L'assassinat du courrier de Lyon\", 27621, 'Short', '1904', 'Drama'), ('Le juif errant', 27622, 'Short', '1904', 'Drama'), ('Le barbier de Séville', 27623, 'Short', '1904', 'Drama'), (\"L'ange de Noël\", 27624, 'Short', '1904', 'Drama'), (\"Roman d'amour\", 27625, 'Short', '1904', 'Drama'), ('Avenging a Crime; or, Burned at the Stake', 27626, 'Short', '1904', 'Drama'), ('The Battle of the Yalu', 27627, 'Short', '1904', 'Drama'), ('The Child Stealers', 27628, 'Short', '1904', 'Drama'), ('The Hero of Liao-Yang', 27629, 'Short', '1904', 'Drama'), ('Rescued by Rover', 28416, 'Short', '1905', 'Drama'), ('Adventures of Sherlock Holmes', 28417, 'Short', '1905', 'Drama'), ('The Kleptomaniac', 28418, 'Short', '1905', 'Drama'), ('The Moonshiners', 28419, 'Short', '1905', 'Drama'), ('A Gentleman of France', 28420, 'Short', '1905', 'Drama'), ('Los sitios de Chile', 28421, 'Short', '1905', 'Drama'), (\"D.T.'s, or the Effect of Drink\", 28422, 'Short', '1905', 'Drama'), ('Esmeralda', 28423, 'Short', '1905', 'Drama'), ('La légende de Rip Van Winkle', 28424, 'Short', '1905', 'Drama'), ('The Seven Ages', 28425, 'Short', '1905', 'Drama'), ('Hamlet', 28528, 'Movie', '1911', 'Drama'), ('The Two Fathers', 28529, 'Short', '1911', 'Drama'), (\"'Tween Two Loves\", 28530, 'Short', '1911', 'Drama'), ('The Angel of the Slums', 28531, 'Short', '1911', 'Drama'), ('The Death of Nathan Hale', 28532, 'Short', '1911', 'Drama'), (\"The Engineer's Daughter\", 28533, 'Short', '1911', 'Drama'), ('Captain Kate', 28534, 'Short', '1911', 'Drama'), ('Through Fire to Fortune', 28535, 'Short', '1911', 'Drama'), ('Behind the Stockade', 28536, 'Short', '1911', 'Drama'), ('The Diamond Star', 28537, 'Short', '1911', 'Drama'), ('The Land Beyond the Sunset', 28558, 'Short', '1912', 'Drama'), ('Le tragique amour de Mona Lisa', 28559, 'Short', '1912', 'Drama'), ('Les amours de la reine Élisabeth', 28561, 'Short', '1912', 'Drama'), ('The Bugler of Battery B', 28562, 'Short', '1912', 'Drama'), ('Alias Billy Sargent', 28564, 'Short', '1912', 'Drama'), (\"Billy's Burglar\", 28565, 'Short', '1912', 'Drama'), ('The Hidden Trail', 28566, 'Short', '1912', 'Drama'), ('The Adventures of Lieutenant Petrosino', 28567, 'Movie', '1912', 'Drama'), ('Les misérables - Époque 1: Jean Valjean', 28908, 'Movie', '1913', 'Drama'), (\"An Actor's Romance\", 28909, 'Short', '1913', 'Drama'), ('Lure of the Violin', 28910, 'Short', '1913', 'Drama'), ('Mannequins', 28911, 'Short', '1913', 'Drama'), ('The Vengeance of Durand; or, The Two Portraits', 28912, 'Short', '1913', 'Drama'), ('Across the Continent', 28913, 'Short', '1913', 'Drama'), ('An Almond-Eyed Maid', 28914, 'Short', '1913', 'Drama'), ('Eva', 28915, 'Movie', '1913', 'Drama'), ('Borrowed Gold', 28916, 'Short', '1913', 'Drama'), (\"Barry's Breaking In\", 28917, 'Short', '1913', 'Drama'), (\"Les enfants d'Édouard\", 29228, 'Short', '1914', 'Drama'), ('The Lifted Veil', 29229, 'Short', '1914', 'Drama'), ('Counterfeiters', 29230, 'Short', '1914', 'Drama'), ('Arvingen til Skjoldborg', 29231, 'Movie', '1914', 'Drama'), (\"Ma l'amor mio non muore...\", 29232, 'Movie', '1914', 'Drama'), ('The Criminal Path', 29233, 'Movie', '1914', 'Drama'), ('Evangeline', 29234, 'Movie', '1914', 'Drama'), ('Le friquet', 29235, 'Short', '1914', 'Drama'), (\"Maria's Sacrifice\", 29236, 'Short', '1914', 'Drama'), ('Brute Force', 29237, 'Short', '1914', 'Drama'), ('Dødskysset', 29548, 'Movie', '1915', 'Drama'), ('Crossed Wires', 29549, 'Short', '1915', 'Drama'), ('The Fatal Black Bean', 29550, 'Short', '1915', 'Drama'), ('Badehotellet', 29551, 'Movie', '1915', 'Drama'), ('Assunta Spina', 29552, 'Movie', '1915', 'Drama'), ('In the Latin Quarter', 29553, 'Short', '1915', 'Drama'), ('His Return', 29554, 'Short', '1915', 'Drama'), ('Captain Macklin', 29555, 'Short', '1915', 'Drama'), ('A Daughter of Israel', 29556, 'Short', '1915', 'Drama'), ('Hypocrites', 29557, 'Movie', '1915', 'Drama')]\n"
     ]
    }
   ],
   "source": [
    "genero_dram = \"Drama\"\n",
    "resultados_drama = peliculas_por_genero(genero_dram,rango_anios)\n",
    "print(resultados_drama)"
   ]
  },
  {
   "cell_type": "code",
   "execution_count": 18,
   "metadata": {},
   "outputs": [
    {
     "name": "stdout",
     "output_type": "stream",
     "text": [
      "[('The White Red Man', 28538, 'Short', '1911', 'Thriller'), (\"The Ghost's Warning\", 28539, 'Short', '1911', 'Thriller'), (\"The Miser's Heart\", 28540, 'Short', '1911', 'Thriller'), (\"Hands Across the Sea in '76\", 28541, 'Short', '1911', 'Thriller'), ('The Colleen Bawn', 28542, 'Short', '1911', 'Thriller'), ('En sann historia från Fläsian eller Gubben X, kikaren och albusken', 28543, 'Short', '1911', 'Thriller'), ('The Wild Cat Well', 28544, 'Short', '1911', 'Thriller'), (\"The Drover's Sweetheart\", 28545, 'Short', '1911', 'Thriller'), ('What Women Suffer', 28546, 'Short', '1911', 'Thriller'), ('Keane of Kalgoorlie', 28547, 'Short', '1911', 'Thriller'), ('A Clue to Her Parentage', 28868, 'Short', '1912', 'Thriller'), ('An Unseen Enemy', 28869, 'Short', '1912', 'Thriller'), ('The Girl and Her Trust', 28870, 'Short', '1912', 'Thriller'), ('How a Mosquito Operates', 28872, 'Short', '1912', 'Thriller'), ('Billy and the Butler', 28873, 'Short', '1912', 'Thriller'), ('Zigomar contre Nick Carter', 28874, 'Movie', '1912', 'Thriller'), ('The Indian Raiders', 28875, 'Short', '1912', 'Thriller'), ('A Question of Seconds', 28876, 'Short', '1912', 'Thriller'), ('The Plot That Failed', 28877, 'Short', '1912', 'Thriller'), ('Jean la Poudre', 29188, 'Short', '1913', 'Thriller'), ('An Hour of Terror', 29189, 'Short', '1913', 'Thriller'), ('False to Their Trust', 29190, 'Short', '1913', 'Thriller'), ('Der Andere', 29191, 'Movie', '1913', 'Thriller'), ('A Sawmill Hazard', 29192, 'Short', '1913', 'Thriller'), ('Alone in the Jungle', 29193, 'Short', '1913', 'Thriller'), ('A Wild Ride', 29194, 'Short', '1913', 'Thriller'), ('The Power of Conscience', 29195, 'Short', '1913', 'Thriller'), ('Thor, Lord of the Jungles', 29196, 'Short', '1913', 'Thriller'), ('Suspense', 29197, 'Short', '1913', 'Thriller'), ('The $5,000,000 Counterfeiting Plot', 29508, 'Movie', '1914', 'Thriller'), ('Finger Prints', 29509, 'Short', '1914', 'Thriller'), ('Her Escape', 29510, 'Short', '1914', 'Thriller'), (\"His Country's Honour\", 29511, 'Short', '1914', 'Thriller'), ('The Man Who Disappeared', 29512, 'Movie', '1914', 'Thriller'), ('Trinkets of Tragedy', 29513, 'Short', '1914', 'Thriller'), ('Across the Atlantic', 29514, 'Short', '1914', 'Thriller'), ('Shadows', 29515, 'Short', '1914', 'Thriller'), ('The Strange Story of Sylvia Gray', 29516, 'Movie', '1914', 'Thriller'), ('Through the Storm', 29517, 'Short', '1914', 'Thriller'), ('Det indiske gudebillede', 29829, 'Short', '1915', 'Thriller'), ('After Five', 29830, 'Movie', '1915', 'Thriller'), ('The Girl Detective', 29831, 'Movie', '1915', 'Thriller'), ('The Unhidden Treasure', 29833, 'Short', '1915', 'Thriller'), ('The Sable Lorcha', 29834, 'Movie', '1915', 'Thriller'), ('Mysteries of the Grand Hotel', 29835, 'Movie', '1915', 'Thriller'), (\"The Wolf's Prey\", 29836, 'Short', '1915', 'Thriller'), ('The Living Death', 29837, 'Short', '1915', 'Thriller')]\n"
     ]
    }
   ],
   "source": [
    "genero_thri = \"Thriller\"\n",
    "resultados_thriller = peliculas_por_genero(genero_thri,rango_anios)\n",
    "print(resultados_thriller)"
   ]
  },
  {
   "cell_type": "code",
   "execution_count": 19,
   "metadata": {},
   "outputs": [
    {
     "name": "stdout",
     "output_type": "stream",
     "text": [
      "[('The Kiss', 21156, 'Short', '1900', 'Romance'), ('Old Maids with Young Hearts', 21157, 'Short', '1900', 'Romance'), ('The Artist and the Flower Girl', 23063, 'Short', '1901', 'Romance'), ('Love by the Light of the Moon', 23065, 'Short', '1901', 'Romance'), ('Beauty and the Beast', 27230, 'Short', '1903', 'Romance'), ('Be Good', 27231, 'Short', '1903', 'Romance'), ('The Squire and the Maid', 27232, 'Short', '1903', 'Romance'), ('He Loves Me, He Loves Me Not', 27233, 'Short', '1903', 'Romance'), ('The Girl at the Window', 27234, 'Short', '1903', 'Romance'), ('The Widow', 27235, 'Short', '1903', 'Romance'), ('Raffles, the Amateur Cracksman', 28496, 'Short', '1905', 'Romance'), ('Beauty and the Beast', 28498, 'Short', '1905', 'Romance'), (\"The Deputy's Love Affair\", 28548, 'Short', '1912', 'Romance'), ('The Angel of the Studio', 28549, 'Short', '1912', 'Romance'), ('All for a Girl', 28550, 'Short', '1912', 'Romance'), ('Before the White Man Came', 28551, 'Short', '1912', 'Romance'), (\"Bella's Beaus\", 28552, 'Short', '1912', 'Romance'), (\"The Bachelor's Waterloo\", 28553, 'Short', '1912', 'Romance'), (\"The Clown's Triumph\", 28554, 'Short', '1912', 'Romance'), ('A Brave Little Woman', 28555, 'Short', '1912', 'Romance'), ('Anny - en gatepiges roman', 28556, 'Movie', '1912', 'Romance'), ('All for Her', 28557, 'Short', '1912', 'Romance'), ('Cross Purposes', 29151, 'Short', '1913', 'Romance'), ('The Heart of an Artist', 29152, 'Short', '1913', 'Romance'), ('Kak khoroshi, kak svezhi byli rozy', 29153, 'Movie', '1913', 'Romance'), ('The Adventure of an Heiress', 29154, 'Short', '1913', 'Romance'), ('The Dangling Noose', 29155, 'Short', '1913', 'Romance'), (\"Mary's Romance\", 29156, 'Short', '1913', 'Romance'), ('The Echo of a Song', 29157, 'Short', '1913', 'Romance'), ('Alexandra', 29468, 'Movie', '1914', 'Romance'), ('The Crucible', 29469, 'Movie', '1914', 'Romance'), (\"Broncho Billy's True Love\", 29470, 'Short', '1914', 'Romance'), (\"'Midst Woodland Shadows\", 29471, 'Short', '1914', 'Romance'), (\"A Bachelor's Love Story\", 29472, 'Short', '1914', 'Romance'), (\"The Countess Betty's Mine\", 29473, 'Short', '1914', 'Romance'), ('Across the Pacific', 29474, 'Movie', '1914', 'Romance'), ('Blood Will Tell', 29475, 'Short', '1914', 'Romance'), ('The Countess', 29476, 'Short', '1914', 'Romance'), ('Arms and the Gringo', 29477, 'Short', '1914', 'Romance'), ('Anna Karenina', 29790, 'Movie', '1915', 'Romance'), ('The Cheat', 29791, 'Movie', '1915', 'Romance'), ('The Gentleman from Indiana', 29792, 'Movie', '1915', 'Romance'), ('The Girl of the Night', 29793, 'Short', '1915', 'Romance'), ('Celeste', 29794, 'Short', '1915', 'Romance'), ('Double Trouble', 29795, 'Movie', '1915', 'Romance'), ('The Heart Breaker', 29796, 'Short', '1915', 'Romance'), (\"A Cattle Queen's Romance\", 29797, 'Short', '1915', 'Romance')]\n"
     ]
    }
   ],
   "source": [
    "genero_rom = \"Romance\"\n",
    "resultados_romance = peliculas_por_genero(genero_rom,rango_anios)\n",
    "print(resultados_romance)"
   ]
  },
  {
   "cell_type": "code",
   "execution_count": 21,
   "metadata": {},
   "outputs": [
    {
     "name": "stdout",
     "output_type": "stream",
     "text": [
      "[('Sherlock Holmes Baffled', 21107, 'Short', '1900', 'Mystery'), ('Alchimiste Parafaragaramus ou La cornue infernale', 28499, 'Short', '1906', 'Mystery'), ('At the Point of the Sword', 28788, 'Short', '1912', 'Mystery'), ('The Woman in White', 28789, 'Short', '1912', 'Mystery'), ('Mil e 400 contos', 28790, 'Movie', '1912', 'Mystery'), ('Le mort vivant', 28791, 'Short', '1912', 'Mystery'), (\"L'oubliette\", 28792, 'Short', '1912', 'Mystery'), ('On the Pupil of His Eye', 28793, 'Short', '1912', 'Mystery'), (\"The Mystery of Grandfather's Clock\", 28794, 'Short', '1912', 'Mystery'), ('The Woman in White', 28795, 'Short', '1912', 'Mystery'), ('The Miracle', 28796, 'Short', '1912', 'Mystery'), ('Le mystère des roches de Kador', 28797, 'Movie', '1912', 'Mystery'), ('Le mort qui tue', 29108, 'Movie', '1913', 'Mystery'), ('The Diamond Crown', 29109, 'Short', '1913', 'Mystery'), ('Der geheimnisvolle Klub', 29110, 'Short', '1913', 'Mystery'), ('Das Geheimnis von Chateau Richmond', 29111, 'Movie', '1913', 'Mystery'), ('The Brand of Evil', 29112, 'Short', '1913', 'Mystery'), ('The Tongue Mark', 29113, 'Short', '1913', 'Mystery'), ('O Crime de Paula Matos', 29114, 'Movie', '1913', 'Mystery'), ('The Mystery of the Stolen Jewels', 29115, 'Short', '1913', 'Mystery'), (\"The Adventure of the Ambassador's Disappearance\", 29116, 'Short', '1913', 'Mystery'), ('The Murder of Squire Jeffrey', 29117, 'Short', '1913', 'Mystery'), ('The Floor Above', 29428, 'Short', '1914', 'Mystery'), ('Det hemmelighedsfulde X', 29430, 'Movie', '1914', 'Mystery'), ('The Conspiracy', 29431, 'Movie', '1914', 'Mystery'), ('Zudora', 29432, 'Movie', '1914', 'Mystery'), ('The Million Dollar Mystery', 29433, 'Movie', '1914', 'Mystery'), ('The Mysterious Lodger', 29434, 'Short', '1914', 'Mystery'), ('The Woman of Mystery', 29436, 'Movie', '1914', 'Mystery'), ('The Mysterious Rose', 29437, 'Short', '1914', 'Mystery'), ('The Alster Case', 29749, 'Movie', '1915', 'Mystery'), ('An Affair of Three Nations', 29750, 'Movie', '1915', 'Mystery'), ('The Broken Coin', 29751, 'Movie', '1915', 'Mystery'), ('The Family Stain', 29752, 'Movie', '1915', 'Mystery'), ('The Circular Staircase', 29753, 'Movie', '1915', 'Mystery'), ('The Ivory Snuff Box', 29754, 'Movie', '1915', 'Mystery'), ('The Apartment House Mystery', 29755, 'Short', '1915', 'Mystery'), ('The Man on Watch', 29756, 'Short', '1915', 'Mystery'), ('The Affair of the Deserted House', 29757, 'Short', '1915', 'Mystery')]\n"
     ]
    }
   ],
   "source": [
    "genero_myst = \"Mystery\"\n",
    "resultados_mystery = peliculas_por_genero(genero_myst,rango_anios)\n",
    "print(resultados_mystery)"
   ]
  },
  {
   "cell_type": "code",
   "execution_count": 22,
   "metadata": {},
   "outputs": [
    {
     "name": "stdout",
     "output_type": "stream",
     "text": [
      "[('The Prince of Darkness', 20911, 'Short', '1900', 'Horror'), ('Chinese Magic', 20913, 'Short', '1900', 'Horror'), ('Barbe-bleue', 22873, 'Short', '1901', 'Horror'), ('Le diable géant ou Le miracle de la madonne', 22874, 'Short', '1901', 'Horror'), ('Maria Marten: or, The Murder at the Red Barn', 24780, 'Short', '1902', 'Horror'), (\"A Father's Vengeance\", 24781, 'Short', '1902', 'Horror'), ('Le chaudron infernal', 26935, 'Short', '1903', 'Horror'), ('Le monstre', 26936, 'Short', '1903', 'Horror'), ('Le cake-walk infernal', 26937, 'Short', '1903', 'Horror'), ('Electrocuting an Elephant', 26938, 'Short', '1903', 'Horror'), ('The Ghost Train', 26939, 'Short', '1903', 'Horror'), ('Melies: Tales of Terror', 28415, 'Short', '1904', 'Horror'), ('The Haunted Hotel', 28500, 'Short', '1907', 'Horror'), ('Le spectre rouge', 28501, 'Short', '1907', 'Horror'), ('Dr. Jekyll and Mr. Hyde', 28748, 'Short', '1912', 'Horror'), (\"Le masque d'horreur\", 28749, 'Short', '1912', 'Horror'), ('À la conquête du pôle', 28750, 'Short', '1912', 'Horror'), ('Conscience', 28751, 'Short', '1912', 'Horror'), ('Der Schatten des Meeres', 28752, 'Short', '1912', 'Horror'), ('Trilby', 28753, 'Movie', '1912', 'Horror'), ('Satana', 28754, 'Movie', '1912', 'Horror'), (\"The Spider's Web\", 28755, 'Short', '1912', 'Horror'), ('The Vengeance of Egypt', 28756, 'Short', '1912', 'Horror'), ('I misteri della psiche', 28757, 'Movie', '1912', 'Horror'), ('Balaoo', 29068, 'Short', '1913', 'Horror'), ('Dr. Jekyll and Mr. Hyde', 29069, 'Short', '1913', 'Horror'), ('The Bells', 29071, 'Short', '1913', 'Horror'), ('Le système du docteur Goudron et du professeur Plume', 29072, 'Short', '1913', 'Horror'), ('A Modern Jekyll and Hyde', 29074, 'Short', '1913', 'Horror'), ('The Skull', 29075, 'Short', '1913', 'Horror'), ('Le cottage hanté', 29076, 'Short', '1913', 'Horror'), (\"L'effroi\", 29077, 'Short', '1913', 'Horror'), ('Figures de cire', 29388, 'Short', '1914', 'Horror'), ('The Basilisk', 29389, 'Short', '1914', 'Horror'), (\"The Avenging Conscience: or 'Thou Shalt Not Kill'\", 29390, 'Movie', '1914', 'Horror'), ('The Dream Woman', 29391, 'Short', '1914', 'Horror'), ('Der Hund von Baskerville', 29392, 'Movie', '1914', 'Horror'), ('The Ghost Breaker', 29393, 'Movie', '1914', 'Horror'), ('The Murders in the Rue Morgue', 29394, 'Short', '1914', 'Horror'), ('Ein seltsamer Fall', 29395, 'Movie', '1914', 'Horror'), ('Nocní des', 29396, 'Short', '1914', 'Horror'), (\"The Devil's Signature\", 29397, 'Short', '1914', 'Horror'), ('Der Golem', 29708, 'Movie', '1915', 'Horror'), ('The Avenging Hand', 29709, 'Short', '1915', 'Horror'), ('Das dunkle Schloß', 29710, 'Movie', '1915', 'Horror'), ('Life Without Soul', 29712, 'Movie', '1915', 'Horror'), ('Mortmain', 29713, 'Movie', '1915', 'Horror'), ('Zhenshchina vampir', 29714, 'Movie', '1915', 'Horror'), ('The Vivisectionist', 29715, 'Short', '1915', 'Horror'), ('The Haunting Fear', 29716, 'Short', '1915', 'Horror'), ('The Gray Horror', 29717, 'Short', '1915', 'Horror')]\n"
     ]
    }
   ],
   "source": [
    "genero_horr = \"Horror\"\n",
    "resultados_horror = peliculas_por_genero(genero_horr,rango_anios)\n",
    "print(resultados_horror)"
   ]
  },
  {
   "cell_type": "code",
   "execution_count": 23,
   "metadata": {},
   "outputs": [
    {
     "name": "stdout",
     "output_type": "stream",
     "text": [
      "[('The Mystic Swing', 20423, 'Short', '1900', 'Fantasy'), (\"Uncle Josh's Nightmare\", 20424, 'Short', '1900', 'Fantasy'), ('Uncle Josh in a Spooky Hotel', 20425, 'Short', '1900', 'Fantasy'), ('Faust and Marguerite', 20426, 'Short', '1900', 'Fantasy'), ('Hooligan Assists the Magician', 20427, 'Short', '1900', 'Fantasy'), (\"Davey Jones' Locker\", 20428, 'Short', '1900', 'Fantasy'), (\"Neptune's Daughters\", 20429, 'Short', '1900', 'Fantasy'), ('Le déshabillage impossible', 20430, 'Short', '1900', 'Fantasy'), ('Le petit chaperon rouge', 22382, 'Short', '1901', 'Fantasy'), ('The Magic Sword', 22386, 'Short', '1901', 'Fantasy'), (\"The Artist's Dilemma\", 22387, 'Short', '1901', 'Fantasy'), ('Un drame au fond de la mer', 22388, 'Short', '1901', 'Fantasy'), (\"À la conquête de l'air\", 22389, 'Short', '1901', 'Fantasy'), ('Artistic Creation', 22390, 'Short', '1901', 'Fantasy'), ('Jack and the Beanstalk', 24289, 'Short', '1902', 'Fantasy'), (\"Dolly's Toys\", 24291, 'Short', '1902', 'Fantasy'), ('Une indigestion', 24292, 'Short', '1902', 'Fantasy'), ('La clownesse fantôme', 24293, 'Short', '1902', 'Fantasy'), (\"Bouquet d'illusions\", 24294, 'Short', '1902', 'Fantasy'), ('La femme volante', 24295, 'Short', '1902', 'Fantasy'), (\"L'équilibre impossible\", 24296, 'Short', '1902', 'Fantasy'), ('Le voyage de Gulliver à Lilliput et chez les géants', 24297, 'Short', '1902', 'Fantasy'), ('Alice in Wonderland', 26445, 'Short', '1903', 'Fantasy'), ('La guirlande merveilleuse', 26446, 'Short', '1903', 'Fantasy'), ('The Enchanted Cup', 26447, 'Short', '1903', 'Fantasy'), ('La boîte à malice', 26448, 'Short', '1903', 'Fantasy'), (\"Dorothy's Dream\", 26449, 'Short', '1903', 'Fantasy'), ('Le royaume des fées', 26450, 'Short', '1903', 'Fantasy'), ('Le rêve du maître de ballet', 26451, 'Short', '1903', 'Fantasy'), ('Le puits fantastique', 26453, 'Short', '1903', 'Fantasy'), ('Le coffre enchanté', 28405, 'Short', '1904', 'Fantasy'), ('Le roi du maquillage', 28407, 'Short', '1904', 'Fantasy'), ('Le thaumaturge chinois', 28408, 'Short', '1904', 'Fantasy'), ('The Enchanted Toymaker', 28409, 'Short', '1904', 'Fantasy'), ('La sirène', 28411, 'Short', '1904', 'Fantasy'), ('Le merveilleux éventail vivant', 28412, 'Short', '1904', 'Fantasy'), ('Les apparitions fugitives', 28413, 'Short', '1904', 'Fantasy'), ('Les transmutations imperceptibles', 28414, 'Short', '1904', 'Fantasy'), ('El hotel eléctrico', 28502, 'Short', '1908', 'Fantasy'), (\"Cupid's Pranks\", 28503, 'Short', '1908', 'Fantasy'), ('The Fairylogue and Radio-Plays', 28504, 'Movie', '1908', 'Fantasy'), ('Fantasmagorie', 28505, 'Short', '1908', 'Fantasy'), ('She', 28506, 'Short', '1908', 'Fantasy'), (\"Le rêve d'agent\", 28507, 'Short', '1908', 'Fantasy'), ('La légende de la fileuse', 28508, 'Short', '1908', 'Fantasy'), (\"The Guard's Alarum\", 28509, 'Short', '1908', 'Fantasy'), ('Slumberland', 28510, 'Short', '1908', 'Fantasy'), ('La bonne bergère et la mauvaise princesse', 28511, 'Short', '1908', 'Fantasy'), ('Mest kinematograficheskogo operatora', 28709, 'Short', '1912', 'Fantasy'), ('Cinderella', 28710, 'Short', '1912', 'Fantasy'), ('Entente cordiale', 28711, 'Short', '1912', 'Fantasy'), ('Lena and the Geese', 28712, 'Short', '1912', 'Fantasy'), (\"Neptune's Daughter\", 28713, 'Short', '1912', 'Fantasy'), ('The Virtue of Rags', 28714, 'Short', '1912', 'Fantasy'), ('Cendrillon ou La pantoufle merveilleuse', 28715, 'Short', '1912', 'Fantasy'), ('La casa de los duendes', 28716, 'Short', '1912', 'Fantasy'), ('Prince Charming', 28717, 'Short', '1912', 'Fantasy'), ('Die Augen des Ole Brandis', 29028, 'Movie', '1913', 'Fantasy'), ('Strekoza i muravey', 29029, 'Short', '1913', 'Fantasy'), ('Der Student von Prag', 29030, 'Movie', '1913', 'Fantasy'), ('Die Insel der Seligen', 29031, 'Movie', '1913', 'Fantasy'), ('A Princess of Bagdad', 29032, 'Movie', '1913', 'Fantasy'), ('Noch pered Rozhdestvom', 29033, 'Short', '1913', 'Fantasy'), ('The Wanderer', 29034, 'Short', '1913', 'Fantasy'), ('When Soul Meets Soul', 29035, 'Short', '1913', 'Fantasy'), ('The Werewolf', 29036, 'Short', '1913', 'Fantasy'), ('Scrooge', 29037, 'Short', '1913', 'Fantasy'), ('The Chimes', 29348, 'Movie', '1914', 'Fantasy'), (\"'Twas the Night Before Christmas\", 29349, 'Short', '1914', 'Fantasy'), ('Fantasma', 29350, 'Movie', '1914', 'Fantasy'), ('The Chimes', 29351, 'Short', '1914', 'Fantasy'), (\"A Dog's Love\", 29352, 'Short', '1914', 'Fantasy'), ('His Majesty, the Scarecrow of Oz', 29353, 'Movie', '1914', 'Fantasy'), ('The Magic Cloak', 29354, 'Short', '1914', 'Fantasy'), ('Cinderella', 29355, 'Movie', '1914', 'Fantasy'), ('Gertie the Dinosaur', 29356, 'Short', '1914', 'Fantasy'), ('The Story of the Blood Red Rose', 29357, 'Short', '1914', 'Fantasy'), ('Peer Gynt', 29669, 'Movie', '1915', 'Fantasy'), ('The Magic Bon Bons', 29670, 'Short', '1915', 'Fantasy'), ('Alice in Wonderland', 29671, 'Movie', '1915', 'Fantasy'), ('The Country Circus', 29672, 'Short', '1915', 'Fantasy'), ('Portret Doryana Greya', 29673, 'Short', '1915', 'Fantasy'), ('Rumpelstiltskin', 29674, 'Movie', '1915', 'Fantasy'), (\"The Devil's Bondman\", 29675, 'Movie', '1915', 'Fantasy'), ('The Miracle of Life', 29676, 'Movie', '1915', 'Fantasy'), ('Outside the Gates', 29677, 'Short', '1915', 'Fantasy')]\n"
     ]
    }
   ],
   "source": [
    "genero_fant = \"Fantasy\"\n",
    "resultados_fantasy = peliculas_por_genero(genero_fant,rango_anios)\n",
    "print(resultados_fantasy)"
   ]
  },
  {
   "cell_type": "code",
   "execution_count": 24,
   "metadata": {},
   "outputs": [
    {
     "name": "stdout",
     "output_type": "stream",
     "text": [
      "[('Guillaume Tell', 20324, 'Short', '1900', 'Action'), ('The Gordon Sisters Boxing', 22236, 'Short', '1901', 'Action'), ('Een avontuur bij de maan', 24190, 'Short', '1902', 'Action'), ('A Fight with Sledgehammers', 24191, 'Short', '1902', 'Action'), ('The Great Train Robbery', 25954, 'Short', '1903', 'Action'), ('Life of an American Fireman', 25955, 'Short', '1903', 'Action'), ('A Desperate Poaching Affray', 25956, 'Short', '1903', 'Action'), ('The Physical Culture Girl', 25957, 'Short', '1903', 'Action'), ('New York Harbor Police Boat Patrol Capturing Pirates', 25958, 'Short', '1903', 'Action'), (\"Le ballon d'Andrée au pole nord\", 25959, 'Short', '1903', 'Action'), ('On Forbidden Ground', 25960, 'Short', '1903', 'Action'), ('Rescue of Child from Indians', 25961, 'Short', '1903', 'Action'), ('Trappers Crossing Bald Mountain', 25962, 'Short', '1903', 'Action'), (\"Settler's Home Life\", 25963, 'Short', '1903', 'Action'), ('Railroad Smashup', 28400, 'Short', '1904', 'Action'), (\"Le voyage à travers l'impossible\", 28401, 'Short', '1904', 'Action'), ('Life of an American Fireman', 28402, 'Short', '1904', 'Action'), ('Battle of Chemulpo Bay', 28403, 'Short', '1904', 'Action'), (\"Un coup d'oeil par étage\", 28404, 'Short', '1904', 'Action'), (\"On the Little Big Horn or Custer's Last Stand\", 28512, 'Short', '1909', 'Action'), ('Up San Juan Hill', 28513, 'Short', '1909', 'Action'), ('Briton and Boer', 28514, 'Short', '1909', 'Action'), (\"The Captain's Honour\", 28515, 'Short', '1909', 'Action'), ('Moderne brigand: Cycle contre moteur', 28516, 'Short', '1909', 'Action'), ('Assalto alla Banca Popolare di Fiume', 28517, 'Movie', '1909', 'Action'), ('The Girl in the Next Room', 28668, 'Short', '1912', 'Action'), ('What Happened to Mary', 28669, 'Short', '1912', 'Action'), (\"Custer's Last Fight\", 28670, 'Short', '1912', 'Action'), ('A Temporary Truce', 28671, 'Short', '1912', 'Action'), ('The Massacre', 28672, 'Short', '1912', 'Action'), ('In Nacht und Eis', 28673, 'Short', '1912', 'Action'), ('Et drama paa havet', 28674, 'Short', '1912', 'Action'), ('Between Love and the Law', 28675, 'Short', '1912', 'Action'), ('The Sepoy Rebellion', 28676, 'Movie', '1912', 'Action'), ('Cooee and the Echo', 28677, 'Movie', '1912', 'Action'), ('Hard Cash', 28988, 'Short', '1913', 'Action'), ('The Escape of Jim Dolan', 28989, 'Short', '1913', 'Action'), ('Beau Brummel', 28990, 'Short', '1913', 'Action'), ('Who Will Marry Mary?', 28991, 'Movie', '1913', 'Action'), ('The Speed Kings', 28992, 'Short', '1913', 'Action'), ('The Battle of Elderbush Gulch', 28993, 'Short', '1913', 'Action'), ('Das Recht auf Dasein', 28994, 'Movie', '1913', 'Action'), ('The Pursuit of the Smugglers', 28995, 'Short', '1913', 'Action'), ('Protéa', 28996, 'Movie', '1913', 'Action'), ('Più forte che Sherlock Holmes', 28997, 'Short', '1913', 'Action'), (\"By the Sun's Rays\", 29308, 'Short', '1914', 'Action'), ('The Exploits of Elaine', 29309, 'Movie', '1914', 'Action'), ('The Life of General Villa', 29310, 'Movie', '1914', 'Action'), ('In Defiance of the Law', 29311, 'Short', '1914', 'Action'), ('The Hazards of Helen', 29312, 'Movie', '1914', 'Action'), ('The Interference of Broncho Billy', 29313, 'Short', '1914', 'Action'), ('Cameo Kirby', 29314, 'Movie', '1914', 'Action'), ('His Fight', 29315, 'Short', '1914', 'Action'), ('Lucille Love: The Girl of Mystery', 29316, 'Movie', '1914', 'Action'), ('The Perils of Pauline', 29317, 'Movie', '1914', 'Action'), ('Bill Haywood, Producer', 29628, 'Short', '1915', 'Action'), ('Hearts of the Jungle', 29629, 'Short', '1915', 'Action'), ('The Brave Deserve the Fair', 29630, 'Short', '1915', 'Action'), ('The Chalice of Courage', 29631, 'Movie', '1915', 'Action'), ('Love, Speed and Thrills', 29632, 'Short', '1915', 'Action'), ('Captain Courtesy', 29633, 'Movie', '1915', 'Action'), ('The Quest', 29634, 'Movie', '1915', 'Action'), ('The Ventures of Marguerite', 29635, 'Movie', '1915', 'Action'), ('A Man and His Mate', 29636, 'Movie', '1915', 'Action'), ('Les vampires', 29637, 'Movie', '1915', 'Action')]\n"
     ]
    }
   ],
   "source": [
    "genero_act = \"Action\"\n",
    "resultados_action = peliculas_por_genero(genero_act,rango_anios)\n",
    "print(resultados_action)"
   ]
  }
 ],
 "metadata": {
  "kernelspec": {
   "display_name": "base",
   "language": "python",
   "name": "python3"
  },
  "language_info": {
   "codemirror_mode": {
    "name": "ipython",
    "version": 3
   },
   "file_extension": ".py",
   "mimetype": "text/x-python",
   "name": "python",
   "nbconvert_exporter": "python",
   "pygments_lexer": "ipython3",
   "version": "3.12.4"
  }
 },
 "nbformat": 4,
 "nbformat_minor": 2
}
