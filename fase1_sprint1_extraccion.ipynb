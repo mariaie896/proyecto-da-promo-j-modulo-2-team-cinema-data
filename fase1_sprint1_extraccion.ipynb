{
 "cells": [
  {
   "cell_type": "markdown",
   "metadata": {},
   "source": [
    "En esta fase, usaremos la API de MoviesDataset, que contiene una gran cantidad de información sobre películas, incluyendo detalles como títulos, géneros, años de lanzamiento y más.\n",
    "\n",
    "OBJETIVO: hacer solicitudes a esta API y extraer información relevante sobre las películas.\n",
    "\n",
    "Debemos extraer:\n",
    "\n",
    "- Existen películas desde 1900 hasta 2024.\n",
    "\n",
    "- Elige un rango de años, que incluya 15 años y extrae información de las películas de esos años.\n",
    "\n",
    "- Existen películas que pertenezcan a los siguientes géneros: \"Drama\", \"Comedy\", \"Action\", \"Fantasy\", \"Horror\", \"Mystery\", \"Romance\" y \"Thriller\".\n",
    "Elige un género por cada integrante del equipo y extrae información de las películas de esos géneros.\n",
    "\n",
    "De cada una de las películas tendréis que sacar la siguiente información:\n",
    "\n",
    "- Tipo (si es corto o película).\n",
    "\n",
    "- Nombre de la película o el corto.\n",
    "\n",
    "- Año de estreno de la película o corto.\n",
    "\n",
    "- Id de la película.\n",
    "\n",
    "NOTA: La información de la API deberá ser almacenada en una lista de tuplas. Cada tupla corresponderá a una película. Siguiendo el siguiente ejemplo: [(\"Pelicula\", \"Titanic\", 1997, 12, \"abc123\"), (\"Pelicula\",\"Los Gonnies\", 1985, 6, \"abc456\"), ...]"
   ]
  },
  {
   "cell_type": "code",
   "execution_count": 3,
   "metadata": {},
   "outputs": [
    {
     "name": "stdout",
     "output_type": "stream",
     "text": [
      "Requirement already satisfied: tqdm in /home/elena_craven/anaconda3/lib/python3.12/site-packages (4.66.4)\n"
     ]
    }
   ],
   "source": [
    "!pip install tqdm"
   ]
  },
  {
   "cell_type": "code",
   "execution_count": 2,
   "metadata": {},
   "outputs": [],
   "source": [
    "import requests\n",
    "\n",
    "import pandas as pd\n",
    "\n",
    "from tqdm import tqdm"
   ]
  },
  {
   "cell_type": "code",
   "execution_count": 22,
   "metadata": {},
   "outputs": [
    {
     "data": {
      "text/plain": [
       "'Pál Adrienn'"
      ]
     },
     "execution_count": 22,
     "metadata": {},
     "output_type": "execute_result"
    }
   ],
   "source": [
    "datos_drama['results'][0]['title']"
   ]
  },
  {
   "cell_type": "code",
   "execution_count": 23,
   "metadata": {},
   "outputs": [
    {
     "data": {
      "text/plain": [
       "59724"
      ]
     },
     "execution_count": 23,
     "metadata": {},
     "output_type": "execute_result"
    }
   ],
   "source": [
    "datos_drama['results'][0]['id']"
   ]
  },
  {
   "cell_type": "code",
   "execution_count": 24,
   "metadata": {},
   "outputs": [
    {
     "data": {
      "text/plain": [
       "'Movie'"
      ]
     },
     "execution_count": 24,
     "metadata": {},
     "output_type": "execute_result"
    }
   ],
   "source": [
    "datos_drama['results'][0]['type']"
   ]
  },
  {
   "cell_type": "code",
   "execution_count": 25,
   "metadata": {},
   "outputs": [
    {
     "data": {
      "text/plain": [
       "'2010'"
      ]
     },
     "execution_count": 25,
     "metadata": {},
     "output_type": "execute_result"
    }
   ],
   "source": [
    "datos_drama['results'][0]['year']"
   ]
  },
  {
   "cell_type": "code",
   "execution_count": null,
   "metadata": {},
   "outputs": [],
   "source": [
    "datos_drama['results'][0]['genre']"
   ]
  },
  {
   "cell_type": "code",
   "execution_count": 3,
   "metadata": {},
   "outputs": [
    {
     "name": "stdout",
     "output_type": "stream",
     "text": [
      "La respuesta de tu llamada es: 200\n"
     ]
    }
   ],
   "source": [
    "# extraemos un genero y un anio y una pelicula\n",
    "url_drama = \"https://dev.adalab.es/api/cinema/movies?year=2010&genre=Drama\"\n",
    "\n",
    "llamada = requests.get(url_drama)\n",
    "\n",
    "if llamada.status_code == 200:\n",
    "    print(f\"La respuesta de tu llamada es: {llamada.status_code}\")\n",
    "\n",
    "else:\n",
    "    print(\"Error\")"
   ]
  },
  {
   "cell_type": "code",
   "execution_count": 4,
   "metadata": {},
   "outputs": [
    {
     "data": {
      "text/plain": [
       "{'info': {'count': 10},\n",
       " 'results': [{'id': 59724,\n",
       "   'title': 'Pál Adrienn',\n",
       "   'type': 'Movie',\n",
       "   'year': '2010',\n",
       "   'genre': 'Drama',\n",
       "   'idOwner': 'tt0146592',\n",
       "   'image': 'https://m.media-amazon.com/images/M/MV5BODNjZmM3MWYtYmUwZC00M2RjLTkyZmEtYzRhMDU1NmM3ZmIzXkEyXkFqcGdeQXVyOTAzODAwOQ@@._V1_.jpg'},\n",
       "  {'id': 59725,\n",
       "   'title': 'Oda az igazság',\n",
       "   'type': 'Movie',\n",
       "   'year': '2010',\n",
       "   'genre': 'Drama',\n",
       "   'idOwner': 'tt0154039',\n",
       "   'image': 'https://m.media-amazon.com/images/M/MV5BM2U4NWIxMjQtZTE4ZC00MThmLTlmMTktMWM3OTQ3ODc1ZmI4L2ltYWdlL2ltYWdlXkEyXkFqcGdeQXVyMjIzMDAwOTc@._V1_.jpg'},\n",
       "  {'id': 59726,\n",
       "   'title': 'A zöld sárkány gyermekei',\n",
       "   'type': 'Movie',\n",
       "   'year': '2010',\n",
       "   'genre': 'Drama',\n",
       "   'idOwner': 'tt0162942',\n",
       "   'image': 'https://m.media-amazon.com/images/M/MV5BNDhkMTJkNTYtMTYwZS00NTYwLTgzZGYtMTlmYWE3MWM1NGVhXkEyXkFqcGdeQXVyNzM0MDQ1Mw@@._V1_.jpg'},\n",
       "  {'id': 59727,\n",
       "   'title': 'Flexing with Monty',\n",
       "   'type': 'Video',\n",
       "   'year': '2010',\n",
       "   'genre': 'Drama',\n",
       "   'idOwner': 'tt0200641',\n",
       "   'image': 'https://m.media-amazon.com/images/M/MV5BMTY4MTE2MTQyNF5BMl5BanBnXkFtZTcwMTA4MDk5Mg@@._V1_.jpg'},\n",
       "  {'id': 59728,\n",
       "   'title': 'The Final Journey',\n",
       "   'type': 'Movie',\n",
       "   'year': '2010',\n",
       "   'genre': 'Drama',\n",
       "   'idOwner': 'tt0230212',\n",
       "   'image': 'https://m.media-amazon.com/images/M/MV5BNDY0NDMwNjg5Ml5BMl5BanBnXkFtZTcwOTU0NTc4Mw@@._V1_.jpg'},\n",
       "  {'id': 59729,\n",
       "   'title': 'In My Sleep',\n",
       "   'type': 'Movie',\n",
       "   'year': '2010',\n",
       "   'genre': 'Drama',\n",
       "   'idOwner': 'tt0326965',\n",
       "   'image': 'https://m.media-amazon.com/images/M/MV5BNzg1MDM1NzIwMV5BMl5BanBnXkFtZTcwNzMxMTU1MQ@@._V1_.jpg'},\n",
       "  {'id': 59730,\n",
       "   'title': 'This Wretched Life',\n",
       "   'type': 'Movie',\n",
       "   'year': '2010',\n",
       "   'genre': 'Drama',\n",
       "   'idOwner': 'tt0331312',\n",
       "   'image': 'https://m.media-amazon.com/images/M/MV5BMTU3ODgxNjE4M15BMl5BanBnXkFtZTgwMTEyNjY0MTE@._V1_.jpg'},\n",
       "  {'id': 59731,\n",
       "   'title': 'Blind Sided',\n",
       "   'type': 'Movie',\n",
       "   'year': '2010',\n",
       "   'genre': 'Drama',\n",
       "   'idOwner': 'tt0337882',\n",
       "   'image': 'https://m.media-amazon.com/images/M/MV5BMTY3NjQxMzAyOF5BMl5BanBnXkFtZTcwMjcyNTMyMw@@._V1_.jpg'},\n",
       "  {'id': 59732,\n",
       "   'title': 'Death of a Nation',\n",
       "   'type': 'Short',\n",
       "   'year': '2010',\n",
       "   'genre': 'Drama',\n",
       "   'idOwner': 'tt0370451',\n",
       "   'image': 'https://m.media-amazon.com/images/M/MV5BMTgzMTAwNDkzOF5BMl5BanBnXkFtZTcwODc3ODUzMQ@@._V1_.jpg'},\n",
       "  {'id': 59733,\n",
       "   'title': 'The Pacific',\n",
       "   'type': 'TV Mini Series',\n",
       "   'year': '2010',\n",
       "   'genre': 'Drama',\n",
       "   'idOwner': 'tt0374463',\n",
       "   'image': 'https://m.media-amazon.com/images/M/MV5BNmEwNmI1MjItNjNjYy00NDE5LWJiNTYtM2QxMTI5ZjllZTBhL2ltYWdlXkEyXkFqcGdeQXVyNTAyODkwOQ@@._V1_.jpg'}]}"
      ]
     },
     "execution_count": 4,
     "metadata": {},
     "output_type": "execute_result"
    }
   ],
   "source": [
    "# lo convertimos a json\n",
    "datos_drama = llamada.json()\n",
    "datos_drama"
   ]
  },
  {
   "cell_type": "code",
   "execution_count": 13,
   "metadata": {},
   "outputs": [
    {
     "name": "stdout",
     "output_type": "stream",
     "text": [
      "La respuesta de tu llamada es: 200\n"
     ]
    },
    {
     "ename": "KeyError",
     "evalue": "'id'",
     "output_type": "error",
     "traceback": [
      "\u001b[0;31m---------------------------------------------------------------------------\u001b[0m",
      "\u001b[0;31mKeyError\u001b[0m                                  Traceback (most recent call last)",
      "Input \u001b[0;32mIn [13]\u001b[0m, in \u001b[0;36m<cell line: 13>\u001b[0;34m()\u001b[0m\n\u001b[1;32m     25\u001b[0m \u001b[38;5;28;01mfor\u001b[39;00m pelicula \u001b[38;5;129;01min\u001b[39;00m datos_peliculas[\u001b[38;5;124m\"\u001b[39m\u001b[38;5;124mresults\u001b[39m\u001b[38;5;124m\"\u001b[39m]:\n\u001b[1;32m     27\u001b[0m   titulo \u001b[38;5;241m=\u001b[39m pelicula[\u001b[38;5;124m\"\u001b[39m\u001b[38;5;124mtitle\u001b[39m\u001b[38;5;124m\"\u001b[39m]\n\u001b[0;32m---> 29\u001b[0m   identificacion \u001b[38;5;241m=\u001b[39m \u001b[43mdatos_peliculas\u001b[49m\u001b[43m[\u001b[49m\u001b[38;5;124;43m'\u001b[39;49m\u001b[38;5;124;43mid\u001b[39;49m\u001b[38;5;124;43m'\u001b[39;49m\u001b[43m]\u001b[49m \n\u001b[1;32m     31\u001b[0m   tipo \u001b[38;5;241m=\u001b[39m datos_peliculas[\u001b[38;5;124m'\u001b[39m\u001b[38;5;124mtype\u001b[39m\u001b[38;5;124m'\u001b[39m]\n\u001b[1;32m     33\u001b[0m   anio \u001b[38;5;241m=\u001b[39m datos_peliculas[\u001b[38;5;124m'\u001b[39m\u001b[38;5;124myear\u001b[39m\u001b[38;5;124m'\u001b[39m]\n",
      "\u001b[0;31mKeyError\u001b[0m: 'id'"
     ]
    }
   ],
   "source": [
    "lista_generos = [\"Drama\", \"Comedy\", \"Action\", \"Fantasy\", \"Horror\", \"Mystery\", \"Romance\", \"Thriller\"]\n",
    "posicion = 0\n",
    "\n",
    "lista_drama = []\n",
    "lista_comedy = []\n",
    "lista_action = []\n",
    "lista_fantasy = []\n",
    "lista_horror = []\n",
    "lista_mystery = []\n",
    "lista_romance = []\n",
    "lista_thriller = []\n",
    "\n",
    "for i in lista_generos:\n",
    "   for year in range(1900, 1915):\n",
    "    url_genero = (f\"https://dev.adalab.es/api/cinema/movies?year={year}&genre=Drama\")\n",
    "    #posicion += 1\n",
    "\n",
    "    llamada = requests.get(url_genero)\n",
    "    print(f\"La respuesta de tu llamada es: {llamada.status_code}\")\n",
    "    \n",
    "       # lo convertimos a json\n",
    "    datos_peliculas = llamada.json()\n",
    "    datos_peliculas\n",
    "    \n",
    "    for pelicula in datos_peliculas[\"results\"]:\n",
    "\n",
    "      titulo = pelicula[\"title\"]\n",
    "\n",
    "      identificacion = datos_peliculas['id'] \n",
    "\n",
    "      tipo = datos_peliculas['type']\n",
    "\n",
    "      anio = datos_peliculas['year']\n",
    "     \n",
    "      genero = datos_peliculas['genre']\n",
    "     \n",
    "      lista_drama.extend(titulo, identificacion, tipo, anio, genero)\n",
    "\n",
    "lista_drama\n",
    "\n",
    "    \n"
   ]
  },
  {
   "cell_type": "code",
   "execution_count": null,
   "metadata": {},
   "outputs": [],
   "source": [
    "\n",
    "      titulo = datos_peliculas['results'][0]['title']\n",
    "      lista_drama.append(\"Título: \" titulo)\n",
    "      identificacion = datos_peliculas['results'][0]['id'] \n",
    "      lista_drama.append(\"ID: \" identificacion)\n",
    "      tipo = datos_peliculas['results'][0]['type']\n",
    "      lista_drama.append(\"Tipo: \" tipo)\n",
    "      anio = datos_peliculas['results'][0]['year']\n",
    "      lista_drama.append(\"Año: \" anio)\n",
    "      genero = datos_peliculas['results'][0]['genre']\n",
    "      lista_drama.append(\"Género: \" genero)"
   ]
  },
  {
   "cell_type": "code",
   "execution_count": null,
   "metadata": {},
   "outputs": [],
   "source": [
    "def limpiar_color_pokemon(resultados_json, diccionario_resultados_color):\n",
    "    \"\"\"\n",
    "    Esta función toma resultados JSON de un color de Pokémon y los organiza en un diccionario de resultados de color.\n",
    "    Args:\n",
    "    - resultados_json (dict): Los resultados JSON que contienen información sobre el color y las especies asociadas.\n",
    "    - diccionario_resultados_color (dict): Un diccionario que almacena los resultados de color.\n",
    "    Returns:\n",
    "    - diccionario_resultados_color (dict): Un diccionario actualizado que contiene el nombre del color y las especies asociadas.\n",
    "    \"\"\"\n",
    "    # Agregar el nombre del color de Pokémon a la lista correspondiente en el diccionario de resultados color.\n",
    "    diccionario_resultados_color[\"color\"].append(resultados_json[\"name\"])\n",
    "    # Crear una lista llamada 'lista_especies' para almacenar nombres de especies de Pokémon asociados con este color.\n",
    "    lista_especies = []\n",
    "    # Iterar a través de las especies de Pokémon en la respuesta JSON y agregar sus nombres a la lista 'lista_especies'.\n",
    "    for especie in resultados_json[\"pokemon_species\"]:\n",
    "        lista_especies.append(especie[\"name\"])\n",
    "    # Agregar la lista de nombres de especies al diccionario de resultados color bajo la clave \"especies\".\n",
    "    diccionario_resultados_color[\"especies\"].append(lista_especies)\n",
    "    # Devolver el diccionario de resultados color actualizado.\n",
    "    return diccionario_resultados_color\n",
    "# Crear un diccionario llamado 'diccionario_color' con listas vacías como valores para el nombre del color y las especies asociadas.\n",
    "diccionario_color = {\"color\": [], \"especies\": []}\n",
    "# Llamar a la función 'limpiar_color_pokemon' con los resultados JSON y el diccionario de resultados color, y almacenar el resultado en 'diccionario_color'.\n",
    "diccionario_color = limpiar_color_pokemon(resultados_color, diccionario_color)\n",
    "# Mostrar el diccionario de resultados color que contiene el nombre del color y las especies asociadas.\n",
    "diccionario_color"
   ]
  },
  {
   "cell_type": "code",
   "execution_count": null,
   "metadata": {},
   "outputs": [],
   "source": [
    "Procesando películas: 100%|██████████| 10/10 [00:00<?, ?it/s]\n",
    "Resultados obtenidos:\n",
    ",Título: El Tango del Viudo y Su Espejo Deformante Tipo: Movie, Año: 2020, Género: Drama, ID: tt0062336\n",
    "Título: Love & Orgasms, Tipo: Movie, Año: 2020, Género: Drama, ID: tt0383477\n",
    "Título: I Know This Much Is True, Tipo: TV Series, Año: 2020, Género: Drama, ID: tt0425118\n",
    "Título: Surviving in L.A., Tipo: Movie, Año: 2020, Género: Drama, ID: tt0446792\n",
    "Título: Duel of Legends, Tipo: Movie, Año: 2020, Género: Drama, ID: tt0849437\n",
    "Título: Lost Girls and Love Hotels, Tipo: Movie, Año: 2020, Género: Drama, ID: tt0920462\n",
    "Título: \"Gallavich!\", Tipo: TV Episode, Año: 2020, Género: Drama, ID: tt10001184\n",
    "Título: Chapter One: The Singing Bones, Tipo: TV Episode, Año: 2020, Género: Drama, ID: tt10004744\n",
    "Título: Avocado Toast the series, Tipo: TV Series, Año: 2020, Género: Drama, ID: tt10006418\n",
    "Título: Hiving the Bees, Tipo: TV Episode, Año: 2020, Género: Drama, ID: tt10004704\n",
    "Datos guardados en movies_Drama_2020.csv"
   ]
  },
  {
   "cell_type": "code",
   "execution_count": null,
   "metadata": {},
   "outputs": [],
   "source": [
    "#periodo_years = []\n",
    "#genero_pelicula = []\n",
    "#posicion = 0\n",
    "#for year in range(1900, 2025):\n",
    "    periodo_years.append(year)\n",
    "    url_movies_dataset = f\"https://dev.adalab.es/api/cinema/movies?year={periodo_years[posicion]}&genre={genero_pelicula}\"\n",
    "    posicion += 1\n",
    "    llamada_datos_peliculas = requests.get(url_movies_dataset)\n",
    "# llamada_datos_peliculas"
   ]
  },
  {
   "cell_type": "code",
   "execution_count": null,
   "metadata": {},
   "outputs": [],
   "source": []
  }
 ],
 "metadata": {
  "kernelspec": {
   "display_name": "base",
   "language": "python",
   "name": "python3"
  },
  "language_info": {
   "codemirror_mode": {
    "name": "ipython",
    "version": 3
   },
   "file_extension": ".py",
   "mimetype": "text/x-python",
   "name": "python",
   "nbconvert_exporter": "python",
   "pygments_lexer": "ipython3",
   "version": "3.9.12"
  }
 },
 "nbformat": 4,
 "nbformat_minor": 2
}
