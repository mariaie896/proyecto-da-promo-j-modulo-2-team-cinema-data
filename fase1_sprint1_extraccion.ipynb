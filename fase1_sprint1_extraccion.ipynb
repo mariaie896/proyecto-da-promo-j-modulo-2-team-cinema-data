{
 "cells": [
  {
   "cell_type": "markdown",
   "metadata": {},
   "source": [
    "En esta fase, usaremos la API de MoviesDataset, que contiene una gran cantidad de información sobre películas, incluyendo detalles como títulos, géneros, años de lanzamiento y más.\n",
    "\n",
    "OBJETIVO: hacer solicitudes a esta API y extraer información relevante sobre las películas.\n",
    "\n",
    "Debemos extraer:\n",
    "\n",
    "- Existen películas desde 1900 hasta 2024.\n",
    "\n",
    "- Elige un rango de años, que incluya 15 años y extrae información de las películas de esos años.\n",
    "\n",
    "- Existen películas que pertenezcan a los siguientes géneros: \"Drama\", \"Comedy\", \"Action\", \"Fantasy\", \"Horror\", \"Mystery\", \"Romance\" y \"Thriller\".\n",
    "Elige un género por cada integrante del equipo y extrae información de las películas de esos géneros.\n",
    "\n",
    "De cada una de las películas tendréis que sacar la siguiente información:\n",
    "\n",
    "- Tipo (si es corto o película).\n",
    "\n",
    "- Nombre de la película o el corto.\n",
    "\n",
    "- Año de estreno de la película o corto.\n",
    "\n",
    "- Id de la película.\n",
    "\n",
    "NOTA: La información de la API deberá ser almacenada en una lista de tuplas. Cada tupla corresponderá a una película. Siguiendo el siguiente ejemplo: [(\"Pelicula\", \"Titanic\", 1997, 12, \"abc123\"), (\"Pelicula\",\"Los Gonnies\", 1985, 6, \"abc456\"), ...]"
   ]
  },
  {
   "cell_type": "code",
   "execution_count": 2,
   "metadata": {},
   "outputs": [
    {
     "name": "stdout",
     "output_type": "stream",
     "text": [
      "Requirement already satisfied: tqdm in /Users/andreagonzalez/anaconda3/lib/python3.12/site-packages (4.66.4)\n"
     ]
    }
   ],
   "source": [
    "!pip install tqdm"
   ]
  },
  {
   "cell_type": "code",
   "execution_count": 2,
   "metadata": {},
   "outputs": [],
   "source": [
    "import requests\n",
    "\n",
    "import pandas as pd\n",
    "\n",
    "from tqdm import tqdm"
   ]
  },
  {
   "cell_type": "code",
   "execution_count": 3,
   "metadata": {},
   "outputs": [],
   "source": [
    "import time\n",
    "\n",
    "def peliculas_por_genero(genero,rango_anios): \n",
    "      # Lista vacia peliculas\n",
    "      lista_pelicula=[]\n",
    "      \n",
    "      # Iteramos por un rango de 15 años\n",
    "      for year in rango_anios:\n",
    "            url_genero = (f\"https://dev.adalab.es/api/cinema/movies?year={year}&genre={genero}\")\n",
    "            llamada = requests.get(url_genero)\n",
    "                \n",
    "            time.sleep(3)\n",
    "            \n",
    "          # Verificamos que la llamada ha sido correcta.\n",
    "            llamada\n",
    "            \n",
    "            time.sleep(3) \n",
    "\n",
    "            # Convertimos a json = diccionario\n",
    "            datos_peliculas = llamada.json()\n",
    "\n",
    "            # Iteramos por película para obtener los datos relevantes.    \n",
    "            for pelicula in datos_peliculas['results']:\n",
    "                  titulo = pelicula[\"title\"]\n",
    "                  identificacion = pelicula['id'] \n",
    "                  tipo = pelicula['type']\n",
    "                  anio = pelicula['year']\n",
    "                  genero = pelicula['genre']\n",
    "\n",
    "                  # Agregamos todos los datos a la lista\n",
    "                  pelicula_tupla=(titulo, identificacion, tipo, anio, genero)\n",
    "                  lista_pelicula.append(pelicula_tupla)\n",
    "                  pass\n",
    "\n",
    "      return lista_pelicula\n",
    "\n",
    "rango_anios = range(2000,2016)\n"
   ]
  },
  {
   "cell_type": "markdown",
   "metadata": {},
   "source": [
    "## Extracción Comedy"
   ]
  },
  {
   "cell_type": "markdown",
   "metadata": {},
   "source": [
    "Info API"
   ]
  },
  {
   "cell_type": "code",
   "execution_count": 4,
   "metadata": {},
   "outputs": [
    {
     "name": "stdout",
     "output_type": "stream",
     "text": [
      "[('Twister: A Musical Catastrophe', 56564, 'Video', '2000', 'Comedy'), ('Love 101', 56567, 'Movie', '2000', 'Comedy'), ('Nothing Sacred', 56568, 'Movie', '2000', 'Comedy'), ('State and Main', 56569, 'Movie', '2000', 'Comedy'), ('Bruno', 56570, 'Movie', '2000', 'Comedy'), ('Sånger från andra våningen', 56571, 'Movie', '2000', 'Comedy'), (\"The Elf Who Didn't Believe\", 56572, 'Movie', '2000', 'Comedy'), ('Chicken Run', 56573, 'Movie', '2000', 'Comedy'), ('Kate & Leopold', 56884, 'Movie', '2001', 'Comedy'), ('El día de los albañiles 2', 56885, 'Movie', '2001', 'Comedy'), ('Bye Bye Baby', 56886, 'TV Movie', '2001', 'Comedy'), ('Horror in the Attic', 56889, 'Movie', '2001', 'Comedy'), ('Burning Down the House', 56890, 'Movie', '2001', 'Comedy'), ('Sticks', 56891, 'Movie', '2001', 'Comedy'), ('Heartbreakers', 56892, 'Movie', '2001', 'Comedy'), ('Shrek', 56893, 'Movie', '2001', 'Comedy'), ('Men in Black II', 57204, 'Movie', '2002', 'Comedy'), ('Trance', 57205, 'Movie', '2002', 'Comedy'), ('Flophouse', 57206, 'Movie', '2002', 'Comedy'), ('Hilda Humphrey', 57207, 'Short', '2002', 'Comedy'), ('Copyright for Hire', 57208, 'Video', '2002', 'Comedy'), ('Book of Love: The Definitive Reason Why Men Are Dogs', 57209, 'Movie', '2002', 'Comedy'), ('Clockstoppers', 57210, 'Movie', '2002', 'Comedy'), ('Spooky House', 57211, 'Movie', '2002', 'Comedy'), ('The Freshmen', 57212, 'TV Episode', '2002', 'Comedy'), ('Easter', 57213, 'Movie', '2002', 'Comedy'), ('Remembering Mario', 57524, 'Movie', '2003', 'Comedy'), ('Between the Sheets', 57525, 'Movie', '2003', 'Comedy'), ('Dominator', 57526, 'Movie', '2003', 'Comedy'), ('Intolerable Cruelty', 57527, 'Movie', '2003', 'Comedy'), ('Nobody Knows Anything!', 57528, 'Movie', '2003', 'Comedy'), (\"St. Andrew's Girls\", 57529, 'Movie', '2003', 'Comedy'), ('Sinbad: Legend of the Seven Seas', 57530, 'Movie', '2003', 'Comedy'), ('Bad Boys II', 57531, 'Movie', '2003', 'Comedy'), ('West from North Goes South', 57844, 'Movie', '2004', 'Comedy'), ('Serial Killer', 57845, 'Movie', '2004', 'Comedy'), ('Thunderbirds', 57846, 'Movie', '2004', 'Comedy'), (\"A Night at Sophie's\", 57847, 'Movie', '2004', 'Comedy'), ('Kebab Connection', 57848, 'Movie', '2004', 'Comedy'), ('Meri Biwi Ka Jawab Nahin', 57849, 'Movie', '2004', 'Comedy'), ('29 and Holding', 57851, 'Movie', '2004', 'Comedy'), ('Shower of Blood', 57852, 'Video', '2004', 'Comedy'), ('B Movie', 57853, 'Movie', '2004', 'Comedy'), ('The Naked Monster', 58164, 'Movie', '2005', 'Comedy'), ('Three', 58167, 'Movie', '2005', 'Comedy'), ('Avaruuden teurastajat', 58168, 'Video', '2005', 'Comedy'), ('Angels with Angles', 58169, 'Movie', '2005', 'Comedy'), ('Bob the Butler', 58170, 'Movie', '2005', 'Comedy'), ('Bad Girls from Valley High', 58171, 'Movie', '2005', 'Comedy'), ('Lucky 13', 58172, 'Movie', '2005', 'Comedy'), ('Slipdream', 58173, 'Movie', '2005', 'Comedy'), ('Live Freaky Die Freaky', 58486, 'Movie', '2006', 'Comedy'), ('Death of a Saleswoman', 58487, 'Movie', '2006', 'Comedy'), ('Kureyon Shin-chan', 58488, 'TV Series', '2006', 'Comedy'), ('Funny Money', 58489, 'Movie', '2006', 'Comedy'), ('How to Go Out on a Date in Queens', 58490, 'Movie', '2006', 'Comedy'), ('Mothers and Daughters', 58491, 'Movie', '2006', 'Comedy'), ('Ozzie', 58492, 'Movie', '2006', 'Comedy'), ('Obsluhoval jsem anglického krále', 58493, 'Movie', '2006', 'Comedy'), ('The Junior Defenders', 58804, 'Movie', '2007', 'Comedy'), ('Tortilla Heaven', 58805, 'Movie', '2007', 'Comedy'), ('The Bros.', 58806, 'Movie', '2007', 'Comedy'), ('Fog²- Revenge of the Executed', 58807, 'Video', '2007', 'Comedy'), ('Rush Hour 3', 58808, 'Movie', '2007', 'Comedy'), ('Hollywood Dot Com', 58809, 'Movie', '2007', 'Comedy'), ('The Man Who Would Be Queen', 58810, 'Movie', '2007', 'Comedy'), ('Die Sandra Situation', 58811, 'Short', '2007', 'Comedy'), ('Marigold', 58812, 'Movie', '2007', 'Comedy'), (\"So, You've Downloaded a Demon\", 58813, 'Movie', '2007', 'Comedy'), ('Biriken', 59124, 'Movie', '2008', 'Comedy'), ('Alien Love Triangle', 59125, 'Short', '2008', 'Comedy'), ('Back of the Y Masterpiece Television', 59128, 'TV Series', '2008', 'Comedy'), ('Big River Blues', 59130, 'Movie', '2008', 'Comedy'), ('Delgo', 59131, 'Movie', '2008', 'Comedy'), ('Lymelife', 59132, 'Movie', '2008', 'Comedy'), ('Anywhere But Home', 59133, 'Movie', '2008', 'Comedy'), ('I Miss Sonia Henie', 59444, 'Short', '2009', 'Comedy'), ('El reino de los cielos', 59446, 'Movie', '2009', 'Comedy'), ('Unter Strom', 59447, 'Movie', '2009', 'Comedy'), ('Chinango', 59449, 'Movie', '2009', 'Comedy'), ('Mutant Swinger from Mars', 59450, 'Video', '2009', 'Comedy'), ('Los muertos van deprisa', 59451, 'Movie', '2009', 'Comedy'), ('Two-Minute Heist', 59452, 'Movie', '2009', 'Comedy'), ('Astro Boy', 59453, 'Movie', '2009', 'Comedy'), (\"Anderson's Cross\", 59767, 'Movie', '2010', 'Comedy'), ('Rapunzel', 59768, 'Movie', '2010', 'Comedy'), ('Venus & Vegas', 59769, 'Movie', '2010', 'Comedy'), ('Dinner for Schmucks', 59770, 'Movie', '2010', 'Comedy'), ('Toy Story 3', 59771, 'Movie', '2010', 'Comedy'), ('Diary of a Bad Lad', 59772, 'Movie', '2010', 'Comedy'), ('Scott Pilgrim vs. the World', 59773, 'Movie', '2010', 'Comedy'), ('Duke Nukem Forever', 60085, 'Video Game', '2011', 'Comedy'), ('Gnomeo & Juliet', 60087, 'Movie', '2011', 'Comedy'), ('Seven Fallen Objects', 60088, 'Movie', '2011', 'Comedy'), ('Satin', 60089, 'Movie', '2011', 'Comedy'), ('Puss in Boots', 60090, 'Movie', '2011', 'Comedy'), ('Generation P', 60091, 'Movie', '2011', 'Comedy'), ('Salvando al Soldado Pérez', 60092, 'Movie', '2011', 'Comedy'), ('Silent Alarm', 60093, 'Movie', '2011', 'Comedy'), ('Foodfight!', 60404, 'Movie', '2012', 'Comedy'), (\"Life's a Beach\", 60405, 'Movie', '2012', 'Comedy'), ('The Three Stooges', 60406, 'Movie', '2012', 'Comedy'), ('Gambit', 60407, 'Movie', '2012', 'Comedy'), ('Os Penetras', 60409, 'Movie', '2012', 'Comedy'), ('Persona Au Gratin', 60410, 'Movie', '2012', 'Comedy'), ('Sushi in Suhl', 60411, 'Movie', '2012', 'Comedy'), ('Episode #1.16', 60412, 'TV Episode', '2012', 'Comedy'), ('A Thousand Words', 60413, 'Movie', '2012', 'Comedy'), ('Blunt Movie', 60726, 'Movie', '2013', 'Comedy'), ('Alan Partridge: Alpha Papa', 60727, 'Movie', '2013', 'Comedy'), ('The Croods', 60728, 'Movie', '2013', 'Comedy'), ('Aftermath', 60729, 'Movie', '2013', 'Comedy'), ('The Incredible Burt Wonderstone', 60732, 'Movie', '2013', 'Comedy'), ('R.I.P.D.', 60733, 'Movie', '2013', 'Comedy'), ('Frivolinas', 61044, 'Movie', '2014', 'Comedy'), ('The Fresh Lobster', 61045, 'Short', '2014', 'Comedy'), ('Rice Girl', 61046, 'Movie', '2014', 'Comedy'), ('Kid Cannabis', 61050, 'Movie', '2014', 'Comedy'), ('The Boxtrolls', 61051, 'Movie', '2014', 'Comedy'), ('Rupan sansei', 61052, 'Movie', '2014', 'Comedy'), ('Mr. Peabody & Sherman', 61053, 'Movie', '2014', 'Comedy'), ('Show of Hearts', 61364, 'TV Series', '2015', 'Comedy'), ('Soapte de amor', 61365, 'Movie', '2015', 'Comedy'), ('Prozac tango', 61367, 'Short', '2015', 'Comedy'), ('Ant-Man', 61368, 'Movie', '2015', 'Comedy'), ('The Wedding Ringer', 61369, 'Movie', '2015', 'Comedy'), ('Episode #1.326', 61370, 'TV Episode', '2015', 'Comedy'), ('Episode #1.335', 61371, 'TV Episode', '2015', 'Comedy'), ('Episode #1.325', 61372, 'TV Episode', '2015', 'Comedy'), ('Episode #1.336', 61373, 'TV Episode', '2015', 'Comedy')]\n"
     ]
    }
   ],
   "source": [
    "genero_com = \"Comedy\"\n",
    "\n",
    "resultados_comedy = peliculas_por_genero(genero_com,rango_anios)\n",
    "print(resultados_comedy)\n",
    "\n",
    "\n",
    "\n"
   ]
  },
  {
   "cell_type": "markdown",
   "metadata": {},
   "source": [
    "Organizacion resultados peliculas y series"
   ]
  },
  {
   "cell_type": "code",
   "execution_count": 12,
   "metadata": {},
   "outputs": [
    {
     "name": "stdout",
     "output_type": "stream",
     "text": [
      "Esta es la lista de pelis [('Love 101', 56567, 'Movie', '2000', 'Comedy'), ('Nothing Sacred', 56568, 'Movie', '2000', 'Comedy'), ('State and Main', 56569, 'Movie', '2000', 'Comedy'), ('Bruno', 56570, 'Movie', '2000', 'Comedy'), ('Sånger från andra våningen', 56571, 'Movie', '2000', 'Comedy'), (\"The Elf Who Didn't Believe\", 56572, 'Movie', '2000', 'Comedy'), ('Chicken Run', 56573, 'Movie', '2000', 'Comedy'), ('Kate & Leopold', 56884, 'Movie', '2001', 'Comedy'), ('El día de los albañiles 2', 56885, 'Movie', '2001', 'Comedy'), ('Horror in the Attic', 56889, 'Movie', '2001', 'Comedy'), ('Burning Down the House', 56890, 'Movie', '2001', 'Comedy'), ('Sticks', 56891, 'Movie', '2001', 'Comedy'), ('Heartbreakers', 56892, 'Movie', '2001', 'Comedy'), ('Shrek', 56893, 'Movie', '2001', 'Comedy'), ('Men in Black II', 57204, 'Movie', '2002', 'Comedy'), ('Trance', 57205, 'Movie', '2002', 'Comedy'), ('Flophouse', 57206, 'Movie', '2002', 'Comedy'), ('Hilda Humphrey', 57207, 'Short', '2002', 'Comedy'), ('Book of Love: The Definitive Reason Why Men Are Dogs', 57209, 'Movie', '2002', 'Comedy'), ('Clockstoppers', 57210, 'Movie', '2002', 'Comedy'), ('Spooky House', 57211, 'Movie', '2002', 'Comedy'), ('Easter', 57213, 'Movie', '2002', 'Comedy'), ('Remembering Mario', 57524, 'Movie', '2003', 'Comedy'), ('Between the Sheets', 57525, 'Movie', '2003', 'Comedy'), ('Dominator', 57526, 'Movie', '2003', 'Comedy'), ('Intolerable Cruelty', 57527, 'Movie', '2003', 'Comedy'), ('Nobody Knows Anything!', 57528, 'Movie', '2003', 'Comedy'), (\"St. Andrew's Girls\", 57529, 'Movie', '2003', 'Comedy'), ('Sinbad: Legend of the Seven Seas', 57530, 'Movie', '2003', 'Comedy'), ('Bad Boys II', 57531, 'Movie', '2003', 'Comedy'), ('West from North Goes South', 57844, 'Movie', '2004', 'Comedy'), ('Serial Killer', 57845, 'Movie', '2004', 'Comedy'), ('Thunderbirds', 57846, 'Movie', '2004', 'Comedy'), (\"A Night at Sophie's\", 57847, 'Movie', '2004', 'Comedy'), ('Kebab Connection', 57848, 'Movie', '2004', 'Comedy'), ('Meri Biwi Ka Jawab Nahin', 57849, 'Movie', '2004', 'Comedy'), ('29 and Holding', 57851, 'Movie', '2004', 'Comedy'), ('B Movie', 57853, 'Movie', '2004', 'Comedy'), ('The Naked Monster', 58164, 'Movie', '2005', 'Comedy'), ('Three', 58167, 'Movie', '2005', 'Comedy'), ('Angels with Angles', 58169, 'Movie', '2005', 'Comedy'), ('Bob the Butler', 58170, 'Movie', '2005', 'Comedy'), ('Bad Girls from Valley High', 58171, 'Movie', '2005', 'Comedy'), ('Lucky 13', 58172, 'Movie', '2005', 'Comedy'), ('Slipdream', 58173, 'Movie', '2005', 'Comedy'), ('Live Freaky Die Freaky', 58486, 'Movie', '2006', 'Comedy'), ('Death of a Saleswoman', 58487, 'Movie', '2006', 'Comedy'), ('Funny Money', 58489, 'Movie', '2006', 'Comedy'), ('How to Go Out on a Date in Queens', 58490, 'Movie', '2006', 'Comedy'), ('Mothers and Daughters', 58491, 'Movie', '2006', 'Comedy'), ('Ozzie', 58492, 'Movie', '2006', 'Comedy'), ('Obsluhoval jsem anglického krále', 58493, 'Movie', '2006', 'Comedy'), ('The Junior Defenders', 58804, 'Movie', '2007', 'Comedy'), ('Tortilla Heaven', 58805, 'Movie', '2007', 'Comedy'), ('The Bros.', 58806, 'Movie', '2007', 'Comedy'), ('Rush Hour 3', 58808, 'Movie', '2007', 'Comedy'), ('Hollywood Dot Com', 58809, 'Movie', '2007', 'Comedy'), ('The Man Who Would Be Queen', 58810, 'Movie', '2007', 'Comedy'), ('Die Sandra Situation', 58811, 'Short', '2007', 'Comedy'), ('Marigold', 58812, 'Movie', '2007', 'Comedy'), (\"So, You've Downloaded a Demon\", 58813, 'Movie', '2007', 'Comedy'), ('Biriken', 59124, 'Movie', '2008', 'Comedy'), ('Alien Love Triangle', 59125, 'Short', '2008', 'Comedy'), ('Big River Blues', 59130, 'Movie', '2008', 'Comedy'), ('Delgo', 59131, 'Movie', '2008', 'Comedy'), ('Lymelife', 59132, 'Movie', '2008', 'Comedy'), ('Anywhere But Home', 59133, 'Movie', '2008', 'Comedy'), ('I Miss Sonia Henie', 59444, 'Short', '2009', 'Comedy'), ('El reino de los cielos', 59446, 'Movie', '2009', 'Comedy'), ('Unter Strom', 59447, 'Movie', '2009', 'Comedy'), ('Chinango', 59449, 'Movie', '2009', 'Comedy'), ('Los muertos van deprisa', 59451, 'Movie', '2009', 'Comedy'), ('Two-Minute Heist', 59452, 'Movie', '2009', 'Comedy'), ('Astro Boy', 59453, 'Movie', '2009', 'Comedy'), (\"Anderson's Cross\", 59767, 'Movie', '2010', 'Comedy'), ('Rapunzel', 59768, 'Movie', '2010', 'Comedy'), ('Venus & Vegas', 59769, 'Movie', '2010', 'Comedy'), ('Dinner for Schmucks', 59770, 'Movie', '2010', 'Comedy'), ('Toy Story 3', 59771, 'Movie', '2010', 'Comedy'), ('Diary of a Bad Lad', 59772, 'Movie', '2010', 'Comedy'), ('Scott Pilgrim vs. the World', 59773, 'Movie', '2010', 'Comedy'), ('Gnomeo & Juliet', 60087, 'Movie', '2011', 'Comedy'), ('Seven Fallen Objects', 60088, 'Movie', '2011', 'Comedy'), ('Satin', 60089, 'Movie', '2011', 'Comedy'), ('Puss in Boots', 60090, 'Movie', '2011', 'Comedy'), ('Generation P', 60091, 'Movie', '2011', 'Comedy'), ('Salvando al Soldado Pérez', 60092, 'Movie', '2011', 'Comedy'), ('Silent Alarm', 60093, 'Movie', '2011', 'Comedy'), ('Foodfight!', 60404, 'Movie', '2012', 'Comedy'), (\"Life's a Beach\", 60405, 'Movie', '2012', 'Comedy'), ('The Three Stooges', 60406, 'Movie', '2012', 'Comedy'), ('Gambit', 60407, 'Movie', '2012', 'Comedy'), ('Os Penetras', 60409, 'Movie', '2012', 'Comedy'), ('Persona Au Gratin', 60410, 'Movie', '2012', 'Comedy'), ('Sushi in Suhl', 60411, 'Movie', '2012', 'Comedy'), ('A Thousand Words', 60413, 'Movie', '2012', 'Comedy'), ('Blunt Movie', 60726, 'Movie', '2013', 'Comedy'), ('Alan Partridge: Alpha Papa', 60727, 'Movie', '2013', 'Comedy'), ('The Croods', 60728, 'Movie', '2013', 'Comedy'), ('Aftermath', 60729, 'Movie', '2013', 'Comedy'), ('The Incredible Burt Wonderstone', 60732, 'Movie', '2013', 'Comedy'), ('R.I.P.D.', 60733, 'Movie', '2013', 'Comedy'), ('Frivolinas', 61044, 'Movie', '2014', 'Comedy'), ('The Fresh Lobster', 61045, 'Short', '2014', 'Comedy'), ('Rice Girl', 61046, 'Movie', '2014', 'Comedy'), ('Kid Cannabis', 61050, 'Movie', '2014', 'Comedy'), ('The Boxtrolls', 61051, 'Movie', '2014', 'Comedy'), ('Rupan sansei', 61052, 'Movie', '2014', 'Comedy'), ('Mr. Peabody & Sherman', 61053, 'Movie', '2014', 'Comedy'), ('Soapte de amor', 61365, 'Movie', '2015', 'Comedy'), ('Prozac tango', 61367, 'Short', '2015', 'Comedy'), ('Ant-Man', 61368, 'Movie', '2015', 'Comedy'), ('The Wedding Ringer', 61369, 'Movie', '2015', 'Comedy')]\n"
     ]
    }
   ],
   "source": [
    "lista_comedy_peli=[]\n",
    "lista_comedy_serie=[]\n",
    "\n",
    "for dato in resultados_comedy:\n",
    "    if dato[2] == 'Movie'or dato[2] == 'Short':\n",
    "        lista_comedy_peli.append(dato)\n",
    "    elif dato[2] == 'TV series' or dato[2] == 'TV Episode' :\n",
    "        lista_comedy_serie.append(dato)\n",
    "    \n",
    "    \n",
    "print ('Esta es la lista de pelis', lista_comedy_peli)\n",
    "\n",
    "        \n",
    "\n"
   ]
  },
  {
   "cell_type": "markdown",
   "metadata": {},
   "source": [
    "Lista con tupla de nombre y año comedy"
   ]
  },
  {
   "cell_type": "code",
   "execution_count": 11,
   "metadata": {},
   "outputs": [
    {
     "name": "stdout",
     "output_type": "stream",
     "text": [
      "Lista tupla de nombre y año de peli ['Love 101 (2000)', 'Nothing Sacred (2000)', 'State and Main (2000)', 'Bruno (2000)', 'Sånger från andra våningen (2000)', \"The Elf Who Didn't Believe (2000)\", 'Chicken Run (2000)', 'Kate & Leopold (2001)', 'El día de los albañiles 2 (2001)', 'Horror in the Attic (2001)', 'Burning Down the House (2001)', 'Sticks (2001)', 'Heartbreakers (2001)', 'Shrek (2001)', 'Men in Black II (2002)', 'Trance (2002)', 'Flophouse (2002)', 'Hilda Humphrey (2002)', 'Book of Love: The Definitive Reason Why Men Are Dogs (2002)', 'Clockstoppers (2002)', 'Spooky House (2002)', 'Easter (2002)', 'Remembering Mario (2003)', 'Between the Sheets (2003)', 'Dominator (2003)', 'Intolerable Cruelty (2003)', 'Nobody Knows Anything! (2003)', \"St. Andrew's Girls (2003)\", 'Sinbad: Legend of the Seven Seas (2003)', 'Bad Boys II (2003)', 'West from North Goes South (2004)', 'Serial Killer (2004)', 'Thunderbirds (2004)', \"A Night at Sophie's (2004)\", 'Kebab Connection (2004)', 'Meri Biwi Ka Jawab Nahin (2004)', '29 and Holding (2004)', 'B Movie (2004)', 'The Naked Monster (2005)', 'Three (2005)', 'Angels with Angles (2005)', 'Bob the Butler (2005)', 'Bad Girls from Valley High (2005)', 'Lucky 13 (2005)', 'Slipdream (2005)', 'Live Freaky Die Freaky (2006)', 'Death of a Saleswoman (2006)', 'Funny Money (2006)', 'How to Go Out on a Date in Queens (2006)', 'Mothers and Daughters (2006)', 'Ozzie (2006)', 'Obsluhoval jsem anglického krále (2006)', 'The Junior Defenders (2007)', 'Tortilla Heaven (2007)', 'The Bros. (2007)', 'Rush Hour 3 (2007)', 'Hollywood Dot Com (2007)', 'The Man Who Would Be Queen (2007)', 'Die Sandra Situation (2007)', 'Marigold (2007)', \"So, You've Downloaded a Demon (2007)\", 'Biriken (2008)', 'Alien Love Triangle (2008)', 'Big River Blues (2008)', 'Delgo (2008)', 'Lymelife (2008)', 'Anywhere But Home (2008)', 'I Miss Sonia Henie (2009)', 'El reino de los cielos (2009)', 'Unter Strom (2009)', 'Chinango (2009)', 'Los muertos van deprisa (2009)', 'Two-Minute Heist (2009)', 'Astro Boy (2009)', \"Anderson's Cross (2010)\", 'Rapunzel (2010)', 'Venus & Vegas (2010)', 'Dinner for Schmucks (2010)', 'Toy Story 3 (2010)', 'Diary of a Bad Lad (2010)', 'Scott Pilgrim vs. the World (2010)', 'Gnomeo & Juliet (2011)', 'Seven Fallen Objects (2011)', 'Satin (2011)', 'Puss in Boots (2011)', 'Generation P (2011)', 'Salvando al Soldado Pérez (2011)', 'Silent Alarm (2011)', 'Foodfight! (2012)', \"Life's a Beach (2012)\", 'The Three Stooges (2012)', 'Gambit (2012)', 'Os Penetras (2012)', 'Persona Au Gratin (2012)', 'Sushi in Suhl (2012)', 'A Thousand Words (2012)', 'Blunt Movie (2013)', 'Alan Partridge: Alpha Papa (2013)', 'The Croods (2013)', 'Aftermath (2013)', 'The Incredible Burt Wonderstone (2013)', 'R.I.P.D. (2013)', 'Frivolinas (2014)', 'The Fresh Lobster (2014)', 'Rice Girl (2014)', 'Kid Cannabis (2014)', 'The Boxtrolls (2014)', 'Rupan sansei (2014)', 'Mr. Peabody & Sherman (2014)', 'Soapte de amor (2015)', 'Prozac tango (2015)', 'Ant-Man (2015)', 'The Wedding Ringer (2015)']\n"
     ]
    }
   ],
   "source": [
    "lista_comedy_peli_nombre_anio=[]\n",
    "\n",
    "\n",
    "# Iterar sobre cada tupla en la lista resultados\n",
    "for pelicula in lista_comedy_peli:\n",
    "    # Acceder al nombre y al año de cada tupla\n",
    "    nombre = pelicula[0]\n",
    "    anio = pelicula[3]\n",
    "    \n",
    "    # Crear el string con nombre y año, y añadirlo a la lista\n",
    "    lista_comedy_peli_nombre_anio.append(f\"{nombre} ({anio})\")\n",
    "\n",
    "# Mostrar el resultado\n",
    "print('Lista tupla de nombre y año de peli', lista_comedy_peli_nombre_anio)"
   ]
  },
  {
   "cell_type": "markdown",
   "metadata": {},
   "source": [
    "## Extracción  Drama"
   ]
  },
  {
   "cell_type": "markdown",
   "metadata": {},
   "source": [
    "Info API"
   ]
  },
  {
   "cell_type": "code",
   "execution_count": 14,
   "metadata": {},
   "outputs": [
    {
     "name": "stdout",
     "output_type": "stream",
     "text": [
      "[('Istota', 56524, 'Movie', '2000', 'Drama'), ('Gensomaden Saiyuki', 56525, 'TV Series', '2000', 'Drama'), ('For the Cause', 56526, 'Movie', '2000', 'Drama'), ('Florentino y el diablo', 56527, 'Movie', '2000', 'Drama'), ('Karobaar: The Business of Love', 56528, 'Movie', '2000', 'Drama'), ('Chateaubriand - Cabeça de Paraíba', 56529, 'Short', '2000', 'Drama'), ('Gang', 56530, 'Movie', '2000', 'Drama'), ('Consequence', 56531, 'Movie', '2000', 'Drama'), ('Fa yeung nin wah', 56532, 'Movie', '2000', 'Drama'), ('Dumped', 56533, 'Video', '2000', 'Drama'), ('November 1828', 56844, 'Movie', '2001', 'Drama'), ('The Killing Seasons', 56845, 'Short', '2001', 'Drama'), ('Albela', 56846, 'Movie', '2001', 'Drama'), (\"Don's Plum\", 56847, 'Movie', '2001', 'Drama'), ('Glitter', 56848, 'Movie', '2001', 'Drama'), ('Camarate', 56849, 'Movie', '2001', 'Drama'), ('Berlin Diaries, 1940-45', 56850, 'Movie', '2001', 'Drama'), ('Ricochet River', 56851, 'Movie', '2001', 'Drama'), ('Interstícios', 56852, 'Short', '2001', 'Drama'), ('The Lord of the Rings: The Fellowship of the Ring', 56853, 'Movie', '2001', 'Drama'), ('Crime and Punishment', 57164, 'Movie', '2002', 'Drama'), ('The Dancer Upstairs', 57165, 'Movie', '2002', 'Drama'), ('Random Shooting in L.A.', 57166, 'Movie', '2002', 'Drama'), ('Frida', 57167, 'Movie', '2002', 'Drama'), ('Shivam', 57168, 'Movie', '2002', 'Drama'), ('The Good War', 57169, 'Movie', '2002', 'Drama'), ('Karen', 57170, 'Video', '2002', 'Drama'), ('The Tomorrow Man', 57171, 'Video', '2002', 'Drama'), ('The Bacchae', 57172, 'Movie', '2002', 'Drama'), ('Spooks', 57173, 'TV Series', '2002', 'Drama'), ('A Mulher Polícia', 57484, 'Movie', '2003', 'Drama'), ('American Reel', 57485, 'Movie', '2003', 'Drama'), ('One Last Dance', 57486, 'Movie', '2003', 'Drama'), ('Cold Mountain', 57487, 'Movie', '2003', 'Drama'), ('The Lord of the Rings: The Return of the King', 57488, 'Movie', '2003', 'Drama'), ('Baggage', 57489, 'Movie', '2003', 'Drama'), ('Tilt', 57490, 'Short', '2003', 'Drama'), ('Standing Room Only', 57491, 'Short', '2003', 'Drama'), ('The Fighting Temptations', 57492, 'Movie', '2003', 'Drama'), ('Jersey Guy', 57493, 'Movie', '2003', 'Drama'), ('En tres y dos', 57804, 'Movie', '2004', 'Drama'), ('Letting Go', 57805, 'TV Movie', '2004', 'Drama'), ('Goodnight, Joseph Parker', 57806, 'Movie', '2004', 'Drama'), ('Bluebird', 57807, 'Movie', '2004', 'Drama'), ('El Maya', 57808, 'Movie', '2004', 'Drama'), ('Il resto di niente', 57809, 'Movie', '2004', 'Drama'), ('Greener', 57810, 'Movie', '2004', 'Drama'), ('Olga', 57811, 'Movie', '2004', 'Drama'), (\"Sin's Kitchen\", 57812, 'Movie', '2004', 'Drama'), ('Tricks', 57813, 'Movie', '2004', 'Drama'), ('What Is It?', 58124, 'Movie', '2005', 'Drama'), ('Corpse Bride', 58125, 'Movie', '2005', 'Drama'), ('Mort', 58126, 'Video', '2005', 'Drama'), ('Shooting Vegetarians', 58127, 'Movie', '2005', 'Drama'), ('The Prodigy', 58128, 'Movie', '2005', 'Drama'), ('Ordinary Miracles', 58129, 'TV Movie', '2005', 'Drama'), (\"Eve's Preyer\", 58130, 'Movie', '2005', 'Drama'), ('Berlin Nights', 58131, 'Movie', '2005', 'Drama'), ('Thousands of Miles', 58132, 'Movie', '2005', 'Drama'), ('Death-Defying Acts', 58133, 'Movie', '2005', 'Drama'), ('Master i Margarita', 58444, 'Movie', '2006', 'Drama'), ('Desperation', 58445, 'TV Movie', '2006', 'Drama'), ('Seven Days of Grace', 58446, 'Movie', '2006', 'Drama'), ('A.W.O.L', 58447, 'Short', '2006', 'Drama'), ('Viúva Rica Solteira Não Fica', 58448, 'Movie', '2006', 'Drama'), ('Meglét', 58449, 'Short', '2006', 'Drama'), ('Vic', 58450, 'Short', '2006', 'Drama'), ('Children of Men', 58451, 'Movie', '2006', 'Drama'), ('(Sökarna) Återkomsten', 58452, 'Video', '2006', 'Drama'), ('False Prophets', 58453, 'Movie', '2006', 'Drama'), ('I Viceré', 58764, 'Movie', '2007', 'Drama'), ('Connect with English', 58765, 'TV Series', '2007', 'Drama'), ('Hermano', 58766, 'Movie', '2007', 'Drama'), ('Awake', 58767, 'Movie', '2007', 'Drama'), ('Partition', 58768, 'Movie', '2007', 'Drama'), ('Death and Taxis', 58769, 'Movie', '2007', 'Drama'), ('Terra Sonâmbula', 58770, 'Movie', '2007', 'Drama'), ('Hitler Meets Christ', 58771, 'Movie', '2007', 'Drama'), ('Brooklyn Rules', 58772, 'Movie', '2007', 'Drama'), ('Universal Groove', 58773, 'Movie', '2007', 'Drama'), ('Still Waters Burn', 59084, 'Movie', '2008', 'Drama'), ('Quality Time', 59085, 'Movie', '2008', 'Drama'), ('Geliebte Clara', 59086, 'Movie', '2008', 'Drama'), ('The Bank Job', 59087, 'Movie', '2008', 'Drama'), ('Berlin Calling', 59088, 'Movie', '2008', 'Drama'), ('Casshern Sins', 59089, 'TV Series', '2008', 'Drama'), ('Jackson', 59090, 'Movie', '2008', 'Drama'), ('A Circle on the Cross', 59091, 'Movie', '2008', 'Drama'), ('Brothel', 59092, 'Movie', '2008', 'Drama'), ('2 en 1 auto', 59093, 'Short', '2008', 'Drama'), ('Apaföld', 59404, 'Movie', '2009', 'Drama'), ('Rózsaszín sajt', 59405, 'Movie', '2009', 'Drama'), ('Sanam Teri Kasam', 59406, 'Movie', '2009', 'Drama'), ('Twice as Dead', 59407, 'Movie', '2009', 'Drama'), ('Railed', 59408, 'Movie', '2009', 'Drama'), ('Coraline', 59409, 'Movie', '2009', 'Drama'), ('Mitsein', 59410, 'Movie', '2009', 'Drama'), ('Blood and Bone', 59411, 'Movie', '2009', 'Drama'), ('Inglourious Basterds', 59412, 'Movie', '2009', 'Drama'), ('The Box', 59413, 'Movie', '2009', 'Drama'), ('Pál Adrienn', 59724, 'Movie', '2010', 'Drama'), ('Oda az igazság', 59725, 'Movie', '2010', 'Drama'), ('A zöld sárkány gyermekei', 59726, 'Movie', '2010', 'Drama'), ('Flexing with Monty', 59727, 'Video', '2010', 'Drama'), ('The Final Journey', 59728, 'Movie', '2010', 'Drama'), ('In My Sleep', 59729, 'Movie', '2010', 'Drama'), ('This Wretched Life', 59730, 'Movie', '2010', 'Drama'), ('Blind Sided', 59731, 'Movie', '2010', 'Drama'), ('Death of a Nation', 59732, 'Short', '2010', 'Drama'), ('The Pacific', 59733, 'TV Mini Series', '2010', 'Drama'), ('Az ember tragédiája', 60044, 'Movie', '2011', 'Drama'), ('Los pájaros se van con la muerte', 60045, 'Movie', '2011', 'Drama'), ('Mit doppeltem Boden', 60046, 'TV Episode', '2011', 'Drama'), ('Lives No Longer Ours', 60047, 'Movie', '2011', 'Drama'), ('The Wicker Tree', 60048, 'Movie', '2011', 'Drama'), ('Spy', 60049, 'Movie', '2011', 'Drama'), ('The Rum Diary', 60050, 'Movie', '2011', 'Drama'), ('The Crimson Petal and the White', 60051, 'TV Mini Series', '2011', 'Drama'), ('11:11', 60052, 'Video', '2011', 'Drama'), ('Bubbles', 60053, 'Movie', '2011', 'Drama'), ('On the Road', 60364, 'Movie', '2012', 'Drama'), ('Destination Fame', 60365, 'Video', '2012', 'Drama'), ('Hemingway & Gellhorn', 60366, 'TV Movie', '2012', 'Drama'), ('Acorralados', 60367, 'Movie', '2012', 'Drama'), ('Caleuche: El llamado del Mar', 60368, 'Movie', '2012', 'Drama'), (\"L'apocalisse delle scimmie\", 60369, 'Movie', '2012', 'Drama'), ('Lincoln', 60370, 'Movie', '2012', 'Drama'), ('The Corrections', 60371, 'TV Movie', '2012', 'Drama'), ('Life of Pi', 60372, 'Movie', '2012', 'Drama'), ('Being Flynn', 60373, 'Movie', '2012', 'Drama'), ('Return to Babylon', 60684, 'Movie', '2013', 'Drama'), ('The Secret Life of Walter Mitty', 60685, 'Movie', '2013', 'Drama'), ('In Secret', 60686, 'Movie', '2013', 'Drama'), ('In absentia', 60687, 'Short', '2013', 'Drama'), ('42', 60688, 'Movie', '2013', 'Drama'), ('Without Warrant', 60689, 'Movie', '2013', 'Drama'), ('uwantme2killhim?', 60690, 'Movie', '2013', 'Drama'), ('Syrup', 60691, 'Movie', '2013', 'Drama'), ('Santorini Blue', 60692, 'Movie', '2013', 'Drama'), ('Dallas Buyers Club', 60693, 'Movie', '2013', 'Drama'), (\"Le sacre d'automne\", 61004, 'Short', '2014', 'Drama'), ('Instruments of Darkness', 61005, 'Movie', '2014', 'Drama'), ('A Walk Among the Tombstones', 61006, 'Movie', '2014', 'Drama'), ('The Ninth Cloud', 61007, 'Movie', '2014', 'Drama'), ('The Giver', 61008, 'Movie', '2014', 'Drama'), ('Before We Go', 61009, 'Movie', '2014', 'Drama'), ('A Long Way Down', 61010, 'Movie', '2014', 'Drama'), ('Ex Machina', 61011, 'Movie', '2014', 'Drama'), ('Dil Ka Sauda', 61012, 'Movie', '2014', 'Drama'), ('The Ego Show', 61013, 'TV Episode', '2014', 'Drama'), ('Shulie', 61324, 'Short', '2015', 'Drama'), ('Snowblind', 61325, 'Movie', '2015', 'Drama'), ('Chatô: O Rei do Brasil', 61326, 'Movie', '2015', 'Drama'), ('Transeúntes', 61327, 'Movie', '2015', 'Drama'), ('Wish ko lang', 61328, 'TV Series', '2015', 'Drama'), ('The Stanford Prison Experiment', 61329, 'Movie', '2015', 'Drama'), ('High-Rise', 61330, 'Movie', '2015', 'Drama'), ('The Man Who Knew Infinity', 61331, 'Movie', '2015', 'Drama'), ('Miles Ahead', 61332, 'Movie', '2015', 'Drama'), ('The Danish Girl', 61333, 'Movie', '2015', 'Drama')]\n"
     ]
    }
   ],
   "source": [
    "genero_dram = \"Drama\"\n",
    "resultados_drama = peliculas_por_genero(genero_dram,rango_anios)\n",
    "print(resultados_drama)\n",
    "\n"
   ]
  },
  {
   "cell_type": "markdown",
   "metadata": {},
   "source": [
    "Organizacion resultados peliculas y series"
   ]
  },
  {
   "cell_type": "code",
   "execution_count": 32,
   "metadata": {},
   "outputs": [
    {
     "name": "stdout",
     "output_type": "stream",
     "text": [
      "Esta es la lista de pelis [('Istota', 56524, 'Movie', '2000', 'Drama'), ('For the Cause', 56526, 'Movie', '2000', 'Drama'), ('Florentino y el diablo', 56527, 'Movie', '2000', 'Drama'), ('Karobaar: The Business of Love', 56528, 'Movie', '2000', 'Drama'), ('Chateaubriand - Cabeça de Paraíba', 56529, 'Short', '2000', 'Drama'), ('Gang', 56530, 'Movie', '2000', 'Drama'), ('Consequence', 56531, 'Movie', '2000', 'Drama'), ('Fa yeung nin wah', 56532, 'Movie', '2000', 'Drama'), ('November 1828', 56844, 'Movie', '2001', 'Drama'), ('The Killing Seasons', 56845, 'Short', '2001', 'Drama'), ('Albela', 56846, 'Movie', '2001', 'Drama'), (\"Don's Plum\", 56847, 'Movie', '2001', 'Drama'), ('Glitter', 56848, 'Movie', '2001', 'Drama'), ('Camarate', 56849, 'Movie', '2001', 'Drama'), ('Berlin Diaries, 1940-45', 56850, 'Movie', '2001', 'Drama'), ('Ricochet River', 56851, 'Movie', '2001', 'Drama'), ('Interstícios', 56852, 'Short', '2001', 'Drama'), ('The Lord of the Rings: The Fellowship of the Ring', 56853, 'Movie', '2001', 'Drama'), ('Crime and Punishment', 57164, 'Movie', '2002', 'Drama'), ('The Dancer Upstairs', 57165, 'Movie', '2002', 'Drama'), ('Random Shooting in L.A.', 57166, 'Movie', '2002', 'Drama'), ('Frida', 57167, 'Movie', '2002', 'Drama'), ('Shivam', 57168, 'Movie', '2002', 'Drama'), ('The Good War', 57169, 'Movie', '2002', 'Drama'), ('The Bacchae', 57172, 'Movie', '2002', 'Drama'), ('A Mulher Polícia', 57484, 'Movie', '2003', 'Drama'), ('American Reel', 57485, 'Movie', '2003', 'Drama'), ('One Last Dance', 57486, 'Movie', '2003', 'Drama'), ('Cold Mountain', 57487, 'Movie', '2003', 'Drama'), ('The Lord of the Rings: The Return of the King', 57488, 'Movie', '2003', 'Drama'), ('Baggage', 57489, 'Movie', '2003', 'Drama'), ('Tilt', 57490, 'Short', '2003', 'Drama'), ('Standing Room Only', 57491, 'Short', '2003', 'Drama'), ('The Fighting Temptations', 57492, 'Movie', '2003', 'Drama'), ('Jersey Guy', 57493, 'Movie', '2003', 'Drama'), ('En tres y dos', 57804, 'Movie', '2004', 'Drama'), ('Goodnight, Joseph Parker', 57806, 'Movie', '2004', 'Drama'), ('Bluebird', 57807, 'Movie', '2004', 'Drama'), ('El Maya', 57808, 'Movie', '2004', 'Drama'), ('Il resto di niente', 57809, 'Movie', '2004', 'Drama'), ('Greener', 57810, 'Movie', '2004', 'Drama'), ('Olga', 57811, 'Movie', '2004', 'Drama'), (\"Sin's Kitchen\", 57812, 'Movie', '2004', 'Drama'), ('Tricks', 57813, 'Movie', '2004', 'Drama'), ('What Is It?', 58124, 'Movie', '2005', 'Drama'), ('Corpse Bride', 58125, 'Movie', '2005', 'Drama'), ('Shooting Vegetarians', 58127, 'Movie', '2005', 'Drama'), ('The Prodigy', 58128, 'Movie', '2005', 'Drama'), (\"Eve's Preyer\", 58130, 'Movie', '2005', 'Drama'), ('Berlin Nights', 58131, 'Movie', '2005', 'Drama'), ('Thousands of Miles', 58132, 'Movie', '2005', 'Drama'), ('Death-Defying Acts', 58133, 'Movie', '2005', 'Drama'), ('Master i Margarita', 58444, 'Movie', '2006', 'Drama'), ('Seven Days of Grace', 58446, 'Movie', '2006', 'Drama'), ('A.W.O.L', 58447, 'Short', '2006', 'Drama'), ('Viúva Rica Solteira Não Fica', 58448, 'Movie', '2006', 'Drama'), ('Meglét', 58449, 'Short', '2006', 'Drama'), ('Vic', 58450, 'Short', '2006', 'Drama'), ('Children of Men', 58451, 'Movie', '2006', 'Drama'), ('False Prophets', 58453, 'Movie', '2006', 'Drama'), ('I Viceré', 58764, 'Movie', '2007', 'Drama'), ('Hermano', 58766, 'Movie', '2007', 'Drama'), ('Awake', 58767, 'Movie', '2007', 'Drama'), ('Partition', 58768, 'Movie', '2007', 'Drama'), ('Death and Taxis', 58769, 'Movie', '2007', 'Drama'), ('Terra Sonâmbula', 58770, 'Movie', '2007', 'Drama'), ('Hitler Meets Christ', 58771, 'Movie', '2007', 'Drama'), ('Brooklyn Rules', 58772, 'Movie', '2007', 'Drama'), ('Universal Groove', 58773, 'Movie', '2007', 'Drama'), ('Still Waters Burn', 59084, 'Movie', '2008', 'Drama'), ('Quality Time', 59085, 'Movie', '2008', 'Drama'), ('Geliebte Clara', 59086, 'Movie', '2008', 'Drama'), ('The Bank Job', 59087, 'Movie', '2008', 'Drama'), ('Berlin Calling', 59088, 'Movie', '2008', 'Drama'), ('Jackson', 59090, 'Movie', '2008', 'Drama'), ('A Circle on the Cross', 59091, 'Movie', '2008', 'Drama'), ('Brothel', 59092, 'Movie', '2008', 'Drama'), ('2 en 1 auto', 59093, 'Short', '2008', 'Drama'), ('Apaföld', 59404, 'Movie', '2009', 'Drama'), ('Rózsaszín sajt', 59405, 'Movie', '2009', 'Drama'), ('Sanam Teri Kasam', 59406, 'Movie', '2009', 'Drama'), ('Twice as Dead', 59407, 'Movie', '2009', 'Drama'), ('Railed', 59408, 'Movie', '2009', 'Drama'), ('Coraline', 59409, 'Movie', '2009', 'Drama'), ('Mitsein', 59410, 'Movie', '2009', 'Drama'), ('Blood and Bone', 59411, 'Movie', '2009', 'Drama'), ('Inglourious Basterds', 59412, 'Movie', '2009', 'Drama'), ('The Box', 59413, 'Movie', '2009', 'Drama'), ('Pál Adrienn', 59724, 'Movie', '2010', 'Drama'), ('Oda az igazság', 59725, 'Movie', '2010', 'Drama'), ('A zöld sárkány gyermekei', 59726, 'Movie', '2010', 'Drama'), ('The Final Journey', 59728, 'Movie', '2010', 'Drama'), ('In My Sleep', 59729, 'Movie', '2010', 'Drama'), ('This Wretched Life', 59730, 'Movie', '2010', 'Drama'), ('Blind Sided', 59731, 'Movie', '2010', 'Drama'), ('Death of a Nation', 59732, 'Short', '2010', 'Drama'), ('Az ember tragédiája', 60044, 'Movie', '2011', 'Drama'), ('Los pájaros se van con la muerte', 60045, 'Movie', '2011', 'Drama'), ('Lives No Longer Ours', 60047, 'Movie', '2011', 'Drama'), ('The Wicker Tree', 60048, 'Movie', '2011', 'Drama'), ('Spy', 60049, 'Movie', '2011', 'Drama'), ('The Rum Diary', 60050, 'Movie', '2011', 'Drama'), ('Bubbles', 60053, 'Movie', '2011', 'Drama'), ('On the Road', 60364, 'Movie', '2012', 'Drama'), ('Acorralados', 60367, 'Movie', '2012', 'Drama'), ('Caleuche: El llamado del Mar', 60368, 'Movie', '2012', 'Drama'), (\"L'apocalisse delle scimmie\", 60369, 'Movie', '2012', 'Drama'), ('Lincoln', 60370, 'Movie', '2012', 'Drama'), ('Life of Pi', 60372, 'Movie', '2012', 'Drama'), ('Being Flynn', 60373, 'Movie', '2012', 'Drama'), ('Return to Babylon', 60684, 'Movie', '2013', 'Drama'), ('The Secret Life of Walter Mitty', 60685, 'Movie', '2013', 'Drama'), ('In Secret', 60686, 'Movie', '2013', 'Drama'), ('In absentia', 60687, 'Short', '2013', 'Drama'), ('42', 60688, 'Movie', '2013', 'Drama'), ('Without Warrant', 60689, 'Movie', '2013', 'Drama'), ('uwantme2killhim?', 60690, 'Movie', '2013', 'Drama'), ('Syrup', 60691, 'Movie', '2013', 'Drama'), ('Santorini Blue', 60692, 'Movie', '2013', 'Drama'), ('Dallas Buyers Club', 60693, 'Movie', '2013', 'Drama'), (\"Le sacre d'automne\", 61004, 'Short', '2014', 'Drama'), ('Instruments of Darkness', 61005, 'Movie', '2014', 'Drama'), ('A Walk Among the Tombstones', 61006, 'Movie', '2014', 'Drama'), ('The Ninth Cloud', 61007, 'Movie', '2014', 'Drama'), ('The Giver', 61008, 'Movie', '2014', 'Drama'), ('Before We Go', 61009, 'Movie', '2014', 'Drama'), ('A Long Way Down', 61010, 'Movie', '2014', 'Drama'), ('Ex Machina', 61011, 'Movie', '2014', 'Drama'), ('Dil Ka Sauda', 61012, 'Movie', '2014', 'Drama'), ('Shulie', 61324, 'Short', '2015', 'Drama'), ('Snowblind', 61325, 'Movie', '2015', 'Drama'), ('Chatô: O Rei do Brasil', 61326, 'Movie', '2015', 'Drama'), ('Transeúntes', 61327, 'Movie', '2015', 'Drama'), ('The Stanford Prison Experiment', 61329, 'Movie', '2015', 'Drama'), ('High-Rise', 61330, 'Movie', '2015', 'Drama'), ('The Man Who Knew Infinity', 61331, 'Movie', '2015', 'Drama'), ('Miles Ahead', 61332, 'Movie', '2015', 'Drama'), ('The Danish Girl', 61333, 'Movie', '2015', 'Drama')]\n"
     ]
    }
   ],
   "source": [
    "lista_dram_peli=[]\n",
    "lista_dram_serie=[]\n",
    "\n",
    "for dato in resultados_drama:\n",
    "    if dato[2] == 'Movie'or dato[2] == 'Short':\n",
    "        lista_dram_peli.append(dato)\n",
    "    elif dato[2] == 'TV series' or dato[2] == 'TV Episode' :\n",
    "        lista_dram_serie.append(dato)\n",
    "    \n",
    "    \n",
    "print ('Esta es la lista de pelis', lista_dram_peli)"
   ]
  },
  {
   "cell_type": "markdown",
   "metadata": {},
   "source": [
    "Lista con tupla de nombre y año drama"
   ]
  },
  {
   "cell_type": "code",
   "execution_count": 33,
   "metadata": {},
   "outputs": [
    {
     "name": "stdout",
     "output_type": "stream",
     "text": [
      "['Istota (2000)', 'For the Cause (2000)', 'Florentino y el diablo (2000)', 'Karobaar: The Business of Love (2000)', 'Chateaubriand - Cabeça de Paraíba (2000)', 'Gang (2000)', 'Consequence (2000)', 'Fa yeung nin wah (2000)', 'November 1828 (2001)', 'The Killing Seasons (2001)', 'Albela (2001)', \"Don's Plum (2001)\", 'Glitter (2001)', 'Camarate (2001)', 'Berlin Diaries, 1940-45 (2001)', 'Ricochet River (2001)', 'Interstícios (2001)', 'The Lord of the Rings: The Fellowship of the Ring (2001)', 'Crime and Punishment (2002)', 'The Dancer Upstairs (2002)', 'Random Shooting in L.A. (2002)', 'Frida (2002)', 'Shivam (2002)', 'The Good War (2002)', 'The Bacchae (2002)', 'A Mulher Polícia (2003)', 'American Reel (2003)', 'One Last Dance (2003)', 'Cold Mountain (2003)', 'The Lord of the Rings: The Return of the King (2003)', 'Baggage (2003)', 'Tilt (2003)', 'Standing Room Only (2003)', 'The Fighting Temptations (2003)', 'Jersey Guy (2003)', 'En tres y dos (2004)', 'Goodnight, Joseph Parker (2004)', 'Bluebird (2004)', 'El Maya (2004)', 'Il resto di niente (2004)', 'Greener (2004)', 'Olga (2004)', \"Sin's Kitchen (2004)\", 'Tricks (2004)', 'What Is It? (2005)', 'Corpse Bride (2005)', 'Shooting Vegetarians (2005)', 'The Prodigy (2005)', \"Eve's Preyer (2005)\", 'Berlin Nights (2005)', 'Thousands of Miles (2005)', 'Death-Defying Acts (2005)', 'Master i Margarita (2006)', 'Seven Days of Grace (2006)', 'A.W.O.L (2006)', 'Viúva Rica Solteira Não Fica (2006)', 'Meglét (2006)', 'Vic (2006)', 'Children of Men (2006)', 'False Prophets (2006)', 'I Viceré (2007)', 'Hermano (2007)', 'Awake (2007)', 'Partition (2007)', 'Death and Taxis (2007)', 'Terra Sonâmbula (2007)', 'Hitler Meets Christ (2007)', 'Brooklyn Rules (2007)', 'Universal Groove (2007)', 'Still Waters Burn (2008)', 'Quality Time (2008)', 'Geliebte Clara (2008)', 'The Bank Job (2008)', 'Berlin Calling (2008)', 'Jackson (2008)', 'A Circle on the Cross (2008)', 'Brothel (2008)', '2 en 1 auto (2008)', 'Apaföld (2009)', 'Rózsaszín sajt (2009)', 'Sanam Teri Kasam (2009)', 'Twice as Dead (2009)', 'Railed (2009)', 'Coraline (2009)', 'Mitsein (2009)', 'Blood and Bone (2009)', 'Inglourious Basterds (2009)', 'The Box (2009)', 'Pál Adrienn (2010)', 'Oda az igazság (2010)', 'A zöld sárkány gyermekei (2010)', 'The Final Journey (2010)', 'In My Sleep (2010)', 'This Wretched Life (2010)', 'Blind Sided (2010)', 'Death of a Nation (2010)', 'Az ember tragédiája (2011)', 'Los pájaros se van con la muerte (2011)', 'Lives No Longer Ours (2011)', 'The Wicker Tree (2011)', 'Spy (2011)', 'The Rum Diary (2011)', 'Bubbles (2011)', 'On the Road (2012)', 'Acorralados (2012)', 'Caleuche: El llamado del Mar (2012)', \"L'apocalisse delle scimmie (2012)\", 'Lincoln (2012)', 'Life of Pi (2012)', 'Being Flynn (2012)', 'Return to Babylon (2013)', 'The Secret Life of Walter Mitty (2013)', 'In Secret (2013)', 'In absentia (2013)', '42 (2013)', 'Without Warrant (2013)', 'uwantme2killhim? (2013)', 'Syrup (2013)', 'Santorini Blue (2013)', 'Dallas Buyers Club (2013)', \"Le sacre d'automne (2014)\", 'Instruments of Darkness (2014)', 'A Walk Among the Tombstones (2014)', 'The Ninth Cloud (2014)', 'The Giver (2014)', 'Before We Go (2014)', 'A Long Way Down (2014)', 'Ex Machina (2014)', 'Dil Ka Sauda (2014)', 'Shulie (2015)', 'Snowblind (2015)', 'Chatô: O Rei do Brasil (2015)', 'Transeúntes (2015)', 'The Stanford Prison Experiment (2015)', 'High-Rise (2015)', 'The Man Who Knew Infinity (2015)', 'Miles Ahead (2015)', 'The Danish Girl (2015)']\n"
     ]
    }
   ],
   "source": [
    "lista_dram_peli_nombre_anio=[]\n",
    "\n",
    "# Iterar sobre cada tupla en la lista resultados\n",
    "for pelicula in lista_dram_peli:\n",
    "    # Acceder al nombre y al año de cada tupla\n",
    "    nombre = pelicula[0]\n",
    "    anio = pelicula[3]\n",
    "    \n",
    "    # Crear el string con nombre y año, y añadirlo a la lista\n",
    "    lista_dram_peli_nombre_anio.append(f\"{nombre} ({anio})\")\n",
    "\n",
    "# Mostrar el resultado\n",
    "print(lista_dram_peli_nombre_anio)"
   ]
  },
  {
   "cell_type": "markdown",
   "metadata": {},
   "source": [
    "## Extracción de Thriller"
   ]
  },
  {
   "cell_type": "markdown",
   "metadata": {},
   "source": [
    "Info API"
   ]
  },
  {
   "cell_type": "code",
   "execution_count": 22,
   "metadata": {},
   "outputs": [
    {
     "name": "stdout",
     "output_type": "stream",
     "text": [
      "[('Pushing the Envelope', 56808, 'Movie', '2000', 'Thriller'), ('Vulgar', 56809, 'Movie', '2000', 'Thriller'), ('Lured Innocence', 56810, 'Movie', '2000', 'Thriller'), ('Shikari', 56811, 'Movie', '2000', 'Thriller'), ('The Highwayman', 56813, 'Movie', '2000', 'Thriller'), ('3 noches', 57124, 'Movie', '2001', 'Thriller'), ('Eyes Are Upon You', 57128, 'Movie', '2001', 'Thriller'), ('Training Day', 57130, 'Movie', '2001', 'Thriller'), ('I/O Error', 57133, 'Short', '2001', 'Thriller'), ('D-Tox', 57451, 'Movie', '2002', 'Thriller'), ('The Sum of All Fears', 57452, 'Movie', '2002', 'Thriller'), ('City of Ghosts', 57453, 'Movie', '2002', 'Thriller'), ('Silent Screamplay', 57764, 'Movie', '2003', 'Thriller'), ('Sister Blue', 57768, 'Movie', '2003', 'Thriller'), ('Terror in the Darkness', 57771, 'Movie', '2003', 'Thriller'), ('Shadow Sailing', 57772, 'Short', '2003', 'Thriller'), ('How It All Went Down', 57773, 'Movie', '2003', 'Thriller'), ('Life Sentence', 58090, 'Movie', '2004', 'Thriller'), ('Till Proven Innocent', 58091, 'Movie', '2004', 'Thriller'), ('The 24th Day', 58093, 'Movie', '2004', 'Thriller'), ('False River', 58405, 'Movie', '2005', 'Thriller'), ('Ripley Under Ground', 58408, 'Movie', '2005', 'Thriller'), ('Cl.One', 58409, 'Movie', '2005', 'Thriller'), ('Imposture', 58411, 'Movie', '2005', 'Thriller'), ('Wanted', 58412, 'TV Series', '2005', 'Thriller'), ('.45', 58727, 'Movie', '2006', 'Thriller'), ('Arrivederci amore, ciao', 58732, 'Movie', '2006', 'Thriller'), ('5ive!', 58733, 'Movie', '2006', 'Thriller'), ('Mystery of the Bloody Mansion', 59044, 'Movie', '2007', 'Thriller'), ('Crime imparfait', 59046, 'TV Episode', '2007', 'Thriller'), ('La vérité qui tue', 59048, 'TV Episode', '2007', 'Thriller'), ('La méthode Barnol', 59049, 'TV Episode', '2007', 'Thriller'), (\"Before the Devil Knows You're Dead\", 59051, 'Movie', '2007', 'Thriller'), ('ISS Space Agency', 59370, 'Movie', '2008', 'Thriller'), ('Green River', 59371, 'Movie', '2008', 'Thriller'), ('The Rules', 59372, 'Short', '2008', 'Thriller'), ('1', 59693, 'Movie', '2009', 'Thriller'), ('Federal', 60011, 'Movie', '2010', 'Thriller'), ('Moving Target', 60326, 'Movie', '2011', 'Thriller'), ('Escalade', 60333, 'Movie', '2011', 'Thriller'), ('Dark Blood', 60644, 'Movie', '2012', 'Thriller'), ('The Yellow Wallpaper', 60648, 'Movie', '2012', 'Thriller'), ('The Grind', 60651, 'Movie', '2012', 'Thriller'), ('Freaky Deaky', 60653, 'Movie', '2012', 'Thriller'), (\"Devil's Knot\", 60970, 'Movie', '2013', 'Thriller'), ('N.Y.C. Underground', 60973, 'Video', '2013', 'Thriller'), ('Episode #1.255', 61613, 'TV Episode', '2015', 'Thriller')]\n"
     ]
    }
   ],
   "source": [
    "genero_thri = \"Thriller\"\n",
    "resultados_thriller = peliculas_por_genero(genero_thri,rango_anios)\n",
    "print(resultados_thriller)"
   ]
  },
  {
   "cell_type": "markdown",
   "metadata": {},
   "source": [
    "Organizacion resultados peliculas y series"
   ]
  },
  {
   "cell_type": "code",
   "execution_count": 34,
   "metadata": {},
   "outputs": [
    {
     "name": "stdout",
     "output_type": "stream",
     "text": [
      "Esta es la lista de pelis [('Pushing the Envelope', 56808, 'Movie', '2000', 'Thriller'), ('Vulgar', 56809, 'Movie', '2000', 'Thriller'), ('Lured Innocence', 56810, 'Movie', '2000', 'Thriller'), ('Shikari', 56811, 'Movie', '2000', 'Thriller'), ('The Highwayman', 56813, 'Movie', '2000', 'Thriller'), ('3 noches', 57124, 'Movie', '2001', 'Thriller'), ('Eyes Are Upon You', 57128, 'Movie', '2001', 'Thriller'), ('Training Day', 57130, 'Movie', '2001', 'Thriller'), ('I/O Error', 57133, 'Short', '2001', 'Thriller'), ('D-Tox', 57451, 'Movie', '2002', 'Thriller'), ('The Sum of All Fears', 57452, 'Movie', '2002', 'Thriller'), ('City of Ghosts', 57453, 'Movie', '2002', 'Thriller'), ('Silent Screamplay', 57764, 'Movie', '2003', 'Thriller'), ('Sister Blue', 57768, 'Movie', '2003', 'Thriller'), ('Terror in the Darkness', 57771, 'Movie', '2003', 'Thriller'), ('Shadow Sailing', 57772, 'Short', '2003', 'Thriller'), ('How It All Went Down', 57773, 'Movie', '2003', 'Thriller'), ('Life Sentence', 58090, 'Movie', '2004', 'Thriller'), ('Till Proven Innocent', 58091, 'Movie', '2004', 'Thriller'), ('The 24th Day', 58093, 'Movie', '2004', 'Thriller'), ('False River', 58405, 'Movie', '2005', 'Thriller'), ('Ripley Under Ground', 58408, 'Movie', '2005', 'Thriller'), ('Cl.One', 58409, 'Movie', '2005', 'Thriller'), ('Imposture', 58411, 'Movie', '2005', 'Thriller'), ('.45', 58727, 'Movie', '2006', 'Thriller'), ('Arrivederci amore, ciao', 58732, 'Movie', '2006', 'Thriller'), ('5ive!', 58733, 'Movie', '2006', 'Thriller'), ('Mystery of the Bloody Mansion', 59044, 'Movie', '2007', 'Thriller'), (\"Before the Devil Knows You're Dead\", 59051, 'Movie', '2007', 'Thriller'), ('ISS Space Agency', 59370, 'Movie', '2008', 'Thriller'), ('Green River', 59371, 'Movie', '2008', 'Thriller'), ('The Rules', 59372, 'Short', '2008', 'Thriller'), ('1', 59693, 'Movie', '2009', 'Thriller'), ('Federal', 60011, 'Movie', '2010', 'Thriller'), ('Moving Target', 60326, 'Movie', '2011', 'Thriller'), ('Escalade', 60333, 'Movie', '2011', 'Thriller'), ('Dark Blood', 60644, 'Movie', '2012', 'Thriller'), ('The Yellow Wallpaper', 60648, 'Movie', '2012', 'Thriller'), ('The Grind', 60651, 'Movie', '2012', 'Thriller'), ('Freaky Deaky', 60653, 'Movie', '2012', 'Thriller'), (\"Devil's Knot\", 60970, 'Movie', '2013', 'Thriller')]\n"
     ]
    }
   ],
   "source": [
    "lista_thr_peli=[]\n",
    "lista_thr_serie=[]\n",
    "\n",
    "for dato in resultados_thriller:\n",
    "    if dato[2] == 'Movie'or dato[2] == 'Short':\n",
    "        lista_thr_peli.append(dato)\n",
    "    elif dato[2] == 'TV series' or dato[2] == 'TV Episode' :\n",
    "        lista_thr_serie.append(dato)\n",
    "    \n",
    "    \n",
    "print ('Esta es la lista de pelis', lista_thr_peli)"
   ]
  },
  {
   "cell_type": "markdown",
   "metadata": {},
   "source": [
    "Lista con tupla de nombre y año thriller"
   ]
  },
  {
   "cell_type": "code",
   "execution_count": 35,
   "metadata": {},
   "outputs": [
    {
     "name": "stdout",
     "output_type": "stream",
     "text": [
      "['Pushing the Envelope (2000)', 'Vulgar (2000)', 'Lured Innocence (2000)', 'Shikari (2000)', 'The Highwayman (2000)', '3 noches (2001)', 'Eyes Are Upon You (2001)', 'Training Day (2001)', 'I/O Error (2001)', 'D-Tox (2002)', 'The Sum of All Fears (2002)', 'City of Ghosts (2002)', 'Silent Screamplay (2003)', 'Sister Blue (2003)', 'Terror in the Darkness (2003)', 'Shadow Sailing (2003)', 'How It All Went Down (2003)', 'Life Sentence (2004)', 'Till Proven Innocent (2004)', 'The 24th Day (2004)', 'False River (2005)', 'Ripley Under Ground (2005)', 'Cl.One (2005)', 'Imposture (2005)', '.45 (2006)', 'Arrivederci amore, ciao (2006)', '5ive! (2006)', 'Mystery of the Bloody Mansion (2007)', \"Before the Devil Knows You're Dead (2007)\", 'ISS Space Agency (2008)', 'Green River (2008)', 'The Rules (2008)', '1 (2009)', 'Federal (2010)', 'Moving Target (2011)', 'Escalade (2011)', 'Dark Blood (2012)', 'The Yellow Wallpaper (2012)', 'The Grind (2012)', 'Freaky Deaky (2012)', \"Devil's Knot (2013)\"]\n"
     ]
    }
   ],
   "source": [
    "lista_thr_peli_nombre_anio=[]\n",
    "\n",
    "# Iterar sobre cada tupla en la lista resultados\n",
    "for pelicula in lista_thr_peli:\n",
    "    # Acceder al nombre y al año de cada tupla\n",
    "    nombre = pelicula[0]\n",
    "    anio = pelicula[3]\n",
    "    \n",
    "    # Crear el string con nombre y año, y añadirlo a la lista\n",
    "    lista_thr_peli_nombre_anio.append(f\"{nombre} ({anio})\")\n",
    "\n",
    "# Mostrar el resultado\n",
    "print(lista_thr_peli_nombre_anio)"
   ]
  },
  {
   "cell_type": "markdown",
   "metadata": {},
   "source": [
    "## Extracción de Romance"
   ]
  },
  {
   "cell_type": "markdown",
   "metadata": {},
   "source": [
    "Info API"
   ]
  },
  {
   "cell_type": "code",
   "execution_count": 27,
   "metadata": {},
   "outputs": [
    {
     "name": "stdout",
     "output_type": "stream",
     "text": [
      "[('The Fantasticks', 56765, 'Movie', '2000', 'Romance'), ('Passionnément', 56769, 'Movie', '2000', 'Romance'), ('Return to Me', 56772, 'Movie', '2000', 'Romance'), ('Dance Naked', 56773, 'Video', '2000', 'Romance'), ('Deep Blue', 57087, 'Movie', '2001', 'Romance'), ('Town & Country', 57090, 'Movie', '2001', 'Romance'), ('Chasing Destiny', 57091, 'TV Movie', '2001', 'Romance'), ('Long Lost Love', 57093, 'Movie', '2001', 'Romance'), ('Tangoed Lives', 57405, 'Movie', '2002', 'Romance'), ('Duty Dating', 57408, 'Movie', '2002', 'Romance'), ('Pipe Dream', 57409, 'Movie', '2002', 'Romance'), ('Desert Saints', 57410, 'Movie', '2002', 'Romance'), ('Ted and Alice', 57411, 'TV Mini Series', '2002', 'Romance'), ('Moonlight Mile', 57412, 'Movie', '2002', 'Romance'), ('Crossing the Rubicon', 57413, 'Movie', '2002', 'Romance'), ('Osmose', 57729, 'Movie', '2003', 'Romance'), ('Venus on the Halfshell', 57730, 'Movie', '2003', 'Romance'), ('Finding Home', 57732, 'Movie', '2003', 'Romance'), ('The Sleeping Dictionary', 57733, 'Movie', '2003', 'Romance'), ('Like Cats and Dogs', 58048, 'TV Movie', '2004', 'Romance'), ('Beacon Hill', 58049, 'Movie', '2004', 'Romance'), ('2046', 58050, 'Movie', '2004', 'Romance'), ('Roomies', 58052, 'Movie', '2004', 'Romance'), ('True Vinyl', 58053, 'Movie', '2004', 'Romance'), ('Alchemy', 58369, 'Movie', '2005', 'Romance'), ('Aspects of Love', 58370, 'Movie', '2005', 'Romance'), ('Rent', 58372, 'Movie', '2005', 'Romance'), ('Going Shopping', 58373, 'Movie', '2005', 'Romance'), ('Summer, the First Time', 58684, 'Video', '2006', 'Romance'), ('The Worst Day Ever', 58688, 'Movie', '2006', 'Romance'), ('An Existential Affair', 58689, 'Movie', '2006', 'Romance'), ('Humko Tumse Pyaar Hai', 58690, 'Movie', '2006', 'Romance'), ('Loving Annabelle', 58691, 'Movie', '2006', 'Romance'), ('1972', 58692, 'Movie', '2006', 'Romance'), ('Der Liebeswunsch', 58693, 'Movie', '2006', 'Romance'), ('Jin yu liang yuan hong lou meng', 59004, 'Movie', '2007', 'Romance'), ('Romantik', 59006, 'Movie', '2007', 'Romance'), ('Lucky You', 59008, 'Movie', '2007', 'Romance'), ('Fighting Words', 59009, 'Movie', '2007', 'Romance'), ('Susan Hero', 59010, 'Movie', '2007', 'Romance'), ('Playas Ball', 59011, 'Movie', '2007', 'Romance'), ('Crossing', 59012, 'Movie', '2007', 'Romance'), ('Red Is the Color of', 59013, 'Movie', '2007', 'Romance'), ('Tyranny', 59328, 'TV Series', '2008', 'Romance'), ('Leatherheads', 59332, 'Movie', '2008', 'Romance'), ('House of Boys', 59645, 'Movie', '2009', 'Romance'), ('Youth in Revolt', 59646, 'Movie', '2009', 'Romance'), ('Utolsó jelentés Annáról', 59647, 'Movie', '2009', 'Romance'), ('The Perfect Sleep', 59649, 'Movie', '2009', 'Romance'), ('AmerAsian', 59650, 'Movie', '2009', 'Romance'), ('Why George?', 59651, 'Movie', '2009', 'Romance'), ('Kisse Pyaar Karoon?', 59652, 'Movie', '2009', 'Romance'), ('Yesterday Was a Lie', 59653, 'Movie', '2009', 'Romance'), ('Cargo, les hommes perdus.', 59966, 'Movie', '2010', 'Romance'), ('Milenge Milenge', 59967, 'Movie', '2010', 'Romance'), ('Barry Munday', 59970, 'Movie', '2010', 'Romance'), ('Bandeiji', 59971, 'Movie', '2010', 'Romance'), ('Episode dated 28 November 2010', 59973, 'TV Episode', '2010', 'Romance'), ('A Bird of the Air', 60288, 'Movie', '2011', 'Romance'), ('Hall Pass', 60289, 'Movie', '2011', 'Romance'), ('Something Borrowed', 60290, 'Movie', '2011', 'Romance'), (\"What's Your Number?\", 60291, 'Movie', '2011', 'Romance'), ('Till You Get to Baraboo', 60292, 'Movie', '2011', 'Romance'), ('Red Dog', 60293, 'Movie', '2011', 'Romance'), ('Elliot Loves', 60607, 'Movie', '2012', 'Romance'), ('Belle du Seigneur', 60608, 'Movie', '2012', 'Romance'), ('Letting Go', 60610, 'Movie', '2012', 'Romance'), ('Jewtopia', 60611, 'Movie', '2012', 'Romance'), ('RMS Titanic: The Story Biograph Told', 60612, 'Video', '2012', 'Romance'), ('Strange Frame: Love & Sax', 60613, 'Movie', '2012', 'Romance'), ('Approaching Midnight', 60928, 'Movie', '2013', 'Romance'), ('Episode #1.55', 60931, 'TV Episode', '2013', 'Romance'), ('Between the Sand and the Sky', 61247, 'Video', '2014', 'Romance'), ('Suite Française', 61248, 'Movie', '2014', 'Romance'), ('Life Mein Twist Hai', 61249, 'Movie', '2014', 'Romance'), ('Idealnyy muzhchina', 61250, 'TV Mini Series', '2014', 'Romance'), ('Zvyozdy svetyat vsem', 61251, 'Movie', '2014', 'Romance'), ('La scelta', 61252, 'Short', '2014', 'Romance'), ('Hum tum', 61253, 'Movie', '2014', 'Romance'), ('Jackson Arms', 61566, 'Movie', '2015', 'Romance'), ('Chooriyan', 61567, 'Movie', '2015', 'Romance'), ('Episode #1.18', 61568, 'TV Episode', '2015', 'Romance'), ('Episode #1.21', 61569, 'TV Episode', '2015', 'Romance'), ('Episode #1.22', 61570, 'TV Episode', '2015', 'Romance'), ('Episode #1.19', 61571, 'TV Episode', '2015', 'Romance'), ('Episode #1.20', 61572, 'TV Episode', '2015', 'Romance'), ('Episode #1.17', 61573, 'TV Episode', '2015', 'Romance')]\n"
     ]
    }
   ],
   "source": [
    "genero_rom = \"Romance\"\n",
    "resultados_romance = peliculas_por_genero(genero_rom,rango_anios)\n",
    "print(resultados_romance)"
   ]
  },
  {
   "cell_type": "markdown",
   "metadata": {},
   "source": [
    "Organizacion resultados peliculas y series"
   ]
  },
  {
   "cell_type": "code",
   "execution_count": 31,
   "metadata": {},
   "outputs": [
    {
     "name": "stdout",
     "output_type": "stream",
     "text": [
      "Esta es la lista de pelis [('Pushing the Envelope', 56808, 'Movie', '2000', 'Thriller'), ('Vulgar', 56809, 'Movie', '2000', 'Thriller'), ('Lured Innocence', 56810, 'Movie', '2000', 'Thriller'), ('Shikari', 56811, 'Movie', '2000', 'Thriller'), ('The Highwayman', 56813, 'Movie', '2000', 'Thriller'), ('3 noches', 57124, 'Movie', '2001', 'Thriller'), ('Eyes Are Upon You', 57128, 'Movie', '2001', 'Thriller'), ('Training Day', 57130, 'Movie', '2001', 'Thriller'), ('I/O Error', 57133, 'Short', '2001', 'Thriller'), ('D-Tox', 57451, 'Movie', '2002', 'Thriller'), ('The Sum of All Fears', 57452, 'Movie', '2002', 'Thriller'), ('City of Ghosts', 57453, 'Movie', '2002', 'Thriller'), ('Silent Screamplay', 57764, 'Movie', '2003', 'Thriller'), ('Sister Blue', 57768, 'Movie', '2003', 'Thriller'), ('Terror in the Darkness', 57771, 'Movie', '2003', 'Thriller'), ('Shadow Sailing', 57772, 'Short', '2003', 'Thriller'), ('How It All Went Down', 57773, 'Movie', '2003', 'Thriller'), ('Life Sentence', 58090, 'Movie', '2004', 'Thriller'), ('Till Proven Innocent', 58091, 'Movie', '2004', 'Thriller'), ('The 24th Day', 58093, 'Movie', '2004', 'Thriller'), ('False River', 58405, 'Movie', '2005', 'Thriller'), ('Ripley Under Ground', 58408, 'Movie', '2005', 'Thriller'), ('Cl.One', 58409, 'Movie', '2005', 'Thriller'), ('Imposture', 58411, 'Movie', '2005', 'Thriller'), ('.45', 58727, 'Movie', '2006', 'Thriller'), ('Arrivederci amore, ciao', 58732, 'Movie', '2006', 'Thriller'), ('5ive!', 58733, 'Movie', '2006', 'Thriller'), ('Mystery of the Bloody Mansion', 59044, 'Movie', '2007', 'Thriller'), (\"Before the Devil Knows You're Dead\", 59051, 'Movie', '2007', 'Thriller'), ('ISS Space Agency', 59370, 'Movie', '2008', 'Thriller'), ('Green River', 59371, 'Movie', '2008', 'Thriller'), ('The Rules', 59372, 'Short', '2008', 'Thriller'), ('1', 59693, 'Movie', '2009', 'Thriller'), ('Federal', 60011, 'Movie', '2010', 'Thriller'), ('Moving Target', 60326, 'Movie', '2011', 'Thriller'), ('Escalade', 60333, 'Movie', '2011', 'Thriller'), ('Dark Blood', 60644, 'Movie', '2012', 'Thriller'), ('The Yellow Wallpaper', 60648, 'Movie', '2012', 'Thriller'), ('The Grind', 60651, 'Movie', '2012', 'Thriller'), ('Freaky Deaky', 60653, 'Movie', '2012', 'Thriller'), (\"Devil's Knot\", 60970, 'Movie', '2013', 'Thriller'), ('Istota', 56524, 'Movie', '2000', 'Drama'), ('For the Cause', 56526, 'Movie', '2000', 'Drama'), ('Florentino y el diablo', 56527, 'Movie', '2000', 'Drama'), ('Karobaar: The Business of Love', 56528, 'Movie', '2000', 'Drama'), ('Chateaubriand - Cabeça de Paraíba', 56529, 'Short', '2000', 'Drama'), ('Gang', 56530, 'Movie', '2000', 'Drama'), ('Consequence', 56531, 'Movie', '2000', 'Drama'), ('Fa yeung nin wah', 56532, 'Movie', '2000', 'Drama'), ('November 1828', 56844, 'Movie', '2001', 'Drama'), ('The Killing Seasons', 56845, 'Short', '2001', 'Drama'), ('Albela', 56846, 'Movie', '2001', 'Drama'), (\"Don's Plum\", 56847, 'Movie', '2001', 'Drama'), ('Glitter', 56848, 'Movie', '2001', 'Drama'), ('Camarate', 56849, 'Movie', '2001', 'Drama'), ('Berlin Diaries, 1940-45', 56850, 'Movie', '2001', 'Drama'), ('Ricochet River', 56851, 'Movie', '2001', 'Drama'), ('Interstícios', 56852, 'Short', '2001', 'Drama'), ('The Lord of the Rings: The Fellowship of the Ring', 56853, 'Movie', '2001', 'Drama'), ('Crime and Punishment', 57164, 'Movie', '2002', 'Drama'), ('The Dancer Upstairs', 57165, 'Movie', '2002', 'Drama'), ('Random Shooting in L.A.', 57166, 'Movie', '2002', 'Drama'), ('Frida', 57167, 'Movie', '2002', 'Drama'), ('Shivam', 57168, 'Movie', '2002', 'Drama'), ('The Good War', 57169, 'Movie', '2002', 'Drama'), ('The Bacchae', 57172, 'Movie', '2002', 'Drama'), ('A Mulher Polícia', 57484, 'Movie', '2003', 'Drama'), ('American Reel', 57485, 'Movie', '2003', 'Drama'), ('One Last Dance', 57486, 'Movie', '2003', 'Drama'), ('Cold Mountain', 57487, 'Movie', '2003', 'Drama'), ('The Lord of the Rings: The Return of the King', 57488, 'Movie', '2003', 'Drama'), ('Baggage', 57489, 'Movie', '2003', 'Drama'), ('Tilt', 57490, 'Short', '2003', 'Drama'), ('Standing Room Only', 57491, 'Short', '2003', 'Drama'), ('The Fighting Temptations', 57492, 'Movie', '2003', 'Drama'), ('Jersey Guy', 57493, 'Movie', '2003', 'Drama'), ('En tres y dos', 57804, 'Movie', '2004', 'Drama'), ('Goodnight, Joseph Parker', 57806, 'Movie', '2004', 'Drama'), ('Bluebird', 57807, 'Movie', '2004', 'Drama'), ('El Maya', 57808, 'Movie', '2004', 'Drama'), ('Il resto di niente', 57809, 'Movie', '2004', 'Drama'), ('Greener', 57810, 'Movie', '2004', 'Drama'), ('Olga', 57811, 'Movie', '2004', 'Drama'), (\"Sin's Kitchen\", 57812, 'Movie', '2004', 'Drama'), ('Tricks', 57813, 'Movie', '2004', 'Drama'), ('What Is It?', 58124, 'Movie', '2005', 'Drama'), ('Corpse Bride', 58125, 'Movie', '2005', 'Drama'), ('Shooting Vegetarians', 58127, 'Movie', '2005', 'Drama'), ('The Prodigy', 58128, 'Movie', '2005', 'Drama'), (\"Eve's Preyer\", 58130, 'Movie', '2005', 'Drama'), ('Berlin Nights', 58131, 'Movie', '2005', 'Drama'), ('Thousands of Miles', 58132, 'Movie', '2005', 'Drama'), ('Death-Defying Acts', 58133, 'Movie', '2005', 'Drama'), ('Master i Margarita', 58444, 'Movie', '2006', 'Drama'), ('Seven Days of Grace', 58446, 'Movie', '2006', 'Drama'), ('A.W.O.L', 58447, 'Short', '2006', 'Drama'), ('Viúva Rica Solteira Não Fica', 58448, 'Movie', '2006', 'Drama'), ('Meglét', 58449, 'Short', '2006', 'Drama'), ('Vic', 58450, 'Short', '2006', 'Drama'), ('Children of Men', 58451, 'Movie', '2006', 'Drama'), ('False Prophets', 58453, 'Movie', '2006', 'Drama'), ('I Viceré', 58764, 'Movie', '2007', 'Drama'), ('Hermano', 58766, 'Movie', '2007', 'Drama'), ('Awake', 58767, 'Movie', '2007', 'Drama'), ('Partition', 58768, 'Movie', '2007', 'Drama'), ('Death and Taxis', 58769, 'Movie', '2007', 'Drama'), ('Terra Sonâmbula', 58770, 'Movie', '2007', 'Drama'), ('Hitler Meets Christ', 58771, 'Movie', '2007', 'Drama'), ('Brooklyn Rules', 58772, 'Movie', '2007', 'Drama'), ('Universal Groove', 58773, 'Movie', '2007', 'Drama'), ('Still Waters Burn', 59084, 'Movie', '2008', 'Drama'), ('Quality Time', 59085, 'Movie', '2008', 'Drama'), ('Geliebte Clara', 59086, 'Movie', '2008', 'Drama'), ('The Bank Job', 59087, 'Movie', '2008', 'Drama'), ('Berlin Calling', 59088, 'Movie', '2008', 'Drama'), ('Jackson', 59090, 'Movie', '2008', 'Drama'), ('A Circle on the Cross', 59091, 'Movie', '2008', 'Drama'), ('Brothel', 59092, 'Movie', '2008', 'Drama'), ('2 en 1 auto', 59093, 'Short', '2008', 'Drama'), ('Apaföld', 59404, 'Movie', '2009', 'Drama'), ('Rózsaszín sajt', 59405, 'Movie', '2009', 'Drama'), ('Sanam Teri Kasam', 59406, 'Movie', '2009', 'Drama'), ('Twice as Dead', 59407, 'Movie', '2009', 'Drama'), ('Railed', 59408, 'Movie', '2009', 'Drama'), ('Coraline', 59409, 'Movie', '2009', 'Drama'), ('Mitsein', 59410, 'Movie', '2009', 'Drama'), ('Blood and Bone', 59411, 'Movie', '2009', 'Drama'), ('Inglourious Basterds', 59412, 'Movie', '2009', 'Drama'), ('The Box', 59413, 'Movie', '2009', 'Drama'), ('Pál Adrienn', 59724, 'Movie', '2010', 'Drama'), ('Oda az igazság', 59725, 'Movie', '2010', 'Drama'), ('A zöld sárkány gyermekei', 59726, 'Movie', '2010', 'Drama'), ('The Final Journey', 59728, 'Movie', '2010', 'Drama'), ('In My Sleep', 59729, 'Movie', '2010', 'Drama'), ('This Wretched Life', 59730, 'Movie', '2010', 'Drama'), ('Blind Sided', 59731, 'Movie', '2010', 'Drama'), ('Death of a Nation', 59732, 'Short', '2010', 'Drama'), ('Az ember tragédiája', 60044, 'Movie', '2011', 'Drama'), ('Los pájaros se van con la muerte', 60045, 'Movie', '2011', 'Drama'), ('Lives No Longer Ours', 60047, 'Movie', '2011', 'Drama'), ('The Wicker Tree', 60048, 'Movie', '2011', 'Drama'), ('Spy', 60049, 'Movie', '2011', 'Drama'), ('The Rum Diary', 60050, 'Movie', '2011', 'Drama'), ('Bubbles', 60053, 'Movie', '2011', 'Drama'), ('On the Road', 60364, 'Movie', '2012', 'Drama'), ('Acorralados', 60367, 'Movie', '2012', 'Drama'), ('Caleuche: El llamado del Mar', 60368, 'Movie', '2012', 'Drama'), (\"L'apocalisse delle scimmie\", 60369, 'Movie', '2012', 'Drama'), ('Lincoln', 60370, 'Movie', '2012', 'Drama'), ('Life of Pi', 60372, 'Movie', '2012', 'Drama'), ('Being Flynn', 60373, 'Movie', '2012', 'Drama'), ('Return to Babylon', 60684, 'Movie', '2013', 'Drama'), ('The Secret Life of Walter Mitty', 60685, 'Movie', '2013', 'Drama'), ('In Secret', 60686, 'Movie', '2013', 'Drama'), ('In absentia', 60687, 'Short', '2013', 'Drama'), ('42', 60688, 'Movie', '2013', 'Drama'), ('Without Warrant', 60689, 'Movie', '2013', 'Drama'), ('uwantme2killhim?', 60690, 'Movie', '2013', 'Drama'), ('Syrup', 60691, 'Movie', '2013', 'Drama'), ('Santorini Blue', 60692, 'Movie', '2013', 'Drama'), ('Dallas Buyers Club', 60693, 'Movie', '2013', 'Drama'), (\"Le sacre d'automne\", 61004, 'Short', '2014', 'Drama'), ('Instruments of Darkness', 61005, 'Movie', '2014', 'Drama'), ('A Walk Among the Tombstones', 61006, 'Movie', '2014', 'Drama'), ('The Ninth Cloud', 61007, 'Movie', '2014', 'Drama'), ('The Giver', 61008, 'Movie', '2014', 'Drama'), ('Before We Go', 61009, 'Movie', '2014', 'Drama'), ('A Long Way Down', 61010, 'Movie', '2014', 'Drama'), ('Ex Machina', 61011, 'Movie', '2014', 'Drama'), ('Dil Ka Sauda', 61012, 'Movie', '2014', 'Drama'), ('Shulie', 61324, 'Short', '2015', 'Drama'), ('Snowblind', 61325, 'Movie', '2015', 'Drama'), ('Chatô: O Rei do Brasil', 61326, 'Movie', '2015', 'Drama'), ('Transeúntes', 61327, 'Movie', '2015', 'Drama'), ('The Stanford Prison Experiment', 61329, 'Movie', '2015', 'Drama'), ('High-Rise', 61330, 'Movie', '2015', 'Drama'), ('The Man Who Knew Infinity', 61331, 'Movie', '2015', 'Drama'), ('Miles Ahead', 61332, 'Movie', '2015', 'Drama'), ('The Danish Girl', 61333, 'Movie', '2015', 'Drama')]\n"
     ]
    }
   ],
   "source": [
    "lista_rom_peli=[]\n",
    "lista_rom_serie=[]\n",
    "\n",
    "for dato in resultados_romance:\n",
    "    if dato[2] == 'Movie'or dato[2] == 'Short':\n",
    "        lista_rom_peli.append(dato)\n",
    "    elif dato[2] == 'TV series' or dato[2] == 'TV Episode' :\n",
    "        lista_rom_serie.append(dato)\n",
    "    \n",
    "    \n",
    "print ('Esta es la lista de pelis', lista_rom_peli)"
   ]
  },
  {
   "cell_type": "markdown",
   "metadata": {},
   "source": [
    "Lista con tupla de nombre y año Romance"
   ]
  },
  {
   "cell_type": "code",
   "execution_count": 36,
   "metadata": {},
   "outputs": [
    {
     "name": "stdout",
     "output_type": "stream",
     "text": [
      "['The Fantasticks (2000)', 'Passionnément (2000)', 'Return to Me (2000)', 'Dance Naked (2000)', 'Deep Blue (2001)', 'Town & Country (2001)', 'Chasing Destiny (2001)', 'Long Lost Love (2001)', 'Tangoed Lives (2002)', 'Duty Dating (2002)', 'Pipe Dream (2002)', 'Desert Saints (2002)', 'Ted and Alice (2002)', 'Moonlight Mile (2002)', 'Crossing the Rubicon (2002)', 'Osmose (2003)', 'Venus on the Halfshell (2003)', 'Finding Home (2003)', 'The Sleeping Dictionary (2003)', 'Like Cats and Dogs (2004)', 'Beacon Hill (2004)', '2046 (2004)', 'Roomies (2004)', 'True Vinyl (2004)', 'Alchemy (2005)', 'Aspects of Love (2005)', 'Rent (2005)', 'Going Shopping (2005)', 'Summer, the First Time (2006)', 'The Worst Day Ever (2006)', 'An Existential Affair (2006)', 'Humko Tumse Pyaar Hai (2006)', 'Loving Annabelle (2006)', '1972 (2006)', 'Der Liebeswunsch (2006)', 'Jin yu liang yuan hong lou meng (2007)', 'Romantik (2007)', 'Lucky You (2007)', 'Fighting Words (2007)', 'Susan Hero (2007)', 'Playas Ball (2007)', 'Crossing (2007)', 'Red Is the Color of (2007)', 'Tyranny (2008)', 'Leatherheads (2008)', 'House of Boys (2009)', 'Youth in Revolt (2009)', 'Utolsó jelentés Annáról (2009)', 'The Perfect Sleep (2009)', 'AmerAsian (2009)', 'Why George? (2009)', 'Kisse Pyaar Karoon? (2009)', 'Yesterday Was a Lie (2009)', 'Cargo, les hommes perdus. (2010)', 'Milenge Milenge (2010)', 'Barry Munday (2010)', 'Bandeiji (2010)', 'Episode dated 28 November 2010 (2010)', 'A Bird of the Air (2011)', 'Hall Pass (2011)', 'Something Borrowed (2011)', \"What's Your Number? (2011)\", 'Till You Get to Baraboo (2011)', 'Red Dog (2011)', 'Elliot Loves (2012)', 'Belle du Seigneur (2012)', 'Letting Go (2012)', 'Jewtopia (2012)', 'RMS Titanic: The Story Biograph Told (2012)', 'Strange Frame: Love & Sax (2012)', 'Approaching Midnight (2013)', 'Episode #1.55 (2013)', 'Between the Sand and the Sky (2014)', 'Suite Française (2014)', 'Life Mein Twist Hai (2014)', 'Idealnyy muzhchina (2014)', 'Zvyozdy svetyat vsem (2014)', 'La scelta (2014)', 'Hum tum (2014)', 'Jackson Arms (2015)', 'Chooriyan (2015)', 'Episode #1.18 (2015)', 'Episode #1.21 (2015)', 'Episode #1.22 (2015)', 'Episode #1.19 (2015)', 'Episode #1.20 (2015)', 'Episode #1.17 (2015)']\n"
     ]
    }
   ],
   "source": [
    "lista_rom_nombre_anio=[]\n",
    "\n",
    "# Iterar sobre cada tupla en la lista resultados\n",
    "for pelicula in resultados_romance:\n",
    "    # Acceder al nombre y al año de cada tupla\n",
    "    nombre = pelicula[0]\n",
    "    anio = pelicula[3]\n",
    "    \n",
    "    # Crear el string con nombre y año, y añadirlo a la lista\n",
    "    lista_rom_nombre_anio.append(f\"{nombre} ({anio})\")\n",
    "\n",
    "# Mostrar el resultado\n",
    "print(lista_rom_nombre_anio)"
   ]
  },
  {
   "cell_type": "markdown",
   "metadata": {},
   "source": [
    "## Extracción de Mystery"
   ]
  },
  {
   "cell_type": "markdown",
   "metadata": {},
   "source": [
    "Info API"
   ]
  },
  {
   "cell_type": "code",
   "execution_count": 37,
   "metadata": {},
   "outputs": [
    {
     "name": "stdout",
     "output_type": "stream",
     "text": [
      "[('The Million Dollar Hotel', 56724, 'Movie', '2000', 'Mystery'), ('Waking the Dead', 56725, 'Movie', '2000', 'Mystery'), ('Luckytown', 56729, 'Movie', '2000', 'Mystery'), ('Passion of Mind', 56730, 'Movie', '2000', 'Mystery'), ('Four Dogs Playing Poker', 56731, 'Movie', '2000', 'Mystery'), ('What Lies Beneath', 56732, 'Movie', '2000', 'Mystery'), ('Trixie', 56733, 'Movie', '2000', 'Mystery'), ('Enigma', 57046, 'Movie', '2001', 'Mystery'), ('Impostor', 57047, 'Movie', '2001', 'Mystery'), ('Dark Water', 57048, 'Movie', '2001', 'Mystery'), ('Mulholland Drive', 57050, 'Movie', '2001', 'Mystery'), ('The Confidence Man', 57051, 'Movie', '2001', 'Mystery'), ('Ashes to Ashes', 57052, 'Short', '2001', 'Mystery'), (\"The Caveman's Valentine\", 57053, 'Movie', '2001', 'Mystery'), ('Daybreak', 57365, 'Movie', '2002', 'Mystery'), ('Minority Report', 57367, 'Movie', '2002', 'Mystery'), (\"Dead Man's Dream\", 57368, 'Movie', '2002', 'Mystery'), ('New Best Friend', 57369, 'Movie', '2002', 'Mystery'), ('Last Seen', 57370, 'Movie', '2002', 'Mystery'), ('The Salton Sea', 57371, 'Movie', '2002', 'Mystery'), ('Florida City', 57372, 'Movie', '2002', 'Mystery'), ('Tony Tough and the Night of Roasted Moths', 57373, 'Video Game', '2002', 'Mystery'), ('In the Cut', 57685, 'Movie', '2003', 'Mystery'), ('Missing', 57687, 'TV Movie', '2003', 'Mystery'), ('The Accidental Detective', 57688, 'Movie', '2003', 'Mystery'), ('1st to Die', 57689, 'TV Movie', '2003', 'Mystery'), ('Thursday the 12th', 57690, 'TV Movie', '2003', 'Mystery'), ('La collezione invisibile', 57691, 'Movie', '2003', 'Mystery'), ('Basic', 57692, 'Movie', '2003', 'Mystery'), ('Vera', 57693, 'Movie', '2003', 'Mystery'), ('Killer Weekend', 58009, 'Movie', '2004', 'Mystery'), ('Suske en Wiske: De duistere diamant', 58010, 'Movie', '2004', 'Mystery'), ('Corpses Are Forever', 58011, 'Video', '2004', 'Mystery'), ('Fascination', 58012, 'Movie', '2004', 'Mystery'), ('Harry Potter en de gevangene van Azkaban', 58013, 'Movie', '2004', 'Mystery'), ('Jackpot', 58324, 'Movie', '2005', 'Mystery'), ('Firecracker', 58325, 'Movie', '2005', 'Mystery'), ('The Krone Experiment', 58326, 'Movie', '2005', 'Mystery'), ('Love Thy Neighbor', 58327, 'Movie', '2005', 'Mystery'), ('Los suicidas', 58329, 'Movie', '2005', 'Mystery'), ('Harry Potter en de vuurbeker', 58330, 'Movie', '2005', 'Mystery'), ('Hellraiser: Deader', 58331, 'Video', '2005', 'Mystery'), ('Keep Your Distance', 58332, 'Movie', '2005', 'Mystery'), ('The PianoTuner of EarthQuakes', 58333, 'Movie', '2005', 'Mystery'), ('Down the Road', 58648, 'Movie', '2006', 'Mystery'), ('Freedomland', 58651, 'Movie', '2006', 'Mystery'), ('Day of Wrath', 58652, 'Movie', '2006', 'Mystery'), ('Ne le dis à personne', 58653, 'Movie', '2006', 'Mystery'), ('Broke Sky', 58966, 'Movie', '2007', 'Mystery'), ('Captivity', 58969, 'Movie', '2007', 'Mystery'), ('Rise', 58970, 'Movie', '2007', 'Mystery'), ('Dreamland', 58971, 'Movie', '2007', 'Mystery'), ('88 Minutes', 58972, 'Movie', '2007', 'Mystery'), ('A londoni férfi', 58973, 'Movie', '2007', 'Mystery'), ('Smallpox: Deadly Again?', 59285, 'TV Episode', '2008', 'Mystery'), ('Surveillance', 59287, 'Movie', '2008', 'Mystery'), ('Quid Pro Quo', 59288, 'Movie', '2008', 'Mystery'), ('The Andromeda Strain', 59289, 'TV Mini Series', '2008', 'Mystery'), ('Dimples', 59292, 'Movie', '2008', 'Mystery'), ('Passengers', 59293, 'Movie', '2008', 'Mystery'), ('Moonlight Blade', 59604, 'Movie', '2009', 'Mystery'), ('Cargo', 59611, 'Movie', '2009', 'Mystery'), ('Disconnect', 59927, 'Movie', '2010', 'Mystery'), ('The Losers', 59930, 'Movie', '2010', 'Mystery'), ('Darkstar: The Interactive Movie', 59931, 'Video Game', '2010', 'Mystery'), ('My Soul to Take', 59932, 'Movie', '2010', 'Mystery'), ('Psych:9', 59933, 'Movie', '2010', 'Mystery'), ('Extremely Loud & Incredibly Close', 60247, 'Movie', '2011', 'Mystery'), ('Atlas Shrugged: Part I', 60248, 'Movie', '2011', 'Mystery'), ('Double Tap', 60249, 'Movie', '2011', 'Mystery'), ('Hoodwinked Too! Hood vs. Evil', 60250, 'Movie', '2011', 'Mystery'), ('Katharsis', 60251, 'Movie', '2011', 'Mystery'), ('Blur', 60252, 'Movie', '2011', 'Mystery'), ('The Thing', 60253, 'Movie', '2011', 'Mystery'), ('The Attack', 60567, 'Movie', '2012', 'Mystery'), ('Exposed', 60568, 'Movie', '2012', 'Mystery'), ('The Courier', 60570, 'Movie', '2012', 'Mystery'), (\"Frankenstein's Sorbid Lover\", 60571, 'Short', '2012', 'Mystery'), ('La Visita', 60572, 'Short', '2012', 'Mystery'), ('Episode #1.3', 60573, 'TV Episode', '2012', 'Mystery'), ('The Devil You Know', 60884, 'Movie', '2013', 'Mystery'), ('In the Woods', 60887, 'TV Series', '2013', 'Mystery'), ('Whitie Pills Multi-Symptom', 60891, 'Short', '2013', 'Mystery'), ('Hollywood Necronomicon', 60893, 'Movie', '2013', 'Mystery'), ('The Sisterhood of Night', 61205, 'Movie', '2014', 'Mystery'), ('Episode #2.2', 61206, 'TV Episode', '2014', 'Mystery'), ('Episode #2.1', 61207, 'TV Episode', '2014', 'Mystery'), ('Episode #2.3', 61208, 'TV Episode', '2014', 'Mystery'), ('Episode #2.5', 61209, 'TV Episode', '2014', 'Mystery'), ('Episode #2.4', 61210, 'TV Episode', '2014', 'Mystery'), ('Missing Testament (Case No. 3): Part 2', 61211, 'TV Episode', '2014', 'Mystery'), ('Exchange Killings (Case No. 4): Part 2', 61212, 'TV Episode', '2014', 'Mystery'), ('Perfect Ransom (Case No. 5): Part 2', 61213, 'TV Episode', '2014', 'Mystery'), ('Endless Night', 61524, 'Short', '2015', 'Mystery'), ('Tales of Evil', 61525, 'TV Episode', '2015', 'Mystery'), ('Step into the Woods', 61526, 'Short', '2015', 'Mystery'), ('The First Act', 61527, 'Short', '2015', 'Mystery'), ('Child 44', 61528, 'Movie', '2015', 'Mystery'), ('Episode #1.2', 61529, 'TV Episode', '2015', 'Mystery'), ('Episode #1.3', 61530, 'TV Episode', '2015', 'Mystery'), ('Episode #1.6', 61531, 'TV Episode', '2015', 'Mystery'), ('Episode #1.13', 61532, 'TV Episode', '2015', 'Mystery'), ('Episode #1.7', 61533, 'TV Episode', '2015', 'Mystery')]\n"
     ]
    }
   ],
   "source": [
    "genero_myst = \"Mystery\"\n",
    "resultados_mystery = peliculas_por_genero(genero_myst,rango_anios)\n",
    "print(resultados_mystery)"
   ]
  },
  {
   "cell_type": "markdown",
   "metadata": {},
   "source": [
    "Organizacion resultados peliculas y series"
   ]
  },
  {
   "cell_type": "code",
   "execution_count": 38,
   "metadata": {},
   "outputs": [
    {
     "name": "stdout",
     "output_type": "stream",
     "text": [
      "Esta es la lista de pelis [('The Million Dollar Hotel', 56724, 'Movie', '2000', 'Mystery'), ('Waking the Dead', 56725, 'Movie', '2000', 'Mystery'), ('Luckytown', 56729, 'Movie', '2000', 'Mystery'), ('Passion of Mind', 56730, 'Movie', '2000', 'Mystery'), ('Four Dogs Playing Poker', 56731, 'Movie', '2000', 'Mystery'), ('What Lies Beneath', 56732, 'Movie', '2000', 'Mystery'), ('Trixie', 56733, 'Movie', '2000', 'Mystery'), ('Enigma', 57046, 'Movie', '2001', 'Mystery'), ('Impostor', 57047, 'Movie', '2001', 'Mystery'), ('Dark Water', 57048, 'Movie', '2001', 'Mystery'), ('Mulholland Drive', 57050, 'Movie', '2001', 'Mystery'), ('The Confidence Man', 57051, 'Movie', '2001', 'Mystery'), ('Ashes to Ashes', 57052, 'Short', '2001', 'Mystery'), (\"The Caveman's Valentine\", 57053, 'Movie', '2001', 'Mystery'), ('Daybreak', 57365, 'Movie', '2002', 'Mystery'), ('Minority Report', 57367, 'Movie', '2002', 'Mystery'), (\"Dead Man's Dream\", 57368, 'Movie', '2002', 'Mystery'), ('New Best Friend', 57369, 'Movie', '2002', 'Mystery'), ('Last Seen', 57370, 'Movie', '2002', 'Mystery'), ('The Salton Sea', 57371, 'Movie', '2002', 'Mystery'), ('Florida City', 57372, 'Movie', '2002', 'Mystery'), ('In the Cut', 57685, 'Movie', '2003', 'Mystery'), ('The Accidental Detective', 57688, 'Movie', '2003', 'Mystery'), ('La collezione invisibile', 57691, 'Movie', '2003', 'Mystery'), ('Basic', 57692, 'Movie', '2003', 'Mystery'), ('Vera', 57693, 'Movie', '2003', 'Mystery'), ('Killer Weekend', 58009, 'Movie', '2004', 'Mystery'), ('Suske en Wiske: De duistere diamant', 58010, 'Movie', '2004', 'Mystery'), ('Fascination', 58012, 'Movie', '2004', 'Mystery'), ('Harry Potter en de gevangene van Azkaban', 58013, 'Movie', '2004', 'Mystery'), ('Jackpot', 58324, 'Movie', '2005', 'Mystery'), ('Firecracker', 58325, 'Movie', '2005', 'Mystery'), ('The Krone Experiment', 58326, 'Movie', '2005', 'Mystery'), ('Love Thy Neighbor', 58327, 'Movie', '2005', 'Mystery'), ('Los suicidas', 58329, 'Movie', '2005', 'Mystery'), ('Harry Potter en de vuurbeker', 58330, 'Movie', '2005', 'Mystery'), ('Keep Your Distance', 58332, 'Movie', '2005', 'Mystery'), ('The PianoTuner of EarthQuakes', 58333, 'Movie', '2005', 'Mystery'), ('Down the Road', 58648, 'Movie', '2006', 'Mystery'), ('Freedomland', 58651, 'Movie', '2006', 'Mystery'), ('Day of Wrath', 58652, 'Movie', '2006', 'Mystery'), ('Ne le dis à personne', 58653, 'Movie', '2006', 'Mystery'), ('Broke Sky', 58966, 'Movie', '2007', 'Mystery'), ('Captivity', 58969, 'Movie', '2007', 'Mystery'), ('Rise', 58970, 'Movie', '2007', 'Mystery'), ('Dreamland', 58971, 'Movie', '2007', 'Mystery'), ('88 Minutes', 58972, 'Movie', '2007', 'Mystery'), ('A londoni férfi', 58973, 'Movie', '2007', 'Mystery'), ('Surveillance', 59287, 'Movie', '2008', 'Mystery'), ('Quid Pro Quo', 59288, 'Movie', '2008', 'Mystery'), ('Dimples', 59292, 'Movie', '2008', 'Mystery'), ('Passengers', 59293, 'Movie', '2008', 'Mystery'), ('Moonlight Blade', 59604, 'Movie', '2009', 'Mystery'), ('Cargo', 59611, 'Movie', '2009', 'Mystery'), ('Disconnect', 59927, 'Movie', '2010', 'Mystery'), ('The Losers', 59930, 'Movie', '2010', 'Mystery'), ('My Soul to Take', 59932, 'Movie', '2010', 'Mystery'), ('Psych:9', 59933, 'Movie', '2010', 'Mystery'), ('Extremely Loud & Incredibly Close', 60247, 'Movie', '2011', 'Mystery'), ('Atlas Shrugged: Part I', 60248, 'Movie', '2011', 'Mystery'), ('Double Tap', 60249, 'Movie', '2011', 'Mystery'), ('Hoodwinked Too! Hood vs. Evil', 60250, 'Movie', '2011', 'Mystery'), ('Katharsis', 60251, 'Movie', '2011', 'Mystery'), ('Blur', 60252, 'Movie', '2011', 'Mystery'), ('The Thing', 60253, 'Movie', '2011', 'Mystery'), ('The Attack', 60567, 'Movie', '2012', 'Mystery'), ('Exposed', 60568, 'Movie', '2012', 'Mystery'), ('The Courier', 60570, 'Movie', '2012', 'Mystery'), (\"Frankenstein's Sorbid Lover\", 60571, 'Short', '2012', 'Mystery'), ('La Visita', 60572, 'Short', '2012', 'Mystery'), ('The Devil You Know', 60884, 'Movie', '2013', 'Mystery'), ('Whitie Pills Multi-Symptom', 60891, 'Short', '2013', 'Mystery'), ('Hollywood Necronomicon', 60893, 'Movie', '2013', 'Mystery'), ('The Sisterhood of Night', 61205, 'Movie', '2014', 'Mystery'), ('Endless Night', 61524, 'Short', '2015', 'Mystery'), ('Step into the Woods', 61526, 'Short', '2015', 'Mystery'), ('The First Act', 61527, 'Short', '2015', 'Mystery'), ('Child 44', 61528, 'Movie', '2015', 'Mystery')]\n"
     ]
    }
   ],
   "source": [
    "lista_mys_peli=[]\n",
    "lista_mys_serie=[]\n",
    "\n",
    "for dato in resultados_mystery:\n",
    "    if dato[2] == 'Movie'or dato[2] == 'Short':\n",
    "        lista_mys_peli.append(dato)\n",
    "    elif dato[2] == 'TV series' or dato[2] == 'TV Episode' :\n",
    "        lista_mys_serie.append(dato)\n",
    "    \n",
    "    \n",
    "print ('Esta es la lista de pelis', lista_mys_peli)"
   ]
  },
  {
   "cell_type": "markdown",
   "metadata": {},
   "source": [
    "Lista con tupla de nombre y año Mystery"
   ]
  },
  {
   "cell_type": "code",
   "execution_count": 39,
   "metadata": {},
   "outputs": [
    {
     "name": "stdout",
     "output_type": "stream",
     "text": [
      "['The Million Dollar Hotel (2000)', 'Waking the Dead (2000)', 'Luckytown (2000)', 'Passion of Mind (2000)', 'Four Dogs Playing Poker (2000)', 'What Lies Beneath (2000)', 'Trixie (2000)', 'Enigma (2001)', 'Impostor (2001)', 'Dark Water (2001)', 'Mulholland Drive (2001)', 'The Confidence Man (2001)', 'Ashes to Ashes (2001)', \"The Caveman's Valentine (2001)\", 'Daybreak (2002)', 'Minority Report (2002)', \"Dead Man's Dream (2002)\", 'New Best Friend (2002)', 'Last Seen (2002)', 'The Salton Sea (2002)', 'Florida City (2002)', 'Tony Tough and the Night of Roasted Moths (2002)', 'In the Cut (2003)', 'Missing (2003)', 'The Accidental Detective (2003)', '1st to Die (2003)', 'Thursday the 12th (2003)', 'La collezione invisibile (2003)', 'Basic (2003)', 'Vera (2003)', 'Killer Weekend (2004)', 'Suske en Wiske: De duistere diamant (2004)', 'Corpses Are Forever (2004)', 'Fascination (2004)', 'Harry Potter en de gevangene van Azkaban (2004)', 'Jackpot (2005)', 'Firecracker (2005)', 'The Krone Experiment (2005)', 'Love Thy Neighbor (2005)', 'Los suicidas (2005)', 'Harry Potter en de vuurbeker (2005)', 'Hellraiser: Deader (2005)', 'Keep Your Distance (2005)', 'The PianoTuner of EarthQuakes (2005)', 'Down the Road (2006)', 'Freedomland (2006)', 'Day of Wrath (2006)', 'Ne le dis à personne (2006)', 'Broke Sky (2007)', 'Captivity (2007)', 'Rise (2007)', 'Dreamland (2007)', '88 Minutes (2007)', 'A londoni férfi (2007)', 'Smallpox: Deadly Again? (2008)', 'Surveillance (2008)', 'Quid Pro Quo (2008)', 'The Andromeda Strain (2008)', 'Dimples (2008)', 'Passengers (2008)', 'Moonlight Blade (2009)', 'Cargo (2009)', 'Disconnect (2010)', 'The Losers (2010)', 'Darkstar: The Interactive Movie (2010)', 'My Soul to Take (2010)', 'Psych:9 (2010)', 'Extremely Loud & Incredibly Close (2011)', 'Atlas Shrugged: Part I (2011)', 'Double Tap (2011)', 'Hoodwinked Too! Hood vs. Evil (2011)', 'Katharsis (2011)', 'Blur (2011)', 'The Thing (2011)', 'The Attack (2012)', 'Exposed (2012)', 'The Courier (2012)', \"Frankenstein's Sorbid Lover (2012)\", 'La Visita (2012)', 'Episode #1.3 (2012)', 'The Devil You Know (2013)', 'In the Woods (2013)', 'Whitie Pills Multi-Symptom (2013)', 'Hollywood Necronomicon (2013)', 'The Sisterhood of Night (2014)', 'Episode #2.2 (2014)', 'Episode #2.1 (2014)', 'Episode #2.3 (2014)', 'Episode #2.5 (2014)', 'Episode #2.4 (2014)', 'Missing Testament (Case No. 3): Part 2 (2014)', 'Exchange Killings (Case No. 4): Part 2 (2014)', 'Perfect Ransom (Case No. 5): Part 2 (2014)', 'Endless Night (2015)', 'Tales of Evil (2015)', 'Step into the Woods (2015)', 'The First Act (2015)', 'Child 44 (2015)', 'Episode #1.2 (2015)', 'Episode #1.3 (2015)', 'Episode #1.6 (2015)', 'Episode #1.13 (2015)', 'Episode #1.7 (2015)']\n"
     ]
    }
   ],
   "source": [
    "lista_mys_nombre_anio=[]\n",
    "\n",
    "# Iterar sobre cada tupla en la lista resultados\n",
    "for pelicula in resultados_mystery:\n",
    "    # Acceder al nombre y al año de cada tupla\n",
    "    nombre = pelicula[0]\n",
    "    anio = pelicula[3]\n",
    "    \n",
    "    # Crear el string con nombre y año, y añadirlo a la lista\n",
    "    lista_mys_nombre_anio.append(f\"{nombre} ({anio})\")\n",
    "\n",
    "# Mostrar el resultado\n",
    "print(lista_mys_nombre_anio)"
   ]
  },
  {
   "cell_type": "markdown",
   "metadata": {},
   "source": [
    "## Extracción de Horror"
   ]
  },
  {
   "cell_type": "markdown",
   "metadata": {},
   "source": [
    "Info API"
   ]
  },
  {
   "cell_type": "code",
   "execution_count": 40,
   "metadata": {},
   "outputs": [
    {
     "name": "stdout",
     "output_type": "stream",
     "text": [
      "[('Deadfall', 56684, 'Movie', '2000', 'Horror'), ('Scream 3', 56685, 'Movie', '2000', 'Horror'), ('Supernova', 56686, 'Movie', '2000', 'Horror'), ('The Chronicles of Riddick: Pitch Black', 56687, 'Movie', '2000', 'Horror'), ('Drainiac!', 56688, 'Video', '2000', 'Horror'), ('Mothman', 56689, 'Movie', '2000', 'Horror'), ('American Psycho', 56690, 'Movie', '2000', 'Horror'), ('Eyes to Heaven', 56691, 'Movie', '2000', 'Horror'), ('Ricky 6', 56692, 'Movie', '2000', 'Horror'), ('Sacrifice', 56693, 'TV Movie', '2000', 'Horror'), ('From Hell', 57005, 'Movie', '2001', 'Horror'), (\"Victoria's Shadow\", 57006, 'Movie', '2001', 'Horror'), ('Unseen Evil', 57007, 'Movie', '2001', 'Horror'), ('The Vault', 57008, 'Video', '2001', 'Horror'), ('Bones', 57009, 'Movie', '2001', 'Horror'), ('Hot Tubs II: The Terror Returns', 57010, 'Short', '2001', 'Horror'), ('Generation Ax', 57011, 'Movie', '2001', 'Horror'), ('Loukku', 57012, 'Video', '2001', 'Horror'), ('Cremains', 57013, 'Video', '2001', 'Horror'), ('Matthew Blackheart: Monster Smasher', 57326, 'TV Movie', '2002', 'Horror'), ('Blade II', 57327, 'Movie', '2002', 'Horror'), ('Survival Island', 57328, 'Movie', '2002', 'Horror'), ('Harry Knuckles and the Treasure of the Aztec Mummy', 57330, 'Short', '2002', 'Horror'), ('Mortal Kombat: Deadly Alliance', 57331, 'Video Game', '2002', 'Horror'), ('Halloween: Resurrection', 57332, 'Movie', '2002', 'Horror'), ('Biohazard Ø', 57333, 'Video Game', '2002', 'Horror'), ('Frost: Portrait of a Vampire', 57645, 'Video', '2003', 'Horror'), ('Beyond Re-Animator', 57646, 'Movie', '2003', 'Horror'), ('The Invitation', 57648, 'Movie', '2003', 'Horror'), ('Attack of the Killer Hog', 57649, 'Video', '2003', 'Horror'), ('House of 1000 Corpses', 57650, 'Movie', '2003', 'Horror'), ('Subterano', 57651, 'Movie', '2003', 'Horror'), ('Dorian', 57652, 'Movie', '2003', 'Horror'), ('The American Bickman Burger', 57653, 'Short', '2003', 'Horror'), ('Frost', 57965, 'Movie', '2004', 'Horror'), ('Exorcist: The Beginning', 57966, 'Movie', '2004', 'Horror'), ('B-Witched', 57968, 'Video', '2004', 'Horror'), ('Habitaciones para turistas', 57969, 'Movie', '2004', 'Horror'), (\"Season's Greetings\", 57970, 'Short', '2004', 'Horror'), ('Straight Into Darkness', 57971, 'Movie', '2004', 'Horror'), ('Mark of the Astro-Zombies', 57972, 'Video', '2004', 'Horror'), ('Doom 3', 57973, 'Video Game', '2004', 'Horror'), ('Blood Trail', 58287, 'Video', '2005', 'Horror'), ('Cursed', 58288, 'Movie', '2005', 'Horror'), ('2001 Maniacs', 58289, 'Movie', '2005', 'Horror'), ('Frankenstein & the Werewolf Reborn!', 58290, 'Movie', '2005', 'Horror'), ('From Venus', 58291, 'Movie', '2005', 'Horror'), ('Dracula III: Legacy', 58293, 'Video', '2005', 'Horror'), ('Beyond the Wall of Sleep', 58605, 'Movie', '2006', 'Horror'), ('Under Surveillance', 58606, 'Movie', '2006', 'Horror'), ('Through the Looking Glass', 58607, 'Movie', '2006', 'Horror'), ('The Creature of the Sunny Side Up Trailer Park', 58608, 'Movie', '2006', 'Horror'), (\"Satan's Playground\", 58609, 'Movie', '2006', 'Horror'), ('Ring Around the Rosie', 58610, 'Video', '2006', 'Horror'), ('Savage Harvest 2: October Blood', 58612, 'Video', '2006', 'Horror'), ('Drømme om djævelen', 58613, 'Short', '2006', 'Horror'), (\"L'uomo che non voleva morire\", 58924, 'TV Episode', '2007', 'Horror'), ('Each Time I Kill', 58926, 'Movie', '2007', 'Horror'), ('Skin Crawl', 58927, 'Video', '2007', 'Horror'), ('Kottentail', 58929, 'Movie', '2007', 'Horror'), ('Terror Toons 2', 58930, 'Video', '2007', 'Horror'), (\"The Devil's Muse\", 58931, 'Movie', '2007', 'Horror'), ('Brain Blockers', 58933, 'Video', '2007', 'Horror'), ('Shadow of a Candle', 59244, 'Short', '2008', 'Horror'), ('The Horror Vault', 59246, 'Movie', '2008', 'Horror'), ('Return to Sleepaway Camp', 59247, 'Video', '2008', 'Horror'), ('The Eye', 59248, 'Movie', '2008', 'Horror'), ('Beneath the Mississippi', 59249, 'Movie', '2008', 'Horror'), (\"Death's Door\", 59250, 'Movie', '2008', 'Horror'), (\"Something's Wrong in Kansas\", 59251, 'Movie', '2008', 'Horror'), ('Autopsy', 59252, 'Movie', '2008', 'Horror'), ('The X Files: I Want to Believe', 59253, 'Movie', '2008', 'Horror'), ('T.M.A.', 59564, 'Movie', '2009', 'Horror'), ('El libro de piedra', 59565, 'Movie', '2009', 'Horror'), ('Possession', 59566, 'Movie', '2009', 'Horror'), ('It Came from Trafalgar', 59568, 'Movie', '2009', 'Horror'), ('Cabeza de pescado', 59569, 'Movie', '2009', 'Horror'), ('Silo Killer 2: The Wrath of Kyle', 59570, 'Video', '2009', 'Horror'), ('Daybreakers', 59571, 'Movie', '2009', 'Horror'), ('Cabras', 59572, 'Movie', '2009', 'Horror'), ('Town Creek', 59573, 'Movie', '2009', 'Horror'), ('The Devil Inside', 59885, 'Movie', '2010', 'Horror'), ('Les 7 jours du talion', 59886, 'Movie', '2010', 'Horror'), ('The Crazies', 59887, 'Movie', '2010', 'Horror'), ('Satan Hates You', 59888, 'Movie', '2010', 'Horror'), ('Alan Wake', 59890, 'Video Game', '2010', 'Horror'), ('Perfect Life', 59892, 'Movie', '2010', 'Horror'), ('The Invited', 59893, 'Movie', '2010', 'Horror'), ('The Passing', 60205, 'Movie', '2011', 'Horror'), ('Within: Terror Resides...', 60206, 'Video', '2011', 'Horror'), ('Horrorween', 60207, 'Video', '2011', 'Horror'), ('Kill', 60208, 'Movie', '2011', 'Horror'), ('War of the Dead', 60209, 'Movie', '2011', 'Horror'), ('Priest', 60210, 'Movie', '2011', 'Horror'), ('Immortal Island', 60211, 'Movie', '2011', 'Horror'), ('Red State', 60212, 'Movie', '2011', 'Horror'), ('Rift', 60213, 'Movie', '2011', 'Horror'), ('The Possession', 60524, 'Movie', '2012', 'Horror'), ('Monster Mountain', 60525, 'Video', '2012', 'Horror'), ('Bad Blood', 60528, 'Movie', '2012', 'Horror'), ('Santeria: The Soul Possessed', 60530, 'Video', '2012', 'Horror'), ('Jack & Diane', 60532, 'Movie', '2012', 'Horror'), ('Silent Hill: Revelation', 60533, 'Movie', '2012', 'Horror'), ('Night of the Templar', 60845, 'Movie', '2013', 'Horror'), ('Shroud', 60847, 'Movie', '2013', 'Horror'), (\"Grandmother's Farm\", 60848, 'Movie', '2013', 'Horror'), ('Nang Marn', 60849, 'TV Series', '2013', 'Horror'), ('Outcast', 60850, 'Short', '2013', 'Horror'), ('Fantasia 2', 60851, 'Movie', '2013', 'Horror'), ('Bloedson', 60852, 'Short', '2013', 'Horror'), ('Dare', 60853, 'TV Episode', '2013', 'Horror'), ('House at the End of the Drive', 61164, 'Movie', '2014', 'Horror'), ('Hogzilla', 61166, 'Video', '2014', 'Horror'), ('The Count Jackula Show', 61167, 'TV Series', '2014', 'Horror'), ('House of 1000 Corpses Part 1', 61168, 'TV Episode', '2014', 'Horror'), ('House of 1000 Corpses Part 2', 61169, 'TV Episode', '2014', 'Horror'), ('Top 13 Gooder Movies', 61170, 'TV Episode', '2014', 'Horror'), ('Red State', 61171, 'TV Episode', '2014', 'Horror'), ('Misogyny in Horror: I Spit On Your Grave, Part 1', 61172, 'TV Episode', '2014', 'Horror'), ('Misogyny in Horror: I Spit On Your Grave, Part 2', 61173, 'TV Episode', '2014', 'Horror'), ('Puppet Show', 61484, 'Short', '2015', 'Horror'), ('Targets', 61485, 'TV Episode', '2015', 'Horror'), ('Vlog - Unfriended', 61486, 'TV Episode', '2015', 'Horror'), ('Vlog - Spring', 61487, 'TV Episode', '2015', 'Horror'), ('Vlog - Wyrmwood', 61488, 'TV Episode', '2015', 'Horror'), ('Vlog - The Taking of Deborah Logan', 61489, 'TV Episode', '2015', 'Horror'), ('Vlog - Late Phases', 61490, 'TV Episode', '2015', 'Horror'), ('Vlog - Mad Max: Fury Road', 61491, 'TV Episode', '2015', 'Horror'), ('Vlog - What We Do in the Shadows', 61492, 'TV Episode', '2015', 'Horror'), ('Vlog - Goosebumps', 61493, 'TV Episode', '2015', 'Horror')]\n"
     ]
    }
   ],
   "source": [
    "genero_horr = \"Horror\"\n",
    "resultados_horror = peliculas_por_genero(genero_horr,rango_anios)\n",
    "print(resultados_horror)"
   ]
  },
  {
   "cell_type": "markdown",
   "metadata": {},
   "source": [
    "Organizacion resultados peliculas y series"
   ]
  },
  {
   "cell_type": "code",
   "execution_count": 41,
   "metadata": {},
   "outputs": [
    {
     "name": "stdout",
     "output_type": "stream",
     "text": [
      "Esta es la lista de pelis [('Deadfall', 56684, 'Movie', '2000', 'Horror'), ('Scream 3', 56685, 'Movie', '2000', 'Horror'), ('Supernova', 56686, 'Movie', '2000', 'Horror'), ('The Chronicles of Riddick: Pitch Black', 56687, 'Movie', '2000', 'Horror'), ('Mothman', 56689, 'Movie', '2000', 'Horror'), ('American Psycho', 56690, 'Movie', '2000', 'Horror'), ('Eyes to Heaven', 56691, 'Movie', '2000', 'Horror'), ('Ricky 6', 56692, 'Movie', '2000', 'Horror'), ('From Hell', 57005, 'Movie', '2001', 'Horror'), (\"Victoria's Shadow\", 57006, 'Movie', '2001', 'Horror'), ('Unseen Evil', 57007, 'Movie', '2001', 'Horror'), ('Bones', 57009, 'Movie', '2001', 'Horror'), ('Hot Tubs II: The Terror Returns', 57010, 'Short', '2001', 'Horror'), ('Generation Ax', 57011, 'Movie', '2001', 'Horror'), ('Blade II', 57327, 'Movie', '2002', 'Horror'), ('Survival Island', 57328, 'Movie', '2002', 'Horror'), ('Harry Knuckles and the Treasure of the Aztec Mummy', 57330, 'Short', '2002', 'Horror'), ('Halloween: Resurrection', 57332, 'Movie', '2002', 'Horror'), ('Beyond Re-Animator', 57646, 'Movie', '2003', 'Horror'), ('The Invitation', 57648, 'Movie', '2003', 'Horror'), ('House of 1000 Corpses', 57650, 'Movie', '2003', 'Horror'), ('Subterano', 57651, 'Movie', '2003', 'Horror'), ('Dorian', 57652, 'Movie', '2003', 'Horror'), ('The American Bickman Burger', 57653, 'Short', '2003', 'Horror'), ('Frost', 57965, 'Movie', '2004', 'Horror'), ('Exorcist: The Beginning', 57966, 'Movie', '2004', 'Horror'), ('Habitaciones para turistas', 57969, 'Movie', '2004', 'Horror'), (\"Season's Greetings\", 57970, 'Short', '2004', 'Horror'), ('Straight Into Darkness', 57971, 'Movie', '2004', 'Horror'), ('Cursed', 58288, 'Movie', '2005', 'Horror'), ('2001 Maniacs', 58289, 'Movie', '2005', 'Horror'), ('Frankenstein & the Werewolf Reborn!', 58290, 'Movie', '2005', 'Horror'), ('From Venus', 58291, 'Movie', '2005', 'Horror'), ('Beyond the Wall of Sleep', 58605, 'Movie', '2006', 'Horror'), ('Under Surveillance', 58606, 'Movie', '2006', 'Horror'), ('Through the Looking Glass', 58607, 'Movie', '2006', 'Horror'), ('The Creature of the Sunny Side Up Trailer Park', 58608, 'Movie', '2006', 'Horror'), (\"Satan's Playground\", 58609, 'Movie', '2006', 'Horror'), ('Drømme om djævelen', 58613, 'Short', '2006', 'Horror'), ('Each Time I Kill', 58926, 'Movie', '2007', 'Horror'), ('Kottentail', 58929, 'Movie', '2007', 'Horror'), (\"The Devil's Muse\", 58931, 'Movie', '2007', 'Horror'), ('Shadow of a Candle', 59244, 'Short', '2008', 'Horror'), ('The Horror Vault', 59246, 'Movie', '2008', 'Horror'), ('The Eye', 59248, 'Movie', '2008', 'Horror'), ('Beneath the Mississippi', 59249, 'Movie', '2008', 'Horror'), (\"Death's Door\", 59250, 'Movie', '2008', 'Horror'), (\"Something's Wrong in Kansas\", 59251, 'Movie', '2008', 'Horror'), ('Autopsy', 59252, 'Movie', '2008', 'Horror'), ('The X Files: I Want to Believe', 59253, 'Movie', '2008', 'Horror'), ('T.M.A.', 59564, 'Movie', '2009', 'Horror'), ('El libro de piedra', 59565, 'Movie', '2009', 'Horror'), ('Possession', 59566, 'Movie', '2009', 'Horror'), ('It Came from Trafalgar', 59568, 'Movie', '2009', 'Horror'), ('Cabeza de pescado', 59569, 'Movie', '2009', 'Horror'), ('Daybreakers', 59571, 'Movie', '2009', 'Horror'), ('Cabras', 59572, 'Movie', '2009', 'Horror'), ('Town Creek', 59573, 'Movie', '2009', 'Horror'), ('The Devil Inside', 59885, 'Movie', '2010', 'Horror'), ('Les 7 jours du talion', 59886, 'Movie', '2010', 'Horror'), ('The Crazies', 59887, 'Movie', '2010', 'Horror'), ('Satan Hates You', 59888, 'Movie', '2010', 'Horror'), ('Perfect Life', 59892, 'Movie', '2010', 'Horror'), ('The Invited', 59893, 'Movie', '2010', 'Horror'), ('The Passing', 60205, 'Movie', '2011', 'Horror'), ('Kill', 60208, 'Movie', '2011', 'Horror'), ('War of the Dead', 60209, 'Movie', '2011', 'Horror'), ('Priest', 60210, 'Movie', '2011', 'Horror'), ('Immortal Island', 60211, 'Movie', '2011', 'Horror'), ('Red State', 60212, 'Movie', '2011', 'Horror'), ('Rift', 60213, 'Movie', '2011', 'Horror'), ('The Possession', 60524, 'Movie', '2012', 'Horror'), ('Bad Blood', 60528, 'Movie', '2012', 'Horror'), ('Jack & Diane', 60532, 'Movie', '2012', 'Horror'), ('Silent Hill: Revelation', 60533, 'Movie', '2012', 'Horror'), ('Night of the Templar', 60845, 'Movie', '2013', 'Horror'), ('Shroud', 60847, 'Movie', '2013', 'Horror'), (\"Grandmother's Farm\", 60848, 'Movie', '2013', 'Horror'), ('Outcast', 60850, 'Short', '2013', 'Horror'), ('Fantasia 2', 60851, 'Movie', '2013', 'Horror'), ('Bloedson', 60852, 'Short', '2013', 'Horror'), ('House at the End of the Drive', 61164, 'Movie', '2014', 'Horror'), ('Puppet Show', 61484, 'Short', '2015', 'Horror')]\n"
     ]
    }
   ],
   "source": [
    "lista_horr_peli=[]\n",
    "lista_horr_serie=[]\n",
    "\n",
    "for dato in resultados_horror:\n",
    "    if dato[2] == 'Movie'or dato[2] == 'Short':\n",
    "        lista_horr_peli.append(dato)\n",
    "    elif dato[2] == 'TV series' or dato[2] == 'TV Episode' :\n",
    "        lista_horr_serie.append(dato)\n",
    "    \n",
    "    \n",
    "print ('Esta es la lista de pelis', lista_horr_peli)"
   ]
  },
  {
   "cell_type": "markdown",
   "metadata": {},
   "source": [
    "Lista con tupla de nombre y año Horror"
   ]
  },
  {
   "cell_type": "code",
   "execution_count": 42,
   "metadata": {},
   "outputs": [
    {
     "name": "stdout",
     "output_type": "stream",
     "text": [
      "['Deadfall (2000)', 'Scream 3 (2000)', 'Supernova (2000)', 'The Chronicles of Riddick: Pitch Black (2000)', 'Mothman (2000)', 'American Psycho (2000)', 'Eyes to Heaven (2000)', 'Ricky 6 (2000)', 'From Hell (2001)', \"Victoria's Shadow (2001)\", 'Unseen Evil (2001)', 'Bones (2001)', 'Hot Tubs II: The Terror Returns (2001)', 'Generation Ax (2001)', 'Blade II (2002)', 'Survival Island (2002)', 'Harry Knuckles and the Treasure of the Aztec Mummy (2002)', 'Halloween: Resurrection (2002)', 'Beyond Re-Animator (2003)', 'The Invitation (2003)', 'House of 1000 Corpses (2003)', 'Subterano (2003)', 'Dorian (2003)', 'The American Bickman Burger (2003)', 'Frost (2004)', 'Exorcist: The Beginning (2004)', 'Habitaciones para turistas (2004)', \"Season's Greetings (2004)\", 'Straight Into Darkness (2004)', 'Cursed (2005)', '2001 Maniacs (2005)', 'Frankenstein & the Werewolf Reborn! (2005)', 'From Venus (2005)', 'Beyond the Wall of Sleep (2006)', 'Under Surveillance (2006)', 'Through the Looking Glass (2006)', 'The Creature of the Sunny Side Up Trailer Park (2006)', \"Satan's Playground (2006)\", 'Drømme om djævelen (2006)', 'Each Time I Kill (2007)', 'Kottentail (2007)', \"The Devil's Muse (2007)\", 'Shadow of a Candle (2008)', 'The Horror Vault (2008)', 'The Eye (2008)', 'Beneath the Mississippi (2008)', \"Death's Door (2008)\", \"Something's Wrong in Kansas (2008)\", 'Autopsy (2008)', 'The X Files: I Want to Believe (2008)', 'T.M.A. (2009)', 'El libro de piedra (2009)', 'Possession (2009)', 'It Came from Trafalgar (2009)', 'Cabeza de pescado (2009)', 'Daybreakers (2009)', 'Cabras (2009)', 'Town Creek (2009)', 'The Devil Inside (2010)', 'Les 7 jours du talion (2010)', 'The Crazies (2010)', 'Satan Hates You (2010)', 'Perfect Life (2010)', 'The Invited (2010)', 'The Passing (2011)', 'Kill (2011)', 'War of the Dead (2011)', 'Priest (2011)', 'Immortal Island (2011)', 'Red State (2011)', 'Rift (2011)', 'The Possession (2012)', 'Bad Blood (2012)', 'Jack & Diane (2012)', 'Silent Hill: Revelation (2012)', 'Night of the Templar (2013)', 'Shroud (2013)', \"Grandmother's Farm (2013)\", 'Outcast (2013)', 'Fantasia 2 (2013)', 'Bloedson (2013)', 'House at the End of the Drive (2014)', 'Puppet Show (2015)']\n"
     ]
    }
   ],
   "source": [
    "lista_horr_peli_nombre_anio=[]\n",
    "\n",
    "# Iterar sobre cada tupla en la lista resultados\n",
    "for pelicula in lista_horr_peli:\n",
    "    # Acceder al nombre y al año de cada tupla\n",
    "    nombre = pelicula[0]\n",
    "    anio = pelicula[3]\n",
    "    \n",
    "    # Crear el string con nombre y año, y añadirlo a la lista\n",
    "    lista_horr_peli_nombre_anio.append(f\"{nombre} ({anio})\")\n",
    "\n",
    "# Mostrar el resultado\n",
    "print(lista_horr_peli_nombre_anio)"
   ]
  },
  {
   "cell_type": "markdown",
   "metadata": {},
   "source": [
    "## Extracción de Fantasy"
   ]
  },
  {
   "cell_type": "markdown",
   "metadata": {},
   "source": [
    "Info API"
   ]
  },
  {
   "cell_type": "code",
   "execution_count": 45,
   "metadata": {},
   "outputs": [
    {
     "name": "stdout",
     "output_type": "stream",
     "text": [
      "[('Keizer Kuzco', 56646, 'Movie', '2000', 'Fantasy'), ('Dinosaur', 56647, 'Movie', '2000', 'Fantasy'), ('The Crow: Salvation', 56648, 'Movie', '2000', 'Fantasy'), ('The Adventures of Rocky & Bullwinkle', 56649, 'Movie', '2000', 'Fantasy'), ('The Road to El Dorado', 56650, 'Movie', '2000', 'Fantasy'), ('Highlander: Endgame', 56651, 'Movie', '2000', 'Fantasy'), ('Red Lipstick', 56652, 'Movie', '2000', 'Fantasy'), ('The Legend of Bagger Vance', 56653, 'Movie', '2000', 'Fantasy'), (\"The Sorcerer's Apprentice\", 56965, 'Movie', '2001', 'Fantasy'), ('Lightmaker', 56968, 'Movie', '2001', 'Fantasy'), ('Little Shop of Erotica', 56970, 'Movie', '2001', 'Fantasy'), ('Un jour', 56971, 'Short', '2001', 'Fantasy'), ('Vidocq', 56972, 'Movie', '2001', 'Fantasy'), ('Monkeybone', 56973, 'Movie', '2001', 'Fantasy'), ('Piratenplaneet', 57286, 'Movie', '2002', 'Fantasy'), ('The Princess and the Pea', 57287, 'Movie', '2002', 'Fantasy'), ('Interstate 60: Episodes of the Road', 57288, 'Movie', '2002', 'Fantasy'), ('The Lord of the Rings: The Two Towers', 57289, 'Movie', '2002', 'Fantasy'), ('La balsa de piedra', 57290, 'Movie', '2002', 'Fantasy'), ('The Adventures of Tom Thumb & Thumbelina', 57291, 'Video', '2002', 'Fantasy'), ('Snow Queen', 57292, 'TV Mini Series', '2002', 'Fantasy'), ('Legend of the Phantom Rider', 57293, 'Movie', '2002', 'Fantasy'), ('Silver Man', 57607, 'Movie', '2003', 'Fantasy'), ('Pumuckl und sein Zirkusabenteuer', 57609, 'Movie', '2003', 'Fantasy'), ('Maniac Magee', 57610, 'TV Movie', '2003', 'Fantasy'), ('Bulletproof Monk', 57611, 'Movie', '2003', 'Fantasy'), ('El milagro', 57612, 'Short', '2003', 'Fantasy'), ('The Devil and Daniel Webster', 57613, 'Movie', '2003', 'Fantasy'), ('Warrior Sisters', 57925, 'Movie', '2004', 'Fantasy'), ('Raspberry & Lavender', 57927, 'Movie', '2004', 'Fantasy'), ('Berserker', 57929, 'Movie', '2004', 'Fantasy'), ('Mulan II', 57930, 'Video', '2004', 'Fantasy'), ('Off the Pages', 57931, 'Movie', '2004', 'Fantasy'), ('Mothers Little Murderer', 57932, 'Movie', '2004', 'Fantasy'), ('Shrek 2', 57933, 'Movie', '2004', 'Fantasy'), ('Last Mountain', 58249, 'Movie', '2005', 'Fantasy'), ('Mee-Shee: The Water Giant', 58250, 'Movie', '2005', 'Fantasy'), ('The Curse of the Were-Rabbit', 58251, 'Movie', '2005', 'Fantasy'), ('Lung do kei yuen', 58252, 'Movie', '2005', 'Fantasy'), ('God Part II', 58253, 'Video', '2005', 'Fantasy'), ('Whispers from a Shallow Grave', 58566, 'Movie', '2006', 'Fantasy'), (\"Happily N'Ever After\", 58567, 'Movie', '2006', 'Fantasy'), ('Arthur en de Minimoys', 58570, 'Movie', '2006', 'Fantasy'), ('The Science of Sleep', 58571, 'Movie', '2006', 'Fantasy'), ('Love Hollywood Style', 58572, 'Movie', '2006', 'Fantasy'), ('Sea of Dreams', 58573, 'Movie', '2006', 'Fantasy'), ('Ratatouille', 58890, 'Movie', '2007', 'Fantasy'), ('The Golden Compass', 58891, 'Movie', '2007', 'Fantasy'), ('Meet the Robinsons', 58892, 'Movie', '2007', 'Fantasy'), ('Blood and Chocolate', 58893, 'Movie', '2007', 'Fantasy'), ('In Your Dreams', 59206, 'Movie', '2008', 'Fantasy'), ('Carlston za Ognjenku', 59208, 'Movie', '2008', 'Fantasy'), ('De maanprinses en het geheim van het witte paard', 59209, 'Movie', '2008', 'Fantasy'), (\"Nim's Island\", 59210, 'Movie', '2008', 'Fantasy'), ('Hellboy II: The Golden Army', 59211, 'Movie', '2008', 'Fantasy'), ('De Spiderwick kronieken', 59212, 'Movie', '2008', 'Fantasy'), ('The Tale of Despereaux', 59213, 'Movie', '2008', 'Fantasy'), ('The Magic Stone', 59524, 'Movie', '2009', 'Fantasy'), ('Malice in Wonderland', 59527, 'Movie', '2009', 'Fantasy'), ('The Lovely Bones', 59529, 'Movie', '2009', 'Fantasy'), ('Skellig', 59530, 'TV Movie', '2009', 'Fantasy'), ('Max en de maximonsters', 59531, 'Movie', '2009', 'Fantasy'), ('Proinhibition', 59532, 'Short', '2009', 'Fantasy'), ('The Dream of Alvareen', 59533, 'Video', '2009', 'Fantasy'), ('Dormir al sol', 59845, 'Movie', '2010', 'Fantasy'), ('Piranha 3D', 59848, 'Movie', '2010', 'Fantasy'), ('Prince of Persia: The Sands of Time', 59849, 'Movie', '2010', 'Fantasy'), ('El horror de la dama del lago', 59850, 'Movie', '2010', 'Fantasy'), ('Ramona and Beezus', 59851, 'Movie', '2010', 'Fantasy'), ('Tranced', 59852, 'Movie', '2010', 'Fantasy'), ('The Legend of Secret Pass', 59853, 'Movie', '2010', 'Fantasy'), ('50 Feet of String', 60164, 'Movie', '2011', 'Fantasy'), ('The Smurfs', 60167, 'Movie', '2011', 'Fantasy'), ('The Tree of Life', 60168, 'Movie', '2011', 'Fantasy'), ('The Nine Lives of Chloe King', 60170, 'TV Mini Series', '2011', 'Fantasy'), ('Thor', 60171, 'Movie', '2011', 'Fantasy'), ('Spoon', 60172, 'Movie', '2011', 'Fantasy'), ('Conan the Barbarian', 60173, 'Movie', '2011', 'Fantasy'), ('Hotel Transylvania', 60488, 'Movie', '2012', 'Fantasy'), ('De Hobbit: Een onverwachte reis', 60489, 'Movie', '2012', 'Fantasy'), ('Masuk', 60490, 'Short', '2012', 'Fantasy'), ('Kathakas', 60491, 'Short', '2012', 'Fantasy'), ('Hors de Contrôle', 60492, 'TV Episode', '2012', 'Fantasy'), ('Déchirements', 60493, 'TV Episode', '2012', 'Fantasy'), ('The Fallen Word', 60807, 'Movie', '2013', 'Fantasy'), (\"Legends of Oz: Dorothy's Return\", 60809, 'Movie', '2013', 'Fantasy'), ('Legend of the Red Reaper', 60810, 'Movie', '2013', 'Fantasy'), ('Episode #1.207', 60811, 'TV Episode', '2013', 'Fantasy'), ('Episode #1.214', 60812, 'TV Episode', '2013', 'Fantasy'), ('Episode #1.210', 60813, 'TV Episode', '2013', 'Fantasy'), ('The Hero of Color City', 61126, 'Movie', '2014', 'Fantasy'), ('Hamlet A.D.D.', 61130, 'Movie', '2014', 'Fantasy'), ('Tracy Smith: La Cueva de Resurrección', 61131, 'Short', '2014', 'Fantasy'), ('High Five', 61132, 'TV Episode', '2014', 'Fantasy'), ('Bar B Cubes', 61133, 'TV Episode', '2014', 'Fantasy'), ('Episode #1.324', 61448, 'TV Episode', '2015', 'Fantasy'), ('Episode #1.329', 61449, 'TV Episode', '2015', 'Fantasy'), ('Episode #1.333', 61450, 'TV Episode', '2015', 'Fantasy'), ('Episode #1.334', 61451, 'TV Episode', '2015', 'Fantasy'), ('Episode #1.322', 61452, 'TV Episode', '2015', 'Fantasy'), ('Episode #1.332', 61453, 'TV Episode', '2015', 'Fantasy')]\n"
     ]
    }
   ],
   "source": [
    "genero_fant = \"Fantasy\"\n",
    "resultados_fantasy = peliculas_por_genero(genero_fant,rango_anios)\n",
    "print(resultados_fantasy)"
   ]
  },
  {
   "cell_type": "markdown",
   "metadata": {},
   "source": [
    "Organizacion resultados peliculas y series"
   ]
  },
  {
   "cell_type": "code",
   "execution_count": 46,
   "metadata": {},
   "outputs": [
    {
     "name": "stdout",
     "output_type": "stream",
     "text": [
      "Esta es la lista de pelis [('Keizer Kuzco', 56646, 'Movie', '2000', 'Fantasy'), ('Dinosaur', 56647, 'Movie', '2000', 'Fantasy'), ('The Crow: Salvation', 56648, 'Movie', '2000', 'Fantasy'), ('The Adventures of Rocky & Bullwinkle', 56649, 'Movie', '2000', 'Fantasy'), ('The Road to El Dorado', 56650, 'Movie', '2000', 'Fantasy'), ('Highlander: Endgame', 56651, 'Movie', '2000', 'Fantasy'), ('Red Lipstick', 56652, 'Movie', '2000', 'Fantasy'), ('The Legend of Bagger Vance', 56653, 'Movie', '2000', 'Fantasy'), (\"The Sorcerer's Apprentice\", 56965, 'Movie', '2001', 'Fantasy'), ('Lightmaker', 56968, 'Movie', '2001', 'Fantasy'), ('Little Shop of Erotica', 56970, 'Movie', '2001', 'Fantasy'), ('Un jour', 56971, 'Short', '2001', 'Fantasy'), ('Vidocq', 56972, 'Movie', '2001', 'Fantasy'), ('Monkeybone', 56973, 'Movie', '2001', 'Fantasy'), ('Piratenplaneet', 57286, 'Movie', '2002', 'Fantasy'), ('The Princess and the Pea', 57287, 'Movie', '2002', 'Fantasy'), ('Interstate 60: Episodes of the Road', 57288, 'Movie', '2002', 'Fantasy'), ('The Lord of the Rings: The Two Towers', 57289, 'Movie', '2002', 'Fantasy'), ('La balsa de piedra', 57290, 'Movie', '2002', 'Fantasy'), ('Legend of the Phantom Rider', 57293, 'Movie', '2002', 'Fantasy'), ('Silver Man', 57607, 'Movie', '2003', 'Fantasy'), ('Pumuckl und sein Zirkusabenteuer', 57609, 'Movie', '2003', 'Fantasy'), ('Bulletproof Monk', 57611, 'Movie', '2003', 'Fantasy'), ('El milagro', 57612, 'Short', '2003', 'Fantasy'), ('The Devil and Daniel Webster', 57613, 'Movie', '2003', 'Fantasy'), ('Warrior Sisters', 57925, 'Movie', '2004', 'Fantasy'), ('Raspberry & Lavender', 57927, 'Movie', '2004', 'Fantasy'), ('Berserker', 57929, 'Movie', '2004', 'Fantasy'), ('Off the Pages', 57931, 'Movie', '2004', 'Fantasy'), ('Mothers Little Murderer', 57932, 'Movie', '2004', 'Fantasy'), ('Shrek 2', 57933, 'Movie', '2004', 'Fantasy'), ('Last Mountain', 58249, 'Movie', '2005', 'Fantasy'), ('Mee-Shee: The Water Giant', 58250, 'Movie', '2005', 'Fantasy'), ('The Curse of the Were-Rabbit', 58251, 'Movie', '2005', 'Fantasy'), ('Lung do kei yuen', 58252, 'Movie', '2005', 'Fantasy'), ('Whispers from a Shallow Grave', 58566, 'Movie', '2006', 'Fantasy'), (\"Happily N'Ever After\", 58567, 'Movie', '2006', 'Fantasy'), ('Arthur en de Minimoys', 58570, 'Movie', '2006', 'Fantasy'), ('The Science of Sleep', 58571, 'Movie', '2006', 'Fantasy'), ('Love Hollywood Style', 58572, 'Movie', '2006', 'Fantasy'), ('Sea of Dreams', 58573, 'Movie', '2006', 'Fantasy'), ('Ratatouille', 58890, 'Movie', '2007', 'Fantasy'), ('The Golden Compass', 58891, 'Movie', '2007', 'Fantasy'), ('Meet the Robinsons', 58892, 'Movie', '2007', 'Fantasy'), ('Blood and Chocolate', 58893, 'Movie', '2007', 'Fantasy'), ('In Your Dreams', 59206, 'Movie', '2008', 'Fantasy'), ('Carlston za Ognjenku', 59208, 'Movie', '2008', 'Fantasy'), ('De maanprinses en het geheim van het witte paard', 59209, 'Movie', '2008', 'Fantasy'), (\"Nim's Island\", 59210, 'Movie', '2008', 'Fantasy'), ('Hellboy II: The Golden Army', 59211, 'Movie', '2008', 'Fantasy'), ('De Spiderwick kronieken', 59212, 'Movie', '2008', 'Fantasy'), ('The Tale of Despereaux', 59213, 'Movie', '2008', 'Fantasy'), ('The Magic Stone', 59524, 'Movie', '2009', 'Fantasy'), ('Malice in Wonderland', 59527, 'Movie', '2009', 'Fantasy'), ('The Lovely Bones', 59529, 'Movie', '2009', 'Fantasy'), ('Max en de maximonsters', 59531, 'Movie', '2009', 'Fantasy'), ('Proinhibition', 59532, 'Short', '2009', 'Fantasy'), ('Dormir al sol', 59845, 'Movie', '2010', 'Fantasy'), ('Piranha 3D', 59848, 'Movie', '2010', 'Fantasy'), ('Prince of Persia: The Sands of Time', 59849, 'Movie', '2010', 'Fantasy'), ('El horror de la dama del lago', 59850, 'Movie', '2010', 'Fantasy'), ('Ramona and Beezus', 59851, 'Movie', '2010', 'Fantasy'), ('Tranced', 59852, 'Movie', '2010', 'Fantasy'), ('The Legend of Secret Pass', 59853, 'Movie', '2010', 'Fantasy'), ('50 Feet of String', 60164, 'Movie', '2011', 'Fantasy'), ('The Smurfs', 60167, 'Movie', '2011', 'Fantasy'), ('The Tree of Life', 60168, 'Movie', '2011', 'Fantasy'), ('Thor', 60171, 'Movie', '2011', 'Fantasy'), ('Spoon', 60172, 'Movie', '2011', 'Fantasy'), ('Conan the Barbarian', 60173, 'Movie', '2011', 'Fantasy'), ('Hotel Transylvania', 60488, 'Movie', '2012', 'Fantasy'), ('De Hobbit: Een onverwachte reis', 60489, 'Movie', '2012', 'Fantasy'), ('Masuk', 60490, 'Short', '2012', 'Fantasy'), ('Kathakas', 60491, 'Short', '2012', 'Fantasy'), ('The Fallen Word', 60807, 'Movie', '2013', 'Fantasy'), (\"Legends of Oz: Dorothy's Return\", 60809, 'Movie', '2013', 'Fantasy'), ('Legend of the Red Reaper', 60810, 'Movie', '2013', 'Fantasy'), ('The Hero of Color City', 61126, 'Movie', '2014', 'Fantasy'), ('Hamlet A.D.D.', 61130, 'Movie', '2014', 'Fantasy'), ('Tracy Smith: La Cueva de Resurrección', 61131, 'Short', '2014', 'Fantasy')]\n"
     ]
    }
   ],
   "source": [
    "lista_fant_peli=[]\n",
    "lista_fant_serie=[]\n",
    "\n",
    "for dato in resultados_fantasy:\n",
    "    if dato[2] == 'Movie'or dato[2] == 'Short':\n",
    "        lista_fant_peli.append(dato)\n",
    "    elif dato[2] == 'TV series' or dato[2] == 'TV Episode' :\n",
    "        lista_fant_serie.append(dato)\n",
    "    \n",
    "    \n",
    "print ('Esta es la lista de pelis', lista_fant_peli)"
   ]
  },
  {
   "cell_type": "markdown",
   "metadata": {},
   "source": [
    "Lista con tupla de nombre y año Fantasy"
   ]
  },
  {
   "cell_type": "code",
   "execution_count": 47,
   "metadata": {},
   "outputs": [
    {
     "name": "stdout",
     "output_type": "stream",
     "text": [
      "['Keizer Kuzco (2000)', 'Dinosaur (2000)', 'The Crow: Salvation (2000)', 'The Adventures of Rocky & Bullwinkle (2000)', 'The Road to El Dorado (2000)', 'Highlander: Endgame (2000)', 'Red Lipstick (2000)', 'The Legend of Bagger Vance (2000)', \"The Sorcerer's Apprentice (2001)\", 'Lightmaker (2001)', 'Little Shop of Erotica (2001)', 'Un jour (2001)', 'Vidocq (2001)', 'Monkeybone (2001)', 'Piratenplaneet (2002)', 'The Princess and the Pea (2002)', 'Interstate 60: Episodes of the Road (2002)', 'The Lord of the Rings: The Two Towers (2002)', 'La balsa de piedra (2002)', 'Legend of the Phantom Rider (2002)', 'Silver Man (2003)', 'Pumuckl und sein Zirkusabenteuer (2003)', 'Bulletproof Monk (2003)', 'El milagro (2003)', 'The Devil and Daniel Webster (2003)', 'Warrior Sisters (2004)', 'Raspberry & Lavender (2004)', 'Berserker (2004)', 'Off the Pages (2004)', 'Mothers Little Murderer (2004)', 'Shrek 2 (2004)', 'Last Mountain (2005)', 'Mee-Shee: The Water Giant (2005)', 'The Curse of the Were-Rabbit (2005)', 'Lung do kei yuen (2005)', 'Whispers from a Shallow Grave (2006)', \"Happily N'Ever After (2006)\", 'Arthur en de Minimoys (2006)', 'The Science of Sleep (2006)', 'Love Hollywood Style (2006)', 'Sea of Dreams (2006)', 'Ratatouille (2007)', 'The Golden Compass (2007)', 'Meet the Robinsons (2007)', 'Blood and Chocolate (2007)', 'In Your Dreams (2008)', 'Carlston za Ognjenku (2008)', 'De maanprinses en het geheim van het witte paard (2008)', \"Nim's Island (2008)\", 'Hellboy II: The Golden Army (2008)', 'De Spiderwick kronieken (2008)', 'The Tale of Despereaux (2008)', 'The Magic Stone (2009)', 'Malice in Wonderland (2009)', 'The Lovely Bones (2009)', 'Max en de maximonsters (2009)', 'Proinhibition (2009)', 'Dormir al sol (2010)', 'Piranha 3D (2010)', 'Prince of Persia: The Sands of Time (2010)', 'El horror de la dama del lago (2010)', 'Ramona and Beezus (2010)', 'Tranced (2010)', 'The Legend of Secret Pass (2010)', '50 Feet of String (2011)', 'The Smurfs (2011)', 'The Tree of Life (2011)', 'Thor (2011)', 'Spoon (2011)', 'Conan the Barbarian (2011)', 'Hotel Transylvania (2012)', 'De Hobbit: Een onverwachte reis (2012)', 'Masuk (2012)', 'Kathakas (2012)', 'The Fallen Word (2013)', \"Legends of Oz: Dorothy's Return (2013)\", 'Legend of the Red Reaper (2013)', 'The Hero of Color City (2014)', 'Hamlet A.D.D. (2014)', 'Tracy Smith: La Cueva de Resurrección (2014)']\n"
     ]
    }
   ],
   "source": [
    "lista_fant_peli_nombre_anio=[]\n",
    "\n",
    "# Iterar sobre cada tupla en la lista resultados\n",
    "for pelicula in lista_fant_peli:\n",
    "    # Acceder al nombre y al año de cada tupla\n",
    "    nombre = pelicula[0]\n",
    "    anio = pelicula[3]\n",
    "    \n",
    "    # Crear el string con nombre y año, y añadirlo a la lista\n",
    "    lista_fant_peli_nombre_anio.append(f\"{nombre} ({anio})\")\n",
    "\n",
    "# Mostrar el resultado\n",
    "print(lista_fant_peli_nombre_anio)"
   ]
  },
  {
   "cell_type": "markdown",
   "metadata": {},
   "source": [
    "## Extracción de Action"
   ]
  },
  {
   "cell_type": "markdown",
   "metadata": {},
   "source": [
    "Info API"
   ]
  },
  {
   "cell_type": "code",
   "execution_count": 48,
   "metadata": {},
   "outputs": [
    {
     "name": "stdout",
     "output_type": "stream",
     "text": [
      "[('The Incorporated', 56608, 'Movie', '2000', 'Action'), ('Heavy Metal 2000', 56609, 'Movie', '2000', 'Action'), ('Mission: Impossible II', 56610, 'Movie', '2000', 'Action'), ('Titan A.E.', 56611, 'Movie', '2000', 'Action'), ('Foiled', 56612, 'Movie', '2000', 'Action'), ('X-Men', 56613, 'Movie', '2000', 'Action'), ('The Silent Force', 56925, 'Movie', '2001', 'Action'), (\"Blazin'\", 56927, 'Movie', '2001', 'Action'), ('Driven', 56928, 'Movie', '2001', 'Action'), ('Planet of the Apes', 56929, 'Movie', '2001', 'Action'), ('The Falkland Man', 56930, 'Video', '2001', 'Action'), ('The Ghost', 56931, 'Movie', '2001', 'Action'), ('Lara Croft: Tomb Raider', 56932, 'Movie', '2001', 'Action'), ('Camouflage', 56933, 'Movie', '2001', 'Action'), ('Star Wars: Episode II - Attack of the Clones', 57244, 'Movie', '2002', 'Action'), (\"A Troll's Bridge\", 57245, 'Video', '2002', 'Action'), ('Resident Evil', 57246, 'Movie', '2002', 'Action'), ('Spider-Man', 57251, 'Movie', '2002', 'Action'), ('Last Fair Deal', 57252, 'Movie', '2002', 'Action'), ('Freelancer', 57564, 'Video Game', '2003', 'Action'), ('Terminator 3: Rise of the Machines', 57567, 'Movie', '2003', 'Action'), ('Plastik Man', 57568, 'Short', '2003', 'Action'), ('A Good Night to Die', 57569, 'Movie', '2003', 'Action'), ('TRON 2.0', 57570, 'Video Game', '2003', 'Action'), ('Den hemlige riddaren II: Återkomsten', 57571, 'Movie', '2003', 'Action'), ('Necro Files 2', 57572, 'Video', '2003', 'Action'), ('Road Dogs', 57573, 'Movie', '2003', 'Action'), ('Split', 57885, 'Movie', '2004', 'Action'), ('Hellboy', 57887, 'Movie', '2004', 'Action'), ('Galleon', 57890, 'Video Game', '2004', 'Action'), ('Vampire Lesbian Kickboxers', 57891, 'Movie', '2004', 'Action'), ('Anji', 57892, 'Movie', '2004', 'Action'), ('Radius', 57893, 'Short', '2004', 'Action'), ('Star Wars: Episode III - Revenge of the Sith', 58204, 'Movie', '2005', 'Action'), ('Fantastic Four', 58205, 'Movie', '2005', 'Action'), ('Ice Queen', 58207, 'Video', '2005', 'Action'), ('Striptease Baby Dolls from Cleveland Meet the Unkillables', 58208, 'Movie', '2005', 'Action'), ('Wilson Chance', 58209, 'Movie', '2005', 'Action'), ('The Karate Dog', 58210, 'TV Movie', '2005', 'Action'), ('Man-Thing', 58211, 'Movie', '2005', 'Action'), ('The Sea Wolf', 58212, 'Movie', '2005', 'Action'), ('Dark Assassin', 58213, 'Movie', '2005', 'Action'), ('Drive Time Murders', 58526, 'TV Movie', '2006', 'Action'), ('Mission: Impossible III', 58527, 'Movie', '2006', 'Action'), ('The Drop', 58528, 'Movie', '2006', 'Action'), ('Detroit', 58529, 'Movie', '2006', 'Action'), ('Meteoro', 58530, 'Movie', '2006', 'Action'), ('The Detonator', 58531, 'Video', '2006', 'Action'), ('Superman Returns', 58532, 'Movie', '2006', 'Action'), ('The Brink', 58533, 'Video', '2006', 'Action'), ('Ghost Rider', 58844, 'Movie', '2007', 'Action'), ('Highlander: The Source', 58847, 'TV Movie', '2007', 'Action'), ('Band of Pirates: Buccaneer Island', 58848, 'Video', '2007', 'Action'), ('Intergalactic Combat', 58849, 'Movie', '2007', 'Action'), ('Die Hard 4.0', 58850, 'Movie', '2007', 'Action'), ('The Chosen One', 58851, 'Movie', '2007', 'Action'), ('D-War', 58852, 'Movie', '2007', 'Action'), ('Harry Potter and the Order of the Phoenix', 58853, 'Movie', '2007', 'Action'), ('Muhomatsu no issho', 59164, 'Movie', '2008', 'Action'), ('The Flyboys', 59167, 'Movie', '2008', 'Action'), ('Babylon A.D.', 59168, 'Movie', '2008', 'Action'), ('The Red Baron', 59169, 'Movie', '2008', 'Action'), ('Indiana Jones and the Kingdom of the Crystal Skull', 59170, 'Movie', '2008', 'Action'), ('Iron Man', 59171, 'Movie', '2008', 'Action'), ('Journey to the Center of the Earth', 59172, 'Movie', '2008', 'Action'), ('Far Cry', 59173, 'Movie', '2008', 'Action'), ('Whiteout', 59487, 'Movie', '2009', 'Action'), ('Sterling: The Secret of the Lost Medallion', 59488, 'Movie', '2009', 'Action'), ('Watchmen', 59490, 'Movie', '2009', 'Action'), ('Harry Potter en de halfbloed prins', 59491, 'Movie', '2009', 'Action'), ('The Haunted World of El Superbeasto', 59492, 'Video', '2009', 'Action'), ('Royal Kill', 59493, 'Movie', '2009', 'Action'), ('Young Alexander the Great', 59805, 'Video', '2010', 'Action'), ('Tekken', 59806, 'Movie', '2010', 'Action'), ('The A-Team', 59808, 'Movie', '2010', 'Action'), ('Segurança Nacional', 59809, 'Movie', '2010', 'Action'), ('Taken by Force', 59811, 'Movie', '2010', 'Action'), ('Guns, Drugs and Dirty Money', 59812, 'Movie', '2010', 'Action'), ('Komaram Puli', 59813, 'Movie', '2010', 'Action'), ('Cowboys & Aliens', 60126, 'Movie', '2011', 'Action'), ('Real Steel', 60127, 'Movie', '2011', 'Action'), ('Captain America: The First Avenger', 60128, 'Movie', '2011', 'Action'), ('Platinum Illusions', 60129, 'Movie', '2011', 'Action'), ('The Mechanic', 60130, 'Movie', '2011', 'Action'), ('Tower Heist', 60131, 'Movie', '2011', 'Action'), ('Super Monkey Ball 3D', 60132, 'Video Game', '2011', 'Action'), ('Season of the Witch', 60133, 'Movie', '2011', 'Action'), ('John Carter', 60445, 'Movie', '2012', 'Action'), ('Clutch', 60446, 'Movie', '2012', 'Action'), ('Red Tails', 60447, 'Movie', '2012', 'Action'), ('Jack Reacher', 60448, 'Movie', '2012', 'Action'), ('Gallowwalkers', 60449, 'Movie', '2012', 'Action'), ('The Avengers', 60450, 'Movie', '2012', 'Action'), ('The Sweeney', 60451, 'Movie', '2012', 'Action'), ('Evangelion Shin Gekijôban: Kyu', 60452, 'Movie', '2012', 'Action'), ('The Amazing Spider-Man 3D', 60453, 'Movie', '2012', 'Action'), ('U.S. Bounty Hunters', 60764, 'TV Series', '2013', 'Action'), ('Prisoners of the Sun', 60767, 'Movie', '2013', 'Action'), ('Man of Steel', 60768, 'Movie', '2013', 'Action'), ('World War Z', 60770, 'Movie', '2013', 'Action'), ('The Power of Few', 60771, 'Movie', '2013', 'Action'), ('Epic', 60772, 'Movie', '2013', 'Action'), ('Snitch', 60773, 'Movie', '2013', 'Action'), ('Action Jackson', 61086, 'Movie', '2014', 'Action'), ('The Equalizer', 61087, 'Movie', '2014', 'Action'), ('Sin City: A Dame to Kill For', 61088, 'Movie', '2014', 'Action'), ('Jersey Justice', 61090, 'Movie', '2014', 'Action'), ('Dracula Untold', 61091, 'Movie', '2014', 'Action'), ('Godzilla', 61092, 'Movie', '2014', 'Action'), ('Electric Slide', 61093, 'Movie', '2014', 'Action'), ('Jurassic World', 61404, 'Movie', '2015', 'Action'), ('Oscar Buzz', 61406, 'Short', '2015', 'Action'), ('Episode #1.266', 61407, 'TV Episode', '2015', 'Action'), ('Episode #1.264', 61408, 'TV Episode', '2015', 'Action'), ('Episode #1.260', 61409, 'TV Episode', '2015', 'Action'), ('Episode #1.254', 61410, 'TV Episode', '2015', 'Action'), ('Episode #1.249', 61411, 'TV Episode', '2015', 'Action'), ('Episode #1.253', 61412, 'TV Episode', '2015', 'Action'), ('Episode #1.275', 61413, 'TV Episode', '2015', 'Action')]\n"
     ]
    }
   ],
   "source": [
    "genero_act = \"Action\"\n",
    "resultados_action = peliculas_por_genero(genero_act,rango_anios)\n",
    "print(resultados_action)"
   ]
  },
  {
   "cell_type": "markdown",
   "metadata": {},
   "source": [
    "Organizacion resultados peliculas y series"
   ]
  },
  {
   "cell_type": "code",
   "execution_count": 49,
   "metadata": {},
   "outputs": [
    {
     "name": "stdout",
     "output_type": "stream",
     "text": [
      "Esta es la lista de pelis [('The Incorporated', 56608, 'Movie', '2000', 'Action'), ('Heavy Metal 2000', 56609, 'Movie', '2000', 'Action'), ('Mission: Impossible II', 56610, 'Movie', '2000', 'Action'), ('Titan A.E.', 56611, 'Movie', '2000', 'Action'), ('Foiled', 56612, 'Movie', '2000', 'Action'), ('X-Men', 56613, 'Movie', '2000', 'Action'), ('The Silent Force', 56925, 'Movie', '2001', 'Action'), (\"Blazin'\", 56927, 'Movie', '2001', 'Action'), ('Driven', 56928, 'Movie', '2001', 'Action'), ('Planet of the Apes', 56929, 'Movie', '2001', 'Action'), ('The Ghost', 56931, 'Movie', '2001', 'Action'), ('Lara Croft: Tomb Raider', 56932, 'Movie', '2001', 'Action'), ('Camouflage', 56933, 'Movie', '2001', 'Action'), ('Star Wars: Episode II - Attack of the Clones', 57244, 'Movie', '2002', 'Action'), ('Resident Evil', 57246, 'Movie', '2002', 'Action'), ('Spider-Man', 57251, 'Movie', '2002', 'Action'), ('Last Fair Deal', 57252, 'Movie', '2002', 'Action'), ('Terminator 3: Rise of the Machines', 57567, 'Movie', '2003', 'Action'), ('Plastik Man', 57568, 'Short', '2003', 'Action'), ('A Good Night to Die', 57569, 'Movie', '2003', 'Action'), ('Den hemlige riddaren II: Återkomsten', 57571, 'Movie', '2003', 'Action'), ('Road Dogs', 57573, 'Movie', '2003', 'Action'), ('Split', 57885, 'Movie', '2004', 'Action'), ('Hellboy', 57887, 'Movie', '2004', 'Action'), ('Vampire Lesbian Kickboxers', 57891, 'Movie', '2004', 'Action'), ('Anji', 57892, 'Movie', '2004', 'Action'), ('Radius', 57893, 'Short', '2004', 'Action'), ('Star Wars: Episode III - Revenge of the Sith', 58204, 'Movie', '2005', 'Action'), ('Fantastic Four', 58205, 'Movie', '2005', 'Action'), ('Striptease Baby Dolls from Cleveland Meet the Unkillables', 58208, 'Movie', '2005', 'Action'), ('Wilson Chance', 58209, 'Movie', '2005', 'Action'), ('Man-Thing', 58211, 'Movie', '2005', 'Action'), ('The Sea Wolf', 58212, 'Movie', '2005', 'Action'), ('Dark Assassin', 58213, 'Movie', '2005', 'Action'), ('Mission: Impossible III', 58527, 'Movie', '2006', 'Action'), ('The Drop', 58528, 'Movie', '2006', 'Action'), ('Detroit', 58529, 'Movie', '2006', 'Action'), ('Meteoro', 58530, 'Movie', '2006', 'Action'), ('Superman Returns', 58532, 'Movie', '2006', 'Action'), ('Ghost Rider', 58844, 'Movie', '2007', 'Action'), ('Intergalactic Combat', 58849, 'Movie', '2007', 'Action'), ('Die Hard 4.0', 58850, 'Movie', '2007', 'Action'), ('The Chosen One', 58851, 'Movie', '2007', 'Action'), ('D-War', 58852, 'Movie', '2007', 'Action'), ('Harry Potter and the Order of the Phoenix', 58853, 'Movie', '2007', 'Action'), ('Muhomatsu no issho', 59164, 'Movie', '2008', 'Action'), ('The Flyboys', 59167, 'Movie', '2008', 'Action'), ('Babylon A.D.', 59168, 'Movie', '2008', 'Action'), ('The Red Baron', 59169, 'Movie', '2008', 'Action'), ('Indiana Jones and the Kingdom of the Crystal Skull', 59170, 'Movie', '2008', 'Action'), ('Iron Man', 59171, 'Movie', '2008', 'Action'), ('Journey to the Center of the Earth', 59172, 'Movie', '2008', 'Action'), ('Far Cry', 59173, 'Movie', '2008', 'Action'), ('Whiteout', 59487, 'Movie', '2009', 'Action'), ('Sterling: The Secret of the Lost Medallion', 59488, 'Movie', '2009', 'Action'), ('Watchmen', 59490, 'Movie', '2009', 'Action'), ('Harry Potter en de halfbloed prins', 59491, 'Movie', '2009', 'Action'), ('Royal Kill', 59493, 'Movie', '2009', 'Action'), ('Tekken', 59806, 'Movie', '2010', 'Action'), ('The A-Team', 59808, 'Movie', '2010', 'Action'), ('Segurança Nacional', 59809, 'Movie', '2010', 'Action'), ('Taken by Force', 59811, 'Movie', '2010', 'Action'), ('Guns, Drugs and Dirty Money', 59812, 'Movie', '2010', 'Action'), ('Komaram Puli', 59813, 'Movie', '2010', 'Action'), ('Cowboys & Aliens', 60126, 'Movie', '2011', 'Action'), ('Real Steel', 60127, 'Movie', '2011', 'Action'), ('Captain America: The First Avenger', 60128, 'Movie', '2011', 'Action'), ('Platinum Illusions', 60129, 'Movie', '2011', 'Action'), ('The Mechanic', 60130, 'Movie', '2011', 'Action'), ('Tower Heist', 60131, 'Movie', '2011', 'Action'), ('Season of the Witch', 60133, 'Movie', '2011', 'Action'), ('John Carter', 60445, 'Movie', '2012', 'Action'), ('Clutch', 60446, 'Movie', '2012', 'Action'), ('Red Tails', 60447, 'Movie', '2012', 'Action'), ('Jack Reacher', 60448, 'Movie', '2012', 'Action'), ('Gallowwalkers', 60449, 'Movie', '2012', 'Action'), ('The Avengers', 60450, 'Movie', '2012', 'Action'), ('The Sweeney', 60451, 'Movie', '2012', 'Action'), ('Evangelion Shin Gekijôban: Kyu', 60452, 'Movie', '2012', 'Action'), ('The Amazing Spider-Man 3D', 60453, 'Movie', '2012', 'Action'), ('Prisoners of the Sun', 60767, 'Movie', '2013', 'Action'), ('Man of Steel', 60768, 'Movie', '2013', 'Action'), ('World War Z', 60770, 'Movie', '2013', 'Action'), ('The Power of Few', 60771, 'Movie', '2013', 'Action'), ('Epic', 60772, 'Movie', '2013', 'Action'), ('Snitch', 60773, 'Movie', '2013', 'Action'), ('Action Jackson', 61086, 'Movie', '2014', 'Action'), ('The Equalizer', 61087, 'Movie', '2014', 'Action'), ('Sin City: A Dame to Kill For', 61088, 'Movie', '2014', 'Action'), ('Jersey Justice', 61090, 'Movie', '2014', 'Action'), ('Dracula Untold', 61091, 'Movie', '2014', 'Action'), ('Godzilla', 61092, 'Movie', '2014', 'Action'), ('Electric Slide', 61093, 'Movie', '2014', 'Action'), ('Jurassic World', 61404, 'Movie', '2015', 'Action'), ('Oscar Buzz', 61406, 'Short', '2015', 'Action')]\n"
     ]
    }
   ],
   "source": [
    "lista_act_peli=[]\n",
    "lista_act_serie=[]\n",
    "\n",
    "for dato in resultados_action:\n",
    "    if dato[2] == 'Movie'or dato[2] == 'Short':\n",
    "        lista_act_peli.append(dato)\n",
    "    elif dato[2] == 'TV series' or dato[2] == 'TV Episode' :\n",
    "        lista_act_serie.append(dato)\n",
    "    \n",
    "    \n",
    "print ('Esta es la lista de pelis', lista_act_peli)"
   ]
  },
  {
   "cell_type": "markdown",
   "metadata": {},
   "source": [
    "Lista con tupla de nombre y año Action"
   ]
  },
  {
   "cell_type": "code",
   "execution_count": 50,
   "metadata": {},
   "outputs": [
    {
     "name": "stdout",
     "output_type": "stream",
     "text": [
      "['The Incorporated (2000)', 'Heavy Metal 2000 (2000)', 'Mission: Impossible II (2000)', 'Titan A.E. (2000)', 'Foiled (2000)', 'X-Men (2000)', 'The Silent Force (2001)', \"Blazin' (2001)\", 'Driven (2001)', 'Planet of the Apes (2001)', 'The Ghost (2001)', 'Lara Croft: Tomb Raider (2001)', 'Camouflage (2001)', 'Star Wars: Episode II - Attack of the Clones (2002)', 'Resident Evil (2002)', 'Spider-Man (2002)', 'Last Fair Deal (2002)', 'Terminator 3: Rise of the Machines (2003)', 'Plastik Man (2003)', 'A Good Night to Die (2003)', 'Den hemlige riddaren II: Återkomsten (2003)', 'Road Dogs (2003)', 'Split (2004)', 'Hellboy (2004)', 'Vampire Lesbian Kickboxers (2004)', 'Anji (2004)', 'Radius (2004)', 'Star Wars: Episode III - Revenge of the Sith (2005)', 'Fantastic Four (2005)', 'Striptease Baby Dolls from Cleveland Meet the Unkillables (2005)', 'Wilson Chance (2005)', 'Man-Thing (2005)', 'The Sea Wolf (2005)', 'Dark Assassin (2005)', 'Mission: Impossible III (2006)', 'The Drop (2006)', 'Detroit (2006)', 'Meteoro (2006)', 'Superman Returns (2006)', 'Ghost Rider (2007)', 'Intergalactic Combat (2007)', 'Die Hard 4.0 (2007)', 'The Chosen One (2007)', 'D-War (2007)', 'Harry Potter and the Order of the Phoenix (2007)', 'Muhomatsu no issho (2008)', 'The Flyboys (2008)', 'Babylon A.D. (2008)', 'The Red Baron (2008)', 'Indiana Jones and the Kingdom of the Crystal Skull (2008)', 'Iron Man (2008)', 'Journey to the Center of the Earth (2008)', 'Far Cry (2008)', 'Whiteout (2009)', 'Sterling: The Secret of the Lost Medallion (2009)', 'Watchmen (2009)', 'Harry Potter en de halfbloed prins (2009)', 'Royal Kill (2009)', 'Tekken (2010)', 'The A-Team (2010)', 'Segurança Nacional (2010)', 'Taken by Force (2010)', 'Guns, Drugs and Dirty Money (2010)', 'Komaram Puli (2010)', 'Cowboys & Aliens (2011)', 'Real Steel (2011)', 'Captain America: The First Avenger (2011)', 'Platinum Illusions (2011)', 'The Mechanic (2011)', 'Tower Heist (2011)', 'Season of the Witch (2011)', 'John Carter (2012)', 'Clutch (2012)', 'Red Tails (2012)', 'Jack Reacher (2012)', 'Gallowwalkers (2012)', 'The Avengers (2012)', 'The Sweeney (2012)', 'Evangelion Shin Gekijôban: Kyu (2012)', 'The Amazing Spider-Man 3D (2012)', 'Prisoners of the Sun (2013)', 'Man of Steel (2013)', 'World War Z (2013)', 'The Power of Few (2013)', 'Epic (2013)', 'Snitch (2013)', 'Action Jackson (2014)', 'The Equalizer (2014)', 'Sin City: A Dame to Kill For (2014)', 'Jersey Justice (2014)', 'Dracula Untold (2014)', 'Godzilla (2014)', 'Electric Slide (2014)', 'Jurassic World (2015)', 'Oscar Buzz (2015)']\n"
     ]
    }
   ],
   "source": [
    "lista_act_peli_nombre_anio=[]\n",
    "\n",
    "# Iterar sobre cada tupla en la lista resultados\n",
    "for pelicula in lista_act_peli :\n",
    "    # Acceder al nombre y al año de cada tupla\n",
    "    nombre = pelicula[0]\n",
    "    anio = pelicula[3]\n",
    "    \n",
    "    # Crear el string con nombre y año, y añadirlo a la lista\n",
    "    lista_act_peli_nombre_anio.append(f\"{nombre} ({anio})\")\n",
    "\n",
    "# Mostrar el resultado\n",
    "print(lista_act_peli_nombre_anio)"
   ]
  }
 ],
 "metadata": {
  "kernelspec": {
   "display_name": "base",
   "language": "python",
   "name": "python3"
  },
  "language_info": {
   "codemirror_mode": {
    "name": "ipython",
    "version": 3
   },
   "file_extension": ".py",
   "mimetype": "text/x-python",
   "name": "python",
   "nbconvert_exporter": "python",
   "pygments_lexer": "ipython3",
   "version": "3.12.4"
  }
 },
 "nbformat": 4,
 "nbformat_minor": 2
}
