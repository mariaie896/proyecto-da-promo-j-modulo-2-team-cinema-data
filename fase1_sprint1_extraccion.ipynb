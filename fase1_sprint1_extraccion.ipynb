{
 "cells": [
  {
   "cell_type": "markdown",
   "metadata": {},
   "source": [
    "En esta fase, usaremos la API de MoviesDataset, que contiene una gran cantidad de información sobre películas, incluyendo detalles como títulos, géneros, años de lanzamiento y más.\n",
    "\n",
    "OBJETIVO: hacer solicitudes a esta API y extraer información relevante sobre las películas.\n",
    "\n",
    "Debemos extraer:\n",
    "\n",
    "- Existen películas desde 1900 hasta 2024.\n",
    "\n",
    "- Elige un rango de años, que incluya 15 años y extrae información de las películas de esos años.\n",
    "\n",
    "- Existen películas que pertenezcan a los siguientes géneros: \"Drama\", \"Comedy\", \"Action\", \"Fantasy\", \"Horror\", \"Mystery\", \"Romance\" y \"Thriller\".\n",
    "Elige un género por cada integrante del equipo y extrae información de las películas de esos géneros.\n",
    "\n",
    "De cada una de las películas tendréis que sacar la siguiente información:\n",
    "\n",
    "- Tipo (si es corto o película).\n",
    "\n",
    "- Nombre de la película o el corto.\n",
    "\n",
    "- Año de estreno de la película o corto.\n",
    "\n",
    "- Id de la película.\n",
    "\n",
    "NOTA: La información de la API deberá ser almacenada en una lista de tuplas. Cada tupla corresponderá a una película. Siguiendo el siguiente ejemplo: [(\"Pelicula\", \"Titanic\", 1997, 12, \"abc123\"), (\"Pelicula\",\"Los Gonnies\", 1985, 6, \"abc456\"), ...]"
   ]
  },
  {
   "cell_type": "code",
   "execution_count": 2,
   "metadata": {},
   "outputs": [
    {
     "name": "stdout",
     "output_type": "stream",
     "text": [
      "Requirement already satisfied: tqdm in /Users/andreagonzalez/anaconda3/lib/python3.12/site-packages (4.66.4)\n"
     ]
    }
   ],
   "source": [
    "!pip install tqdm"
   ]
  },
  {
   "cell_type": "code",
   "execution_count": 3,
   "metadata": {},
   "outputs": [],
   "source": [
    "import requests\n",
    "\n",
    "import pandas as pd\n",
    "\n",
    "from tqdm import tqdm"
   ]
  },
  {
   "cell_type": "code",
   "execution_count": 22,
   "metadata": {},
   "outputs": [
    {
     "data": {
      "text/plain": [
       "'Pál Adrienn'"
      ]
     },
     "execution_count": 22,
     "metadata": {},
     "output_type": "execute_result"
    }
   ],
   "source": [
    "datos_drama['results'][0]['title']"
   ]
  },
  {
   "cell_type": "code",
   "execution_count": 23,
   "metadata": {},
   "outputs": [
    {
     "data": {
      "text/plain": [
       "59724"
      ]
     },
     "execution_count": 23,
     "metadata": {},
     "output_type": "execute_result"
    }
   ],
   "source": [
    "datos_drama['results'][0]['id']"
   ]
  },
  {
   "cell_type": "code",
   "execution_count": 24,
   "metadata": {},
   "outputs": [
    {
     "data": {
      "text/plain": [
       "'Movie'"
      ]
     },
     "execution_count": 24,
     "metadata": {},
     "output_type": "execute_result"
    }
   ],
   "source": [
    "datos_drama['results'][0]['type']"
   ]
  },
  {
   "cell_type": "code",
   "execution_count": 25,
   "metadata": {},
   "outputs": [
    {
     "data": {
      "text/plain": [
       "'2010'"
      ]
     },
     "execution_count": 25,
     "metadata": {},
     "output_type": "execute_result"
    }
   ],
   "source": [
    "datos_drama['results'][0]['year']"
   ]
  },
  {
   "cell_type": "code",
   "execution_count": null,
   "metadata": {},
   "outputs": [],
   "source": [
    "datos_drama['results'][0]['genre']"
   ]
  },
  {
   "cell_type": "code",
   "execution_count": 31,
   "metadata": {},
   "outputs": [
    {
     "name": "stdout",
     "output_type": "stream",
     "text": [
      "Error\n"
     ]
    }
   ],
   "source": [
    "# extraemos un genero y un anio y una pelicula\n",
    "url_drama = \"https://dev.adalab.es/api/cinema/movies?year=2010&genre=Drama\"\n",
    "\n",
    "llamada = requests.get(url_drama)\n",
    "\n",
    "if llamada.status_code == 200:\n",
    "    print(f\"La respuesta de tu llamada es: {llamada.status_code}\")\n",
    "\n",
    "else:\n",
    "    print(\"Error\")"
   ]
  },
  {
   "cell_type": "code",
   "execution_count": 32,
   "metadata": {},
   "outputs": [
    {
     "data": {
      "text/plain": [
       "{'status': 'error',\n",
       " 'code': 502,\n",
       " 'message': 'Application failed to respond',\n",
       " 'request_id': 'cRrApQHESHCo53uSIhhFDA_3500563535'}"
      ]
     },
     "execution_count": 32,
     "metadata": {},
     "output_type": "execute_result"
    }
   ],
   "source": [
    "# lo convertimos a json\n",
    "datos_drama = llamada.json()\n",
    "datos_drama"
   ]
  },
  {
   "cell_type": "code",
   "execution_count": 33,
   "metadata": {},
   "outputs": [],
   "source": [
    "def peliculas_por_genero(lista_genero,rango_anios): \n",
    "      for genero in lista_genero:\n",
    "            for year in rango_anios:\n",
    "                  url_genero = (f\"https://dev.adalab.es/api/cinema/movies?year={year}&genre={genero}\")\n",
    "                  llamada = requests.get(url_genero)\n",
    "                  #print(f\"La respuesta de tu llamada es: {llamada.status_code}\")\n",
    "            \n",
    "                  # lo convertimos a json\n",
    "                  datos_peliculas = llamada.json()\n",
    "                  \n",
    "                  for pelicula in datos_peliculas[\"results\"]:\n",
    "                        titulo = pelicula[\"title\"]\n",
    "                        identificacion = pelicula['id'] \n",
    "                        tipo = pelicula['type']\n",
    "                        anio = pelicula['year']\n",
    "                        genero = pelicula['genre']\n",
    "            \n",
    "      # Listas_vacias\n",
    "\n",
    "      lista_drama = []\n",
    "      lista_comedy = []\n",
    "      lista_action = []\n",
    "      lista_fantasy = []\n",
    "      lista_horror = []\n",
    "      lista_mystery = []\n",
    "      lista_romance = []\n",
    "      lista_thriller = []\n",
    "\n",
    "      if genero == \"Drama\":\n",
    "                  lista_drama.extend([titulo, identificacion, tipo, anio, genero])\n",
    "      elif genero == \"Comedy\":\n",
    "                  lista_comedy.extend([titulo, identificacion, tipo, anio, genero])\n",
    "      elif genero == \"Action\":\n",
    "                  lista_action.extend([titulo, identificacion, tipo, anio, genero])\n",
    "      elif genero == \"Fantasy\":\n",
    "                  lista_fantasy.extend([titulo, identificacion, tipo, anio, genero])\n",
    "      elif genero == \"Horror\":\n",
    "                  lista_horror.extend([titulo, identificacion, tipo, anio, genero])\n",
    "      elif genero == \"Mystery\":\n",
    "                  lista_mystery.extend([titulo, identificacion, tipo, anio, genero])\n",
    "      elif genero == \"Romance\":\n",
    "                  lista_romance.extend([titulo, identificacion, tipo, anio, genero])\n",
    "      elif genero == \"Thriller\":\n",
    "                  lista_thriller.extend([titulo, identificacion, tipo, anio, genero])\n",
    "\n",
    "      return lista_drama,  lista_comedy,lista_action, lista_fantasy, lista_horror,lista_mystery,lista_romance,lista_thriller\n",
    "\n",
    "\n",
    "\n",
    "\n",
    "rango_anios = range(1900, 1915)\n",
    "lista_generos = [\"Drama\", \"Comedy\", \"Action\", \"Fantasy\", \"Horror\", \"Mystery\", \"Romance\", \"Thriller\"]\n"
   ]
  },
  {
   "cell_type": "code",
   "execution_count": 34,
   "metadata": {},
   "outputs": [
    {
     "ename": "KeyError",
     "evalue": "'results'",
     "output_type": "error",
     "traceback": [
      "\u001b[0;31m---------------------------------------------------------------------------\u001b[0m",
      "\u001b[0;31mKeyError\u001b[0m                                  Traceback (most recent call last)",
      "Cell \u001b[0;32mIn[34], line 1\u001b[0m\n\u001b[0;32m----> 1\u001b[0m resultados \u001b[38;5;241m=\u001b[39m peliculas_por_genero(lista_generos,rango_anios)\n\u001b[1;32m      2\u001b[0m \u001b[38;5;28mprint\u001b[39m(resultados)\n",
      "Cell \u001b[0;32mIn[33], line 11\u001b[0m, in \u001b[0;36mpeliculas_por_genero\u001b[0;34m(lista_genero, rango_anios)\u001b[0m\n\u001b[1;32m      6\u001b[0m \u001b[38;5;66;03m#print(f\"La respuesta de tu llamada es: {llamada.status_code}\")\u001b[39;00m\n\u001b[1;32m      7\u001b[0m \n\u001b[1;32m      8\u001b[0m \u001b[38;5;66;03m# lo convertimos a json\u001b[39;00m\n\u001b[1;32m      9\u001b[0m datos_peliculas \u001b[38;5;241m=\u001b[39m llamada\u001b[38;5;241m.\u001b[39mjson()\n\u001b[0;32m---> 11\u001b[0m \u001b[38;5;28;01mfor\u001b[39;00m pelicula \u001b[38;5;129;01min\u001b[39;00m datos_peliculas[\u001b[38;5;124m\"\u001b[39m\u001b[38;5;124mresults\u001b[39m\u001b[38;5;124m\"\u001b[39m]:\n\u001b[1;32m     12\u001b[0m       titulo \u001b[38;5;241m=\u001b[39m pelicula[\u001b[38;5;124m\"\u001b[39m\u001b[38;5;124mtitle\u001b[39m\u001b[38;5;124m\"\u001b[39m]\n\u001b[1;32m     13\u001b[0m       identificacion \u001b[38;5;241m=\u001b[39m pelicula[\u001b[38;5;124m'\u001b[39m\u001b[38;5;124mid\u001b[39m\u001b[38;5;124m'\u001b[39m] \n",
      "\u001b[0;31mKeyError\u001b[0m: 'results'"
     ]
    }
   ],
   "source": [
    "resultados = peliculas_por_genero(lista_generos,rango_anios)\n",
    "print(resultados)"
   ]
  },
  {
   "cell_type": "code",
   "execution_count": null,
   "metadata": {},
   "outputs": [],
   "source": [
    "Procesando películas: 100%|██████████| 10/10 [00:00<?, ?it/s]\n",
    "Resultados obtenidos:\n",
    ",Título: El Tango del Viudo y Su Espejo Deformante Tipo: Movie, Año: 2020, Género: Drama, ID: tt0062336\n",
    "Título: Love & Orgasms, Tipo: Movie, Año: 2020, Género: Drama, ID: tt0383477\n",
    "Título: I Know This Much Is True, Tipo: TV Series, Año: 2020, Género: Drama, ID: tt0425118\n",
    "Título: Surviving in L.A., Tipo: Movie, Año: 2020, Género: Drama, ID: tt0446792\n",
    "Título: Duel of Legends, Tipo: Movie, Año: 2020, Género: Drama, ID: tt0849437\n",
    "Título: Lost Girls and Love Hotels, Tipo: Movie, Año: 2020, Género: Drama, ID: tt0920462\n",
    "Título: \"Gallavich!\", Tipo: TV Episode, Año: 2020, Género: Drama, ID: tt10001184\n",
    "Título: Chapter One: The Singing Bones, Tipo: TV Episode, Año: 2020, Género: Drama, ID: tt10004744\n",
    "Título: Avocado Toast the series, Tipo: TV Series, Año: 2020, Género: Drama, ID: tt10006418\n",
    "Título: Hiving the Bees, Tipo: TV Episode, Año: 2020, Género: Drama, ID: tt10004704\n",
    "Datos guardados en movies_Drama_2020.csv"
   ]
  },
  {
   "cell_type": "code",
   "execution_count": null,
   "metadata": {},
   "outputs": [],
   "source": []
  }
 ],
 "metadata": {
  "kernelspec": {
   "display_name": "base",
   "language": "python",
   "name": "python3"
  },
  "language_info": {
   "codemirror_mode": {
    "name": "ipython",
    "version": 3
   },
   "file_extension": ".py",
   "mimetype": "text/x-python",
   "name": "python",
   "nbconvert_exporter": "python",
   "pygments_lexer": "ipython3",
   "version": "3.12.4"
  }
 },
 "nbformat": 4,
 "nbformat_minor": 2
}
