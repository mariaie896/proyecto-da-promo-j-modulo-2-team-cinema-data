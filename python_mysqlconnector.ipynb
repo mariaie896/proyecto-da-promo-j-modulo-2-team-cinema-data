{
 "cells": [
  {
   "cell_type": "code",
   "execution_count": 1,
   "metadata": {},
   "outputs": [
    {
     "name": "stdout",
     "output_type": "stream",
     "text": [
      "Requirement already satisfied: mysql-connector in /home/elena_craven/anaconda3/lib/python3.12/site-packages (2.2.9)\n",
      "Note: you may need to restart the kernel to use updated packages.\n"
     ]
    }
   ],
   "source": [
    "pip install mysql-connector"
   ]
  },
  {
   "cell_type": "code",
   "execution_count": 2,
   "metadata": {},
   "outputs": [
    {
     "name": "stdout",
     "output_type": "stream",
     "text": [
      "Requirement already satisfied: mysql-connector-python in /home/elena_craven/anaconda3/lib/python3.12/site-packages (9.0.0)\n",
      "Note: you may need to restart the kernel to use updated packages.\n"
     ]
    }
   ],
   "source": [
    "pip install mysql-connector-python"
   ]
  },
  {
   "cell_type": "code",
   "execution_count": 8,
   "metadata": {},
   "outputs": [],
   "source": [
    "# Importar librería para la conexión con MySQL.\n",
    "# -----------------------------------------------------------------------\n",
    "import mysql.connector\n",
    "from mysql.connector import errorcode\n",
    "\n",
    "\n",
    "# Importar librerías para manipulación y análisis de datos.\n",
    "# -----------------------------------------------------------------------\n",
    "import pandas as pd\n",
    "import numpy as np\n"
   ]
  },
  {
   "cell_type": "code",
   "execution_count": 9,
   "metadata": {},
   "outputs": [
    {
     "name": "stdout",
     "output_type": "stream",
     "text": [
      "1007 (HY000): Can't create database 'cinemadata'; database exists\n",
      "Error Code: 1007\n",
      "SQLSTATE HY000\n",
      "Message Can't create database 'cinemadata'; database exists\n"
     ]
    }
   ],
   "source": [
    "# Hacemos un try except para manejar los errores.\n",
    "try:\n",
    "  cnx = mysql.connector.connect(\n",
    "                               user='root', \n",
    "                               password='AlumnaAdalab',\n",
    "                               host='127.0.0.1')\n",
    "  \n",
    "# Introducimos el except en caso de que hubiera un error.\n",
    "except mysql.connector.Error as err:\n",
    "\n",
    "  # Si es un error con la contraseña devuelveme un mensaje de acceso denegado ya que tenemos problemas con la contraseña.\n",
    "  if err.errno == errorcode.ER_ACCESS_DENIED_ERROR:\n",
    "    print(\"Something is wrong with your user name or password\")\n",
    "  \n",
    "  # Si el error no tiene que ver con la contraseña, puede ser porque la base de datos no exista, devuelveme un mensaje de que la base de datos no existe.\n",
    "  elif err.errno == errorcode.ER_BAD_DB_ERROR:\n",
    "    print(\"Database does not exist\")\n",
    "  \n",
    "  # Si no es por ninguno de los errores anteriores, printeame cual es el error que estoy teniendo en mi conexión.\n",
    "  else:\n",
    "    print(err)\n",
    "\n",
    "mycursor = cnx.cursor()\n",
    "\n",
    "try:\n",
    "    mycursor.execute(\"CREATE DATABASE cinEMAdata\")\n",
    "    print(mycursor)\n",
    "except mysql.connector.Error as err:\n",
    "    print(err)\n",
    "    print(\"Error Code:\", err.errno)\n",
    "    print(\"SQLSTATE\", err.sqlstate)\n",
    "    print(\"Message\", err.msg)\n",
    "\n",
    "cnx.close()"
   ]
  },
  {
   "cell_type": "code",
   "execution_count": 17,
   "metadata": {},
   "outputs": [
    {
     "name": "stdout",
     "output_type": "stream",
     "text": [
      "CMySQLCursor: CREATE TABLE peliculas_generos (titulo V..\n"
     ]
    }
   ],
   "source": [
    "cnx = mysql.connector.connect(user='root', password='AlumnaAdalab',\n",
    "                              host='127.0.0.1', database='cinEMAdata')\n",
    "\n",
    "\n",
    "mycursor = cnx.cursor()\n",
    "try:\n",
    "    mycursor.execute(\"CREATE TABLE peliculas_generos (titulo VARCHAR(250) NOT NULL, id VARCHAR(50) NOT NULL PRIMARY KEY, tipo VARCHAR(50), año VARCHAR(50), genero VARCHAR(50) NOT NULL)\")\n",
    "    print(mycursor)\n",
    "except mysql.connector.Error as err:\n",
    "    print(err)\n",
    "    print(\"Error Code:\", err.errno)\n",
    "    print(\"SQLSTATE\", err.sqlstate)\n",
    "    print(\"Message\", err.msg)"
   ]
  },
  {
   "cell_type": "code",
   "execution_count": 29,
   "metadata": {},
   "outputs": [
    {
     "name": "stdout",
     "output_type": "stream",
     "text": [
      "CMySQLCursor: CREATE TABLE datos_oscars (ceremonia VAR..\n"
     ]
    }
   ],
   "source": [
    "cnx = mysql.connector.connect(user='root', password='AlumnaAdalab',\n",
    "                              host='127.0.0.1', database='cinEMAdata')\n",
    "\n",
    "\n",
    "mycursor = cnx.cursor()\n",
    "try:\n",
    "    mycursor.execute(\"CREATE TABLE datos_oscars (ceremonia VARCHAR(50) PRIMARY KEY NOT NULL, mejor_pelicula VARCHAR(250) NOT NULL, mejor_director VARCHAR(100) NOT NULL, mejor_actor VARCHAR(100) NOT NULL, mejor_actriz VARCHAR(100) NOT NULL)\")\n",
    "    print(mycursor)\n",
    "except mysql.connector.Error as err:\n",
    "    print(err)\n",
    "    print(\"Error Code:\", err.errno)\n",
    "    print(\"SQLSTATE\", err.sqlstate)\n",
    "    print(\"Message\", err.msg)"
   ]
  },
  {
   "cell_type": "code",
   "execution_count": 21,
   "metadata": {},
   "outputs": [],
   "source": [
    "import csv\n",
    "import mysql.connector\n",
    "\n",
    "# Nombre del archivo CSV.\n",
    "csv_file = 'peliculas_generos.csv'\n",
    "\n",
    "# Conexión a la base de datos MySQL.\n",
    "# Hacemos un try except para manejar los errores.\n",
    "try:\n",
    "  cnx = mysql.connector.connect(\n",
    "                               user='root', \n",
    "                               password='AlumnaAdalab',\n",
    "                               host='127.0.0.1',\n",
    "                               database='cinEMAdata')\n",
    "  \n",
    "# Introducimos el except en caso de que hubiera un error.\n",
    "except mysql.connector.Error as err:\n",
    "\n",
    "  # Si es un error con la contraseña devuelveme un mensaje de acceso denegado ya que tenemos problemas con la contraseña.\n",
    "  if err.errno == errorcode.ER_ACCESS_DENIED_ERROR:\n",
    "    print(\"Something is wrong with your user name or password\")\n",
    "  \n",
    "  # Si el error no tiene que ver con la contraseña, puede ser porque la base de datos no exista, devuelveme un mensaje de que la base de datos no existe.\n",
    "  elif err.errno == errorcode.ER_BAD_DB_ERROR:\n",
    "    print(\"Database does not exist\")\n",
    "  \n",
    "  # Si no es por ninguno de los errores anteriores, printeame cual es el error que estoy teniendo en mi conexión.\n",
    "  else:\n",
    "    print(err)\n",
    "    \n",
    "mycursor = cnx.cursor()\n",
    "\n",
    "# Consulta SQL para insertar los datos (ajusta los nombres de las columnas).\n",
    "sql = \"\"\"\n",
    "    INSERT INTO peliculas_generos (titulo, id, tipo, año, genero)\n",
    "    VALUES (%s, %s, %s, %s, %s)\n",
    "\"\"\"\n",
    "\n",
    "with open(csv_file, 'r') as csvfile:\n",
    "    csvreader = csv.reader(csvfile)\n",
    "    # Saltar la primera línea si contiene encabezados.\n",
    "    next(csvreader)\n",
    "\n",
    "\n",
    "# Ejecutar la consulta SQL con los datos de cada fila\n",
    "mycursor.execute(sql, cnx)\n",
    "\n",
    "# Confirmar los cambios.\n",
    "cnx.commit()\n",
    "\n",
    "# Cerrar la conexión.\n",
    "mycursor.close()\n",
    "cnx.close()\n"
   ]
  },
  {
   "cell_type": "code",
   "execution_count": 31,
   "metadata": {},
   "outputs": [],
   "source": [
    "import csv\n",
    "import mysql.connector\n",
    "\n",
    "# Nombre del archivo CSV.\n",
    "csv_file = 'datos_oscars.csv'\n",
    "\n",
    "# Conexión a la base de datos MySQL.\n",
    "# Hacemos un try except para manejar los errores.\n",
    "try:\n",
    "  cnx = mysql.connector.connect(\n",
    "                               user='root', \n",
    "                               password='AlumnaAdalab',\n",
    "                               host='127.0.0.1',\n",
    "                               database='cinEMAdata')\n",
    "  \n",
    "# Introducimos el except en caso de que hubiera un error.\n",
    "except mysql.connector.Error as err:\n",
    "\n",
    "  # Si es un error con la contraseña devuelveme un mensaje de acceso denegado ya que tenemos problemas con la contraseña.\n",
    "  if err.errno == errorcode.ER_ACCESS_DENIED_ERROR:\n",
    "    print(\"Something is wrong with your user name or password\")\n",
    "  \n",
    "  # Si el error no tiene que ver con la contraseña, puede ser porque la base de datos no exista, devuelveme un mensaje de que la base de datos no existe.\n",
    "  elif err.errno == errorcode.ER_BAD_DB_ERROR:\n",
    "    print(\"Database does not exist\")\n",
    "  \n",
    "  # Si no es por ninguno de los errores anteriores, printeame cual es el error que estoy teniendo en mi conexión.\n",
    "  else:\n",
    "    print(err)\n",
    "    \n",
    "mycursor = cnx.cursor()\n",
    "\n",
    "# Consulta SQL para insertar los datos (ajusta los nombres de las columnas).\n",
    "sql = \"\"\"\n",
    "    INSERT INTO datos_oscars (ceremonia, mejor_pelicula, mejor_director, mejor_actor, mejor_actriz)\n",
    "    VALUES (%s, %s, %s, %s, %s)\n",
    "\"\"\"\n",
    "\n",
    "with open(csv_file, 'r') as csvfile:\n",
    "    csvreader = csv.reader(csvfile)\n",
    "    # Saltar la primera línea si contiene encabezados.\n",
    "    next(csvreader)\n",
    "    datos = [tuple(row) for row in csvreader]\n",
    "\n",
    "\n",
    "# Ejecutar la inserción. \n",
    "mycursor.executemany(sql, datos)\n",
    "\n",
    "# Confirmar los cambios.\n",
    "cnx.commit()\n",
    "\n",
    "# Cerrar la conexión.\n",
    "mycursor.close()\n",
    "cnx.close()\n"
   ]
  },
  {
   "cell_type": "markdown",
   "metadata": {},
   "source": [
    "APUNTES: actualizar registros - quizas no lo usemos porque los datos de los registros nos vienen dados por la extraccion"
   ]
  },
  {
   "cell_type": "code",
   "execution_count": null,
   "metadata": {},
   "outputs": [],
   "source": [
    "cnx = mysql.connector.connect(user='root', password='AlumnaAdalab',\n",
    "                              host='127.0.0.1', database='cinEMAdata')\n",
    "\n",
    "\n",
    "mycursor = cnx.cursor()\n",
    "sql = \"UPDATE customers SET address = 'Canyon 123' WHERE address = 'Valley 345'\"\n",
    "try:\n",
    "    mycursor.execute(sql)\n",
    "    cnx.commit()\n",
    "    print(mycursor.rowcount, \"registro/s modificado/s.\")\n",
    "\n",
    "except mysql.connector.Error as err:\n",
    "    print(err)\n",
    "    print(\"Error Code:\", err.errno)\n",
    "    print(\"SQLSTATE\", err.sqlstate)\n",
    "    print(\"Message\", err.msg)"
   ]
  },
  {
   "cell_type": "markdown",
   "metadata": {},
   "source": [
    "Crear un DataFrame de Pandas desde una sentencia SQL:"
   ]
  },
  {
   "cell_type": "code",
   "execution_count": null,
   "metadata": {},
   "outputs": [],
   "source": [
    "# hacemos la conexión con el servidor\n",
    "cnx = mysql.connector.connect(user='root', password='AlumnaAdalab',\n",
    "                              host='127.0.0.1',\n",
    "                              database='tienda')\n",
    "\n",
    "# iniciamos el cursor\n",
    "mycursor = cnx.cursor()\n",
    "\n",
    "# ejecutamos nuestra query\n",
    "mycursor.execute(\"SELECT * FROM employees\")\n",
    "\n",
    "# le decimos que nos devuelva todos los resultados y los almacenamos en una variable llamada myresult\n",
    "myresult = mycursor.fetchall()\n",
    "\n",
    "#Creamos un dataframe con los resultados de la consulta SQL almacenados en myresult. Si os fijais le estamos pasando un parámetro llamado \"columns\" donde estamos especificando cuáles son las columnas de lo que será nuestro dataframe\n",
    "df = pd.DataFrame(myresult, columns = ['ID', 'Nombre', 'Apellido','Email','Telefono','Direccion','Ciudad','Pais'])\n",
    "\n",
    "#Cerramos la conexion\n",
    "cnx.close()"
   ]
  },
  {
   "cell_type": "markdown",
   "metadata": {},
   "source": [
    "Otra opción más directa para ver los resultados de nuestra query en un DataFrame consiste en encargarle a Pandas directamente la ejecución de la consulta SQL. Para ello usaremos el método *read_sql_query()* como vemos a continuación:"
   ]
  },
  {
   "cell_type": "code",
   "execution_count": null,
   "metadata": {},
   "outputs": [],
   "source": [
    "# realizamos la conexión con el servidor\n",
    "cnx = mysql.connector.connect(user='root', password='AlumnaAdalab',\n",
    "                              host='127.0.0.1',\n",
    "                              database='tienda')\n",
    "\n",
    "\n",
    "# escribimos nuestra query\n",
    "sql = \"SELECT * FROM employees\"\n",
    "\n",
    "# utilizamos el método pd.read_sql_qury() para convertir los resultados de nuestra query en un DataFrame que podamos ver de forma amigable en Python\n",
    "df = pd.read_sql_query(sql, cnx)\n",
    "\n",
    "#Lo siguiente es un wrap up que funciona tanto con una tabla como con una consulta SQL.\n",
    "pd.read_sql(sql, cnx)\n",
    "\n",
    "#Cerramos la conexion\n",
    "cnx.close()"
   ]
  }
 ],
 "metadata": {
  "kernelspec": {
   "display_name": "base",
   "language": "python",
   "name": "python3"
  },
  "language_info": {
   "codemirror_mode": {
    "name": "ipython",
    "version": 3
   },
   "file_extension": ".py",
   "mimetype": "text/x-python",
   "name": "python",
   "nbconvert_exporter": "python",
   "pygments_lexer": "ipython3",
   "version": "3.12.4"
  }
 },
 "nbformat": 4,
 "nbformat_minor": 2
}
