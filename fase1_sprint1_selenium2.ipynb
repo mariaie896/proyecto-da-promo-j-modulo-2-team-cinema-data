{
 "cells": [
  {
   "cell_type": "markdown",
   "metadata": {},
   "source": [
    "**Extracción de detalles sobre 10 principales actores en IMBD con Selenium**\n",
    "- Nombre.\n",
    "- Año de nacimiento.\n",
    "- ¿Por qué es conocido?\n",
    "- ¿Qué hace?\n",
    "- Premios."
   ]
  },
  {
   "cell_type": "code",
   "execution_count": 2,
   "metadata": {},
   "outputs": [],
   "source": [
    "# Importamos librerías.\n",
    "\n",
    "import pandas as pd\n",
    "from bs4 import BeautifulSoup\n",
    "import requests\n",
    "from selenium import webdriver  \n",
    "from webdriver_manager.chrome import ChromeDriverManager  \n",
    "from selenium.webdriver.common.keys import Keys  \n",
    "from selenium.webdriver.support.ui import Select  \n",
    "from time import sleep \n",
    "pd.set_option('display.max_columns', None)"
   ]
  },
  {
   "cell_type": "code",
   "execution_count": null,
   "metadata": {},
   "outputs": [],
   "source": [
    "# Definimos las listas de pelis que usaremos en la extracción con Selenium.\n",
    "lista_pelis_comedy = ['Love 101 (2000)', 'Nothing Sacred (2000)', 'State and Main (2000)', 'Bruno (2000)', 'Sånger från andra våningen (2000)', \"The Elf Who Didn't Believe (2000)\", 'Chicken Run (2000)', 'Kate & Leopold (2001)', 'El día de los albañiles 2 (2001)', 'Horror in the Attic (2001)', 'Burning Down the House (2001)', 'Sticks (2001)', 'Heartbreakers (2001)', 'Shrek (2001)', 'Men in Black II (2002)', 'Trance (2002)', 'Flophouse (2002)', 'Hilda Humphrey (2002)', 'Book of Love: The Definitive Reason Why Men Are Dogs (2002)', 'Clockstoppers (2002)', 'Spooky House (2002)', 'Easter (2002)', 'Remembering Mario (2003)', 'Between the Sheets (2003)', 'Dominator (2003)', 'Intolerable Cruelty (2003)', 'Nobody Knows Anything! (2003)', \"St. Andrew's Girls (2003)\", 'Sinbad: Legend of the Seven Seas (2003)', 'Bad Boys II (2003)', 'West from North Goes South (2004)', 'Serial Killer (2004)', 'Thunderbirds (2004)', \"A Night at Sophie's (2004)\", 'Kebab Connection (2004)', 'Meri Biwi Ka Jawab Nahin (2004)', '29 and Holding (2004)', 'B Movie (2004)', 'The Naked Monster (2005)', 'Three (2005)', 'Angels with Angles (2005)', 'Bob the Butler (2005)', 'Bad Girls from Valley High (2005)', 'Lucky 13 (2005)', 'Slipdream (2005)', 'Live Freaky Die Freaky (2006)', 'Death of a Saleswoman (2006)', 'Funny Money (2006)', 'How to Go Out on a Date in Queens (2006)', 'Mothers and Daughters (2006)', 'Ozzie (2006)', 'Obsluhoval jsem anglického krále (2006)', 'The Junior Defenders (2007)', 'Tortilla Heaven (2007)', 'The Bros. (2007)', 'Rush Hour 3 (2007)', 'Hollywood Dot Com (2007)', 'The Man Who Would Be Queen (2007)', 'Die Sandra Situation (2007)', 'Marigold (2007)', \"So, You've Downloaded a Demon (2007)\", 'Biriken (2008)', 'Alien Love Triangle (2008)', 'Big River Blues (2008)', 'Delgo (2008)', 'Lymelife (2008)', 'Anywhere But Home (2008)', 'I Miss Sonia Henie (2009)', 'El reino de los cielos (2009)', 'Unter Strom (2009)', 'Chinango (2009)', 'Los muertos van deprisa (2009)', 'Two-Minute Heist (2009)', 'Astro Boy (2009)', \"Anderson's Cross (2010)\", 'Rapunzel (2010)', 'Venus & Vegas (2010)', 'Dinner for Schmucks (2010)', 'Toy Story 3 (2010)', 'Diary of a Bad Lad (2010)', 'Scott Pilgrim vs. the World (2010)', 'Gnomeo & Juliet (2011)', 'Seven Fallen Objects (2011)', 'Satin (2011)', 'Puss in Boots (2011)', 'Generation P (2011)', 'Salvando al Soldado Pérez (2011)', 'Silent Alarm (2011)', 'Foodfight! (2012)', \"Life's a Beach (2012)\", 'The Three Stooges (2012)', 'Gambit (2012)', 'Os Penetras (2012)', 'Persona Au Gratin (2012)', 'Sushi in Suhl (2012)', 'A Thousand Words (2012)', 'Blunt Movie (2013)', 'Alan Partridge: Alpha Papa (2013)', 'The Croods (2013)', 'Aftermath (2013)', 'The Incredible Burt Wonderstone (2013)', 'R.I.P.D. (2013)', 'Frivolinas (2014)', 'The Fresh Lobster (2014)', 'Rice Girl (2014)', 'Kid Cannabis (2014)', 'The Boxtrolls (2014)', 'Rupan sansei (2014)', 'Mr. Peabody & Sherman (2014)', 'Soapte de amor (2015)', 'Prozac tango (2015)', 'Ant-Man (2015)', 'The Wedding Ringer (2015)']\n",
    "lista_pelis_drama = ['Istota (2000)', 'For the Cause (2000)', 'Florentino y el diablo (2000)', 'Karobaar: The Business of Love (2000)', 'Chateaubriand - Cabeça de Paraíba (2000)', 'Gang (2000)', 'Consequence (2000)', 'Fa yeung nin wah (2000)', 'November 1828 (2001)', 'The Killing Seasons (2001)', 'Albela (2001)', \"Don's Plum (2001)\", 'Glitter (2001)', 'Camarate (2001)', 'Berlin Diaries, 1940-45 (2001)', 'Ricochet River (2001)', 'Interstícios (2001)', 'The Lord of the Rings: The Fellowship of the Ring (2001)', 'Crime and Punishment (2002)', 'The Dancer Upstairs (2002)', 'Random Shooting in L.A. (2002)', 'Frida (2002)', 'Shivam (2002)', 'The Good War (2002)', 'The Bacchae (2002)', 'A Mulher Polícia (2003)', 'American Reel (2003)', 'One Last Dance (2003)', 'Cold Mountain (2003)', 'The Lord of the Rings: The Return of the King (2003)', 'Baggage (2003)', 'Tilt (2003)', 'Standing Room Only (2003)', 'The Fighting Temptations (2003)', 'Jersey Guy (2003)', 'En tres y dos (2004)', 'Goodnight, Joseph Parker (2004)', 'Bluebird (2004)', 'El Maya (2004)', 'Il resto di niente (2004)', 'Greener (2004)', 'Olga (2004)', \"Sin's Kitchen (2004)\", 'Tricks (2004)', 'What Is It? (2005)', 'Corpse Bride (2005)', 'Shooting Vegetarians (2005)', 'The Prodigy (2005)', \"Eve's Preyer (2005)\", 'Berlin Nights (2005)', 'Thousands of Miles (2005)', 'Death-Defying Acts (2005)', 'Master i Margarita (2006)', 'Seven Days of Grace (2006)', 'A.W.O.L (2006)', 'Viúva Rica Solteira Não Fica (2006)', 'Meglét (2006)', 'Vic (2006)', 'Children of Men (2006)', 'False Prophets (2006)', 'I Viceré (2007)', 'Hermano (2007)', 'Awake (2007)', 'Partition (2007)', 'Death and Taxis (2007)', 'Terra Sonâmbula (2007)', 'Hitler Meets Christ (2007)', 'Brooklyn Rules (2007)', 'Universal Groove (2007)', 'Still Waters Burn (2008)', 'Quality Time (2008)', 'Geliebte Clara (2008)', 'The Bank Job (2008)', 'Berlin Calling (2008)', 'Jackson (2008)', 'A Circle on the Cross (2008)', 'Brothel (2008)', '2 en 1 auto (2008)', 'Apaföld (2009)', 'Rózsaszín sajt (2009)', 'Sanam Teri Kasam (2009)', 'Twice as Dead (2009)', 'Railed (2009)', 'Coraline (2009)', 'Mitsein (2009)', 'Blood and Bone (2009)', 'Inglourious Basterds (2009)', 'The Box (2009)', 'Pál Adrienn (2010)', 'Oda az igazság (2010)', 'A zöld sárkány gyermekei (2010)', 'The Final Journey (2010)', 'In My Sleep (2010)', 'This Wretched Life (2010)', 'Blind Sided (2010)', 'Death of a Nation (2010)', 'Az ember tragédiája (2011)', 'Los pájaros se van con la muerte (2011)', 'Lives No Longer Ours (2011)', 'The Wicker Tree (2011)', 'Spy (2011)', 'The Rum Diary (2011)', 'Bubbles (2011)', 'On the Road (2012)', 'Acorralados (2012)', 'Caleuche: El llamado del Mar (2012)', \"L'apocalisse delle scimmie (2012)\", 'Lincoln (2012)', 'Life of Pi (2012)', 'Being Flynn (2012)', 'Return to Babylon (2013)', 'The Secret Life of Walter Mitty (2013)', 'In Secret (2013)', 'In absentia (2013)', '42 (2013)', 'Without Warrant (2013)', 'uwantme2killhim? (2013)', 'Syrup (2013)', 'Santorini Blue (2013)', 'Dallas Buyers Club (2013)', \"Le sacre d'automne (2014)\", 'Instruments of Darkness (2014)', 'A Walk Among the Tombstones (2014)', 'The Ninth Cloud (2014)', 'The Giver (2014)', 'Before We Go (2014)', 'A Long Way Down (2014)', 'Ex Machina (2014)', 'Dil Ka Sauda (2014)', 'Shulie (2015)', 'Snowblind (2015)', 'Chatô: O Rei do Brasil (2015)', 'Transeúntes (2015)', 'The Stanford Prison Experiment (2015)', 'High-Rise (2015)', 'The Man Who Knew Infinity (2015)', 'Miles Ahead (2015)', 'The Danish Girl (2015)']\n",
    "lista_pelis_thriller = ['Pushing the Envelope (2000)', 'Vulgar (2000)', 'Lured Innocence (2000)', 'Shikari (2000)', 'The Highwayman (2000)', '3 noches (2001)', 'Eyes Are Upon You (2001)', 'Training Day (2001)', 'I/O Error (2001)', 'D-Tox (2002)', 'The Sum of All Fears (2002)', 'City of Ghosts (2002)', 'Silent Screamplay (2003)', 'Sister Blue (2003)', 'Terror in the Darkness (2003)', 'Shadow Sailing (2003)', 'How It All Went Down (2003)', 'Life Sentence (2004)', 'Till Proven Innocent (2004)', 'The 24th Day (2004)', 'False River (2005)', 'Ripley Under Ground (2005)', 'Cl.One (2005)', 'Imposture (2005)', '.45 (2006)', 'Arrivederci amore, ciao (2006)', '5ive! (2006)', 'Mystery of the Bloody Mansion (2007)', \"Before the Devil Knows You're Dead (2007)\", 'ISS Space Agency (2008)', 'Green River (2008)', 'The Rules (2008)', '1 (2009)', 'Federal (2010)', 'Moving Target (2011)', 'Escalade (2011)', 'Dark Blood (2012)', 'The Yellow Wallpaper (2012)', 'The Grind (2012)', 'Freaky Deaky (2012)', \"Devil's Knot (2013)\"]\n",
    "lista_pelis_romance = ['The Fantasticks (2000)', 'Passionnément (2000)', 'Return to Me (2000)', 'Dance Naked (2000)', 'Deep Blue (2001)', 'Town & Country (2001)', 'Chasing Destiny (2001)', 'Long Lost Love (2001)', 'Tangoed Lives (2002)', 'Duty Dating (2002)', 'Pipe Dream (2002)', 'Desert Saints (2002)', 'Ted and Alice (2002)', 'Moonlight Mile (2002)', 'Crossing the Rubicon (2002)', 'Osmose (2003)', 'Venus on the Halfshell (2003)', 'Finding Home (2003)', 'The Sleeping Dictionary (2003)', 'Like Cats and Dogs (2004)', 'Beacon Hill (2004)', '2046 (2004)', 'Roomies (2004)', 'True Vinyl (2004)', 'Alchemy (2005)', 'Aspects of Love (2005)', 'Rent (2005)', 'Going Shopping (2005)', 'Summer, the First Time (2006)', 'The Worst Day Ever (2006)', 'An Existential Affair (2006)', 'Humko Tumse Pyaar Hai (2006)', 'Loving Annabelle (2006)', '1972 (2006)', 'Der Liebeswunsch (2006)', 'Jin yu liang yuan hong lou meng (2007)', 'Romantik (2007)', 'Lucky You (2007)', 'Fighting Words (2007)', 'Susan Hero (2007)', 'Playas Ball (2007)', 'Crossing (2007)', 'Red Is the Color of (2007)', 'Tyranny (2008)', 'Leatherheads (2008)', 'House of Boys (2009)', 'Youth in Revolt (2009)', 'Utolsó jelentés Annáról (2009)', 'The Perfect Sleep (2009)', 'AmerAsian (2009)', 'Why George? (2009)', 'Kisse Pyaar Karoon? (2009)', 'Yesterday Was a Lie (2009)', 'Cargo, les hommes perdus. (2010)', 'Milenge Milenge (2010)', 'Barry Munday (2010)', 'Bandeiji (2010)', 'Episode dated 28 November 2010 (2010)', 'A Bird of the Air (2011)', 'Hall Pass (2011)', 'Something Borrowed (2011)', \"What's Your Number? (2011)\", 'Till You Get to Baraboo (2011)', 'Red Dog (2011)', 'Elliot Loves (2012)', 'Belle du Seigneur (2012)', 'Letting Go (2012)', 'Jewtopia (2012)', 'RMS Titanic: The Story Biograph Told (2012)', 'Strange Frame: Love & Sax (2012)', 'Approaching Midnight (2013)', 'Episode #1.55 (2013)', 'Between the Sand and the Sky (2014)', 'Suite Française (2014)', 'Life Mein Twist Hai (2014)', 'Idealnyy muzhchina (2014)', 'Zvyozdy svetyat vsem (2014)', 'La scelta (2014)', 'Hum tum (2014)', 'Jackson Arms (2015)', 'Chooriyan (2015)', 'Episode #1.18 (2015)', 'Episode #1.21 (2015)', 'Episode #1.22 (2015)', 'Episode #1.19 (2015)', 'Episode #1.20 (2015)', 'Episode #1.17 (2015)']\n",
    "lista_pelis_mystery = ['The Million Dollar Hotel (2000)', 'Waking the Dead (2000)', 'Luckytown (2000)', 'Passion of Mind (2000)', 'Four Dogs Playing Poker (2000)', 'What Lies Beneath (2000)', 'Trixie (2000)', 'Enigma (2001)', 'Impostor (2001)', 'Dark Water (2001)', 'Mulholland Drive (2001)', 'The Confidence Man (2001)', 'Ashes to Ashes (2001)', \"The Caveman's Valentine (2001)\", 'Daybreak (2002)', 'Minority Report (2002)', \"Dead Man's Dream (2002)\", 'New Best Friend (2002)', 'Last Seen (2002)', 'The Salton Sea (2002)', 'Florida City (2002)', 'Tony Tough and the Night of Roasted Moths (2002)', 'In the Cut (2003)', 'Missing (2003)', 'The Accidental Detective (2003)', '1st to Die (2003)', 'Thursday the 12th (2003)', 'La collezione invisibile (2003)', 'Basic (2003)', 'Vera (2003)', 'Killer Weekend (2004)', 'Suske en Wiske: De duistere diamant (2004)', 'Corpses Are Forever (2004)', 'Fascination (2004)', 'Harry Potter en de gevangene van Azkaban (2004)', 'Jackpot (2005)', 'Firecracker (2005)', 'The Krone Experiment (2005)', 'Love Thy Neighbor (2005)', 'Los suicidas (2005)', 'Harry Potter en de vuurbeker (2005)', 'Hellraiser: Deader (2005)', 'Keep Your Distance (2005)', 'The PianoTuner of EarthQuakes (2005)', 'Down the Road (2006)', 'Freedomland (2006)', 'Day of Wrath (2006)', 'Ne le dis à personne (2006)', 'Broke Sky (2007)', 'Captivity (2007)', 'Rise (2007)', 'Dreamland (2007)', '88 Minutes (2007)', 'A londoni férfi (2007)', 'Smallpox: Deadly Again? (2008)', 'Surveillance (2008)', 'Quid Pro Quo (2008)', 'The Andromeda Strain (2008)', 'Dimples (2008)', 'Passengers (2008)', 'Moonlight Blade (2009)', 'Cargo (2009)', 'Disconnect (2010)', 'The Losers (2010)', 'Darkstar: The Interactive Movie (2010)', 'My Soul to Take (2010)', 'Psych:9 (2010)', 'Extremely Loud & Incredibly Close (2011)', 'Atlas Shrugged: Part I (2011)', 'Double Tap (2011)', 'Hoodwinked Too! Hood vs. Evil (2011)', 'Katharsis (2011)', 'Blur (2011)', 'The Thing (2011)', 'The Attack (2012)', 'Exposed (2012)', 'The Courier (2012)', \"Frankenstein's Sorbid Lover (2012)\", 'La Visita (2012)', 'Episode #1.3 (2012)', 'The Devil You Know (2013)', 'In the Woods (2013)', 'Whitie Pills Multi-Symptom (2013)', 'Hollywood Necronomicon (2013)', 'The Sisterhood of Night (2014)', 'Episode #2.2 (2014)', 'Episode #2.1 (2014)', 'Episode #2.3 (2014)', 'Episode #2.5 (2014)', 'Episode #2.4 (2014)', 'Missing Testament (Case No. 3): Part 2 (2014)', 'Exchange Killings (Case No. 4): Part 2 (2014)', 'Perfect Ransom (Case No. 5): Part 2 (2014)', 'Endless Night (2015)', 'Tales of Evil (2015)', 'Step into the Woods (2015)', 'The First Act (2015)', 'Child 44 (2015)', 'Episode #1.2 (2015)', 'Episode #1.3 (2015)', 'Episode #1.6 (2015)', 'Episode #1.13 (2015)', 'Episode #1.7 (2015)']\n",
    "lista_pelis_horror = ['Deadfall (2000)', 'Scream 3 (2000)', 'Supernova (2000)', 'The Chronicles of Riddick: Pitch Black (2000)', 'Mothman (2000)', 'American Psycho (2000)', 'Eyes to Heaven (2000)', 'Ricky 6 (2000)', 'From Hell (2001)', \"Victoria's Shadow (2001)\", 'Unseen Evil (2001)', 'Bones (2001)', 'Hot Tubs II: The Terror Returns (2001)', 'Generation Ax (2001)', 'Blade II (2002)', 'Survival Island (2002)', 'Harry Knuckles and the Treasure of the Aztec Mummy (2002)', 'Halloween: Resurrection (2002)', 'Beyond Re-Animator (2003)', 'The Invitation (2003)', 'House of 1000 Corpses (2003)', 'Subterano (2003)', 'Dorian (2003)', 'The American Bickman Burger (2003)', 'Frost (2004)', 'Exorcist: The Beginning (2004)', 'Habitaciones para turistas (2004)', \"Season's Greetings (2004)\", 'Straight Into Darkness (2004)', 'Cursed (2005)', '2001 Maniacs (2005)', 'Frankenstein & the Werewolf Reborn! (2005)', 'From Venus (2005)', 'Beyond the Wall of Sleep (2006)', 'Under Surveillance (2006)', 'Through the Looking Glass (2006)', 'The Creature of the Sunny Side Up Trailer Park (2006)', \"Satan's Playground (2006)\", 'Drømme om djævelen (2006)', 'Each Time I Kill (2007)', 'Kottentail (2007)', \"The Devil's Muse (2007)\", 'Shadow of a Candle (2008)', 'The Horror Vault (2008)', 'The Eye (2008)', 'Beneath the Mississippi (2008)', \"Death's Door (2008)\", \"Something's Wrong in Kansas (2008)\", 'Autopsy (2008)', 'The X Files: I Want to Believe (2008)', 'T.M.A. (2009)', 'El libro de piedra (2009)', 'Possession (2009)', 'It Came from Trafalgar (2009)', 'Cabeza de pescado (2009)', 'Daybreakers (2009)', 'Cabras (2009)', 'Town Creek (2009)', 'The Devil Inside (2010)', 'Les 7 jours du talion (2010)', 'The Crazies (2010)', 'Satan Hates You (2010)', 'Perfect Life (2010)', 'The Invited (2010)', 'The Passing (2011)', 'Kill (2011)', 'War of the Dead (2011)', 'Priest (2011)', 'Immortal Island (2011)', 'Red State (2011)', 'Rift (2011)', 'The Possession (2012)', 'Bad Blood (2012)', 'Jack & Diane (2012)', 'Silent Hill: Revelation (2012)', 'Night of the Templar (2013)', 'Shroud (2013)', \"Grandmother's Farm (2013)\", 'Outcast (2013)', 'Fantasia 2 (2013)', 'Bloedson (2013)', 'House at the End of the Drive (2014)', 'Puppet Show (2015)']\n",
    "lista_pelis_fantasy = ['Keizer Kuzco (2000)', 'Dinosaur (2000)', 'The Crow: Salvation (2000)', 'The Adventures of Rocky & Bullwinkle (2000)', 'The Road to El Dorado (2000)', 'Highlander: Endgame (2000)', 'Red Lipstick (2000)', 'The Legend of Bagger Vance (2000)', \"The Sorcerer's Apprentice (2001)\", 'Lightmaker (2001)', 'Little Shop of Erotica (2001)', 'Un jour (2001)', 'Vidocq (2001)', 'Monkeybone (2001)', 'Piratenplaneet (2002)', 'The Princess and the Pea (2002)', 'Interstate 60: Episodes of the Road (2002)', 'The Lord of the Rings: The Two Towers (2002)', 'La balsa de piedra (2002)', 'Legend of the Phantom Rider (2002)', 'Silver Man (2003)', 'Pumuckl und sein Zirkusabenteuer (2003)', 'Bulletproof Monk (2003)', 'El milagro (2003)', 'The Devil and Daniel Webster (2003)', 'Warrior Sisters (2004)', 'Raspberry & Lavender (2004)', 'Berserker (2004)', 'Off the Pages (2004)', 'Mothers Little Murderer (2004)', 'Shrek 2 (2004)', 'Last Mountain (2005)', 'Mee-Shee: The Water Giant (2005)', 'The Curse of the Were-Rabbit (2005)', 'Lung do kei yuen (2005)', 'Whispers from a Shallow Grave (2006)', \"Happily N'Ever After (2006)\", 'Arthur en de Minimoys (2006)', 'The Science of Sleep (2006)', 'Love Hollywood Style (2006)', 'Sea of Dreams (2006)', 'Ratatouille (2007)', 'The Golden Compass (2007)', 'Meet the Robinsons (2007)', 'Blood and Chocolate (2007)', 'In Your Dreams (2008)', 'Carlston za Ognjenku (2008)', 'De maanprinses en het geheim van het witte paard (2008)', \"Nim's Island (2008)\", 'Hellboy II: The Golden Army (2008)', 'De Spiderwick kronieken (2008)', 'The Tale of Despereaux (2008)', 'The Magic Stone (2009)', 'Malice in Wonderland (2009)', 'The Lovely Bones (2009)', 'Max en de maximonsters (2009)', 'Proinhibition (2009)', 'Dormir al sol (2010)', 'Piranha 3D (2010)', 'Prince of Persia: The Sands of Time (2010)', 'El horror de la dama del lago (2010)', 'Ramona and Beezus (2010)', 'Tranced (2010)', 'The Legend of Secret Pass (2010)', '50 Feet of String (2011)', 'The Smurfs (2011)', 'The Tree of Life (2011)', 'Thor (2011)', 'Spoon (2011)', 'Conan the Barbarian (2011)', 'Hotel Transylvania (2012)', 'De Hobbit: Een onverwachte reis (2012)', 'Masuk (2012)', 'Kathakas (2012)', 'The Fallen Word (2013)', \"Legends of Oz: Dorothy's Return (2013)\", 'Legend of the Red Reaper (2013)', 'The Hero of Color City (2014)', 'Hamlet A.D.D. (2014)', 'Tracy Smith: La Cueva de Resurrección (2014)']\n",
    "lista_pelis_action = ['The Incorporated (2000)', 'Heavy Metal 2000 (2000)', 'Mission: Impossible II (2000)', 'Titan A.E. (2000)', 'Foiled (2000)', 'X-Men (2000)', 'The Silent Force (2001)', \"Blazin' (2001)\", 'Driven (2001)', 'Planet of the Apes (2001)', 'The Ghost (2001)', 'Lara Croft: Tomb Raider (2001)', 'Camouflage (2001)', 'Star Wars: Episode II - Attack of the Clones (2002)', 'Resident Evil (2002)', 'Spider-Man (2002)', 'Last Fair Deal (2002)', 'Terminator 3: Rise of the Machines (2003)', 'Plastik Man (2003)', 'A Good Night to Die (2003)', 'Den hemlige riddaren II: Återkomsten (2003)', 'Road Dogs (2003)', 'Split (2004)', 'Hellboy (2004)', 'Vampire Lesbian Kickboxers (2004)', 'Anji (2004)', 'Radius (2004)', 'Star Wars: Episode III - Revenge of the Sith (2005)', 'Fantastic Four (2005)', 'Striptease Baby Dolls from Cleveland Meet the Unkillables (2005)', 'Wilson Chance (2005)', 'Man-Thing (2005)', 'The Sea Wolf (2005)', 'Dark Assassin (2005)', 'Mission: Impossible III (2006)', 'The Drop (2006)', 'Detroit (2006)', 'Meteoro (2006)', 'Superman Returns (2006)', 'Ghost Rider (2007)', 'Intergalactic Combat (2007)', 'Die Hard 4.0 (2007)', 'The Chosen One (2007)', 'D-War (2007)', 'Harry Potter and the Order of the Phoenix (2007)', 'Muhomatsu no issho (2008)', 'The Flyboys (2008)', 'Babylon A.D. (2008)', 'The Red Baron (2008)', 'Indiana Jones and the Kingdom of the Crystal Skull (2008)', 'Iron Man (2008)', 'Journey to the Center of the Earth (2008)', 'Far Cry (2008)', 'Whiteout (2009)', 'Sterling: The Secret of the Lost Medallion (2009)', 'Watchmen (2009)', 'Harry Potter en de halfbloed prins (2009)', 'Royal Kill (2009)', 'Tekken (2010)', 'The A-Team (2010)', 'Segurança Nacional (2010)', 'Taken by Force (2010)', 'Guns, Drugs and Dirty Money (2010)', 'Komaram Puli (2010)', 'Cowboys & Aliens (2011)', 'Real Steel (2011)', 'Captain America: The First Avenger (2011)', 'Platinum Illusions (2011)', 'The Mechanic (2011)', 'Tower Heist (2011)', 'Season of the Witch (2011)', 'John Carter (2012)', 'Clutch (2012)', 'Red Tails (2012)', 'Jack Reacher (2012)', 'Gallowwalkers (2012)', 'The Avengers (2012)', 'The Sweeney (2012)', 'Evangelion Shin Gekijôban: Kyu (2012)', 'The Amazing Spider-Man 3D (2012)', 'Prisoners of the Sun (2013)', 'Man of Steel (2013)', 'World War Z (2013)', 'The Power of Few (2013)', 'Epic (2013)', 'Snitch (2013)', 'Action Jackson (2014)', 'The Equalizer (2014)', 'Sin City: A Dame to Kill For (2014)', 'Jersey Justice (2014)', 'Dracula Untold (2014)', 'Godzilla (2014)', 'Electric Slide (2014)', 'Jurassic World (2015)', 'Oscar Buzz (2015)']"
   ]
  },
  {
   "cell_type": "code",
   "execution_count": 3,
   "metadata": {},
   "outputs": [],
   "source": [
    "# Definimos los diccionarios con las listas de actores en cada pelicula que usaremos en la extracción con Selenium.\n",
    "actores_comedy = {f\"{pelicula}\" : []}\n",
    "actores_drama = {f\"{pelicula}\" : []}\n",
    "actores_thriller = {f\"{pelicula}\" : []}\n",
    "actores_romance = {f\"{pelicula}\" : []}\n",
    "actores_mystery = {f\"{pelicula}\" : []}\n",
    "actores_horror = {f\"{pelicula}\" : []}\n",
    "actores_fantasy = {f\"{pelicula}\" : []}\n",
    "actores_action = {f\"{pelicula}\" : []}"
   ]
  },
  {
   "cell_type": "code",
   "execution_count": null,
   "metadata": {},
   "outputs": [],
   "source": [
    "# Inicializamos el navegador.\n",
    "driver = webdriver.Chrome()\n",
    "print(\"Abrimos el navegador.🔄\")\n",
    "\n",
    "# Definimos la URL.\n",
    "url_imbd = \"https://www.imdb.com/\"\n",
    "driver.get(url_imbd)\n",
    "\n",
    "# Maximizamos la ventana.\n",
    "driver.maximize_window()\n",
    "print(\"Maximizamos la pantalla.💻\")\n",
    "\n",
    "sleep(7)\n",
    "\n",
    "#Aceptamos las cookies.\n",
    "driver.find_element(\"css selector\", \"#__next > div > div > div.sc-jrcTuL.bPmWiM > div > button.icb-btn.sc-bcXHqe.sc-dkrFOg.sc-iBYQkv.dcvrLS.ddtuHe.dRCGjd\").click()\n",
    "print(\"Aceptamos las cookies.🍪\")\n",
    "\n",
    "\n",
    "sleep(7)\n",
    "\n",
    "\n",
    "# Inicializamos un diccionario donde recopilaremos la info de los actores/actrices.\n",
    "diccionario_actores = {\"Nombre Actor/Actriz\": [], \"Año nacimiento\": [], \n",
    "                            \"Obras\": [], \"Roles\": [], \"Premios\": []}\n",
    "\n",
    "for pelicula in lista_pelis_thriller:\n",
    "    actores_thriller = {f\"{pelicula}\" : []}\n",
    "\n",
    "    # Accedemos a la película.\n",
    "    driver.find_element(\"css selector\", \"ul.ipc-metadata-list-summary-item__tl > li:first-child\").click()\n",
    "\n",
    "    for actor in range(1,11):\n",
    "        driver.find_element(\"css selector\", f\"#__next > main > div > section.ipc-page-background.ipc-page-background--base.sc-afa4bed1-0.iMxoKo > div > section > div > div.sc-4b498b6e-1.jDpRYv.ipc-page-grid__item.ipc-page-grid__item--span-2 > section.ipc-page-section.ipc-page-section--base.sc-bfec09a1-0.dGyVLT.title-cast.title-cast--movie.celwidget > div.ipc-shoveler.ipc-shoveler--base.ipc-shoveler--page0.title-cast__grid > div.ipc-sub-grid.ipc-sub-grid--page-span-2.ipc-sub-grid--wraps-at-above-l.ipc-shoveler__grid > div:nth-child({actor})\").click()\n",
    "\n",
    "        sleep(7)\n",
    "\n",
    "       # Sacamos la información relevante de cada actor/actriz.\n",
    "        \n",
    "        # Nombre actor/actriz.\n",
    "        try:\n",
    "            act_imbd = driver.find_element(\"css selector\", \"#__next > main > div > section.ipc-page-background.ipc-page-background--base.sc-afa4bed1-0.iMxoKo > section > div:nth-child(5) > section > section > div.sc-491663c0-3.kNMkxz > div > h1 > span.hero__primary-text\").text\n",
    "            diccionario_actores[\"Nombre Actor/Actriz\"].append(act_imbd)\n",
    "            print(f\"Añadido el nombre: {act_imbd} ✅\")\n",
    "            sleep(7)\n",
    "        except:\n",
    "            diccionario_actores[\"Nombre Actor/Actriz\"].append(\"NE\")\n",
    "            print(f\"Nombre desconocido: {actor}\")\n",
    "    \n",
    "        sleep(7)\n",
    "\n",
    "        # Año nacimiento.\n",
    "        try:\n",
    "            nacimiento_imbd = driver.find_element(\"css selector\", \"#__next > main > div > section.ipc-page-background.ipc-page-background--base.sc-afa4bed1-0.iMxoKo > div > section > div > div.sc-4b498b6e-1.jDpRYv.ipc-page-grid__item.ipc-page-grid__item--span-2 > section:nth-child(22) > div.sc-f65f65be-0.dQVJPm > ul > li:nth-child(4) > div > ul > li.ipc-inline-list__item.test-class-react > a\").text\n",
    "            diccionario_actores[\"Año nacimiento\"].append(nacimiento_imbd)\n",
    "            print(f\"Añadido el año de nacimiento: {nacimiento_imbd} ✅\")\n",
    "            sleep(7)\n",
    "        except:\n",
    "            diccionario_actores[\"Año nacimiento\"].append(\"NE\")\n",
    "            print(f\"Año nacimiento desconocido para: {actor}\")    \n",
    "\n",
    "        sleep(7)\n",
    "\n",
    "        # ¿Por qué es conocid@?\n",
    "        try:\n",
    "            for x in range(1,5):\n",
    "                obras_imbd = driver.find_element(\"css selector\", \"#__next > main > div > section.ipc-page-background.ipc-page-background--base.sc-afa4bed1-0.iMxoKo > div > section > div > div.sc-4b498b6e-1.jDpRYv.ipc-page-grid__item.ipc-page-grid__item--span-2 > div.celwidget > section:nth-child(1) > div.sc-1c5b3162-0.dsjiSY > div > div.ipc-sub-grid.ipc-sub-grid--page-span-2.ipc-sub-grid--wraps-at-above-l.ipc-shoveler__grid > div:nth-child({x})\").text\n",
    "                diccionario_actores[\"Obras\"].append(obras_imbd)\n",
    "                print(f\"Añadidas las obras: {obras_imbd} ✅\")\n",
    "                pass\n",
    "            sleep(7)\n",
    "        except:\n",
    "            diccionario_actores[\"Obras\"].append(\"NE\")\n",
    "            print(f\"Obras desconocidas para: {actor}\")    \n",
    "\n",
    "        sleep(7)\n",
    "\n",
    "        # ¿Qué hace?\n",
    "        try:\n",
    "            for rol in ????\n",
    "                roles_imbd = driver.find_element(\"css selector\", \"XXXX\").text\n",
    "                diccionario_actores[\"Roles\"].append(roles_imbd)\n",
    "                print(f\"Añadidos roles: {roles_imbd} ✅\")\n",
    "            sleep(7)\n",
    "        except:\n",
    "            diccionario_actores[\"Roles\"].append(\"NE\")\n",
    "            print(f\"Roles desconocidos para: {actor}\")    \n",
    "\n",
    "        sleep(7)\n",
    "\n",
    "        # Premios.\n",
    "        try:\n",
    "            premios_imbd = driver.find_element(\"css selector\", \"#__next > main > div > section.ipc-page-background.ipc-page-background--base.sc-afa4bed1-0.iMxoKo > div > section > div > div.sc-4b498b6e-1.jDpRYv.ipc-page-grid__item.ipc-page-grid__item--span-2 > section:nth-child(3) > div > ul > li > div > ul > li > span\").text\n",
    "            diccionario_actores[\"Premios\"].append(premios_imbd)\n",
    "            print(f\"Añadidos premios: {premios_imbd} ✅\")\n",
    "            sleep(7)\n",
    "        except:\n",
    "            diccionario_actores[\"Premios\"].append(\"NE\")\n",
    "            print(f\"Premios desconocidos para: {actor}\")         \n",
    "\n",
    "            # Regresamos al for para poder iterar por el siguiente elemento de la lista,\n",
    "            driver.back()\n",
    "\n",
    "    # Cerramos el navegador,\n",
    "    driver.close()"
   ]
  },
  {
   "cell_type": "markdown",
   "metadata": {},
   "source": [
    "LAS SIGUIENTES CAJAS DE CÓDIGO SON PARA CUANDOñ\n",
    "1. CREEMEOS LA FUNCIÓN\n",
    "2. LA LLAMEMOS\n",
    "3. CONVIRTAMOS LOS DICCIONARIOS CON DATAFRAME"
   ]
  },
  {
   "cell_type": "code",
   "execution_count": null,
   "metadata": {},
   "outputs": [],
   "source": [
    "def extraccion_actores(lista):"
   ]
  },
  {
   "cell_type": "code",
   "execution_count": null,
   "metadata": {},
   "outputs": [],
   "source": [
    "# Llamamos a la función, almacenándola en una variable para poder distinguir los diccionarios por género.\n",
    "diccionario_actores_comedy = extraccion_actores(lista_pelis_comedy)"
   ]
  },
  {
   "cell_type": "code",
   "execution_count": null,
   "metadata": {},
   "outputs": [],
   "source": [
    "# Mostramos el contenido del diccionario.\n",
    "print(\"Información actores de películas/cortos comedy:\", diccionario_actores_comedy)"
   ]
  },
  {
   "cell_type": "code",
   "execution_count": null,
   "metadata": {},
   "outputs": [],
   "source": [
    "diccionario_actores_drama = extraccion_actores(lista_pelis_drama)"
   ]
  },
  {
   "cell_type": "code",
   "execution_count": null,
   "metadata": {},
   "outputs": [],
   "source": [
    "print(\"Información actores de películas/cortos drama:\", diccionario_actores_drama)"
   ]
  },
  {
   "cell_type": "code",
   "execution_count": null,
   "metadata": {},
   "outputs": [],
   "source": [
    "diccionario_actores_thriller = extraccion_actores(lista_pelis_thriller)"
   ]
  },
  {
   "cell_type": "code",
   "execution_count": null,
   "metadata": {},
   "outputs": [],
   "source": [
    "print(\"Información actores de películas/cortos thriller:\", diccionario_actores_thriller)"
   ]
  },
  {
   "cell_type": "code",
   "execution_count": null,
   "metadata": {},
   "outputs": [],
   "source": [
    "diccionario_actores_romance = extraccion_actores(lista_pelis_romance)"
   ]
  },
  {
   "cell_type": "code",
   "execution_count": null,
   "metadata": {},
   "outputs": [],
   "source": [
    "print(\"Información actores de películas/cortos romance:\", diccionario_actores_romance)"
   ]
  },
  {
   "cell_type": "code",
   "execution_count": null,
   "metadata": {},
   "outputs": [],
   "source": [
    "diccionario_actores_mystery = extraccion_actores(lista_pelis_mystery)"
   ]
  },
  {
   "cell_type": "code",
   "execution_count": null,
   "metadata": {},
   "outputs": [],
   "source": [
    "print(\"Información actores de películas/cortos mystery:\", diccionario_actores_mystery)"
   ]
  },
  {
   "cell_type": "code",
   "execution_count": null,
   "metadata": {},
   "outputs": [],
   "source": [
    "diccionario_actores_horror = extraccion_actores(lista_pelis_horror)"
   ]
  },
  {
   "cell_type": "code",
   "execution_count": null,
   "metadata": {},
   "outputs": [],
   "source": [
    "print(\"Información actores de películas/cortos horror:\", diccionario_actores_horror)"
   ]
  },
  {
   "cell_type": "code",
   "execution_count": null,
   "metadata": {},
   "outputs": [],
   "source": [
    "diccionario_actores_fantasy = extraccion_actores(lista_pelis_fantasy)"
   ]
  },
  {
   "cell_type": "code",
   "execution_count": null,
   "metadata": {},
   "outputs": [],
   "source": [
    "print(\"Información actores de películas/cortos fantasy:\", diccionario_actores_fantasy)"
   ]
  },
  {
   "cell_type": "code",
   "execution_count": null,
   "metadata": {},
   "outputs": [],
   "source": [
    "diccionario_actores_action = extraccion_actores(lista_pelis_action)"
   ]
  },
  {
   "cell_type": "code",
   "execution_count": null,
   "metadata": {},
   "outputs": [],
   "source": [
    "print(\"Información actores de películas/cortos action:\", diccionario_actores_action)"
   ]
  },
  {
   "cell_type": "code",
   "execution_count": null,
   "metadata": {},
   "outputs": [],
   "source": [
    "# Creamos la tabla del diccionario utilizando el método DataFrame para los actores de cada género. \n",
    "df__actores_comedy = pd.DataFrame()\n",
    "\n",
    "# Mostramos los resultados de la extracción de datos almacenados en un DataFrame.\n",
    "df_actores_comedy"
   ]
  },
  {
   "cell_type": "code",
   "execution_count": null,
   "metadata": {},
   "outputs": [],
   "source": [
    "df__actores_drama = pd.DataFrame()\n",
    "df_actores_drama"
   ]
  },
  {
   "cell_type": "code",
   "execution_count": null,
   "metadata": {},
   "outputs": [],
   "source": [
    "df__actores_thriller = pd.DataFrame()\n",
    "df_actores_thriller"
   ]
  },
  {
   "cell_type": "code",
   "execution_count": null,
   "metadata": {},
   "outputs": [],
   "source": [
    "df__actores_romance = pd.DataFrame()\n",
    "df_actores_romance"
   ]
  },
  {
   "cell_type": "code",
   "execution_count": null,
   "metadata": {},
   "outputs": [],
   "source": [
    "df__actores_mystery = pd.DataFrame()\n",
    "df_actores_mystery"
   ]
  },
  {
   "cell_type": "code",
   "execution_count": null,
   "metadata": {},
   "outputs": [],
   "source": [
    "df__actores_horror = pd.DataFrame()\n",
    "df_actores_horror"
   ]
  },
  {
   "cell_type": "code",
   "execution_count": null,
   "metadata": {},
   "outputs": [],
   "source": [
    "df__actores_fantasy = pd.DataFrame()\n",
    "df_actores_fantasy"
   ]
  },
  {
   "cell_type": "code",
   "execution_count": null,
   "metadata": {},
   "outputs": [],
   "source": [
    "df__actores_action = pd.DataFrame()\n",
    "df_actores_action"
   ]
  }
 ],
 "metadata": {
  "kernelspec": {
   "display_name": "base",
   "language": "python",
   "name": "python3"
  },
  "language_info": {
   "codemirror_mode": {
    "name": "ipython",
    "version": 3
   },
   "file_extension": ".py",
   "mimetype": "text/x-python",
   "name": "python",
   "nbconvert_exporter": "python",
   "pygments_lexer": "ipython3",
   "version": "3.12.4"
  }
 },
 "nbformat": 4,
 "nbformat_minor": 2
}
