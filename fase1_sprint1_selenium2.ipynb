{
 "cells": [
  {
   "cell_type": "markdown",
   "metadata": {},
   "source": [
    "**Extracción de detalles sobre 10 principales actores en IMBD con Selenium**\n",
    "- Nombre.\n",
    "- Año de nacimiento.\n",
    "- ¿Por qué es conocido?\n",
    "- ¿Qué hace?\n",
    "- Premios."
   ]
  },
  {
   "cell_type": "code",
   "execution_count": null,
   "metadata": {},
   "outputs": [],
   "source": [
    "\n",
    "# Inicializamos un diccionario donde recopilaremos la info de los actores/actrices\n",
    "diccionario_actores = {\"Nombre Actor/Actriz\": [], \"Año nacimiento\": [], \n",
    "                        \"Obras\": [], \"Habilidades\": [], \"Premios\": []}\n",
    "\n",
    "# ITERCACIÓN FOR\n",
    "    # Nombre actor/actriz\n",
    "    act_imbd = driver.find_element().text\n",
    "\n",
    "    # Año nacimiento\n",
    "    nacimiento_imbd = driver.find_element().text\n",
    "\n",
    "    # ¿Por qué es conocid@?\n",
    "    obras_imbd = driver.find_element().text\n",
    "\n",
    "    # ¿Qué hace?\n",
    "    habilidades_imbd = driver.find_element().text\n",
    "\n",
    "    # Premios\n",
    "    premios_imbd = driver.find_element().text\n",
    "\n",
    "    diccionario_peliculas[\"Nombre Actor/Actriz\"].append(act_imbd)\n",
    "    diccionario_peliculas[\"Año nacimiento\"].append(nacimiento_imbd)\n",
    "    diccionario_peliculas[\"Obras\"].append(obras_imbd)\n",
    "    diccionario_peliculas[\"Habilidades\"].append(habilidades_imbd)\n",
    "    diccionario_peliculas[\"Premios\"].append(premios_imbd)\n",
    "\n",
    "    # Regresamos al for para poder iterar por el siguiente elemento de la lista\n",
    "    driver.back()\n",
    "\n",
    "# Cerramos el navegador\n",
    "driver.close()"
   ]
  }
 ],
 "metadata": {
  "language_info": {
   "name": "python"
  }
 },
 "nbformat": 4,
 "nbformat_minor": 2
}
