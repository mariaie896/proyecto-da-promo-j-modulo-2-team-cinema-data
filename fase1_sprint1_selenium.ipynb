{
 "cells": [
  {
   "cell_type": "markdown",
   "metadata": {},
   "source": [
    "**Extracción de detalles sobre las pelis en IMBD con Selenium**\n",
    "- Puntuación de IMDB (en caso de que la tenga).\n",
    "- Dirección (director/a o directores/as de cada película).\n",
    "- Guionistas (de cada película).\n",
    "- Argumento.\n",
    "- Nombre de la película.\n",
    "- Id de la película."
   ]
  },
  {
   "cell_type": "markdown",
   "metadata": {},
   "source": [
    "**Extracción de detalles sobre 10 principales actores en IMBD con Selenium**\n",
    "- Nombre.\n",
    "- Año de nacimiento.\n",
    "- ¿Por qué es conocido?\n",
    "- ¿Qué hace?\n",
    "- Premios.\n"
   ]
  },
  {
   "cell_type": "code",
   "execution_count": null,
   "metadata": {},
   "outputs": [],
   "source": [
    "# Importamos librerias\n",
    "\n",
    "import pandas as pd\n",
    "from bs4 import BeautifulSoup\n",
    "import requests\n",
    "from selenium import webdriver  \n",
    "from webdriver_manager.chrome import ChromeDriverManager  \n",
    "from selenium.webdriver.common.keys import Keys  \n",
    "from selenium.webdriver.support.ui import Select  \n",
    "from time import sleep \n",
    "pd.set_option('display.max_columns', None)"
   ]
  },
  {
   "cell_type": "code",
   "execution_count": null,
   "metadata": {},
   "outputs": [],
   "source": [
    "# Abrir navegador\n",
    "driver = webdriver.Chrome()\n",
    "print(\"Abrimos navegador.🔄\")\n",
    "\n",
    "# Definir url\n",
    "url_imbd = \"https://www.imdb.com/\"\n",
    "driver.get(url_imbd)\n",
    "\n",
    "# Maximizar la ventana\n",
    "driver.maximize_window()\n",
    "print(\"Maximizamos la pantalla.💻\")\n",
    "\n",
    "sleep(3)\n",
    "\n",
    "# Aceptar las cookies\n",
    "driver.find_element(\"css selector\", \"#__next > div > div > div.sc-jrcTuL.bPmWiM > div > button.icb-btn.sc-bcXHqe.sc-dkrFOg.sc-iBYQkv.dcvrLS.ddtuHe.dRCGjd\").click()\n",
    "print(\"Aceptamos las cookies.🍪\")\n",
    "\n",
    "sleep(3)\n"
   ]
  },
  {
   "cell_type": "code",
   "execution_count": null,
   "metadata": {},
   "outputs": [],
   "source": [
    "driver.back()\n",
    "# Inicializo un diccionario \n",
    "diccionario_peliculas = {}\n",
    "# Iteramos sobre x\n",
    "# Hago clik\n",
    "# Recopilo info\n",
    "# Puntuación\n",
    "puntuacion_imbd = driver.find_element().text\n",
    "\n",
    "# Dirección\n",
    "direccion_imbd = driver.find_element().text\n",
    "\n",
    "# Guionistas\n",
    "guionistas_imbd = driver.find_element().text\n",
    "\n",
    "# Argumento\n",
    "argumento_imbd = driver.find_element().text\n",
    "\n",
    "# Nombre película\n",
    "nombre_imbd = driver.find_element().text\n",
    "\n",
    "# Id película\n",
    "id_imbd = driver.find_element().text\n",
    "#  Mostramos los resultados en formato diccionario\n",
    "diccionario_peliculas\n",
    "# Cerramos el navegador\n",
    "driver.close()\n",
    "# Creamos la tabla de nuestro diccionario utilizando el metodo DataFrame \n",
    "df_peliculas = pd.DataFrame(diccionario_peliculas)\n",
    "# Mostramos los resultados de la extracción de datos almacenados en un DataFrame\n",
    "df_peliculas"
   ]
  },
  {
   "cell_type": "code",
   "execution_count": null,
   "metadata": {},
   "outputs": [],
   "source": [
    "# Ingresar la elección del usuario en el campo de búsqueda y presionar Enter\n",
    "driver.find_element(\"css selector\", \"x\").send_keys(eleccion_usuario, Keys.ENTER)\n",
    "# CSS SELECTOR SEARCHBAR EN IMBD\n",
    "(\"css selector\", \"#suggestion-search\").click()\n",
    "# CSS SELECTOR DARLE LA LUPA EN IMBD\n",
    "(\"css selector\", \"#suggestion-search-button > svg\")"
   ]
  },
  {
   "cell_type": "markdown",
   "metadata": {},
   "source": [
    "Comedy:\n",
    "['How It Feels to Be Run Over', 'The Clown and the Alchemist', \"Avenue de l'opéra\", 'Above the Limit', 'The Enchanted Drawing']"
   ]
  },
  {
   "cell_type": "code",
   "execution_count": null,
   "metadata": {},
   "outputs": [],
   "source": [
    "for nombre in comedy:\n",
    "    "
   ]
  }
 ],
 "metadata": {
  "kernelspec": {
   "display_name": "base",
   "language": "python",
   "name": "python3"
  },
  "language_info": {
   "name": "python",
   "version": "3.12.4"
  }
 },
 "nbformat": 4,
 "nbformat_minor": 2
}
