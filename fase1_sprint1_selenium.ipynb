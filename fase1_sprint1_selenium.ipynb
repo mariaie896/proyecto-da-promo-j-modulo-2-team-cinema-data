{
 "cells": [
  {
   "cell_type": "markdown",
   "metadata": {},
   "source": [
    "**Extracción de detalles sobre las pelis en IMBD con Selenium**\n",
    "- Puntuación de IMDB (en caso de que la tenga).\n",
    "- Dirección (director/a o directores/as de cada película).\n",
    "- Guionistas (de cada película).\n",
    "- Argumento.\n",
    "- Nombre de la película.\n",
    "- Id de la película."
   ]
  },
  {
   "cell_type": "code",
   "execution_count": 5,
   "metadata": {},
   "outputs": [],
   "source": [
    "# Importamos librerias\n",
    "\n",
    "import pandas as pd\n",
    "from bs4 import BeautifulSoup\n",
    "import requests\n",
    "from selenium import webdriver  \n",
    "from webdriver_manager.chrome import ChromeDriverManager  \n",
    "from selenium.webdriver.common.keys import Keys  \n",
    "from selenium.webdriver.support.ui import Select  \n",
    "from time import sleep \n",
    "pd.set_option('display.max_columns', None)"
   ]
  },
  {
   "cell_type": "code",

   "execution_count": 6,

   "metadata": {},
   "outputs": [
    {
     "name": "stdout",
     "output_type": "stream",
     "text": [
      "Abrimos navegador.🔄\n",
      "Maximizamos la pantalla.💻\n",
      "Aceptamos las cookies.🍪\n",
      "Accediendo a la película\n",
      "Añade al diccionario el nombre del producto Pushing the Envelope\n",
      "Se ha añadido la puntuación 6.6\n",
      "Se ha añadido el numero de identificacion \n",
      "Añade al diccionario el nombre del director Director\n",
      "Dorian Ramírez\n",
      "Argumento no encontrado de la película/corto Pushing the Envelope (2000)\n"
     ]
    },
    {
     "ename": "NameError",
     "evalue": "name 'guionistas_imbd' is not defined",
     "output_type": "error",
     "traceback": [

      "\u001b[0;31m---------------------------------------------------------------------------\u001b[0m",
      "\u001b[0;31mNoSuchElementException\u001b[0m                    Traceback (most recent call last)",
      "Cell \u001b[0;32mIn[6], line 101\u001b[0m\n\u001b[1;32m     99\u001b[0m \u001b[38;5;28;01mtry\u001b[39;00m:\n\u001b[1;32m    100\u001b[0m     \u001b[38;5;66;03m#Guionistas\u001b[39;00m\n\u001b[0;32m--> 101\u001b[0m     guionistas_imbd \u001b[38;5;241m=\u001b[39m driver\u001b[38;5;241m.\u001b[39mfind_element(\u001b[38;5;124m\"\u001b[39m\u001b[38;5;124mcss selector\u001b[39m\u001b[38;5;124m\"\u001b[39m,\u001b[38;5;124m\"\u001b[39m\u001b[38;5;124m#__next > main > div > section.ipc-page-background.ipc-page-background--base.sc-afa4bed1-0.iMxoKo > section > div:nth-child(5) > section > section > div.sc-491663c0-4.gxWIhN > div.sc-491663c0-6.etrlfo > div.sc-491663c0-10.iaQXlA > section > div.sc-1f50b7c-3.gLpgJQ > div > ul > li:nth-child(2) > div\u001b[39m\u001b[38;5;124m\"\u001b[39m)\u001b[38;5;241m.\u001b[39mtext\n\u001b[1;32m    102\u001b[0m     \u001b[38;5;28mprint\u001b[39m(\u001b[38;5;124mf\u001b[39m\u001b[38;5;124m\"\u001b[39m\u001b[38;5;124mAñade al diccionario l@s guionistas \u001b[39m\u001b[38;5;132;01m{\u001b[39;00mguionistas_imbd\u001b[38;5;132;01m}\u001b[39;00m\u001b[38;5;124m\"\u001b[39m)\n",
      "File \u001b[0;32m~/anaconda3/lib/python3.12/site-packages/selenium/webdriver/remote/webdriver.py:748\u001b[0m, in \u001b[0;36mWebDriver.find_element\u001b[0;34m(self, by, value)\u001b[0m\n\u001b[1;32m    746\u001b[0m     value \u001b[38;5;241m=\u001b[39m \u001b[38;5;124mf\u001b[39m\u001b[38;5;124m'\u001b[39m\u001b[38;5;124m[name=\u001b[39m\u001b[38;5;124m\"\u001b[39m\u001b[38;5;132;01m{\u001b[39;00mvalue\u001b[38;5;132;01m}\u001b[39;00m\u001b[38;5;124m\"\u001b[39m\u001b[38;5;124m]\u001b[39m\u001b[38;5;124m'\u001b[39m\n\u001b[0;32m--> 748\u001b[0m \u001b[38;5;28;01mreturn\u001b[39;00m \u001b[38;5;28mself\u001b[39m\u001b[38;5;241m.\u001b[39mexecute(Command\u001b[38;5;241m.\u001b[39mFIND_ELEMENT, {\u001b[38;5;124m\"\u001b[39m\u001b[38;5;124musing\u001b[39m\u001b[38;5;124m\"\u001b[39m: by, \u001b[38;5;124m\"\u001b[39m\u001b[38;5;124mvalue\u001b[39m\u001b[38;5;124m\"\u001b[39m: value})[\u001b[38;5;124m\"\u001b[39m\u001b[38;5;124mvalue\u001b[39m\u001b[38;5;124m\"\u001b[39m]\n",
      "File \u001b[0;32m~/anaconda3/lib/python3.12/site-packages/selenium/webdriver/remote/webdriver.py:354\u001b[0m, in \u001b[0;36mWebDriver.execute\u001b[0;34m(self, driver_command, params)\u001b[0m\n\u001b[1;32m    353\u001b[0m \u001b[38;5;28;01mif\u001b[39;00m response:\n\u001b[0;32m--> 354\u001b[0m     \u001b[38;5;28mself\u001b[39m\u001b[38;5;241m.\u001b[39merror_handler\u001b[38;5;241m.\u001b[39mcheck_response(response)\n\u001b[1;32m    355\u001b[0m     response[\u001b[38;5;124m\"\u001b[39m\u001b[38;5;124mvalue\u001b[39m\u001b[38;5;124m\"\u001b[39m] \u001b[38;5;241m=\u001b[39m \u001b[38;5;28mself\u001b[39m\u001b[38;5;241m.\u001b[39m_unwrap_value(response\u001b[38;5;241m.\u001b[39mget(\u001b[38;5;124m\"\u001b[39m\u001b[38;5;124mvalue\u001b[39m\u001b[38;5;124m\"\u001b[39m, \u001b[38;5;28;01mNone\u001b[39;00m))\n",
      "File \u001b[0;32m~/anaconda3/lib/python3.12/site-packages/selenium/webdriver/remote/errorhandler.py:229\u001b[0m, in \u001b[0;36mErrorHandler.check_response\u001b[0;34m(self, response)\u001b[0m\n\u001b[1;32m    228\u001b[0m     \u001b[38;5;28;01mraise\u001b[39;00m exception_class(message, screen, stacktrace, alert_text)  \u001b[38;5;66;03m# type: ignore[call-arg]  # mypy is not smart enough here\u001b[39;00m\n\u001b[0;32m--> 229\u001b[0m \u001b[38;5;28;01mraise\u001b[39;00m exception_class(message, screen, stacktrace)\n",
      "\u001b[0;31mNoSuchElementException\u001b[0m: Message: no such element: Unable to locate element: {\"method\":\"css selector\",\"selector\":\"#__next > main > div > section.ipc-page-background.ipc-page-background--base.sc-afa4bed1-0.iMxoKo > section > div:nth-child(5) > section > section > div.sc-491663c0-4.gxWIhN > div.sc-491663c0-6.etrlfo > div.sc-491663c0-10.iaQXlA > section > div.sc-1f50b7c-3.gLpgJQ > div > ul > li:nth-child(2) > div\"}\n  (Session info: chrome=128.0.6613.114); For documentation on this error, please visit: https://www.selenium.dev/documentation/webdriver/troubleshooting/errors#no-such-element-exception\nStacktrace:\n0   chromedriver                        0x0000000100b7f998 cxxbridge1$str$ptr + 1887096\n1   chromedriver                        0x0000000100b77e00 cxxbridge1$str$ptr + 1855456\n2   chromedriver                        0x000000010077cbe0 cxxbridge1$string$len + 89508\n3   chromedriver                        0x00000001007c0f10 cxxbridge1$string$len + 368852\n4   chromedriver                        0x00000001007fa4a4 cxxbridge1$string$len + 603752\n5   chromedriver                        0x00000001007b5a08 cxxbridge1$string$len + 322508\n6   chromedriver                        0x00000001007b666c cxxbridge1$string$len + 325680\n7   chromedriver                        0x0000000100b46058 cxxbridge1$str$ptr + 1651256\n8   chromedriver                        0x0000000100b4a98c cxxbridge1$str$ptr + 1669996\n9   chromedriver                        0x0000000100b2b1ec cxxbridge1$str$ptr + 1541068\n10  chromedriver                        0x0000000100b4b25c cxxbridge1$str$ptr + 1672252\n11  chromedriver                        0x0000000100b1c800 cxxbridge1$str$ptr + 1481184\n12  chromedriver                        0x0000000100b690f8 cxxbridge1$str$ptr + 1794776\n13  chromedriver                        0x0000000100b69274 cxxbridge1$str$ptr + 1795156\n14  chromedriver                        0x0000000100b77a9c cxxbridge1$str$ptr + 1854588\n15  libsystem_pthread.dylib             0x0000000185fbdf94 _pthread_start + 136\n16  libsystem_pthread.dylib             0x0000000185fb8d34 thread_start + 8\n",
      "\nDuring handling of the above exception, another exception occurred:\n",
      "\u001b[0;31mNameError\u001b[0m                                 Traceback (most recent call last)",
      "Cell \u001b[0;32mIn[6], line 105\u001b[0m\n\u001b[1;32m    102\u001b[0m     \u001b[38;5;28mprint\u001b[39m(\u001b[38;5;124mf\u001b[39m\u001b[38;5;124m\"\u001b[39m\u001b[38;5;124mAñade al diccionario l@s guionistas \u001b[39m\u001b[38;5;132;01m{\u001b[39;00mguionistas_imbd\u001b[38;5;132;01m}\u001b[39;00m\u001b[38;5;124m\"\u001b[39m)\n\u001b[1;32m    104\u001b[0m \u001b[38;5;28;01mexcept\u001b[39;00m:\n\u001b[0;32m--> 105\u001b[0m     diccionario_peliculas[\u001b[38;5;124m\"\u001b[39m\u001b[38;5;124mGuionistas\u001b[39m\u001b[38;5;124m\"\u001b[39m]\u001b[38;5;241m.\u001b[39mappend(guionistas_imbd)\n\u001b[1;32m    106\u001b[0m     \u001b[38;5;28mprint\u001b[39m(\u001b[38;5;124mf\u001b[39m\u001b[38;5;124m\"\u001b[39m\u001b[38;5;124mGuionistas no encontrados en la película/corto \u001b[39m\u001b[38;5;132;01m{\u001b[39;00mpeli\u001b[38;5;132;01m}\u001b[39;00m\u001b[38;5;124m\"\u001b[39m) \n\u001b[1;32m    109\u001b[0m \u001b[38;5;66;03m# Regresamos al for para poder iterar por el siguiente elemento de la lista\u001b[39;00m\n",
      "\u001b[0;31mNameError\u001b[0m: name 'guionistas_imbd' is not defined"


     ]
    }
   ],
   "source": [
    "# Inicializamos el driver\n",
    "driver = webdriver.Chrome()\n",
    "print(\"Abrimos navegador.🔄\")\n",
    "\n",
    "# Definimos la URL\n",
    "url_imbd = \"https://www.imdb.com/\"\n",
    "driver.get(url_imbd)\n",
    "\n",
    "# Maximizamos la ventana\n",
    "driver.maximize_window()\n",
    "print(\"Maximizamos la pantalla.💻\")\n",
    "\n",

    "sleep(7)\n",


    "\n",
    "#Aceptamos cookies\n",
    "driver.find_element(\"css selector\", \"#__next > div > div > div.sc-jrcTuL.bPmWiM > div > button.icb-btn.sc-bcXHqe.sc-dkrFOg.sc-iBYQkv.dcvrLS.ddtuHe.dRCGjd\").click()\n",
    "print(\"Aceptamos las cookies.🍪\")\n",
    "\n",
    "\n",
    "sleep(7)\n",
    "\n",
    "# Definimos nuestra lista de películas de comedia\n",
    "lista_thriller = ['Pushing the Envelope (2000)', 'Vulgar (2000)', 'Lured Innocence (2000)', 'Shikari (2000)', 'The Highwayman (2000)', '3 noches (2001)', 'Eyes Are Upon You (2001)', 'Training Day (2001)', 'I/O Error (2001)', 'D-Tox (2002)', 'The Sum of All Fears (2002)', 'City of Ghosts (2002)', 'Silent Screamplay (2003)', 'Sister Blue (2003)', 'Terror in the Darkness (2003)', 'Shadow Sailing (2003)', 'How It All Went Down (2003)', 'Life Sentence (2004)', 'Till Proven Innocent (2004)', 'The 24th Day (2004)', 'False River (2005)', 'Ripley Under Ground (2005)', 'Cl.One (2005)', 'Imposture (2005)', 'Wanted (2005)', '.45 (2006)', 'Arrivederci amore, ciao (2006)', '5ive! (2006)', 'Mystery of the Bloody Mansion (2007)', 'Crime imparfait (2007)', 'La vérité qui tue (2007)', 'La méthode Barnol (2007)', \"Before the Devil Knows You're Dead (2007)\", 'ISS Space Agency (2008)', 'Green River (2008)', 'The Rules (2008)', '1 (2009)', 'Federal (2010)', 'Moving Target (2011)', 'Escalade (2011)', 'Dark Blood (2012)', 'The Yellow Wallpaper (2012)', 'The Grind (2012)', 'Freaky Deaky (2012)', \"Devil's Knot (2013)\", 'N.Y.C. Underground (2013)', 'Episode #1.255 (2015)']\n",
    "\n",
    "# Inicializamos un diccionario donde recopilaremos la info de las pelis\n",
    "diccionario_peliculas = {\"Nombre\": [], \"Id\": [], \"Direccion\": [], \n",
    "                         \"Guionistas\": [], \"Argumento\": [], \"Puntuacion\": []}\n",
    "\n",
    "for peli in lista_thriller:\n",
    "    sleep(7)\n",
    "    \n",
    "    # Introducimos nombre de la peli en el buscador\n",
    "    driver.find_element(\"css selector\", \"#suggestion-search\").send_keys(peli, Keys.ENTER)\n",
    "    sleep(7)\n",
    "\n",
    "    # Pedimos que ingrese en la PRIMERA película\n",
    "    driver.find_element(\"css selector\", \"ul.ipc-metadata-list-summary-item__tl > li:first-child\").click()\n",
    "    print(\"Accediendo a la película\")\n",
    "    sleep(7)\n",
    "\n",
    "    # Sacamos info relevante de cada peli\n",
    "\n",
    "    # Nombre\n",
    "    nombre_imbd = driver.find_element(\"css selector\", \"h1 span\").text\n",
    "\n",
    "    # Añadimos nombre diccionario   \n",
    "    diccionario_peliculas[\"Nombre\"].append(nombre_imbd)\n",
    "    print(f\"Añade al diccionario el nombre del producto {nombre_imbd}\")\n",
    "    sleep(7)\n",
    "\n",
    "    # Puntuacion\n",
    "    puntuacion_imbd = driver.find_element(\"css selector\", \"#__next > main > div > section.ipc-page-background.ipc-page-background--base.sc-afa4bed1-0.iMxoKo > section > div:nth-child(5) > section > section > div.sc-491663c0-3.kNMkxz > div.sc-3a4309f8-0.jJkxPn.sc-1f50b7c-1.doVJqQ > div > div:nth-child(1) > a > span > div > div.sc-eb51e184-0.ghvwpw > div.sc-eb51e184-2.fAhXAe > span.sc-eb51e184-1.ljxVSS\").text\n",
    "    \n",
    "    # Añadimos puntuación diccionario\n",
    "    diccionario_peliculas[\"Puntuacion\"].append(puntuacion_imbd)\n",
    "    print(f\"Se ha añadido la puntuación {puntuacion_imbd}\")\n",
    "    sleep(7)\n",
    "\n",
    "    # Id\n",
    "    id_imbd = driver.find_element(\"css selector\",\"head > meta:nth-child(10)\").text\n",
    "\n",
    "    # Añadimos puntuación diccionario\n",
    "    diccionario_peliculas[\"Id\"].append(id_imbd)\n",
    "    print(f\"Se ha añadido el numero de identificacion {id_imbd}\")   \n",
    "    sleep(7)\n",
    "\n",
    "    try: \n",
    "        # Dirección\n",
    "        direccion_imbd = driver.find_element(\"css selector\",\"ul.ipc-metadata-list > li\").text\n",
    "        diccionario_peliculas[\"Direccion\"].append(direccion_imbd)\n",
    "        print(f\"Añade al diccionario el nombre del director {direccion_imbd}\")\n",
    "        sleep(7)\n",
    "\n",
    "    except:\n",
    "        diccionario_peliculas[\"Direccion\"].append(\"NE\")\n",
    "        print(f\"Dirección no encontrada de la película/corto {peli}\")\n",
    "    \n",
    "    sleep(7)\n",
    "\n",
    "\n",
    "\n",
    "    try:\n",
    "        # Argumento\n",
    "        argumento_imbd = driver.find_element(\"css selector\", \"#__next > main > div > section.ipc-page-background.ipc-page-background--base.sc-afa4bed1-0.iMxoKo > section > div:nth-child(5) > section > section > div.sc-491663c0-4.gxWIhN > div.sc-491663c0-6.etrlfo > div.sc-491663c0-10.iaQXlA > section > p\").text\n",
    "        # Añado Argumento a diccionario\n",
    "        diccionario_peliculas[\"Argumento\"].append(argumento_imbd)\n",
    "        print(f\"Añade al diccionario el argumento {argumento_imbd}\")\n",
    "        sleep(7)\n",
    "\n",
    "    except:\n",
    "        diccionario_peliculas[\"Argumento\"].append(\"NE\")\n",
    "        print(f\"Argumento no encontrado de la película/corto {peli}\") \n",
    "        sleep(7)\n",
    "\n",
    "    sleep(7)\n",
    "\n",
    "\n",
    "\n",
    "    try:\n",
    "        #Guionistas\n",
    "        guionistas_imbd = driver.find_element(\"css selector\",\"#__next > main > div > section.ipc-page-background.ipc-page-background--base.sc-afa4bed1-0.iMxoKo > section > div:nth-child(5) > section > section > div.sc-491663c0-4.gxWIhN > div.sc-491663c0-6.etrlfo > div.sc-491663c0-10.iaQXlA > section > div.sc-1f50b7c-3.gLpgJQ > div > ul > li:nth-child(2) > div\").text\n",
    "        print(f\"Añade al diccionario l@s guionistas {guionistas_imbd}\")\n",
    "\n",
    "    except:\n",
    "        diccionario_peliculas[\"Guionistas\"].append(guionistas_imbd)\n",
    "        print(f\"Guionistas no encontrados en la película/corto {peli}\") \n",
    "\n",
    "    \n",
    "    # Regresamos al for para poder iterar por el siguiente elemento de la lista\n",
    "    driver.back()\n",
    "\n",
    "\n"
   ]
  },
  {
   "cell_type": "code",
   "execution_count": null,
   "metadata": {},
   "outputs": [],
   "source": [
    "# Cerramos el navegador\n",
    "driver.close()"
   ]
  },
  {
   "cell_type": "code",
   "execution_count": null,
   "metadata": {},
   "outputs": [
    {
     "name": "stdout",
     "output_type": "stream",
     "text": [
      "{'Nombre': ['Twister: A Musical Catastrophe', 'Love 101', 'Nothing Sacred'], 'Id': [], 'Direccion': ['Dirección\\nKen Kesey', 'Dirección\\nAdrian Fulle', 'Dirección\\nDavid ElliotMark Huppin'], 'Guionistas': [], 'Argumento': ['Añade un argumento en tu idioma\\nThe major characters in \"Twister\" faces turn-of-the-twenty-first-century crises in the world today: The Hungry Wind, The Lonely Virus, and The Restless Earth, which deal, respectively, with tornadoes and hurricanes that bring famine, AIDS and other plagues, and earthquakes, all of which Kesey cites as being on the rise.', 'Añade un argumento en tu idioma\\nA group of raucous college buds living the Dorm life, decide to have a blowout while most of their friends are away for the Thanksgiving holiday. With LOVE 101 being the toughest course this semester, will they pass the final exam?', \"Añade un argumento en tu idioma\\nThree longtime pals live in San Francisco: Darin is married to Natalie, but their family life is too still and Darin is not happy about it, Matt is ladies' magnet but tired of it, trying to get something stable from his relationships, and goofy Kevin doesn't have any success with women at all. Darin starts an affair with his friend's wife Maxine and Matt falls deeply ... Leer todo\"], 'Puntuacion': ['7,6', '5,1', '5,8']}\n"
     ]
    }
   ],
   "source": [
    "\n",
    "print(diccionario_peliculas)"
   ]
  },
  {
   "cell_type": "code",
   "execution_count": null,
   "metadata": {},
   "outputs": [
    {
     "ename": "ValueError",
     "evalue": "All arrays must be of the same length",
     "output_type": "error",
     "traceback": [
      "\u001b[1;31m---------------------------------------------------------------------------\u001b[0m",
      "\u001b[1;31mValueError\u001b[0m                                Traceback (most recent call last)",
      "Cell \u001b[1;32mIn[74], line 2\u001b[0m\n\u001b[0;32m      1\u001b[0m \u001b[38;5;66;03m# Creamos la tabla de nuestro diccionario utilizando el metodo DataFrame \u001b[39;00m\n\u001b[1;32m----> 2\u001b[0m df_peliculas \u001b[38;5;241m=\u001b[39m \u001b[43mpd\u001b[49m\u001b[38;5;241;43m.\u001b[39;49m\u001b[43mDataFrame\u001b[49m\u001b[43m(\u001b[49m\u001b[43mdiccionario_peliculas\u001b[49m\u001b[43m)\u001b[49m\n\u001b[0;32m      4\u001b[0m \u001b[38;5;66;03m# Mostramos los resultados de la extracción de datos almacenados en un DataFrame\u001b[39;00m\n\u001b[0;32m      5\u001b[0m df_peliculas\n",
      "File \u001b[1;32m~\\AppData\\Local\\Packages\\PythonSoftwareFoundation.Python.3.11_qbz5n2kfra8p0\\LocalCache\\local-packages\\Python311\\site-packages\\pandas\\core\\frame.py:778\u001b[0m, in \u001b[0;36mDataFrame.__init__\u001b[1;34m(self, data, index, columns, dtype, copy)\u001b[0m\n\u001b[0;32m    772\u001b[0m     mgr \u001b[38;5;241m=\u001b[39m \u001b[38;5;28mself\u001b[39m\u001b[38;5;241m.\u001b[39m_init_mgr(\n\u001b[0;32m    773\u001b[0m         data, axes\u001b[38;5;241m=\u001b[39m{\u001b[38;5;124m\"\u001b[39m\u001b[38;5;124mindex\u001b[39m\u001b[38;5;124m\"\u001b[39m: index, \u001b[38;5;124m\"\u001b[39m\u001b[38;5;124mcolumns\u001b[39m\u001b[38;5;124m\"\u001b[39m: columns}, dtype\u001b[38;5;241m=\u001b[39mdtype, copy\u001b[38;5;241m=\u001b[39mcopy\n\u001b[0;32m    774\u001b[0m     )\n\u001b[0;32m    776\u001b[0m \u001b[38;5;28;01melif\u001b[39;00m \u001b[38;5;28misinstance\u001b[39m(data, \u001b[38;5;28mdict\u001b[39m):\n\u001b[0;32m    777\u001b[0m     \u001b[38;5;66;03m# GH#38939 de facto copy defaults to False only in non-dict cases\u001b[39;00m\n\u001b[1;32m--> 778\u001b[0m     mgr \u001b[38;5;241m=\u001b[39m \u001b[43mdict_to_mgr\u001b[49m\u001b[43m(\u001b[49m\u001b[43mdata\u001b[49m\u001b[43m,\u001b[49m\u001b[43m \u001b[49m\u001b[43mindex\u001b[49m\u001b[43m,\u001b[49m\u001b[43m \u001b[49m\u001b[43mcolumns\u001b[49m\u001b[43m,\u001b[49m\u001b[43m \u001b[49m\u001b[43mdtype\u001b[49m\u001b[38;5;241;43m=\u001b[39;49m\u001b[43mdtype\u001b[49m\u001b[43m,\u001b[49m\u001b[43m \u001b[49m\u001b[43mcopy\u001b[49m\u001b[38;5;241;43m=\u001b[39;49m\u001b[43mcopy\u001b[49m\u001b[43m,\u001b[49m\u001b[43m \u001b[49m\u001b[43mtyp\u001b[49m\u001b[38;5;241;43m=\u001b[39;49m\u001b[43mmanager\u001b[49m\u001b[43m)\u001b[49m\n\u001b[0;32m    779\u001b[0m \u001b[38;5;28;01melif\u001b[39;00m \u001b[38;5;28misinstance\u001b[39m(data, ma\u001b[38;5;241m.\u001b[39mMaskedArray):\n\u001b[0;32m    780\u001b[0m     \u001b[38;5;28;01mfrom\u001b[39;00m \u001b[38;5;21;01mnumpy\u001b[39;00m\u001b[38;5;21;01m.\u001b[39;00m\u001b[38;5;21;01mma\u001b[39;00m \u001b[38;5;28;01mimport\u001b[39;00m mrecords\n",
      "File \u001b[1;32m~\\AppData\\Local\\Packages\\PythonSoftwareFoundation.Python.3.11_qbz5n2kfra8p0\\LocalCache\\local-packages\\Python311\\site-packages\\pandas\\core\\internals\\construction.py:503\u001b[0m, in \u001b[0;36mdict_to_mgr\u001b[1;34m(data, index, columns, dtype, typ, copy)\u001b[0m\n\u001b[0;32m    499\u001b[0m     \u001b[38;5;28;01melse\u001b[39;00m:\n\u001b[0;32m    500\u001b[0m         \u001b[38;5;66;03m# dtype check to exclude e.g. range objects, scalars\u001b[39;00m\n\u001b[0;32m    501\u001b[0m         arrays \u001b[38;5;241m=\u001b[39m [x\u001b[38;5;241m.\u001b[39mcopy() \u001b[38;5;28;01mif\u001b[39;00m \u001b[38;5;28mhasattr\u001b[39m(x, \u001b[38;5;124m\"\u001b[39m\u001b[38;5;124mdtype\u001b[39m\u001b[38;5;124m\"\u001b[39m) \u001b[38;5;28;01melse\u001b[39;00m x \u001b[38;5;28;01mfor\u001b[39;00m x \u001b[38;5;129;01min\u001b[39;00m arrays]\n\u001b[1;32m--> 503\u001b[0m \u001b[38;5;28;01mreturn\u001b[39;00m \u001b[43marrays_to_mgr\u001b[49m\u001b[43m(\u001b[49m\u001b[43marrays\u001b[49m\u001b[43m,\u001b[49m\u001b[43m \u001b[49m\u001b[43mcolumns\u001b[49m\u001b[43m,\u001b[49m\u001b[43m \u001b[49m\u001b[43mindex\u001b[49m\u001b[43m,\u001b[49m\u001b[43m \u001b[49m\u001b[43mdtype\u001b[49m\u001b[38;5;241;43m=\u001b[39;49m\u001b[43mdtype\u001b[49m\u001b[43m,\u001b[49m\u001b[43m \u001b[49m\u001b[43mtyp\u001b[49m\u001b[38;5;241;43m=\u001b[39;49m\u001b[43mtyp\u001b[49m\u001b[43m,\u001b[49m\u001b[43m \u001b[49m\u001b[43mconsolidate\u001b[49m\u001b[38;5;241;43m=\u001b[39;49m\u001b[43mcopy\u001b[49m\u001b[43m)\u001b[49m\n",
      "File \u001b[1;32m~\\AppData\\Local\\Packages\\PythonSoftwareFoundation.Python.3.11_qbz5n2kfra8p0\\LocalCache\\local-packages\\Python311\\site-packages\\pandas\\core\\internals\\construction.py:114\u001b[0m, in \u001b[0;36marrays_to_mgr\u001b[1;34m(arrays, columns, index, dtype, verify_integrity, typ, consolidate)\u001b[0m\n\u001b[0;32m    111\u001b[0m \u001b[38;5;28;01mif\u001b[39;00m verify_integrity:\n\u001b[0;32m    112\u001b[0m     \u001b[38;5;66;03m# figure out the index, if necessary\u001b[39;00m\n\u001b[0;32m    113\u001b[0m     \u001b[38;5;28;01mif\u001b[39;00m index \u001b[38;5;129;01mis\u001b[39;00m \u001b[38;5;28;01mNone\u001b[39;00m:\n\u001b[1;32m--> 114\u001b[0m         index \u001b[38;5;241m=\u001b[39m \u001b[43m_extract_index\u001b[49m\u001b[43m(\u001b[49m\u001b[43marrays\u001b[49m\u001b[43m)\u001b[49m\n\u001b[0;32m    115\u001b[0m     \u001b[38;5;28;01melse\u001b[39;00m:\n\u001b[0;32m    116\u001b[0m         index \u001b[38;5;241m=\u001b[39m ensure_index(index)\n",
      "File \u001b[1;32m~\\AppData\\Local\\Packages\\PythonSoftwareFoundation.Python.3.11_qbz5n2kfra8p0\\LocalCache\\local-packages\\Python311\\site-packages\\pandas\\core\\internals\\construction.py:677\u001b[0m, in \u001b[0;36m_extract_index\u001b[1;34m(data)\u001b[0m\n\u001b[0;32m    675\u001b[0m lengths \u001b[38;5;241m=\u001b[39m \u001b[38;5;28mlist\u001b[39m(\u001b[38;5;28mset\u001b[39m(raw_lengths))\n\u001b[0;32m    676\u001b[0m \u001b[38;5;28;01mif\u001b[39;00m \u001b[38;5;28mlen\u001b[39m(lengths) \u001b[38;5;241m>\u001b[39m \u001b[38;5;241m1\u001b[39m:\n\u001b[1;32m--> 677\u001b[0m     \u001b[38;5;28;01mraise\u001b[39;00m \u001b[38;5;167;01mValueError\u001b[39;00m(\u001b[38;5;124m\"\u001b[39m\u001b[38;5;124mAll arrays must be of the same length\u001b[39m\u001b[38;5;124m\"\u001b[39m)\n\u001b[0;32m    679\u001b[0m \u001b[38;5;28;01mif\u001b[39;00m have_dicts:\n\u001b[0;32m    680\u001b[0m     \u001b[38;5;28;01mraise\u001b[39;00m \u001b[38;5;167;01mValueError\u001b[39;00m(\n\u001b[0;32m    681\u001b[0m         \u001b[38;5;124m\"\u001b[39m\u001b[38;5;124mMixing dicts with non-Series may lead to ambiguous ordering.\u001b[39m\u001b[38;5;124m\"\u001b[39m\n\u001b[0;32m    682\u001b[0m     )\n",
      "\u001b[1;31mValueError\u001b[0m: All arrays must be of the same length"
     ]
    }
   ],
   "source": [
    "# Creamos la tabla de nuestro diccionario utilizando el metodo DataFrame \n",
    "df_peliculas = pd.DataFrame(diccionario_peliculas)\n",
    "\n",
    "# Mostramos los resultados de la extracción de datos almacenados en un DataFrame\n",
    "df_peliculas"
   ]
  },
  {
   "cell_type": "code",
   "execution_count": null,
   "metadata": {},
   "outputs": [],
   "source": [
    "# CHULETA XPATH DIRECTOR\n",
    "\n",
    "# En cada iteración, obtener la URL del producto y agregarla a la lista\n",
    "lista_url.append(driver.find_element(\"xpath\", f'//*[@id=\"js-product-list\"]/div/article[{i}]/div/div[1]/h3/a').get_attribute(\"href\"))\n",
    "\n",
    "# xpath director\n",
    "driver.find_element(\"xpath\",'//*[@id=\"__next\"]/main/div/section[1]/div/section/div/div[1]/section[2]/ul/li[1]/div/ul/li/a').get_attribute(\"href\")\n",
    "\n",
    "# CHULETA \n",
    "\n",
    "# Hacemos x después del tiempo de espera implícito\n",
    "driver.implicitly_wait(5)\n",
    "\n",
    "# Extraer el texto\n",
    "variable[0].text\n",
    "\n",
    "# HIPERVINCULO\n",
    "# Busca un elemento en la página web que contenga el texto \"x\" utilizando \"link text\" y hacemos click\n",
    "driver.find_element(\"link text\", 'x').click()\n",
    "\n",
    "input(x)\n",
    "# Ingresar la elección del usuario en el campo de búsqueda y presionar Enter\n",
    "driver.find_element(\"css selector\", \"x\").send_keys(eleccion_usuario, Keys.ENTER)\n",
    "\n",
    "# CSS SELECTOR SEARCHBAR EN IMBD\n",
    "(\"css selector\", \"#suggestion-search\").click()\n",
    "\n",
    "# CSS SELECTOR DARLE LA LUPA EN IMBD\n",
    "(\"css selector\", \"#suggestion-search-button > svg\")"
   ]
  },
  {
   "cell_type": "markdown",
   "metadata": {},
   "source": [
    "**Extracción de detalles sobre 10 principales actores en IMBD con Selenium**\n",
    "- Nombre.\n",
    "- Año de nacimiento.\n",
    "- ¿Por qué es conocido?\n",
    "- ¿Qué hace?\n",
    "- Premios."
   ]
  },
  {
   "cell_type": "code",
   "execution_count": null,
   "metadata": {},
   "outputs": [],
   "source": [
    "\n",
    "# Inicializamos un diccionario donde recopilaremos la info de los actores/actrices\n",
    "diccionario_actores = {\"Nombre Actor/Actriz\": [], \"Año nacimiento\": [], \n",
    "                        \"Obras\": [], \"Habilidades\": [], \"Premios\": []}\n",
    "\n",
    "# ITERCACIÓN FOR\n",
    "    # Nombre actor/actriz\n",
    "    act_imbd = driver.find_element().text\n",
    "\n",
    "    # Año nacimiento\n",
    "    nacimiento_imbd = driver.find_element().text\n",
    "\n",
    "    # ¿Por qué es conocid@?\n",
    "    obras_imbd = driver.find_element().text\n",
    "\n",
    "    # ¿Qué hace?\n",
    "    habilidades_imbd = driver.find_element().text\n",
    "\n",
    "    # Premios\n",
    "    premios_imbd = driver.find_element().text\n",
    "\n",
    "    diccionario_peliculas[\"Nombre Actor/Actriz\"].append(act_imbd)\n",
    "    diccionario_peliculas[\"Año nacimiento\"].append(nacimiento_imbd)\n",
    "    diccionario_peliculas[\"Obras\"].append(obras_imbd)\n",
    "    diccionario_peliculas[\"Habilidades\"].append(habilidades_imbd)\n",
    "    diccionario_peliculas[\"Premios\"].append(premios_imbd)\n",
    "\n",
    "    # Regresamos al for para poder iterar por el siguiente elemento de la lista\n",
    "    driver.back()\n",
    "\n",
    "# Cerramos el navegador\n",
    "driver.close()"
   ]
  }
 ],
 "metadata": {
  "kernelspec": {
   "display_name": "base",
   "language": "python",
   "name": "python3"
  },
  "language_info": {
   "codemirror_mode": {
    "name": "ipython",
    "version": 3
   },
   "file_extension": ".py",
   "mimetype": "text/x-python",
   "name": "python",
   "nbconvert_exporter": "python",
   "pygments_lexer": "ipython3",
   "version": "3.12.4"
  }
 },
 "nbformat": 4,
 "nbformat_minor": 2
}
