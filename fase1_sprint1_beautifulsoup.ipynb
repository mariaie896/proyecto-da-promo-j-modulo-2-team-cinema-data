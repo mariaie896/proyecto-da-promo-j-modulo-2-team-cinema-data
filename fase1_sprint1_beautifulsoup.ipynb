{
 "cells": [
  {
   "cell_type": "markdown",
   "metadata": {},
   "source": [
    "**Extracción de Tablas de Premios Oscar (link) con BeautifulSoup:**\n",
    "- Fecha de la ceremonia.\n",
    "- Mejor película.\n",
    "- Mejor director.\n",
    "- Mejor actor.\n",
    "- Mejor actriz.\n",
    "**NOTA:** La información deberá ser almacenada en una lista de tuplas. Cada tupla corresponderá a una película. "
   ]
  },
  {
   "cell_type": "code",
   "execution_count": 1,
   "metadata": {},
   "outputs": [],
   "source": [
    "# Importamos librerias\n",
    "from bs4 import BeautifulSoup\n",
    "import requests\n",
    "import pandas as pd\n",
    "import re"
   ]
  },
  {
   "cell_type": "code",
   "execution_count": null,
   "metadata": {},
   "outputs": [],
   "source": [
    "# Definir la url\n",
    "url_oscars = \"https://en.wikipedia.org/wiki/Academy_Awards\"\n",
    "\n",
    "# Hacer la llamada a la url\n",
    "res_oscars = requests.get(url_oscars)\n",
    "\n",
    "# Comprobar el codigo de respuesta\n",
    "res_oscars.status_code\n",
    "print(f\"La respuesta de la llamada es: {res_oscars.status_code}\")\n"
   ]
  },
  {
   "cell_type": "code",
   "execution_count": null,
   "metadata": {},
   "outputs": [],
   "source": [
    "# Mostrar contenido\n",
    "res_oscars.content"
   ]
  },
  {
   "cell_type": "code",
   "execution_count": null,
   "metadata": {},
   "outputs": [],
   "source": [
    "# Usar BeautifulSoup\n",
    "sopa_oscars = BeautifulSoup(res_oscars.content, \"html.parser\")\n",
    "print(sopa_oscars.prettify())"
   ]
  }
 ],
 "metadata": {
  "kernelspec": {
   "display_name": "py39",
   "language": "python",
   "name": "python3"
  },
  "language_info": {
   "codemirror_mode": {
    "name": "ipython",
    "version": 3
   },
   "file_extension": ".py",
   "mimetype": "text/x-python",
   "name": "python",
   "nbconvert_exporter": "python",
   "pygments_lexer": "ipython3",
   "version": "3.12.4"
  }
 },
 "nbformat": 4,
 "nbformat_minor": 2
}
