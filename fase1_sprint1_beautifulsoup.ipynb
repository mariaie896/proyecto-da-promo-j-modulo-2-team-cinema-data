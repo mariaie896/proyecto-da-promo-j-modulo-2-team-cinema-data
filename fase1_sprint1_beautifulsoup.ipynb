{
 "cells": [
  {
   "cell_type": "markdown",
   "metadata": {},
   "source": [
    "**Extracción de Tablas de Premios Oscar (link) con BeautifulSoup:**\n",
    "- Fecha de la ceremonia.\n",
    "- Mejor película.\n",
    "- Mejor director.\n",
    "- Mejor actor.\n",
    "- Mejor actriz.\n",
    "\n",
    "**NOTA:** La información deberá ser almacenada en una lista de tuplas. Cada tupla corresponderá a una película. "
   ]
  },
  {
   "cell_type": "code",
   "execution_count": 1,
   "metadata": {},
   "outputs": [],
   "source": [
    "# Importamos librerías.\n",
    "from bs4 import BeautifulSoup\n",
    "import requests\n",
    "import pandas as pd\n",
    "import re"
   ]
  },
  {
   "cell_type": "code",
   "execution_count": null,
   "metadata": {},
   "outputs": [],
   "source": [
    "# Definimos la url.\n",
    "url_oscars = \"https://es.wikipedia.org/wiki/Premios_%C3%93scar\"\n",
    "\n",
    "# Hacemos la llamada a la url.\n",
    "res_oscars = requests.get(url_oscars)\n",
    "\n",
    "# Comprobamos el código de respuesta.\n",
    "res_oscars.status_code\n",
    "print(f\"La respuesta de la llamada es: {res_oscars.status_code}\")"
   ]
  },
  {
   "cell_type": "code",
   "execution_count": null,
   "metadata": {},
   "outputs": [],
   "source": [
    "# Mostramos el contenido.\n",
    "contenido = res_oscars.content\n",
    "contenido"
   ]
  },
  {
   "cell_type": "code",
   "execution_count": null,
   "metadata": {},
   "outputs": [],
   "source": [
    "# Usamos BeautifulSoup para construir el objeto.\n",
    "sopa_oscars = BeautifulSoup(contenido, \"html.parser\")\n",
    "print(sopa_oscars.prettify())"
   ]
  },
  {
   "cell_type": "code",
   "execution_count": null,
   "metadata": {},
   "outputs": [],
   "source": [
    "# Buscamos las tablas de donde extraeremos la info relevante.\n",
    "tablas = sopa_oscars.find_all(\"table\")\n",
    "print(\"El número de tablas que tenemos en la página web es:\", len(tablas))"
   ]
  },
  {
   "cell_type": "code",
   "execution_count": null,
   "metadata": {},
   "outputs": [],
   "source": [
    "# Comprobamos el contenido de las tablas para asegurarnos de cuál escogemos según los datos que necesitamos.\n",
    "print(\"Tabla : \\n \", tablas[2])\n",
    "print(\"\\n---------------------\\n\")"
   ]
  },
  {
   "cell_type": "code",
   "execution_count": null,
   "metadata": {},
   "outputs": [],
   "source": [
    "# Hacemos una variable para almacenar nuestra tabla.\n",
    "tabla_wikipedia = tablas[2]\n",
    "tabla_wikipedia"
   ]
  },
  {
   "cell_type": "code",
   "execution_count": null,
   "metadata": {},
   "outputs": [],
   "source": [
    "# Extraemos los encabezados de los datos relevantes para facilitar la posterior estructura de DataFrame\n",
    "lista_encabezados= tabla_wikipedia.find_all(\"th\")[1:6]\n",
    "lista_encabezados"
   ]
  },
  {
   "cell_type": "code",
   "execution_count": null,
   "metadata": {},
   "outputs": [],
   "source": [
    "# Iteramos por la lista obtenida en el paso anterior para extraer el texto de cada encabezado\n",
    "encabezados_wikipedia =  [columna.text.replace(\"\\n\", \"\") for columna in lista_encabezados]\n",
    "encabezados_wikipedia"
   ]
  },
  {
   "cell_type": "code",
   "execution_count": null,
   "metadata": {},
   "outputs": [],
   "source": [
    "# Extraemos los filas excepto la fila de encabezados\n",
    "filas_wikipedia = tabla_wikipedia.find_all(\"tr\")[1:]\n",
    "filas_wikipedia "
   ]
  },
  {
   "cell_type": "code",
   "execution_count": null,
   "metadata": {},
   "outputs": [],
   "source": [
    "# Iteramos por la lista obtenida en el paso anterior para extraer el texto de cada fila.\n",
    "filas_wikipedia = [for fila in lista_filas]\n",
    "filas_wikipedia"
   ]
  },
  {
   "cell_type": "markdown",
   "metadata": {},
   "source": [
    "PROCESO DE EXTRACCIÓN\n",
    "- las cajas de código de abajo son para la función"
   ]
  },
  {
   "cell_type": "code",
   "execution_count": null,
   "metadata": {},
   "outputs": [],
   "source": [
    "# Fecha de la ceremonia\n",
    "lista_fecha_ceremonia = sopa_oscars.find_all()\n",
    "lista_fecha_ceremonia"
   ]
  },
  {
   "cell_type": "code",
   "execution_count": null,
   "metadata": {},
   "outputs": [],
   "source": [
    "# Mejor película\n",
    "lista_mejor_peli = sopa_oscars.find_all()\n",
    "lista_mejor_peli"
   ]
  },
  {
   "cell_type": "code",
   "execution_count": null,
   "metadata": {},
   "outputs": [],
   "source": [
    "# Mejor director\n",
    "lista_mejor_direct = sopa_oscars.find_all()\n",
    "lista_mejor_direct"
   ]
  },
  {
   "cell_type": "code",
   "execution_count": null,
   "metadata": {},
   "outputs": [],
   "source": [
    "# Mejor actor\n",
    "lista_mejor_actor = sopa_oscars.find_all()\n",
    "lista_mejor_actor"
   ]
  },
  {
   "cell_type": "code",
   "execution_count": null,
   "metadata": {},
   "outputs": [],
   "source": [
    "# Mejor actriz\n",
    "lista_mejor_actriz = sopa_oscars.find_all()\n",
    "lista_mejor_actriz"
   ]
  },
  {
   "cell_type": "code",
   "execution_count": null,
   "metadata": {},
   "outputs": [],
   "source": [
    "# DEFINIMOS LA FUNCIÓN\n",
    "def sacar_datos_oscar(url_oscars):\n",
    "\n",
    "    # Hacemos la llamada a la url.\n",
    "    res_oscars = requests.get(url_oscars)\n",
    "\n",
    "    # Comprobamos el código de respuesta.\n",
    "    print(f\"La respuesta de la llamada es: {res_oscars.status_code}\")\n",
    "\n",
    "    # Usamos BeautifulSoup para construir el objeto\n",
    "    contenido = res_oscars.content\n",
    "    sopa_oscars = BeautifulSoup(contenido, \"html.parser\")\n",
    "\n",
    "    # Buscamos las tablas de donde extraeremos la info relevante.\n",
    "    tablas = sopa_oscars.find_all(\"table\")\n",
    "    \n",
    "    # Hacemos una variable para almacenar nuestra tabla.\n",
    "    tabla_wikipedia = tablas[2]\n",
    "\n",
    "    encabezados_wikipedia =  [columna.text.replace(\"\\n\", \"\") for columna in lista_encabezados]\n",
    "\n",
    "\n",
    "# Fecha de la ceremonia\n",
    "\n",
    "\n",
    "# Mejor película\n",
    "\n",
    "\n",
    "# Mejor director\n",
    "\n",
    "\n",
    "# Mejor actor\n",
    "\n",
    "\n",
    "# Mejor actriz"
   ]
  },
  {
   "cell_type": "code",
   "execution_count": null,
   "metadata": {},
   "outputs": [],
   "source": [
    "df_oscars = pd.DataFrame(diccionario_oscars)\n",
    "df_oscars"
   ]
  }
 ],
 "metadata": {
  "kernelspec": {
   "display_name": "py39",
   "language": "python",
   "name": "python3"
  },
  "language_info": {
   "codemirror_mode": {
    "name": "ipython",
    "version": 3
   },
   "file_extension": ".py",
   "mimetype": "text/x-python",
   "name": "python",
   "nbconvert_exporter": "python",
   "pygments_lexer": "ipython3",
   "version": "3.12.4"
  }
 },
 "nbformat": 4,
 "nbformat_minor": 2
}
