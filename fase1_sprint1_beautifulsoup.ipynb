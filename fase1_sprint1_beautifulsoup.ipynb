{
 "cells": [
  {
   "cell_type": "markdown",
   "metadata": {},
   "source": [
    "**Extracción de Tablas de Premios Oscar (link) con BeautifulSoup:**\n",
    "- Fecha de la ceremonia.\n",
    "- Mejor película.\n",
    "- Mejor director.\n",
    "- Mejor actor.\n",
    "- Mejor actriz.\n",
    "\n",
    "**NOTA:** La información deberá ser almacenada en una lista de tuplas. Cada tupla corresponderá a una película. "
   ]
  },
  {
   "cell_type": "code",
   "execution_count": 1,
   "metadata": {},
   "outputs": [],
   "source": [
    "# Importamos librerías.\n",
    "from bs4 import BeautifulSoup\n",
    "import requests\n",
    "import pandas as pd\n",
    "import re"
   ]
  },
  {
   "cell_type": "code",
   "execution_count": null,
   "metadata": {},
   "outputs": [],
   "source": [
    "# Definimos la url.\n",
    "url_oscars = \"https://es.wikipedia.org/wiki/Premios_%C3%93scar\"\n",
    "\n",
    "# Hacemos la llamada a la url.\n",
    "res_oscars = requests.get(url_oscars)\n",
    "\n",
    "# Comprobamos el código de respuesta.\n",
    "res_oscars.status_code\n",
    "print(f\"La respuesta de la llamada es: {res_oscars.status_code}\")"
   ]
  },
  {
   "cell_type": "code",
   "execution_count": null,
   "metadata": {},
   "outputs": [],
   "source": [
    "# Mostramos el contenido.\n",
    "contenido = res_oscars.content\n",
    "contenido"
   ]
  },
  {
   "cell_type": "code",
   "execution_count": null,
   "metadata": {},
   "outputs": [],
   "source": [
    "# Usamos BeautifulSoup para construir el objeto.\n",
    "sopa_oscars = BeautifulSoup(contenido, \"html.parser\")\n",
    "print(sopa_oscars.prettify())"
   ]
  },
  {
   "cell_type": "code",
   "execution_count": null,
   "metadata": {},
   "outputs": [],
   "source": [
    "# Buscamos las tablas de donde extraeremos la info relevante.\n",
    "tablas = sopa_oscars.find_all(\"table\")\n",
    "print(\"El número de tablas que tenemos en la página web es:\", len(tablas))"
   ]
  },
  {
   "cell_type": "code",
   "execution_count": null,
   "metadata": {},
   "outputs": [],
   "source": [
    "# Comprobamos el contenido de las tablas para asegurarnos de cuál escogemos según los datos que necesitamos.\n",
    "print(\"Tabla : \\n \", tablas[2])\n",
    "print(\"\\n---------------------\\n\")"
   ]
  },
  {
   "cell_type": "code",
   "execution_count": null,
   "metadata": {},
   "outputs": [],
   "source": [
    "# Hacemos una variable para almacenar nuestra tabla.\n",
    "tabla_wikipedia = tablas[2]\n",
    "tabla_wikipedia"
   ]
  },
  {
   "cell_type": "code",
   "execution_count": null,
   "metadata": {},
   "outputs": [],
   "source": [
    "# Extraemos los encabezados de los datos relevantes para facilitar la posterior estructura de DataFrame.\n",
    "lista_encabezados= tabla_wikipedia.find_all(\"th\")[1:6]\n",
    "lista_encabezados"
   ]
  },
  {
   "cell_type": "code",
   "execution_count": null,
   "metadata": {},
   "outputs": [],
   "source": [
    "# Iteramos por la lista obtenida en el paso anterior para extraer el texto de cada encabezado.\n",
    "encabezados_wikipedia =  [columna.text.replace(\"\\n\", \"\") for columna in lista_encabezados]\n",
    "encabezados_wikipedia"
   ]
  },
  {
   "cell_type": "code",
   "execution_count": null,
   "metadata": {},
   "outputs": [],
   "source": [
    "# Extraemos los filas de nuestra variable usando el método .find_all() excepto la fila de encabezados\n",
    "filas_wikipedia = tabla_wikipedia.find_all(\"tr\")[1:]\n",
    "filas_wikipedia "
   ]
  },
  {
   "cell_type": "code",
   "execution_count": null,
   "metadata": {},
   "outputs": [],
   "source": [
    "print(\"La cantidad de filas que hemos extraído de la tabla es:\", len(filas_wikipedia))\n",
    "\n",
    "print(\"\\n----------------------\\n\")\n",
    "print(\"El contenido que tenemos en la primera fila es:\\n\", filas_wikipedia[0])"
   ]
  },
  {
   "cell_type": "code",
   "execution_count": null,
   "metadata": {},
   "outputs": [],
   "source": [
    "import re\n",
    "# Patrón de regex que detecta los meses seguidos de \"de\" sin espacio\n",
    "patron = r\"(enero|febrero|marzo|abril|mayo|junio|julio|agosto|septiembre|octubre|noviembre|diciembre)de\"\n",
    "\n",
    "# Creamos una lista para almacenar los resultados obtenidos de la lista filas wikipedia.\n",
    "resultados_wikipedia = []\n",
    "\n",
    "# Iteramos por la lista\n",
    "for fila in filas_wikipedia:\n",
    "    # añadimos cada elemento a la lista que hemos creado previamente. \n",
    "    fila_texto = fila.text\n",
    "    elementos_fila = fila_texto.split(\"\\n\")[3:12:2]\n",
    "\n",
    "    #  Usamos regex para corregir el formato de la fecha en la primera posición\n",
    "    elementos_fila[0] = re.sub(patron, r\"\\1 de\", elementos_fila[0])\n",
    "    \n",
    "    resultados_wikipedia.append(elementos_fila)\n",
    " \n",
    "# Imprimimos los resultados obtenidos después de iterar por la lista.\n",
    "print(\"Los resultados de iterar por la lista son:\\n\", resultados_wikipedia)"
   ]
  },
  {
   "cell_type": "code",
   "execution_count": null,
   "metadata": {},
   "outputs": [],
   "source": [
    "# DEFINIMOS LA FUNCIÓN\n",
    "def sacar_datos_oscar(url):\n",
    "\n",
    "    # Hacemos la llamada a la url.\n",
    "    res_oscars = requests.get(url_oscars)\n",
    "\n",
    "    # Comprobamos el código de respuesta.\n",
    "    print(f\"La respuesta de la llamada es: {res_oscars.status_code}\")\n",
    "\n",
    "    # Usamos BeautifulSoup para construir el objeto\n",
    "    contenido = res_oscars.content\n",
    "    sopa_oscars = BeautifulSoup(contenido, \"html.parser\")\n",
    "\n",
    "    # Buscamos las tablas de donde extraeremos la info relevante.\n",
    "    tablas = sopa_oscars.find_all(\"table\")\n",
    "    \n",
    "    # Hacemos una variable para almacenar nuestra tabla.\n",
    "    tabla_wikipedia = tablas[2]\n",
    "\n",
    "    encabezados_wikipedia =  [columna.text.replace(\"\\n\", \"\") for columna in lista_encabezados]\n",
    "\n",
    "    # Extraemos los filas excepto la fila de encabezados\n",
    "    filas_wikipedia = tabla_wikipedia.find_all(\"tr\")[1:]\n",
    "\n",
    "    # Creamos una lista para almacenar los resultados obtenidos de la lista filas wikipedia\n",
    "    resultados_wikipedia = []\n",
    "\n",
    "    # Iteramos por la lista\n",
    "    for fila in filas_wikipedia:\n",
    "        # añadimos cada elemento a la lista que hemos creado previamente. \n",
    "        elementos_fila = fila.text.split(\"\\n\")[3:12:2]\n",
    "        #  Usamos regex para corregir el formato de la fecha en la primera posición\n",
    "        elementos_fila[0] = re.sub(patron, r\"\\1 de\", elementos_fila[0])\n",
    "        \n",
    "        resultados_wikipedia.append(elementos_fila)\n",
    "    \n",
    "    return encabezados_wikipedia, resultados_wikipedia"
   ]
  },
  {
   "cell_type": "code",
   "execution_count": null,
   "metadata": {},
   "outputs": [],
   "source": [
    "encabezados_wikipedia_final, resultados_wikipedia_final = sacar_datos_oscar(url_oscars)"
   ]
  },
  {
   "cell_type": "code",
   "execution_count": null,
   "metadata": {},
   "outputs": [],
   "source": [
    "encabezados_wikipedia_final"
   ]
  },
  {
   "cell_type": "code",
   "execution_count": null,
   "metadata": {},
   "outputs": [],
   "source": [
    "df_oscars = pd.DataFrame(resultados_wikipedia_final)\n",
    "df_oscars"
   ]
  },
  {
   "cell_type": "code",
   "execution_count": null,
   "metadata": {},
   "outputs": [],
   "source": [
    "df_oscars.columns = encabezados_wikipedia_final"
   ]
  },
  {
   "cell_type": "code",
   "execution_count": null,
   "metadata": {},
   "outputs": [],
   "source": [
    "df_oscars.head()"
   ]
  },
  {
   "cell_type": "code",
   "execution_count": null,
   "metadata": {},
   "outputs": [],
   "source": [
    "# Guardamos la información y no tener que runear todo el código.\n",
    "df_oscars.to_csv(\"datos_oscars.csv\")"
   ]
  }
 ],
 "metadata": {
  "kernelspec": {
   "display_name": "py39",
   "language": "python",
   "name": "python3"
  },
  "language_info": {
   "codemirror_mode": {
    "name": "ipython",
    "version": 3
   },
   "file_extension": ".py",
   "mimetype": "text/x-python",
   "name": "python",
   "nbconvert_exporter": "python",
   "pygments_lexer": "ipython3",
   "version": "3.12.4"
  }
 },
 "nbformat": 4,
 "nbformat_minor": 2
}
